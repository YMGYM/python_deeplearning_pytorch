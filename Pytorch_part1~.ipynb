{
  "nbformat": 4,
  "nbformat_minor": 0,
  "metadata": {
    "colab": {
      "name": "Pytorch_part1~.ipynb",
      "provenance": [],
      "collapsed_sections": [],
      "toc_visible": true,
      "authorship_tag": "ABX9TyNwfelOe7mvr3kW1a9IX+rz",
      "include_colab_link": true
    },
    "kernelspec": {
      "name": "python3",
      "display_name": "Python 3"
    },
    "widgets": {
      "application/vnd.jupyter.widget-state+json": {
        "cf05d20ec04644f2996b8fcd2dcf1555": {
          "model_module": "@jupyter-widgets/controls",
          "model_name": "HBoxModel",
          "state": {
            "_view_name": "HBoxView",
            "_dom_classes": [],
            "_model_name": "HBoxModel",
            "_view_module": "@jupyter-widgets/controls",
            "_model_module_version": "1.5.0",
            "_view_count": null,
            "_view_module_version": "1.5.0",
            "box_style": "",
            "layout": "IPY_MODEL_95cf4b27383649a3a9824999fa4bb091",
            "_model_module": "@jupyter-widgets/controls",
            "children": [
              "IPY_MODEL_b23382337db843bca4ca38b63a28b489",
              "IPY_MODEL_e0ce33fb468d422fa030dfc218e333fe"
            ]
          }
        },
        "95cf4b27383649a3a9824999fa4bb091": {
          "model_module": "@jupyter-widgets/base",
          "model_name": "LayoutModel",
          "state": {
            "_view_name": "LayoutView",
            "grid_template_rows": null,
            "right": null,
            "justify_content": null,
            "_view_module": "@jupyter-widgets/base",
            "overflow": null,
            "_model_module_version": "1.2.0",
            "_view_count": null,
            "flex_flow": null,
            "width": null,
            "min_width": null,
            "border": null,
            "align_items": null,
            "bottom": null,
            "_model_module": "@jupyter-widgets/base",
            "top": null,
            "grid_column": null,
            "overflow_y": null,
            "overflow_x": null,
            "grid_auto_flow": null,
            "grid_area": null,
            "grid_template_columns": null,
            "flex": null,
            "_model_name": "LayoutModel",
            "justify_items": null,
            "grid_row": null,
            "max_height": null,
            "align_content": null,
            "visibility": null,
            "align_self": null,
            "height": null,
            "min_height": null,
            "padding": null,
            "grid_auto_rows": null,
            "grid_gap": null,
            "max_width": null,
            "order": null,
            "_view_module_version": "1.2.0",
            "grid_template_areas": null,
            "object_position": null,
            "object_fit": null,
            "grid_auto_columns": null,
            "margin": null,
            "display": null,
            "left": null
          }
        },
        "b23382337db843bca4ca38b63a28b489": {
          "model_module": "@jupyter-widgets/controls",
          "model_name": "FloatProgressModel",
          "state": {
            "_view_name": "ProgressView",
            "style": "IPY_MODEL_e9acc48448b9412a82d87991b684a2a8",
            "_dom_classes": [],
            "description": "",
            "_model_name": "FloatProgressModel",
            "bar_style": "info",
            "max": 1,
            "_view_module": "@jupyter-widgets/controls",
            "_model_module_version": "1.5.0",
            "value": 1,
            "_view_count": null,
            "_view_module_version": "1.5.0",
            "orientation": "horizontal",
            "min": 0,
            "description_tooltip": null,
            "_model_module": "@jupyter-widgets/controls",
            "layout": "IPY_MODEL_c762289bb6fb4d12bbd559c638de4241"
          }
        },
        "e0ce33fb468d422fa030dfc218e333fe": {
          "model_module": "@jupyter-widgets/controls",
          "model_name": "HTMLModel",
          "state": {
            "_view_name": "HTMLView",
            "style": "IPY_MODEL_826c7303596f4e42891f046fe5f6b0d2",
            "_dom_classes": [],
            "description": "",
            "_model_name": "HTMLModel",
            "placeholder": "​",
            "_view_module": "@jupyter-widgets/controls",
            "_model_module_version": "1.5.0",
            "value": " 9920512/? [00:20&lt;00:00, 783204.24it/s]",
            "_view_count": null,
            "_view_module_version": "1.5.0",
            "description_tooltip": null,
            "_model_module": "@jupyter-widgets/controls",
            "layout": "IPY_MODEL_45734ace402049c1a62c25cc89bfaba7"
          }
        },
        "e9acc48448b9412a82d87991b684a2a8": {
          "model_module": "@jupyter-widgets/controls",
          "model_name": "ProgressStyleModel",
          "state": {
            "_view_name": "StyleView",
            "_model_name": "ProgressStyleModel",
            "description_width": "initial",
            "_view_module": "@jupyter-widgets/base",
            "_model_module_version": "1.5.0",
            "_view_count": null,
            "_view_module_version": "1.2.0",
            "bar_color": null,
            "_model_module": "@jupyter-widgets/controls"
          }
        },
        "c762289bb6fb4d12bbd559c638de4241": {
          "model_module": "@jupyter-widgets/base",
          "model_name": "LayoutModel",
          "state": {
            "_view_name": "LayoutView",
            "grid_template_rows": null,
            "right": null,
            "justify_content": null,
            "_view_module": "@jupyter-widgets/base",
            "overflow": null,
            "_model_module_version": "1.2.0",
            "_view_count": null,
            "flex_flow": null,
            "width": null,
            "min_width": null,
            "border": null,
            "align_items": null,
            "bottom": null,
            "_model_module": "@jupyter-widgets/base",
            "top": null,
            "grid_column": null,
            "overflow_y": null,
            "overflow_x": null,
            "grid_auto_flow": null,
            "grid_area": null,
            "grid_template_columns": null,
            "flex": null,
            "_model_name": "LayoutModel",
            "justify_items": null,
            "grid_row": null,
            "max_height": null,
            "align_content": null,
            "visibility": null,
            "align_self": null,
            "height": null,
            "min_height": null,
            "padding": null,
            "grid_auto_rows": null,
            "grid_gap": null,
            "max_width": null,
            "order": null,
            "_view_module_version": "1.2.0",
            "grid_template_areas": null,
            "object_position": null,
            "object_fit": null,
            "grid_auto_columns": null,
            "margin": null,
            "display": null,
            "left": null
          }
        },
        "826c7303596f4e42891f046fe5f6b0d2": {
          "model_module": "@jupyter-widgets/controls",
          "model_name": "DescriptionStyleModel",
          "state": {
            "_view_name": "StyleView",
            "_model_name": "DescriptionStyleModel",
            "description_width": "",
            "_view_module": "@jupyter-widgets/base",
            "_model_module_version": "1.5.0",
            "_view_count": null,
            "_view_module_version": "1.2.0",
            "_model_module": "@jupyter-widgets/controls"
          }
        },
        "45734ace402049c1a62c25cc89bfaba7": {
          "model_module": "@jupyter-widgets/base",
          "model_name": "LayoutModel",
          "state": {
            "_view_name": "LayoutView",
            "grid_template_rows": null,
            "right": null,
            "justify_content": null,
            "_view_module": "@jupyter-widgets/base",
            "overflow": null,
            "_model_module_version": "1.2.0",
            "_view_count": null,
            "flex_flow": null,
            "width": null,
            "min_width": null,
            "border": null,
            "align_items": null,
            "bottom": null,
            "_model_module": "@jupyter-widgets/base",
            "top": null,
            "grid_column": null,
            "overflow_y": null,
            "overflow_x": null,
            "grid_auto_flow": null,
            "grid_area": null,
            "grid_template_columns": null,
            "flex": null,
            "_model_name": "LayoutModel",
            "justify_items": null,
            "grid_row": null,
            "max_height": null,
            "align_content": null,
            "visibility": null,
            "align_self": null,
            "height": null,
            "min_height": null,
            "padding": null,
            "grid_auto_rows": null,
            "grid_gap": null,
            "max_width": null,
            "order": null,
            "_view_module_version": "1.2.0",
            "grid_template_areas": null,
            "object_position": null,
            "object_fit": null,
            "grid_auto_columns": null,
            "margin": null,
            "display": null,
            "left": null
          }
        },
        "c8779b9c40e446e69333e11006b1d503": {
          "model_module": "@jupyter-widgets/controls",
          "model_name": "HBoxModel",
          "state": {
            "_view_name": "HBoxView",
            "_dom_classes": [],
            "_model_name": "HBoxModel",
            "_view_module": "@jupyter-widgets/controls",
            "_model_module_version": "1.5.0",
            "_view_count": null,
            "_view_module_version": "1.5.0",
            "box_style": "",
            "layout": "IPY_MODEL_d1c2f1e810c64df2977e76483b93312e",
            "_model_module": "@jupyter-widgets/controls",
            "children": [
              "IPY_MODEL_a6e7592730df457a97c3aea0ae3c8472",
              "IPY_MODEL_e23ccdac51f04b07bf53a5fa47bf173f"
            ]
          }
        },
        "d1c2f1e810c64df2977e76483b93312e": {
          "model_module": "@jupyter-widgets/base",
          "model_name": "LayoutModel",
          "state": {
            "_view_name": "LayoutView",
            "grid_template_rows": null,
            "right": null,
            "justify_content": null,
            "_view_module": "@jupyter-widgets/base",
            "overflow": null,
            "_model_module_version": "1.2.0",
            "_view_count": null,
            "flex_flow": null,
            "width": null,
            "min_width": null,
            "border": null,
            "align_items": null,
            "bottom": null,
            "_model_module": "@jupyter-widgets/base",
            "top": null,
            "grid_column": null,
            "overflow_y": null,
            "overflow_x": null,
            "grid_auto_flow": null,
            "grid_area": null,
            "grid_template_columns": null,
            "flex": null,
            "_model_name": "LayoutModel",
            "justify_items": null,
            "grid_row": null,
            "max_height": null,
            "align_content": null,
            "visibility": null,
            "align_self": null,
            "height": null,
            "min_height": null,
            "padding": null,
            "grid_auto_rows": null,
            "grid_gap": null,
            "max_width": null,
            "order": null,
            "_view_module_version": "1.2.0",
            "grid_template_areas": null,
            "object_position": null,
            "object_fit": null,
            "grid_auto_columns": null,
            "margin": null,
            "display": null,
            "left": null
          }
        },
        "a6e7592730df457a97c3aea0ae3c8472": {
          "model_module": "@jupyter-widgets/controls",
          "model_name": "FloatProgressModel",
          "state": {
            "_view_name": "ProgressView",
            "style": "IPY_MODEL_db85654e91564a15b34c7408558cc2a9",
            "_dom_classes": [],
            "description": "",
            "_model_name": "FloatProgressModel",
            "bar_style": "success",
            "max": 1,
            "_view_module": "@jupyter-widgets/controls",
            "_model_module_version": "1.5.0",
            "value": 1,
            "_view_count": null,
            "_view_module_version": "1.5.0",
            "orientation": "horizontal",
            "min": 0,
            "description_tooltip": null,
            "_model_module": "@jupyter-widgets/controls",
            "layout": "IPY_MODEL_4688fc57e0b74f85bbb1e6ec1f47f6d4"
          }
        },
        "e23ccdac51f04b07bf53a5fa47bf173f": {
          "model_module": "@jupyter-widgets/controls",
          "model_name": "HTMLModel",
          "state": {
            "_view_name": "HTMLView",
            "style": "IPY_MODEL_dd93d5e5b29949b094401c43c84ea7e4",
            "_dom_classes": [],
            "description": "",
            "_model_name": "HTMLModel",
            "placeholder": "​",
            "_view_module": "@jupyter-widgets/controls",
            "_model_module_version": "1.5.0",
            "value": " 32768/? [00:00&lt;00:00, 67843.88it/s]",
            "_view_count": null,
            "_view_module_version": "1.5.0",
            "description_tooltip": null,
            "_model_module": "@jupyter-widgets/controls",
            "layout": "IPY_MODEL_489b3b1372fe4e36819d9fd35c4c93a0"
          }
        },
        "db85654e91564a15b34c7408558cc2a9": {
          "model_module": "@jupyter-widgets/controls",
          "model_name": "ProgressStyleModel",
          "state": {
            "_view_name": "StyleView",
            "_model_name": "ProgressStyleModel",
            "description_width": "initial",
            "_view_module": "@jupyter-widgets/base",
            "_model_module_version": "1.5.0",
            "_view_count": null,
            "_view_module_version": "1.2.0",
            "bar_color": null,
            "_model_module": "@jupyter-widgets/controls"
          }
        },
        "4688fc57e0b74f85bbb1e6ec1f47f6d4": {
          "model_module": "@jupyter-widgets/base",
          "model_name": "LayoutModel",
          "state": {
            "_view_name": "LayoutView",
            "grid_template_rows": null,
            "right": null,
            "justify_content": null,
            "_view_module": "@jupyter-widgets/base",
            "overflow": null,
            "_model_module_version": "1.2.0",
            "_view_count": null,
            "flex_flow": null,
            "width": null,
            "min_width": null,
            "border": null,
            "align_items": null,
            "bottom": null,
            "_model_module": "@jupyter-widgets/base",
            "top": null,
            "grid_column": null,
            "overflow_y": null,
            "overflow_x": null,
            "grid_auto_flow": null,
            "grid_area": null,
            "grid_template_columns": null,
            "flex": null,
            "_model_name": "LayoutModel",
            "justify_items": null,
            "grid_row": null,
            "max_height": null,
            "align_content": null,
            "visibility": null,
            "align_self": null,
            "height": null,
            "min_height": null,
            "padding": null,
            "grid_auto_rows": null,
            "grid_gap": null,
            "max_width": null,
            "order": null,
            "_view_module_version": "1.2.0",
            "grid_template_areas": null,
            "object_position": null,
            "object_fit": null,
            "grid_auto_columns": null,
            "margin": null,
            "display": null,
            "left": null
          }
        },
        "dd93d5e5b29949b094401c43c84ea7e4": {
          "model_module": "@jupyter-widgets/controls",
          "model_name": "DescriptionStyleModel",
          "state": {
            "_view_name": "StyleView",
            "_model_name": "DescriptionStyleModel",
            "description_width": "",
            "_view_module": "@jupyter-widgets/base",
            "_model_module_version": "1.5.0",
            "_view_count": null,
            "_view_module_version": "1.2.0",
            "_model_module": "@jupyter-widgets/controls"
          }
        },
        "489b3b1372fe4e36819d9fd35c4c93a0": {
          "model_module": "@jupyter-widgets/base",
          "model_name": "LayoutModel",
          "state": {
            "_view_name": "LayoutView",
            "grid_template_rows": null,
            "right": null,
            "justify_content": null,
            "_view_module": "@jupyter-widgets/base",
            "overflow": null,
            "_model_module_version": "1.2.0",
            "_view_count": null,
            "flex_flow": null,
            "width": null,
            "min_width": null,
            "border": null,
            "align_items": null,
            "bottom": null,
            "_model_module": "@jupyter-widgets/base",
            "top": null,
            "grid_column": null,
            "overflow_y": null,
            "overflow_x": null,
            "grid_auto_flow": null,
            "grid_area": null,
            "grid_template_columns": null,
            "flex": null,
            "_model_name": "LayoutModel",
            "justify_items": null,
            "grid_row": null,
            "max_height": null,
            "align_content": null,
            "visibility": null,
            "align_self": null,
            "height": null,
            "min_height": null,
            "padding": null,
            "grid_auto_rows": null,
            "grid_gap": null,
            "max_width": null,
            "order": null,
            "_view_module_version": "1.2.0",
            "grid_template_areas": null,
            "object_position": null,
            "object_fit": null,
            "grid_auto_columns": null,
            "margin": null,
            "display": null,
            "left": null
          }
        },
        "c1fea150c8db4a0b9b28ce6dec8e94c0": {
          "model_module": "@jupyter-widgets/controls",
          "model_name": "HBoxModel",
          "state": {
            "_view_name": "HBoxView",
            "_dom_classes": [],
            "_model_name": "HBoxModel",
            "_view_module": "@jupyter-widgets/controls",
            "_model_module_version": "1.5.0",
            "_view_count": null,
            "_view_module_version": "1.5.0",
            "box_style": "",
            "layout": "IPY_MODEL_3f071030180a4f81bbce8f35a4b26cd4",
            "_model_module": "@jupyter-widgets/controls",
            "children": [
              "IPY_MODEL_99fa2605035b4d5da1ac1c0886555590",
              "IPY_MODEL_c1718183303f4b87ae4bf2d17674b872"
            ]
          }
        },
        "3f071030180a4f81bbce8f35a4b26cd4": {
          "model_module": "@jupyter-widgets/base",
          "model_name": "LayoutModel",
          "state": {
            "_view_name": "LayoutView",
            "grid_template_rows": null,
            "right": null,
            "justify_content": null,
            "_view_module": "@jupyter-widgets/base",
            "overflow": null,
            "_model_module_version": "1.2.0",
            "_view_count": null,
            "flex_flow": null,
            "width": null,
            "min_width": null,
            "border": null,
            "align_items": null,
            "bottom": null,
            "_model_module": "@jupyter-widgets/base",
            "top": null,
            "grid_column": null,
            "overflow_y": null,
            "overflow_x": null,
            "grid_auto_flow": null,
            "grid_area": null,
            "grid_template_columns": null,
            "flex": null,
            "_model_name": "LayoutModel",
            "justify_items": null,
            "grid_row": null,
            "max_height": null,
            "align_content": null,
            "visibility": null,
            "align_self": null,
            "height": null,
            "min_height": null,
            "padding": null,
            "grid_auto_rows": null,
            "grid_gap": null,
            "max_width": null,
            "order": null,
            "_view_module_version": "1.2.0",
            "grid_template_areas": null,
            "object_position": null,
            "object_fit": null,
            "grid_auto_columns": null,
            "margin": null,
            "display": null,
            "left": null
          }
        },
        "99fa2605035b4d5da1ac1c0886555590": {
          "model_module": "@jupyter-widgets/controls",
          "model_name": "FloatProgressModel",
          "state": {
            "_view_name": "ProgressView",
            "style": "IPY_MODEL_bc119939a1a849609d33bd6ac8a377ba",
            "_dom_classes": [],
            "description": "",
            "_model_name": "FloatProgressModel",
            "bar_style": "info",
            "max": 1,
            "_view_module": "@jupyter-widgets/controls",
            "_model_module_version": "1.5.0",
            "value": 1,
            "_view_count": null,
            "_view_module_version": "1.5.0",
            "orientation": "horizontal",
            "min": 0,
            "description_tooltip": null,
            "_model_module": "@jupyter-widgets/controls",
            "layout": "IPY_MODEL_5fa8cda509ba49d38d581c8f25172848"
          }
        },
        "c1718183303f4b87ae4bf2d17674b872": {
          "model_module": "@jupyter-widgets/controls",
          "model_name": "HTMLModel",
          "state": {
            "_view_name": "HTMLView",
            "style": "IPY_MODEL_77f1b62f62a746d29ebfe0b17a0958e2",
            "_dom_classes": [],
            "description": "",
            "_model_name": "HTMLModel",
            "placeholder": "​",
            "_view_module": "@jupyter-widgets/controls",
            "_model_module_version": "1.5.0",
            "value": " 1654784/? [00:18&lt;00:00, 559860.10it/s]",
            "_view_count": null,
            "_view_module_version": "1.5.0",
            "description_tooltip": null,
            "_model_module": "@jupyter-widgets/controls",
            "layout": "IPY_MODEL_4cd4f39c025b41e190c7007daed905a6"
          }
        },
        "bc119939a1a849609d33bd6ac8a377ba": {
          "model_module": "@jupyter-widgets/controls",
          "model_name": "ProgressStyleModel",
          "state": {
            "_view_name": "StyleView",
            "_model_name": "ProgressStyleModel",
            "description_width": "initial",
            "_view_module": "@jupyter-widgets/base",
            "_model_module_version": "1.5.0",
            "_view_count": null,
            "_view_module_version": "1.2.0",
            "bar_color": null,
            "_model_module": "@jupyter-widgets/controls"
          }
        },
        "5fa8cda509ba49d38d581c8f25172848": {
          "model_module": "@jupyter-widgets/base",
          "model_name": "LayoutModel",
          "state": {
            "_view_name": "LayoutView",
            "grid_template_rows": null,
            "right": null,
            "justify_content": null,
            "_view_module": "@jupyter-widgets/base",
            "overflow": null,
            "_model_module_version": "1.2.0",
            "_view_count": null,
            "flex_flow": null,
            "width": null,
            "min_width": null,
            "border": null,
            "align_items": null,
            "bottom": null,
            "_model_module": "@jupyter-widgets/base",
            "top": null,
            "grid_column": null,
            "overflow_y": null,
            "overflow_x": null,
            "grid_auto_flow": null,
            "grid_area": null,
            "grid_template_columns": null,
            "flex": null,
            "_model_name": "LayoutModel",
            "justify_items": null,
            "grid_row": null,
            "max_height": null,
            "align_content": null,
            "visibility": null,
            "align_self": null,
            "height": null,
            "min_height": null,
            "padding": null,
            "grid_auto_rows": null,
            "grid_gap": null,
            "max_width": null,
            "order": null,
            "_view_module_version": "1.2.0",
            "grid_template_areas": null,
            "object_position": null,
            "object_fit": null,
            "grid_auto_columns": null,
            "margin": null,
            "display": null,
            "left": null
          }
        },
        "77f1b62f62a746d29ebfe0b17a0958e2": {
          "model_module": "@jupyter-widgets/controls",
          "model_name": "DescriptionStyleModel",
          "state": {
            "_view_name": "StyleView",
            "_model_name": "DescriptionStyleModel",
            "description_width": "",
            "_view_module": "@jupyter-widgets/base",
            "_model_module_version": "1.5.0",
            "_view_count": null,
            "_view_module_version": "1.2.0",
            "_model_module": "@jupyter-widgets/controls"
          }
        },
        "4cd4f39c025b41e190c7007daed905a6": {
          "model_module": "@jupyter-widgets/base",
          "model_name": "LayoutModel",
          "state": {
            "_view_name": "LayoutView",
            "grid_template_rows": null,
            "right": null,
            "justify_content": null,
            "_view_module": "@jupyter-widgets/base",
            "overflow": null,
            "_model_module_version": "1.2.0",
            "_view_count": null,
            "flex_flow": null,
            "width": null,
            "min_width": null,
            "border": null,
            "align_items": null,
            "bottom": null,
            "_model_module": "@jupyter-widgets/base",
            "top": null,
            "grid_column": null,
            "overflow_y": null,
            "overflow_x": null,
            "grid_auto_flow": null,
            "grid_area": null,
            "grid_template_columns": null,
            "flex": null,
            "_model_name": "LayoutModel",
            "justify_items": null,
            "grid_row": null,
            "max_height": null,
            "align_content": null,
            "visibility": null,
            "align_self": null,
            "height": null,
            "min_height": null,
            "padding": null,
            "grid_auto_rows": null,
            "grid_gap": null,
            "max_width": null,
            "order": null,
            "_view_module_version": "1.2.0",
            "grid_template_areas": null,
            "object_position": null,
            "object_fit": null,
            "grid_auto_columns": null,
            "margin": null,
            "display": null,
            "left": null
          }
        },
        "12e7328e97004b15a80770f44fcdd95d": {
          "model_module": "@jupyter-widgets/controls",
          "model_name": "HBoxModel",
          "state": {
            "_view_name": "HBoxView",
            "_dom_classes": [],
            "_model_name": "HBoxModel",
            "_view_module": "@jupyter-widgets/controls",
            "_model_module_version": "1.5.0",
            "_view_count": null,
            "_view_module_version": "1.5.0",
            "box_style": "",
            "layout": "IPY_MODEL_0bf46f8aa2904d30ab4f549fdba3a516",
            "_model_module": "@jupyter-widgets/controls",
            "children": [
              "IPY_MODEL_42391f789ee940cf9e208c1bc8df0312",
              "IPY_MODEL_33bebc05c6654f36813a87f9c03eeb13"
            ]
          }
        },
        "0bf46f8aa2904d30ab4f549fdba3a516": {
          "model_module": "@jupyter-widgets/base",
          "model_name": "LayoutModel",
          "state": {
            "_view_name": "LayoutView",
            "grid_template_rows": null,
            "right": null,
            "justify_content": null,
            "_view_module": "@jupyter-widgets/base",
            "overflow": null,
            "_model_module_version": "1.2.0",
            "_view_count": null,
            "flex_flow": null,
            "width": null,
            "min_width": null,
            "border": null,
            "align_items": null,
            "bottom": null,
            "_model_module": "@jupyter-widgets/base",
            "top": null,
            "grid_column": null,
            "overflow_y": null,
            "overflow_x": null,
            "grid_auto_flow": null,
            "grid_area": null,
            "grid_template_columns": null,
            "flex": null,
            "_model_name": "LayoutModel",
            "justify_items": null,
            "grid_row": null,
            "max_height": null,
            "align_content": null,
            "visibility": null,
            "align_self": null,
            "height": null,
            "min_height": null,
            "padding": null,
            "grid_auto_rows": null,
            "grid_gap": null,
            "max_width": null,
            "order": null,
            "_view_module_version": "1.2.0",
            "grid_template_areas": null,
            "object_position": null,
            "object_fit": null,
            "grid_auto_columns": null,
            "margin": null,
            "display": null,
            "left": null
          }
        },
        "42391f789ee940cf9e208c1bc8df0312": {
          "model_module": "@jupyter-widgets/controls",
          "model_name": "FloatProgressModel",
          "state": {
            "_view_name": "ProgressView",
            "style": "IPY_MODEL_1b72e127fb524490b512b9d7aa5bb917",
            "_dom_classes": [],
            "description": "  0%",
            "_model_name": "FloatProgressModel",
            "bar_style": "info",
            "max": 1,
            "_view_module": "@jupyter-widgets/controls",
            "_model_module_version": "1.5.0",
            "value": 0,
            "_view_count": null,
            "_view_module_version": "1.5.0",
            "orientation": "horizontal",
            "min": 0,
            "description_tooltip": null,
            "_model_module": "@jupyter-widgets/controls",
            "layout": "IPY_MODEL_33cecb072f8544959f51c1205820c090"
          }
        },
        "33bebc05c6654f36813a87f9c03eeb13": {
          "model_module": "@jupyter-widgets/controls",
          "model_name": "HTMLModel",
          "state": {
            "_view_name": "HTMLView",
            "style": "IPY_MODEL_7e9078c6fecd4ab0a04eb15f2b241801",
            "_dom_classes": [],
            "description": "",
            "_model_name": "HTMLModel",
            "placeholder": "​",
            "_view_module": "@jupyter-widgets/controls",
            "_model_module_version": "1.5.0",
            "value": " 0/4542 [00:00&lt;?, ?it/s]",
            "_view_count": null,
            "_view_module_version": "1.5.0",
            "description_tooltip": null,
            "_model_module": "@jupyter-widgets/controls",
            "layout": "IPY_MODEL_705633f59ad243dba8374570508b982a"
          }
        },
        "1b72e127fb524490b512b9d7aa5bb917": {
          "model_module": "@jupyter-widgets/controls",
          "model_name": "ProgressStyleModel",
          "state": {
            "_view_name": "StyleView",
            "_model_name": "ProgressStyleModel",
            "description_width": "initial",
            "_view_module": "@jupyter-widgets/base",
            "_model_module_version": "1.5.0",
            "_view_count": null,
            "_view_module_version": "1.2.0",
            "bar_color": null,
            "_model_module": "@jupyter-widgets/controls"
          }
        },
        "33cecb072f8544959f51c1205820c090": {
          "model_module": "@jupyter-widgets/base",
          "model_name": "LayoutModel",
          "state": {
            "_view_name": "LayoutView",
            "grid_template_rows": null,
            "right": null,
            "justify_content": null,
            "_view_module": "@jupyter-widgets/base",
            "overflow": null,
            "_model_module_version": "1.2.0",
            "_view_count": null,
            "flex_flow": null,
            "width": null,
            "min_width": null,
            "border": null,
            "align_items": null,
            "bottom": null,
            "_model_module": "@jupyter-widgets/base",
            "top": null,
            "grid_column": null,
            "overflow_y": null,
            "overflow_x": null,
            "grid_auto_flow": null,
            "grid_area": null,
            "grid_template_columns": null,
            "flex": null,
            "_model_name": "LayoutModel",
            "justify_items": null,
            "grid_row": null,
            "max_height": null,
            "align_content": null,
            "visibility": null,
            "align_self": null,
            "height": null,
            "min_height": null,
            "padding": null,
            "grid_auto_rows": null,
            "grid_gap": null,
            "max_width": null,
            "order": null,
            "_view_module_version": "1.2.0",
            "grid_template_areas": null,
            "object_position": null,
            "object_fit": null,
            "grid_auto_columns": null,
            "margin": null,
            "display": null,
            "left": null
          }
        },
        "7e9078c6fecd4ab0a04eb15f2b241801": {
          "model_module": "@jupyter-widgets/controls",
          "model_name": "DescriptionStyleModel",
          "state": {
            "_view_name": "StyleView",
            "_model_name": "DescriptionStyleModel",
            "description_width": "",
            "_view_module": "@jupyter-widgets/base",
            "_model_module_version": "1.5.0",
            "_view_count": null,
            "_view_module_version": "1.2.0",
            "_model_module": "@jupyter-widgets/controls"
          }
        },
        "705633f59ad243dba8374570508b982a": {
          "model_module": "@jupyter-widgets/base",
          "model_name": "LayoutModel",
          "state": {
            "_view_name": "LayoutView",
            "grid_template_rows": null,
            "right": null,
            "justify_content": null,
            "_view_module": "@jupyter-widgets/base",
            "overflow": null,
            "_model_module_version": "1.2.0",
            "_view_count": null,
            "flex_flow": null,
            "width": null,
            "min_width": null,
            "border": null,
            "align_items": null,
            "bottom": null,
            "_model_module": "@jupyter-widgets/base",
            "top": null,
            "grid_column": null,
            "overflow_y": null,
            "overflow_x": null,
            "grid_auto_flow": null,
            "grid_area": null,
            "grid_template_columns": null,
            "flex": null,
            "_model_name": "LayoutModel",
            "justify_items": null,
            "grid_row": null,
            "max_height": null,
            "align_content": null,
            "visibility": null,
            "align_self": null,
            "height": null,
            "min_height": null,
            "padding": null,
            "grid_auto_rows": null,
            "grid_gap": null,
            "max_width": null,
            "order": null,
            "_view_module_version": "1.2.0",
            "grid_template_areas": null,
            "object_position": null,
            "object_fit": null,
            "grid_auto_columns": null,
            "margin": null,
            "display": null,
            "left": null
          }
        }
      }
    }
  },
  "cells": [
    {
      "cell_type": "markdown",
      "metadata": {
        "id": "view-in-github",
        "colab_type": "text"
      },
      "source": [
        "<a href=\"https://colab.research.google.com/github/YMGYM/python_deeplearning_pytorch/blob/main/Pytorch_part1~.ipynb\" target=\"_parent\"><img src=\"https://colab.research.google.com/assets/colab-badge.svg\" alt=\"Open In Colab\"/></a>"
      ]
    },
    {
      "cell_type": "markdown",
      "metadata": {
        "id": "8h4T2o-QlVbI"
      },
      "source": [
        "# Introduction\n",
        "\n",
        "이 노트북은 `파이썬 딥러닝 파이토치` 책의 연습코드입니다.\n",
        "\n",
        "코드는 [이곳](https://github.com/Justin-A/DeepLearning101) 에서 전문을 확인 가능합니다.\n",
        "\n",
        "이 노트북은 1장~ 내용을 다루고 있습니다."
      ]
    },
    {
      "cell_type": "markdown",
      "metadata": {
        "id": "i5bywaDRlJlq"
      },
      "source": [
        "# 파이토치 기초\n",
        "\n",
        "## 환경 구축 및 토치 설치\n",
        "\n",
        "Google Colab을 통해 진행하기 때문에 이 부분은 생략하겠다.\n",
        "\n",
        "Colab에는 Torch가 이미 설치되어 있다."
      ]
    },
    {
      "cell_type": "code",
      "metadata": {
        "colab": {
          "base_uri": "https://localhost:8080/",
          "height": 35
        },
        "id": "7OBQ7gobmUVN",
        "outputId": "23dc89df-6b81-4085-c565-4ade3b071bad"
      },
      "source": [
        "import torch\n",
        "\n",
        "torch.__version__ # 토치의 버전을 확인하는 코드"
      ],
      "execution_count": null,
      "outputs": [
        {
          "output_type": "execute_result",
          "data": {
            "application/vnd.google.colaboratory.intrinsic+json": {
              "type": "string"
            },
            "text/plain": [
              "'1.7.0+cu101'"
            ]
          },
          "metadata": {
            "tags": []
          },
          "execution_count": 2
        }
      ]
    },
    {
      "cell_type": "markdown",
      "metadata": {
        "id": "0rqemmFWmV28"
      },
      "source": [
        "## 1 - 4 반드시 알아야 하는 파이토치 스킬\n",
        "\n",
        "### 1) 텐서\n",
        "\n",
        "#### Scalar\n",
        "상수값. (차원이 없는 값)\n",
        "\n",
        "파이썬의 기본연산자와 `torch` 메소드를 통해 사용이 가능하다."
      ]
    },
    {
      "cell_type": "code",
      "metadata": {
        "colab": {
          "base_uri": "https://localhost:8080/"
        },
        "id": "fU03xCFNm1-r",
        "outputId": "12f80721-e420-4dd6-e240-26d784e2c342"
      },
      "source": [
        "import torch\n",
        "scalar1 = torch.tensor([1.])\n",
        "scalar2 = torch.tensor([3.])\n",
        "\n",
        "print(scalar1)\n",
        "print(scalar2)"
      ],
      "execution_count": null,
      "outputs": [
        {
          "output_type": "stream",
          "text": [
            "tensor([1.])\n",
            "tensor([3.])\n"
          ],
          "name": "stdout"
        }
      ]
    },
    {
      "cell_type": "code",
      "metadata": {
        "colab": {
          "base_uri": "https://localhost:8080/"
        },
        "id": "1KGAEDvenYet",
        "outputId": "126a653f-76a3-41ef-d780-c5b2a651878d"
      },
      "source": [
        "# 사칙연산자\n",
        "add_scalar = scalar1 + scalar2\n",
        "print(add_scalar)\n",
        "\n",
        "sub_scalar = scalar1 - scalar2\n",
        "print(sub_scalar)\n",
        "\n",
        "mul_scalar = scalar1 * scalar2\n",
        "print(mul_scalar)\n",
        "\n",
        "div_scalar = scalar1 / scalar2\n",
        "print(div_scalar)"
      ],
      "execution_count": null,
      "outputs": [
        {
          "output_type": "stream",
          "text": [
            "tensor([4.])\n",
            "tensor([-2.])\n",
            "tensor([3.])\n",
            "tensor([0.3333])\n"
          ],
          "name": "stdout"
        }
      ]
    },
    {
      "cell_type": "code",
      "metadata": {
        "colab": {
          "base_uri": "https://localhost:8080/"
        },
        "id": "09wt1ihUnrYm",
        "outputId": "b0e58ccd-db09-4542-af58-4d3b69a6a62f"
      },
      "source": [
        "# torch 모듈의 메소드로 연산 위와 결과가 같다.\n",
        "print(torch.add(scalar1, scalar2))\n",
        "print(torch.sub(scalar1, scalar2))\n",
        "print(torch.mul(scalar1, scalar2))\n",
        "print(torch.div(scalar1, scalar2))"
      ],
      "execution_count": null,
      "outputs": [
        {
          "output_type": "stream",
          "text": [
            "tensor([4.])\n",
            "tensor([-2.])\n",
            "tensor([3.])\n",
            "tensor([0.3333])\n"
          ],
          "name": "stdout"
        }
      ]
    },
    {
      "cell_type": "markdown",
      "metadata": {
        "id": "K_mQPLKTn4NY"
      },
      "source": [
        "#### Vector\n",
        "\n",
        "값을 2개 이상의 수치로 표현하는 방법\n",
        "\n",
        "스칼라 사칙연산과 동일한 방법으로 연산이 가능하나, 사칙연산의 경우 element-wise 하게 계산됨"
      ]
    },
    {
      "cell_type": "code",
      "metadata": {
        "colab": {
          "base_uri": "https://localhost:8080/"
        },
        "id": "KsEmtxrroVsM",
        "outputId": "3f7d2d8d-749c-4573-8e8f-83f7f4a58152"
      },
      "source": [
        " # 벡터 정의\n",
        " vector1 = torch.tensor([1., 2., 3.])\n",
        " vector2 = torch.tensor([4., 5., 6.])\n",
        "\n",
        " print(vector1)\n",
        " print(vector2)"
      ],
      "execution_count": null,
      "outputs": [
        {
          "output_type": "stream",
          "text": [
            "tensor([1., 2., 3.])\n",
            "tensor([4., 5., 6.])\n"
          ],
          "name": "stdout"
        }
      ]
    },
    {
      "cell_type": "code",
      "metadata": {
        "colab": {
          "base_uri": "https://localhost:8080/"
        },
        "id": "RL7MyiDmonHN",
        "outputId": "176e5586-56ff-4e35-f4b5-0db9eec160b2"
      },
      "source": [
        "# 벡터와 사칙연산자\n",
        "add_vector = vector1 + vector2\n",
        "print(add_vector)\n",
        "\n",
        "sub_vector = vector1 - vector2\n",
        "print(sub_vector)\n",
        "\n",
        "mul_vector = vector1 * vector2 # element-wise 하게 계산\n",
        "print(mul_vector)\n",
        "\n",
        "div_vector = vector1 / vector2 # element-wise 하게 계산\n",
        "print(div_vector)"
      ],
      "execution_count": null,
      "outputs": [
        {
          "output_type": "stream",
          "text": [
            "tensor([5., 7., 9.])\n",
            "tensor([-3., -3., -3.])\n",
            "tensor([ 4., 10., 18.])\n",
            "tensor([0.2500, 0.4000, 0.5000])\n"
          ],
          "name": "stdout"
        }
      ]
    },
    {
      "cell_type": "code",
      "metadata": {
        "colab": {
          "base_uri": "https://localhost:8080/"
        },
        "id": "gRCoYJYMpEiZ",
        "outputId": "f9603fd7-2e4b-42ad-ee18-1ef5c0b24ffd"
      },
      "source": [
        "# 내장 메소드를 사용한 연산\n",
        "print(torch.add(vector1, vector2))\n",
        "print(torch.sub(vector1, vector2))\n",
        "print(torch.mul(vector1, vector2)) # element-wise 하게 계산\n",
        "print(torch.div(vector1, vector2)) # element-wise 하게 계산\n",
        "\n",
        "# 벡터 간 내적은 다음과 같이 계산\n",
        "print(torch.dot(vector1, vector2)) "
      ],
      "execution_count": null,
      "outputs": [
        {
          "output_type": "stream",
          "text": [
            "tensor([5., 7., 9.])\n",
            "tensor([-3., -3., -3.])\n",
            "tensor([ 4., 10., 18.])\n",
            "tensor([0.2500, 0.4000, 0.5000])\n",
            "tensor(32.)\n"
          ],
          "name": "stdout"
        }
      ]
    },
    {
      "cell_type": "markdown",
      "metadata": {
        "id": "iZGwYbpKpdz-"
      },
      "source": [
        "#### Matrix\n",
        "\n",
        "행렬은 2개 이상의 벡터값을 통합해 구성된 값이다.\n",
        "\n",
        "사칙 연산 또한 연산자와 내장 메소드로 구현이 가능하며, element-wise하게 계산된다."
      ]
    },
    {
      "cell_type": "code",
      "metadata": {
        "colab": {
          "base_uri": "https://localhost:8080/"
        },
        "id": "YiHlHmrlp0bc",
        "outputId": "bd9a8830-d390-4d1a-dcd7-324dced42a54"
      },
      "source": [
        "# 행렬 선언\n",
        "matrix1 = torch.tensor([[1.,2.],[3.,4.]])\n",
        "matrix2 = torch.tensor([[5.,6.],[7.,8.]])\n",
        "\n",
        "print(matrix1)\n",
        "print(matrix2)"
      ],
      "execution_count": null,
      "outputs": [
        {
          "output_type": "stream",
          "text": [
            "tensor([[1., 2.],\n",
            "        [3., 4.]])\n",
            "tensor([[5., 6.],\n",
            "        [7., 8.]])\n"
          ],
          "name": "stdout"
        }
      ]
    },
    {
      "cell_type": "code",
      "metadata": {
        "colab": {
          "base_uri": "https://localhost:8080/"
        },
        "id": "fmY3fti6qBVS",
        "outputId": "ebceccc1-7fe4-45ce-dc8f-3d6a3d004533"
      },
      "source": [
        "# 행렬 간 사칙연산\n",
        "add_matrix = matrix1 + matrix2\n",
        "print(add_matrix)\n",
        "\n",
        "sub_matrix = matrix1 - matrix2\n",
        "print(sub_matrix)\n",
        "\n",
        "mul_matrix = matrix1 * matrix2 # element-wise\n",
        "print(mul_matrix)\n",
        "\n",
        "div_matrix = matrix1 / matrix2 # element-wise\n",
        "print(div_matrix)"
      ],
      "execution_count": null,
      "outputs": [
        {
          "output_type": "stream",
          "text": [
            "tensor([[ 6.,  8.],\n",
            "        [10., 12.]])\n",
            "tensor([[-4., -4.],\n",
            "        [-4., -4.]])\n",
            "tensor([[ 5., 12.],\n",
            "        [21., 32.]])\n",
            "tensor([[0.2000, 0.3333],\n",
            "        [0.4286, 0.5000]])\n"
          ],
          "name": "stdout"
        }
      ]
    },
    {
      "cell_type": "code",
      "metadata": {
        "colab": {
          "base_uri": "https://localhost:8080/"
        },
        "id": "AQmsIeRqqjIo",
        "outputId": "1df7726f-9d44-4b5a-b259-cc4a318cf74b"
      },
      "source": [
        "# 내장 메소드를 사용한 연산과정\n",
        "print(torch.add(matrix1, matrix2))\n",
        "print(torch.sub(matrix1, matrix2))\n",
        "print(torch.mul(matrix1, matrix2)) # element-wise\n",
        "print(torch.div(matrix1, matrix2)) # element-wise\n",
        "\n",
        "# 행렬의 곱연산 실행\n",
        "print(torch.matmul(matrix1, matrix2))"
      ],
      "execution_count": null,
      "outputs": [
        {
          "output_type": "stream",
          "text": [
            "tensor([[ 6.,  8.],\n",
            "        [10., 12.]])\n",
            "tensor([[-4., -4.],\n",
            "        [-4., -4.]])\n",
            "tensor([[ 5., 12.],\n",
            "        [21., 32.]])\n",
            "tensor([[0.2000, 0.3333],\n",
            "        [0.4286, 0.5000]])\n",
            "tensor([[19., 22.],\n",
            "        [43., 50.]])\n"
          ],
          "name": "stdout"
        }
      ]
    },
    {
      "cell_type": "code",
      "metadata": {
        "colab": {
          "base_uri": "https://localhost:8080/",
          "height": 181
        },
        "id": "CX1DSDbarfex",
        "outputId": "b7df159c-26f1-4c2e-bba2-bcf2b766edda"
      },
      "source": [
        "# TF에서는 Dot연산자를 사용해서도 되던데 토치도 가능할까?\n",
        "torch.dot(matrix1, matrix2)"
      ],
      "execution_count": null,
      "outputs": [
        {
          "output_type": "error",
          "ename": "RuntimeError",
          "evalue": "ignored",
          "traceback": [
            "\u001b[0;31m---------------------------------------------------------------------------\u001b[0m",
            "\u001b[0;31mRuntimeError\u001b[0m                              Traceback (most recent call last)",
            "\u001b[0;32m<ipython-input-13-c88aed1ccc29>\u001b[0m in \u001b[0;36m<module>\u001b[0;34m()\u001b[0m\n\u001b[1;32m      1\u001b[0m \u001b[0;31m# TF에서는 Dot연산자를 사용해서도 되던데 토치도 가능할까?\u001b[0m\u001b[0;34m\u001b[0m\u001b[0;34m\u001b[0m\u001b[0;34m\u001b[0m\u001b[0m\n\u001b[0;32m----> 2\u001b[0;31m \u001b[0mtorch\u001b[0m\u001b[0;34m.\u001b[0m\u001b[0mdot\u001b[0m\u001b[0;34m(\u001b[0m\u001b[0mmatrix1\u001b[0m\u001b[0;34m,\u001b[0m \u001b[0mmatrix2\u001b[0m\u001b[0;34m)\u001b[0m\u001b[0;34m\u001b[0m\u001b[0;34m\u001b[0m\u001b[0m\n\u001b[0m",
            "\u001b[0;31mRuntimeError\u001b[0m: 1D tensors expected, but got 2D and 2D tensors"
          ]
        }
      ]
    },
    {
      "cell_type": "markdown",
      "metadata": {
        "id": "9CtAiIJ3rmsr"
      },
      "source": [
        "안된다..ㅋㅋㅋ\n",
        "\n",
        "Torch에서는 2차원 이상의 데이터는 `torch.matmul`을 사용할 필요가 있어 보인다\n",
        "\n",
        "#### Tensor\n",
        "\n",
        "텐서는 2차원 이상의 배열이라 표현.\n",
        "\n",
        "마찬가지로 사칙연산자와 내장 메소드를 사용해 계산이 가능하며, element-wise 하게 계산된다."
      ]
    },
    {
      "cell_type": "code",
      "metadata": {
        "colab": {
          "base_uri": "https://localhost:8080/"
        },
        "id": "QaD9D5h8rrHj",
        "outputId": "937954ed-c444-4979-e505-feb244c6d30c"
      },
      "source": [
        "tensor1 = torch.tensor([[[1.,2.],[3.,4.]], [[5.,6.],[7.,8.]]])\n",
        "print(tensor1)\n",
        "\n",
        "print(tensor1.shape) # numpy의 shape메소드를 확인하는 게 아니다.."
      ],
      "execution_count": null,
      "outputs": [
        {
          "output_type": "stream",
          "text": [
            "tensor([[[1., 2.],\n",
            "         [3., 4.]],\n",
            "\n",
            "        [[5., 6.],\n",
            "         [7., 8.]]])\n",
            "torch.Size([2, 2, 2])\n"
          ],
          "name": "stdout"
        }
      ]
    },
    {
      "cell_type": "code",
      "metadata": {
        "colab": {
          "base_uri": "https://localhost:8080/"
        },
        "id": "hT0wA3R0sP6r",
        "outputId": "c404f2f8-f2a9-43e7-9b9c-7bc3016988d1"
      },
      "source": [
        "tensor2 = torch.tensor([[[9.,10.],[11.,12.]],[[13.,14.], [15.,16.]]])\n",
        "print(tensor2)"
      ],
      "execution_count": null,
      "outputs": [
        {
          "output_type": "stream",
          "text": [
            "tensor([[[ 9., 10.],\n",
            "         [11., 12.]],\n",
            "\n",
            "        [[13., 14.],\n",
            "         [15., 16.]]])\n"
          ],
          "name": "stdout"
        }
      ]
    },
    {
      "cell_type": "code",
      "metadata": {
        "colab": {
          "base_uri": "https://localhost:8080/"
        },
        "id": "aVaVnS7GskI8",
        "outputId": "bbf0d2a1-a181-4f0f-81db-9aa6a377b894"
      },
      "source": [
        "# 사칙연산자를 사용한 연산\n",
        "add_tensor = tensor1 + tensor2\n",
        "print(add_tensor)\n",
        "\n",
        "sub_tensor = tensor1 - tensor2\n",
        "print(sub_tensor)\n",
        "\n",
        "mul_tensor = tensor1 * tensor2 # element-wise 하게 계산됨\n",
        "print(mul_tensor)\n",
        "\n",
        "div_tensor = tensor1 / tensor2 # element-wise 하게 계산됨\n",
        "print(div_tensor)"
      ],
      "execution_count": null,
      "outputs": [
        {
          "output_type": "stream",
          "text": [
            "tensor([[[10., 12.],\n",
            "         [14., 16.]],\n",
            "\n",
            "        [[18., 20.],\n",
            "         [22., 24.]]])\n",
            "tensor([[[-8., -8.],\n",
            "         [-8., -8.]],\n",
            "\n",
            "        [[-8., -8.],\n",
            "         [-8., -8.]]])\n",
            "tensor([[[  9.,  20.],\n",
            "         [ 33.,  48.]],\n",
            "\n",
            "        [[ 65.,  84.],\n",
            "         [105., 128.]]])\n",
            "tensor([[[0.1111, 0.2000],\n",
            "         [0.2727, 0.3333]],\n",
            "\n",
            "        [[0.3846, 0.4286],\n",
            "         [0.4667, 0.5000]]])\n"
          ],
          "name": "stdout"
        }
      ]
    },
    {
      "cell_type": "code",
      "metadata": {
        "colab": {
          "base_uri": "https://localhost:8080/"
        },
        "id": "P5mjhte3tI1v",
        "outputId": "4b292dfd-a7fb-4281-f84e-598b4281857e"
      },
      "source": [
        "# 내장 연산자를 사용해 계산\n",
        "print(torch.add(tensor1, tensor2))\n",
        "print(torch.sub(tensor1, tensor2))\n",
        "print(torch.mul(tensor1, tensor2)) # element-wise\n",
        "print(torch.div(tensor1, tensor2)) # element-wise\n",
        "\n",
        "# 내적합\n",
        "multed_tensor = torch.matmul(tensor1, tensor2)\n",
        "print(multed_tensor)\n",
        "\n",
        "print(multed_tensor.shape) # shape 확인"
      ],
      "execution_count": null,
      "outputs": [
        {
          "output_type": "stream",
          "text": [
            "tensor([[[10., 12.],\n",
            "         [14., 16.]],\n",
            "\n",
            "        [[18., 20.],\n",
            "         [22., 24.]]])\n",
            "tensor([[[-8., -8.],\n",
            "         [-8., -8.]],\n",
            "\n",
            "        [[-8., -8.],\n",
            "         [-8., -8.]]])\n",
            "tensor([[[  9.,  20.],\n",
            "         [ 33.,  48.]],\n",
            "\n",
            "        [[ 65.,  84.],\n",
            "         [105., 128.]]])\n",
            "tensor([[[0.1111, 0.2000],\n",
            "         [0.2727, 0.3333]],\n",
            "\n",
            "        [[0.3846, 0.4286],\n",
            "         [0.4667, 0.5000]]])\n",
            "tensor([[[ 31.,  34.],\n",
            "         [ 71.,  78.]],\n",
            "\n",
            "        [[155., 166.],\n",
            "         [211., 226.]]])\n",
            "torch.Size([2, 2, 2])\n"
          ],
          "name": "stdout"
        }
      ]
    },
    {
      "cell_type": "markdown",
      "metadata": {
        "id": "da4nIh5ptis4"
      },
      "source": [
        "3차원 텐서의 계산 과정은 다음과 같다\n",
        "```plain\n",
        "[\n",
        "  [\n",
        "    [1*9  + 2*11] [1*10 + 2*12]\n",
        "    [5*13 + 6*15] [5*14 + 6*16]\n",
        "                                ]\n",
        "  [\n",
        "    [3*9  + 4*11] [3*10 + 4*12]\n",
        "    [7*13 + 8*15] [7*14 + 8*16]\n",
        "                                ]\n",
        "                                  ]\n",
        "```\n",
        "\n",
        "앞 차원을 그대로 두고 하위 2개의 차원의 matmul이다."
      ]
    },
    {
      "cell_type": "markdown",
      "metadata": {
        "id": "y-08AFzhv1jX"
      },
      "source": [
        "#### AutoGrad"
      ]
    },
    {
      "cell_type": "code",
      "metadata": {
        "colab": {
          "base_uri": "https://localhost:8080/"
        },
        "id": "W86GBO_uwwVZ",
        "outputId": "00dc2994-d3d3-4010-8b13-6db40519a048"
      },
      "source": [
        "# Devise 설정\n",
        "import torch\n",
        "\n",
        "if torch.cuda.is_available():\n",
        "  print(\"use cuda\")\n",
        "  DEVICE = torch.device('cuda')\n",
        "else:\n",
        "  print(\"use cpu\")\n",
        "  DEVICE = torch.device('cpu')"
      ],
      "execution_count": null,
      "outputs": [
        {
          "output_type": "stream",
          "text": [
            "use cpu\n"
          ],
          "name": "stdout"
        }
      ]
    },
    {
      "cell_type": "code",
      "metadata": {
        "id": "zsTmJ9ehxL5s"
      },
      "source": [
        "# hyperparameter 설정\n",
        "BATCH_SIZE = 64\n",
        "INPUT_SIZE = 1000 \n",
        "HIDDEN_SIZE = 100 # (1000, 100) 짜리 히든 레이어와 (100,10) 짜리 히든레이어 생성을 위함\n",
        "OUTPUT_SIZE = 10"
      ],
      "execution_count": null,
      "outputs": []
    },
    {
      "cell_type": "code",
      "metadata": {
        "id": "-gIFSM2Bxdxl"
      },
      "source": [
        "# 레이어 생성\n",
        "x = torch.randn(BATCH_SIZE, INPUT_SIZE, device=DEVICE, dtype=torch.float, requires_grad=False) # 단순한 input이므로 gradient 가 필요 없다.\n",
        "y = torch.randn(BATCH_SIZE, OUTPUT_SIZE, device=DEVICE, dtype=torch.float, requires_grad=False) # 단순한 output이므로 gradient 가 필요 없다.\n",
        "\n",
        "w1 = torch.randn(INPUT_SIZE, HIDDEN_SIZE, device=DEVICE, dtype=torch.float, requires_grad=True) # 가중치 갱신을 위해\n",
        "w2 = torch.randn(HIDDEN_SIZE, OUTPUT_SIZE, device=DEVICE, dtype=torch.float, requires_grad=True)"
      ],
      "execution_count": null,
      "outputs": []
    },
    {
      "cell_type": "code",
      "metadata": {
        "colab": {
          "base_uri": "https://localhost:8080/"
        },
        "id": "XKOQ6xsWyRwF",
        "outputId": "a3334605-7ab1-4491-da40-f7faa5126338"
      },
      "source": [
        "# 학습?\n",
        "learning_rate = 1e-6\n",
        "for t in range(1, 501):\n",
        "  y_pred = x.mm(w1).clamp(min = 0).mm(w2) # 순전파 계산. clamp는 reLU와 같은 역할을 하는듯 (비선형 활성화 함수)\n",
        "\n",
        "  loss = (y_pred - y).pow(2).sum() # MSE 오차.\n",
        "\n",
        "  if t % 100 == 0:\n",
        "    print(\"Iteration: \", t, \"\\t\", \"Loss: \", loss.item()) # 100번 반복 시 loss값 모니터링\n",
        "  loss.backward() # 각 파라미터 값에 대해 Gradient를 구하고 역전파를 진행할 수 있게 결과를 반환.\n",
        "\n",
        "  with torch.no_grad(): # 해당 블록을 history tracking 하지 않겠다는 뜻이다.\n",
        "    w1 -= learning_rate * w1.grad # optimization진행\n",
        "    w2 -= learning_rate * w2.grad\n",
        "\n",
        "    # w1.grad.zero_() # Gradient값을 다시 0으로 설정해 둠.\n",
        "    # w2.grad.zero_()"
      ],
      "execution_count": null,
      "outputs": [
        {
          "output_type": "stream",
          "text": [
            "Iteration:  100 \t Loss:  2024127.125\n",
            "Iteration:  200 \t Loss:  nan\n",
            "Iteration:  300 \t Loss:  nan\n",
            "Iteration:  400 \t Loss:  nan\n",
            "Iteration:  500 \t Loss:  nan\n"
          ],
          "name": "stdout"
        }
      ]
    },
    {
      "cell_type": "code",
      "metadata": {
        "id": "bVE1NUGs0pVi"
      },
      "source": [
        "y - y_pred # 상당히 작은 수들이 출력되는 것을 확인할 수 있다."
      ],
      "execution_count": null,
      "outputs": []
    },
    {
      "cell_type": "code",
      "metadata": {
        "colab": {
          "base_uri": "https://localhost:8080/"
        },
        "id": "zYVfiar-0qil",
        "outputId": "bb79d356-fcfb-4986-a07a-348b16524fee"
      },
      "source": [
        "w1.grad # gradient를 호출하는 메소드이다..."
      ],
      "execution_count": null,
      "outputs": [
        {
          "output_type": "execute_result",
          "data": {
            "text/plain": [
              "tensor([[0., 0., 0.,  ..., 0., 0., 0.],\n",
              "        [0., 0., 0.,  ..., 0., 0., 0.],\n",
              "        [0., 0., 0.,  ..., 0., 0., 0.],\n",
              "        ...,\n",
              "        [0., 0., 0.,  ..., 0., 0., 0.],\n",
              "        [0., 0., 0.,  ..., 0., 0., 0.],\n",
              "        [0., 0., 0.,  ..., 0., 0., 0.]])"
            ]
          },
          "metadata": {
            "tags": []
          },
          "execution_count": 15
        }
      ]
    },
    {
      "cell_type": "code",
      "metadata": {
        "id": "_IwK8NHu1Cn6"
      },
      "source": [
        "y.grad # gradient를 설정하지 않으면 None값이 반환되는 듯 하다."
      ],
      "execution_count": null,
      "outputs": []
    },
    {
      "cell_type": "markdown",
      "metadata": {
        "id": "885TpYbinX5T"
      },
      "source": [
        "# AI Background\n",
        "\n",
        "## MNIST 데이터를 활용한 Multi Layer Perceptron 설계"
      ]
    },
    {
      "cell_type": "code",
      "metadata": {
        "id": "BcnWNpo61HXy"
      },
      "source": [
        "# 모듈 임포트\n",
        "import numpy as np\n",
        "import matplotlib.pyplot as plt\n",
        "import torch\n",
        "import torch.nn as nn # torch 모듈 중 인공신경망을 설계할 때 필요한 함수를 모아 놓은 모듈\n",
        "import torch.nn.functional as F\n",
        "from torchvision import transforms, datasets # 비전 연구 분야에서 자주 이용하는 함수"
      ],
      "execution_count": 4,
      "outputs": []
    },
    {
      "cell_type": "code",
      "metadata": {
        "colab": {
          "base_uri": "https://localhost:8080/"
        },
        "id": "6LTBOjkIoET5",
        "outputId": "0622153e-8ff8-4b9a-8152-4cb4d55b8061"
      },
      "source": [
        "# 장비 확인\n",
        "if torch.cuda.is_available():\n",
        "  DEVICE = torch.device('cuda')\n",
        "else:\n",
        "  DEVICE = torch.device('cpu')\n",
        "\n",
        "print(\"Using PyTorch Version:\", torch.__version__, 'Device: ', DEVICE)"
      ],
      "execution_count": 5,
      "outputs": [
        {
          "output_type": "stream",
          "text": [
            "Using PyTorch Version: 1.7.0+cu101 Device:  cpu\n"
          ],
          "name": "stdout"
        }
      ]
    },
    {
      "cell_type": "code",
      "metadata": {
        "id": "YgrJ7lPMoXmV"
      },
      "source": [
        "# 하이퍼파라미터 설정\n",
        "BATCH_SIZE = 32 # 32개의 데이터가 1 미니배치를 구성하고 있다.\n",
        "EPOCHS = 10"
      ],
      "execution_count": 6,
      "outputs": []
    },
    {
      "cell_type": "code",
      "metadata": {
        "colab": {
          "base_uri": "https://localhost:8080/",
          "height": 386,
          "referenced_widgets": [
            "cf05d20ec04644f2996b8fcd2dcf1555",
            "95cf4b27383649a3a9824999fa4bb091",
            "b23382337db843bca4ca38b63a28b489",
            "e0ce33fb468d422fa030dfc218e333fe",
            "e9acc48448b9412a82d87991b684a2a8",
            "c762289bb6fb4d12bbd559c638de4241",
            "826c7303596f4e42891f046fe5f6b0d2",
            "45734ace402049c1a62c25cc89bfaba7",
            "c8779b9c40e446e69333e11006b1d503",
            "d1c2f1e810c64df2977e76483b93312e",
            "a6e7592730df457a97c3aea0ae3c8472",
            "e23ccdac51f04b07bf53a5fa47bf173f",
            "db85654e91564a15b34c7408558cc2a9",
            "4688fc57e0b74f85bbb1e6ec1f47f6d4",
            "dd93d5e5b29949b094401c43c84ea7e4",
            "489b3b1372fe4e36819d9fd35c4c93a0",
            "c1fea150c8db4a0b9b28ce6dec8e94c0",
            "3f071030180a4f81bbce8f35a4b26cd4",
            "99fa2605035b4d5da1ac1c0886555590",
            "c1718183303f4b87ae4bf2d17674b872",
            "bc119939a1a849609d33bd6ac8a377ba",
            "5fa8cda509ba49d38d581c8f25172848",
            "77f1b62f62a746d29ebfe0b17a0958e2",
            "4cd4f39c025b41e190c7007daed905a6",
            "12e7328e97004b15a80770f44fcdd95d",
            "0bf46f8aa2904d30ab4f549fdba3a516",
            "42391f789ee940cf9e208c1bc8df0312",
            "33bebc05c6654f36813a87f9c03eeb13",
            "1b72e127fb524490b512b9d7aa5bb917",
            "33cecb072f8544959f51c1205820c090",
            "7e9078c6fecd4ab0a04eb15f2b241801",
            "705633f59ad243dba8374570508b982a"
          ]
        },
        "id": "to_nkgBxolU0",
        "outputId": "9ed8368c-31df-4d1a-b211-03725f0bf795"
      },
      "source": [
        "# MNIST 데이터 다운로드\n",
        "train_dataset = datasets.MNIST(root = '../data/MNIST', train= True, download=True, transform = transforms.ToTensor())\n",
        "test_dataset = datasets.MNIST(root = '../data/MNIST', train= False, transform = transforms.ToTensor())\n",
        "# transforms 속성은 데이터 정규화, 텐서로 변환 등...\n",
        "# download 속성은 아예 저장할 것인지, 값만 사용할 것인지..\n",
        "train_loader = torch.utils.data.DataLoader(dataset = train_dataset, batch_size=BATCH_SIZE, shuffle=True)\n",
        "test_loader = torch.utils.data.DataLoader(dataset = test_dataset, batch_size=BATCH_SIZE, shuffle=False)\n",
        "# datagenerator와 비슷하다."
      ],
      "execution_count": 7,
      "outputs": [
        {
          "output_type": "stream",
          "text": [
            "Downloading http://yann.lecun.com/exdb/mnist/train-images-idx3-ubyte.gz to ../data/MNIST/MNIST/raw/train-images-idx3-ubyte.gz\n"
          ],
          "name": "stdout"
        },
        {
          "output_type": "display_data",
          "data": {
            "application/vnd.jupyter.widget-view+json": {
              "model_id": "cf05d20ec04644f2996b8fcd2dcf1555",
              "version_minor": 0,
              "version_major": 2
            },
            "text/plain": [
              "HBox(children=(FloatProgress(value=1.0, bar_style='info', max=1.0), HTML(value='')))"
            ]
          },
          "metadata": {
            "tags": []
          }
        },
        {
          "output_type": "stream",
          "text": [
            "Extracting ../data/MNIST/MNIST/raw/train-images-idx3-ubyte.gz to ../data/MNIST/MNIST/raw\n",
            "Downloading http://yann.lecun.com/exdb/mnist/train-labels-idx1-ubyte.gz to ../data/MNIST/MNIST/raw/train-labels-idx1-ubyte.gz\n"
          ],
          "name": "stdout"
        },
        {
          "output_type": "display_data",
          "data": {
            "application/vnd.jupyter.widget-view+json": {
              "model_id": "c8779b9c40e446e69333e11006b1d503",
              "version_minor": 0,
              "version_major": 2
            },
            "text/plain": [
              "HBox(children=(FloatProgress(value=1.0, bar_style='info', max=1.0), HTML(value='')))"
            ]
          },
          "metadata": {
            "tags": []
          }
        },
        {
          "output_type": "stream",
          "text": [
            "Extracting ../data/MNIST/MNIST/raw/train-labels-idx1-ubyte.gz to ../data/MNIST/MNIST/raw\n",
            "Downloading http://yann.lecun.com/exdb/mnist/t10k-images-idx3-ubyte.gz to ../data/MNIST/MNIST/raw/t10k-images-idx3-ubyte.gz\n",
            "\n"
          ],
          "name": "stdout"
        },
        {
          "output_type": "display_data",
          "data": {
            "application/vnd.jupyter.widget-view+json": {
              "model_id": "c1fea150c8db4a0b9b28ce6dec8e94c0",
              "version_minor": 0,
              "version_major": 2
            },
            "text/plain": [
              "HBox(children=(FloatProgress(value=1.0, bar_style='info', max=1.0), HTML(value='')))"
            ]
          },
          "metadata": {
            "tags": []
          }
        },
        {
          "output_type": "stream",
          "text": [
            "Extracting ../data/MNIST/MNIST/raw/t10k-images-idx3-ubyte.gz to ../data/MNIST/MNIST/raw\n",
            "Downloading http://yann.lecun.com/exdb/mnist/t10k-labels-idx1-ubyte.gz to ../data/MNIST/MNIST/raw/t10k-labels-idx1-ubyte.gz\n"
          ],
          "name": "stdout"
        },
        {
          "output_type": "display_data",
          "data": {
            "application/vnd.jupyter.widget-view+json": {
              "model_id": "12e7328e97004b15a80770f44fcdd95d",
              "version_minor": 0,
              "version_major": 2
            },
            "text/plain": [
              "HBox(children=(FloatProgress(value=1.0, bar_style='info', max=1.0), HTML(value='')))"
            ]
          },
          "metadata": {
            "tags": []
          }
        },
        {
          "output_type": "stream",
          "text": [
            "Extracting ../data/MNIST/MNIST/raw/t10k-labels-idx1-ubyte.gz to ../data/MNIST/MNIST/raw\n",
            "Processing...\n",
            "Done!\n"
          ],
          "name": "stdout"
        },
        {
          "output_type": "stream",
          "text": [
            "/usr/local/lib/python3.6/dist-packages/torchvision/datasets/mnist.py:480: UserWarning: The given NumPy array is not writeable, and PyTorch does not support non-writeable tensors. This means you can write to the underlying (supposedly non-writeable) NumPy array using the tensor. You may want to copy the array to protect its data or make it writeable before converting it to a tensor. This type of warning will be suppressed for the rest of this program. (Triggered internally at  /pytorch/torch/csrc/utils/tensor_numpy.cpp:141.)\n",
            "  return torch.from_numpy(parsed.astype(m[2], copy=False)).view(*s)\n"
          ],
          "name": "stderr"
        }
      ]
    },
    {
      "cell_type": "code",
      "metadata": {
        "colab": {
          "base_uri": "https://localhost:8080/"
        },
        "id": "2wThk1cArADh",
        "outputId": "f6e1624a-83ff-41fc-8d28-401903e37b4d"
      },
      "source": [
        "# 데이터 확인하기\n",
        "for (X_train, y_train) in train_loader:\n",
        "  print(f\"X_train : {X_train.size()}, type: {X_train.type()}\")\n",
        "  print(f\"y_train : {y_train.size()}, type: {y_train.type()}\")\n",
        "  break"
      ],
      "execution_count": 8,
      "outputs": [
        {
          "output_type": "stream",
          "text": [
            "X_train : torch.Size([32, 1, 28, 28]), type: torch.FloatTensor\n",
            "y_train : torch.Size([32]), type: torch.LongTensor\n"
          ],
          "name": "stdout"
        }
      ]
    },
    {
      "cell_type": "markdown",
      "metadata": {
        "id": "tq5_alRcriYK"
      },
      "source": [
        "이미지 쉐이프가 [32,1,28,28] 이므로\n",
        "채널이 1임을 확인할 수 있다. (grayscale)\n",
        "\n",
        "x와 y의 데이터타입이 다른 것도 눈여겨 볼 점"
      ]
    },
    {
      "cell_type": "code",
      "metadata": {
        "colab": {
          "base_uri": "https://localhost:8080/",
          "height": 94
        },
        "id": "AWZYMlK8rdAI",
        "outputId": "31499e04-3a0a-4e23-ba4f-c92f3b4bf168"
      },
      "source": [
        "# 데이터 확인하기\n",
        "pltsize =1\n",
        "plt.figure(figsize=(10 * pltsize, pltsize))\n",
        "\n",
        "for i in range(10):\n",
        "  plt.subplot(1, 10, i + 1)\n",
        "  plt.axis('off')\n",
        "  plt.imshow(X_train[i, :, :, :].numpy().reshape(28,28), cmap=\"gray_r\")\n",
        "  plt.title(\"Class: \" + str(y_train[i].item()))"
      ],
      "execution_count": null,
      "outputs": [
        {
          "output_type": "display_data",
          "data": {
            "image/png": "[encoded data removed]",
            "text/plain": [
              "<Figure size 720x72 with 10 Axes>"
            ]
          },
          "metadata": {
            "tags": [],
            "needs_background": "light"
          }
        }
      ]
    },
    {
      "cell_type": "code",
      "metadata": {
        "id": "iL22WDQWsiOp"
      },
      "source": [
        "# MLP 모델 생성하기\n",
        "class Net(nn.Module): # nn.Module는 딥러닝 기본 함수를 포함\n",
        "  def __init__(self):\n",
        "    super(Net, self).__init__() # nn.Module 내의 메소드의 init 사용. python2 와의 호환을 위해 이 형태로 적음.super().init()도 같이 동작\n",
        "    self.fc1 = nn.Linear(28 * 28, 512) # 레이어 정의\n",
        "    self.fc2 = nn.Linear(512, 256)\n",
        "    self.fc3 = nn.Linear(256, 10)\n",
        "  \n",
        "  def forward(self, X): # 순전파 연산\n",
        "    x = X.view(-1,28 * 28) # 1차원의 데이터로 flatten해 주어야 함.\n",
        "    x = self.fc1(x)\n",
        "    x = F.sigmoid(x)\n",
        "    x = self.fc2(x)\n",
        "    x = F.sigmoid(x)\n",
        "    x = self.fc3(x)\n",
        "    x = F.log_softmax(x, dim=1)\n",
        "    return x"
      ],
      "execution_count": null,
      "outputs": []
    },
    {
      "cell_type": "code",
      "metadata": {
        "id": "KQL_rbO8uVdC"
      },
      "source": [
        "n = Net()"
      ],
      "execution_count": null,
      "outputs": []
    },
    {
      "cell_type": "code",
      "metadata": {
        "colab": {
          "base_uri": "https://localhost:8080/"
        },
        "id": "FuGIKdwpuXQ2",
        "outputId": "a3e7764b-b2e2-4342-9035-55005e78d2ec"
      },
      "source": [
        "n"
      ],
      "execution_count": null,
      "outputs": [
        {
          "output_type": "execute_result",
          "data": {
            "text/plain": [
              "Net(\n",
              "  (fc1): Linear(in_features=784, out_features=512, bias=True)\n",
              "  (fc2): Linear(in_features=512, out_features=256, bias=True)\n",
              "  (fc3): Linear(in_features=256, out_features=10, bias=True)\n",
              ")"
            ]
          },
          "metadata": {
            "tags": []
          },
          "execution_count": 14
        }
      ]
    },
    {
      "cell_type": "code",
      "metadata": {
        "colab": {
          "base_uri": "https://localhost:8080/"
        },
        "id": "NE8iuqbruZUi",
        "outputId": "45fc9b60-dff2-441b-c110-cafd7507c08a"
      },
      "source": [
        "# model, optimizer, objective function 설정\n",
        "model = Net().to(DEVICE) # DEVICE 에 할당해 주어야 한다.\n",
        "\n",
        "optimizer = torch.optim.SGD(model.parameters(), lr = 0.01, momentum=0.5) # 옵티마이저 정의 방식에 주의\n",
        "criterion = nn.CrossEntropyLoss() # CrossEntropy를 사용해 계산\n",
        "model"
      ],
      "execution_count": null,
      "outputs": [
        {
          "output_type": "execute_result",
          "data": {
            "text/plain": [
              "Net(\n",
              "  (fc1): Linear(in_features=784, out_features=512, bias=True)\n",
              "  (fc2): Linear(in_features=512, out_features=256, bias=True)\n",
              "  (fc3): Linear(in_features=256, out_features=10, bias=True)\n",
              ")"
            ]
          },
          "metadata": {
            "tags": []
          },
          "execution_count": 15
        }
      ]
    },
    {
      "cell_type": "code",
      "metadata": {
        "id": "Iz7x70B6uuEG"
      },
      "source": [
        "# 모델 학습을 진행하며 학습 데이터에 대한 성능 확인\n",
        "def train(model, train_loader, optimizer, log_interval):\n",
        "  model.train() # 모델을 학습상태로 지정\n",
        "\n",
        "  for batch_idx, (image, label) in enumerate(train_loader):\n",
        "    image = image.to(DEVICE) # 이미지와 레이블을 장치에 할당\n",
        "    label = label.to(DEVICE)\n",
        "\n",
        "    optimizer.zero_grad() # optimizer의 gradient 를 초기화해줌\n",
        "    output = model(image) # 순전파  - 모델의 __call__()에서 forward()를 호출하기 때문에, forward()를 직접 호출하지 않는다.\n",
        "\n",
        "    loss = criterion(output, label) \n",
        "    loss.backward() # autograd의 역전파\n",
        "    optimizer.step() # 업데이트함\n",
        "\n",
        "    if batch_idx % log_interval == 0:\n",
        "      print(f\"Train epoch: {Epoch}, [{batch_idx * len(image)} / {len(train_loader.dataset)}({100. * batch_idx / len(train_loader):.3f}%)]\\t Train Loss: {loss.item()}\")"
      ],
      "execution_count": 9,
      "outputs": []
    },
    {
      "cell_type": "code",
      "metadata": {
        "id": "qveusO3dwN_t"
      },
      "source": [
        "# 데이터 검증하는 메소드 정의\n",
        "def evaluate(model, test_loader):\n",
        "  model.eval()\n",
        "  test_loss = 0\n",
        "  correct = 0\n",
        "\n",
        "  with torch.no_grad():\n",
        "    for image, label in test_loader:\n",
        "      image = image.to(DEVICE)\n",
        "      label = label.to(DEVICE) # 이미지 할당\n",
        "      output = model(image) # 순전파\n",
        "\n",
        "      test_loss += criterion(output, label)\n",
        "      prediction = output.max(1, keepdim=True)[1] # 모델의 데이터값은 크기가 10인 벡터. argmax를 판단함.\n",
        "      correct += prediction.eq(label.view_as(prediction)).sum().item()\n",
        "\n",
        "  test_loss /= len(test_loader.dataset)\n",
        "  test_accuracy = 100. * correct / len(test_loader.dataset) # 현재 test_loader에 존재하는 미니배치의 개수로 평균을 구함\n",
        "\n",
        "  return test_loss, test_accuracy"
      ],
      "execution_count": 10,
      "outputs": []
    },
    {
      "cell_type": "code",
      "metadata": {
        "colab": {
          "base_uri": "https://localhost:8080/"
        },
        "id": "W6SCfQ33xitE",
        "outputId": "0530e46e-935f-4b7d-dd8d-d519a3fa772a"
      },
      "source": [
        "for Epoch in range(1, EPOCHS + 1):\n",
        "  train(model, train_loader, optimizer, log_interval=200)\n",
        "  test_loss, test_accuracy = evaluate(model, test_loader)\n",
        "  print(f\"\\n [Epoch {Epoch}] \\nTest Loss: {test_loss:.4f},\\t Test Accuracy: {test_accuracy:.4f}\\n\")"
      ],
      "execution_count": null,
      "outputs": [
        {
          "output_type": "stream",
          "text": [
            "/usr/local/lib/python3.6/dist-packages/torch/nn/functional.py:1639: UserWarning: nn.functional.sigmoid is deprecated. Use torch.sigmoid instead.\n",
            "  warnings.warn(\"nn.functional.sigmoid is deprecated. Use torch.sigmoid instead.\")\n"
          ],
          "name": "stderr"
        },
        {
          "output_type": "stream",
          "text": [
            "Train epoch: 1, [0 / 60000(0.0%)]\t Train Loss: 2.3792006969451904\n",
            "Train epoch: 1, [6400 / 60000(10.666666666666666%)]\t Train Loss: 2.3355743885040283\n",
            "Train epoch: 1, [12800 / 60000(21.333333333333332%)]\t Train Loss: 2.2631354331970215\n",
            "Train epoch: 1, [19200 / 60000(32.0%)]\t Train Loss: 2.282989978790283\n",
            "Train epoch: 1, [25600 / 60000(42.666666666666664%)]\t Train Loss: 2.2601640224456787\n",
            "Train epoch: 1, [32000 / 60000(53.333333333333336%)]\t Train Loss: 2.308326244354248\n",
            "Train epoch: 1, [38400 / 60000(64.0%)]\t Train Loss: 2.285688638687134\n",
            "Train epoch: 1, [44800 / 60000(74.66666666666667%)]\t Train Loss: 2.2861902713775635\n",
            "Train epoch: 1, [51200 / 60000(85.33333333333333%)]\t Train Loss: 2.237779378890991\n",
            "Train epoch: 1, [57600 / 60000(96.0%)]\t Train Loss: 2.2855725288391113\n",
            "\n",
            " [Epoch 1] \n",
            "Test Loss: 0.0697,\t Test Accuracy: 28.7600\n",
            "\n",
            "Train epoch: 2, [0 / 60000(0.0%)]\t Train Loss: 2.224231004714966\n",
            "Train epoch: 2, [6400 / 60000(10.666666666666666%)]\t Train Loss: 2.2148900032043457\n",
            "Train epoch: 2, [12800 / 60000(21.333333333333332%)]\t Train Loss: 2.136847496032715\n",
            "Train epoch: 2, [19200 / 60000(32.0%)]\t Train Loss: 2.0154356956481934\n",
            "Train epoch: 2, [25600 / 60000(42.666666666666664%)]\t Train Loss: 2.057512044906616\n",
            "Train epoch: 2, [32000 / 60000(53.333333333333336%)]\t Train Loss: 1.859142780303955\n",
            "Train epoch: 2, [38400 / 60000(64.0%)]\t Train Loss: 1.769547700881958\n",
            "Train epoch: 2, [44800 / 60000(74.66666666666667%)]\t Train Loss: 1.6879678964614868\n",
            "Train epoch: 2, [51200 / 60000(85.33333333333333%)]\t Train Loss: 1.4574106931686401\n",
            "Train epoch: 2, [57600 / 60000(96.0%)]\t Train Loss: 1.283983588218689\n",
            "\n",
            " [Epoch 2] \n",
            "Test Loss: 0.0386,\t Test Accuracy: 64.4900\n",
            "\n",
            "Train epoch: 3, [0 / 60000(0.0%)]\t Train Loss: 1.1995092630386353\n",
            "Train epoch: 3, [6400 / 60000(10.666666666666666%)]\t Train Loss: 1.0336121320724487\n",
            "Train epoch: 3, [12800 / 60000(21.333333333333332%)]\t Train Loss: 1.1107019186019897\n",
            "Train epoch: 3, [19200 / 60000(32.0%)]\t Train Loss: 0.9684664011001587\n",
            "Train epoch: 3, [25600 / 60000(42.666666666666664%)]\t Train Loss: 0.8695197701454163\n",
            "Train epoch: 3, [32000 / 60000(53.333333333333336%)]\t Train Loss: 0.7979299426078796\n",
            "Train epoch: 3, [38400 / 60000(64.0%)]\t Train Loss: 1.0905064344406128\n",
            "Train epoch: 3, [44800 / 60000(74.66666666666667%)]\t Train Loss: 1.0434868335723877\n",
            "Train epoch: 3, [51200 / 60000(85.33333333333333%)]\t Train Loss: 0.6211817264556885\n",
            "Train epoch: 3, [57600 / 60000(96.0%)]\t Train Loss: 0.9381438493728638\n",
            "\n",
            " [Epoch 3] \n",
            "Test Loss: 0.0238,\t Test Accuracy: 77.0000\n",
            "\n",
            "Train epoch: 4, [0 / 60000(0.0%)]\t Train Loss: 0.7703446745872498\n",
            "Train epoch: 4, [6400 / 60000(10.666666666666666%)]\t Train Loss: 0.5944960713386536\n",
            "Train epoch: 4, [12800 / 60000(21.333333333333332%)]\t Train Loss: 0.6453958749771118\n",
            "Train epoch: 4, [19200 / 60000(32.0%)]\t Train Loss: 0.5987830758094788\n",
            "Train epoch: 4, [25600 / 60000(42.666666666666664%)]\t Train Loss: 0.9632339477539062\n",
            "Train epoch: 4, [32000 / 60000(53.333333333333336%)]\t Train Loss: 0.5666016340255737\n",
            "Train epoch: 4, [38400 / 60000(64.0%)]\t Train Loss: 0.6265780329704285\n",
            "Train epoch: 4, [44800 / 60000(74.66666666666667%)]\t Train Loss: 0.6806598901748657\n",
            "Train epoch: 4, [51200 / 60000(85.33333333333333%)]\t Train Loss: 0.5467678308486938\n",
            "Train epoch: 4, [57600 / 60000(96.0%)]\t Train Loss: 0.6322723031044006\n",
            "\n",
            " [Epoch 4] \n",
            "Test Loss: 0.0180,\t Test Accuracy: 83.3800\n",
            "\n",
            "Train epoch: 5, [0 / 60000(0.0%)]\t Train Loss: 0.4895537197589874\n",
            "Train epoch: 5, [6400 / 60000(10.666666666666666%)]\t Train Loss: 0.3531440794467926\n",
            "Train epoch: 5, [12800 / 60000(21.333333333333332%)]\t Train Loss: 0.6937974691390991\n",
            "Train epoch: 5, [19200 / 60000(32.0%)]\t Train Loss: 0.4503310024738312\n",
            "Train epoch: 5, [25600 / 60000(42.666666666666664%)]\t Train Loss: 0.3955327570438385\n",
            "Train epoch: 5, [32000 / 60000(53.333333333333336%)]\t Train Loss: 0.9106270670890808\n",
            "Train epoch: 5, [38400 / 60000(64.0%)]\t Train Loss: 0.4807148873806\n",
            "Train epoch: 5, [44800 / 60000(74.66666666666667%)]\t Train Loss: 0.5374234914779663\n",
            "Train epoch: 5, [51200 / 60000(85.33333333333333%)]\t Train Loss: 0.35890012979507446\n",
            "Train epoch: 5, [57600 / 60000(96.0%)]\t Train Loss: 0.29197782278060913\n",
            "\n",
            " [Epoch 5] \n",
            "Test Loss: 0.0147,\t Test Accuracy: 86.5800\n",
            "\n",
            "Train epoch: 6, [0 / 60000(0.0%)]\t Train Loss: 0.28922712802886963\n",
            "Train epoch: 6, [6400 / 60000(10.666666666666666%)]\t Train Loss: 0.6024530529975891\n",
            "Train epoch: 6, [12800 / 60000(21.333333333333332%)]\t Train Loss: 0.7951048016548157\n",
            "Train epoch: 6, [19200 / 60000(32.0%)]\t Train Loss: 0.46363359689712524\n",
            "Train epoch: 6, [25600 / 60000(42.666666666666664%)]\t Train Loss: 0.30103158950805664\n",
            "Train epoch: 6, [32000 / 60000(53.333333333333336%)]\t Train Loss: 0.3095302879810333\n",
            "Train epoch: 6, [38400 / 60000(64.0%)]\t Train Loss: 0.3111490309238434\n",
            "Train epoch: 6, [44800 / 60000(74.66666666666667%)]\t Train Loss: 0.3319401443004608\n",
            "Train epoch: 6, [51200 / 60000(85.33333333333333%)]\t Train Loss: 0.8092776536941528\n",
            "Train epoch: 6, [57600 / 60000(96.0%)]\t Train Loss: 0.5433924794197083\n",
            "\n",
            " [Epoch 6] \n",
            "Test Loss: 0.0130,\t Test Accuracy: 87.8800\n",
            "\n",
            "Train epoch: 7, [0 / 60000(0.0%)]\t Train Loss: 0.2397449016571045\n",
            "Train epoch: 7, [6400 / 60000(10.666666666666666%)]\t Train Loss: 0.5332866907119751\n",
            "Train epoch: 7, [12800 / 60000(21.333333333333332%)]\t Train Loss: 0.3273559808731079\n",
            "Train epoch: 7, [19200 / 60000(32.0%)]\t Train Loss: 0.3480372428894043\n",
            "Train epoch: 7, [25600 / 60000(42.666666666666664%)]\t Train Loss: 0.6416451334953308\n",
            "Train epoch: 7, [32000 / 60000(53.333333333333336%)]\t Train Loss: 0.25305572152137756\n",
            "Train epoch: 7, [38400 / 60000(64.0%)]\t Train Loss: 0.4962281882762909\n",
            "Train epoch: 7, [44800 / 60000(74.66666666666667%)]\t Train Loss: 0.20198729634284973\n",
            "Train epoch: 7, [51200 / 60000(85.33333333333333%)]\t Train Loss: 0.2517937421798706\n",
            "Train epoch: 7, [57600 / 60000(96.0%)]\t Train Loss: 0.6030579805374146\n",
            "\n",
            " [Epoch 7] \n",
            "Test Loss: 0.0118,\t Test Accuracy: 89.1000\n",
            "\n",
            "Train epoch: 8, [0 / 60000(0.0%)]\t Train Loss: 0.33978232741355896\n",
            "Train epoch: 8, [6400 / 60000(10.666666666666666%)]\t Train Loss: 0.5600532293319702\n",
            "Train epoch: 8, [12800 / 60000(21.333333333333332%)]\t Train Loss: 0.31136128306388855\n",
            "Train epoch: 8, [19200 / 60000(32.0%)]\t Train Loss: 0.2862991392612457\n",
            "Train epoch: 8, [25600 / 60000(42.666666666666664%)]\t Train Loss: 0.3974922001361847\n",
            "Train epoch: 8, [32000 / 60000(53.333333333333336%)]\t Train Loss: 0.16240304708480835\n",
            "Train epoch: 8, [38400 / 60000(64.0%)]\t Train Loss: 0.5277639627456665\n",
            "Train epoch: 8, [44800 / 60000(74.66666666666667%)]\t Train Loss: 0.29443490505218506\n",
            "Train epoch: 8, [51200 / 60000(85.33333333333333%)]\t Train Loss: 0.20580534636974335\n",
            "Train epoch: 8, [57600 / 60000(96.0%)]\t Train Loss: 0.47245872020721436\n",
            "\n",
            " [Epoch 8] \n",
            "Test Loss: 0.0113,\t Test Accuracy: 89.6800\n",
            "\n",
            "Train epoch: 9, [0 / 60000(0.0%)]\t Train Loss: 0.2796054184436798\n",
            "Train epoch: 9, [6400 / 60000(10.666666666666666%)]\t Train Loss: 0.32697367668151855\n",
            "Train epoch: 9, [12800 / 60000(21.333333333333332%)]\t Train Loss: 0.22855989634990692\n",
            "Train epoch: 9, [19200 / 60000(32.0%)]\t Train Loss: 0.4646267592906952\n",
            "Train epoch: 9, [25600 / 60000(42.666666666666664%)]\t Train Loss: 0.4093838334083557\n",
            "Train epoch: 9, [32000 / 60000(53.333333333333336%)]\t Train Loss: 0.36122632026672363\n",
            "Train epoch: 9, [38400 / 60000(64.0%)]\t Train Loss: 0.2844410240650177\n",
            "Train epoch: 9, [44800 / 60000(74.66666666666667%)]\t Train Loss: 0.30275458097457886\n",
            "Train epoch: 9, [51200 / 60000(85.33333333333333%)]\t Train Loss: 0.33256644010543823\n",
            "Train epoch: 9, [57600 / 60000(96.0%)]\t Train Loss: 0.4240990877151489\n",
            "\n",
            " [Epoch 9] \n",
            "Test Loss: 0.0108,\t Test Accuracy: 90.0000\n",
            "\n",
            "Train epoch: 10, [0 / 60000(0.0%)]\t Train Loss: 0.25520753860473633\n",
            "Train epoch: 10, [6400 / 60000(10.666666666666666%)]\t Train Loss: 0.25788381695747375\n",
            "Train epoch: 10, [12800 / 60000(21.333333333333332%)]\t Train Loss: 0.26373615860939026\n",
            "Train epoch: 10, [19200 / 60000(32.0%)]\t Train Loss: 0.2800130248069763\n",
            "Train epoch: 10, [25600 / 60000(42.666666666666664%)]\t Train Loss: 0.3136974275112152\n",
            "Train epoch: 10, [32000 / 60000(53.333333333333336%)]\t Train Loss: 0.3790300786495209\n",
            "Train epoch: 10, [38400 / 60000(64.0%)]\t Train Loss: 0.09705459326505661\n",
            "Train epoch: 10, [44800 / 60000(74.66666666666667%)]\t Train Loss: 0.24894729256629944\n",
            "Train epoch: 10, [51200 / 60000(85.33333333333333%)]\t Train Loss: 0.22890011966228485\n",
            "Train epoch: 10, [57600 / 60000(96.0%)]\t Train Loss: 0.1892634481191635\n",
            "\n",
            " [Epoch 10] \n",
            "Test Loss: 0.0105,\t Test Accuracy: 90.4100\n",
            "\n"
          ],
          "name": "stdout"
        }
      ]
    },
    {
      "cell_type": "markdown",
      "metadata": {
        "id": "By_rj8lGzm8b"
      },
      "source": [
        "학습 결과 모델의 정확도는 약 90% 정도를 보였다."
      ]
    },
    {
      "cell_type": "markdown",
      "metadata": {
        "id": "FzBN5hCeCMIc"
      },
      "source": [
        "# Deep Learning"
      ]
    },
    {
      "cell_type": "markdown",
      "metadata": {
        "id": "4PJAxSXBCQqf"
      },
      "source": [
        "## 3-4 딥러닝의 발전을 이끈 알고리즘"
      ]
    },
    {
      "cell_type": "markdown",
      "metadata": {
        "id": "MPGy56pjCVdy"
      },
      "source": [
        "### Dropout\n",
        "\n",
        "RandomForest와 비슷하게 적용.\n",
        "\n",
        "일부 columns을 0으로 취급하여 계산함"
      ]
    },
    {
      "cell_type": "code",
      "metadata": {
        "id": "i3-AqRMtytmZ"
      },
      "source": [
        "# dropout 부분만 따로 작승\n",
        "class Net(nn.Module):\n",
        "  def __init__(self):\n",
        "    super(Net,self).__init__()\n",
        "    self.fc1 = nn.Linear(28 * 28, 512)\n",
        "    self.fc2 = nn.Linear(512, 256)\n",
        "    self.fc3 = nn.Linear(256, 10)\n",
        "    self.dropout_prob = 0.5 # 드롭아웃 확률을 0.5\n",
        "\n",
        "  def forward(self, x):\n",
        "    x = x.view(-1, 28 * 28)\n",
        "    x = self.fc1(x)\n",
        "    x = F.sigmoid(x)\n",
        "    x = F.dropout(x, training=self.training, p = self.dropout_prob)\n",
        "    x = self.fc2(x)\n",
        "    x = F.sigmoid(x)\n",
        "    x = F.dropout(x, training=self.training, p= self.dropout_prob)\n",
        "    x = self.fc3(x)\n",
        "    x = F.log_softmax(x, dim=1)\n",
        "\n",
        "    return x"
      ],
      "execution_count": 24,
      "outputs": []
    },
    {
      "cell_type": "code",
      "metadata": {
        "colab": {
          "base_uri": "https://localhost:8080/"
        },
        "id": "--M35n4rC_En",
        "outputId": "a8f8e3d2-2bc3-4662-f4e6-ce17cdfad2d4"
      },
      "source": [
        "# model, optimizer, objective function 설정\n",
        "model = Net().to(DEVICE) # DEVICE 에 할당해 주어야 한다.\n",
        "\n",
        "optimizer = torch.optim.SGD(model.parameters(), lr = 0.01, momentum=0.5) # 옵티마이저 정의 방식에 주의\n",
        "criterion = nn.CrossEntropyLoss() # CrossEntropy를 사용해 계산\n",
        "\n",
        "for Epoch in range(1, EPOCHS + 1):\n",
        "  train(model, train_loader, optimizer, log_interval=200)\n",
        "  test_loss, test_accuracy = evaluate(model, test_loader)\n",
        "  print(f\"\\n [Epoch {Epoch}] \\nTest Loss: {test_loss:.4f},\\t Test Accuracy: {test_accuracy:.4f}\\n\")"
      ],
      "execution_count": 25,
      "outputs": [
        {
          "output_type": "stream",
          "text": [
            "/usr/local/lib/python3.6/dist-packages/torch/nn/functional.py:1639: UserWarning: nn.functional.sigmoid is deprecated. Use torch.sigmoid instead.\n",
            "  warnings.warn(\"nn.functional.sigmoid is deprecated. Use torch.sigmoid instead.\")\n"
          ],
          "name": "stderr"
        },
        {
          "output_type": "stream",
          "text": [
            "Train epoch: 1, [0 / 60000(0.000%)]\t Train Loss: 2.444450616836548\n",
            "Train epoch: 1, [6400 / 60000(10.667%)]\t Train Loss: 2.3370656967163086\n",
            "Train epoch: 1, [12800 / 60000(21.333%)]\t Train Loss: 2.3771824836730957\n",
            "Train epoch: 1, [19200 / 60000(32.000%)]\t Train Loss: 2.3497965335845947\n",
            "Train epoch: 1, [25600 / 60000(42.667%)]\t Train Loss: 2.2855257987976074\n",
            "Train epoch: 1, [32000 / 60000(53.333%)]\t Train Loss: 2.3446109294891357\n",
            "Train epoch: 1, [38400 / 60000(64.000%)]\t Train Loss: 2.3194069862365723\n",
            "Train epoch: 1, [44800 / 60000(74.667%)]\t Train Loss: 2.3182222843170166\n",
            "Train epoch: 1, [51200 / 60000(85.333%)]\t Train Loss: 2.27104115486145\n",
            "Train epoch: 1, [57600 / 60000(96.000%)]\t Train Loss: 2.316202163696289\n",
            "\n",
            " [Epoch 1] \n",
            "Test Loss: 0.0713,\t Test Accuracy: 10.1400\n",
            "\n",
            "Train epoch: 2, [0 / 60000(0.000%)]\t Train Loss: 2.2802820205688477\n",
            "Train epoch: 2, [6400 / 60000(10.667%)]\t Train Loss: 2.2418107986450195\n",
            "Train epoch: 2, [12800 / 60000(21.333%)]\t Train Loss: 2.2613070011138916\n",
            "Train epoch: 2, [19200 / 60000(32.000%)]\t Train Loss: 2.2917253971099854\n",
            "Train epoch: 2, [25600 / 60000(42.667%)]\t Train Loss: 2.242205858230591\n",
            "Train epoch: 2, [32000 / 60000(53.333%)]\t Train Loss: 2.257594585418701\n",
            "Train epoch: 2, [38400 / 60000(64.000%)]\t Train Loss: 2.2230517864227295\n",
            "Train epoch: 2, [44800 / 60000(74.667%)]\t Train Loss: 2.1290223598480225\n",
            "Train epoch: 2, [51200 / 60000(85.333%)]\t Train Loss: 2.121497631072998\n",
            "Train epoch: 2, [57600 / 60000(96.000%)]\t Train Loss: 2.0606882572174072\n",
            "\n",
            " [Epoch 2] \n",
            "Test Loss: 0.0637,\t Test Accuracy: 42.6800\n",
            "\n",
            "Train epoch: 3, [0 / 60000(0.000%)]\t Train Loss: 1.9084696769714355\n",
            "Train epoch: 3, [6400 / 60000(10.667%)]\t Train Loss: 2.031008720397949\n",
            "Train epoch: 3, [12800 / 60000(21.333%)]\t Train Loss: 1.8561735153198242\n",
            "Train epoch: 3, [19200 / 60000(32.000%)]\t Train Loss: 1.9152159690856934\n",
            "Train epoch: 3, [25600 / 60000(42.667%)]\t Train Loss: 1.6505630016326904\n",
            "Train epoch: 3, [32000 / 60000(53.333%)]\t Train Loss: 1.6064488887786865\n",
            "Train epoch: 3, [38400 / 60000(64.000%)]\t Train Loss: 1.5591964721679688\n",
            "Train epoch: 3, [44800 / 60000(74.667%)]\t Train Loss: 1.1891443729400635\n",
            "Train epoch: 3, [51200 / 60000(85.333%)]\t Train Loss: 1.4034662246704102\n",
            "Train epoch: 3, [57600 / 60000(96.000%)]\t Train Loss: 1.4072215557098389\n",
            "\n",
            " [Epoch 3] \n",
            "Test Loss: 0.0379,\t Test Accuracy: 61.4800\n",
            "\n",
            "Train epoch: 4, [0 / 60000(0.000%)]\t Train Loss: 1.3635574579238892\n",
            "Train epoch: 4, [6400 / 60000(10.667%)]\t Train Loss: 1.2451618909835815\n",
            "Train epoch: 4, [12800 / 60000(21.333%)]\t Train Loss: 1.4978841543197632\n",
            "Train epoch: 4, [19200 / 60000(32.000%)]\t Train Loss: 1.3951189517974854\n",
            "Train epoch: 4, [25600 / 60000(42.667%)]\t Train Loss: 1.3631722927093506\n",
            "Train epoch: 4, [32000 / 60000(53.333%)]\t Train Loss: 1.0902514457702637\n",
            "Train epoch: 4, [38400 / 60000(64.000%)]\t Train Loss: 1.0323495864868164\n",
            "Train epoch: 4, [44800 / 60000(74.667%)]\t Train Loss: 1.0472831726074219\n",
            "Train epoch: 4, [51200 / 60000(85.333%)]\t Train Loss: 0.8856961131095886\n",
            "Train epoch: 4, [57600 / 60000(96.000%)]\t Train Loss: 1.2076314687728882\n",
            "\n",
            " [Epoch 4] \n",
            "Test Loss: 0.0274,\t Test Accuracy: 71.3200\n",
            "\n",
            "Train epoch: 5, [0 / 60000(0.000%)]\t Train Loss: 0.9367555379867554\n",
            "Train epoch: 5, [6400 / 60000(10.667%)]\t Train Loss: 1.232385516166687\n",
            "Train epoch: 5, [12800 / 60000(21.333%)]\t Train Loss: 1.1560529470443726\n",
            "Train epoch: 5, [19200 / 60000(32.000%)]\t Train Loss: 1.0771377086639404\n",
            "Train epoch: 5, [25600 / 60000(42.667%)]\t Train Loss: 1.1522101163864136\n",
            "Train epoch: 5, [32000 / 60000(53.333%)]\t Train Loss: 1.0122675895690918\n",
            "Train epoch: 5, [38400 / 60000(64.000%)]\t Train Loss: 0.9848887920379639\n",
            "Train epoch: 5, [44800 / 60000(74.667%)]\t Train Loss: 1.2026821374893188\n",
            "Train epoch: 5, [51200 / 60000(85.333%)]\t Train Loss: 1.007816195487976\n",
            "Train epoch: 5, [57600 / 60000(96.000%)]\t Train Loss: 0.8094325661659241\n",
            "\n",
            " [Epoch 5] \n",
            "Test Loss: 0.0235,\t Test Accuracy: 76.2700\n",
            "\n",
            "Train epoch: 6, [0 / 60000(0.000%)]\t Train Loss: 1.0930290222167969\n",
            "Train epoch: 6, [6400 / 60000(10.667%)]\t Train Loss: 0.846942126750946\n",
            "Train epoch: 6, [12800 / 60000(21.333%)]\t Train Loss: 0.9975242614746094\n",
            "Train epoch: 6, [19200 / 60000(32.000%)]\t Train Loss: 0.7927858829498291\n",
            "Train epoch: 6, [25600 / 60000(42.667%)]\t Train Loss: 0.7094330787658691\n",
            "Train epoch: 6, [32000 / 60000(53.333%)]\t Train Loss: 0.6454134583473206\n",
            "Train epoch: 6, [38400 / 60000(64.000%)]\t Train Loss: 0.8103847503662109\n",
            "Train epoch: 6, [44800 / 60000(74.667%)]\t Train Loss: 0.934623658657074\n",
            "Train epoch: 6, [51200 / 60000(85.333%)]\t Train Loss: 0.765860915184021\n",
            "Train epoch: 6, [57600 / 60000(96.000%)]\t Train Loss: 0.6526185870170593\n",
            "\n",
            " [Epoch 6] \n",
            "Test Loss: 0.0205,\t Test Accuracy: 80.4200\n",
            "\n",
            "Train epoch: 7, [0 / 60000(0.000%)]\t Train Loss: 0.622467041015625\n",
            "Train epoch: 7, [6400 / 60000(10.667%)]\t Train Loss: 0.7323880791664124\n",
            "Train epoch: 7, [12800 / 60000(21.333%)]\t Train Loss: 0.7699305415153503\n",
            "Train epoch: 7, [19200 / 60000(32.000%)]\t Train Loss: 0.9730647802352905\n",
            "Train epoch: 7, [25600 / 60000(42.667%)]\t Train Loss: 0.8232259154319763\n",
            "Train epoch: 7, [32000 / 60000(53.333%)]\t Train Loss: 0.8955214619636536\n",
            "Train epoch: 7, [38400 / 60000(64.000%)]\t Train Loss: 0.6684408783912659\n",
            "Train epoch: 7, [44800 / 60000(74.667%)]\t Train Loss: 0.7982434630393982\n",
            "Train epoch: 7, [51200 / 60000(85.333%)]\t Train Loss: 0.50838303565979\n",
            "Train epoch: 7, [57600 / 60000(96.000%)]\t Train Loss: 0.9010122418403625\n",
            "\n",
            " [Epoch 7] \n",
            "Test Loss: 0.0180,\t Test Accuracy: 82.9500\n",
            "\n",
            "Train epoch: 8, [0 / 60000(0.000%)]\t Train Loss: 0.672203004360199\n",
            "Train epoch: 8, [6400 / 60000(10.667%)]\t Train Loss: 0.900731086730957\n",
            "Train epoch: 8, [12800 / 60000(21.333%)]\t Train Loss: 0.5181422233581543\n",
            "Train epoch: 8, [19200 / 60000(32.000%)]\t Train Loss: 0.7444884181022644\n",
            "Train epoch: 8, [25600 / 60000(42.667%)]\t Train Loss: 0.8098389506340027\n",
            "Train epoch: 8, [32000 / 60000(53.333%)]\t Train Loss: 0.8223903179168701\n",
            "Train epoch: 8, [38400 / 60000(64.000%)]\t Train Loss: 0.4674873352050781\n",
            "Train epoch: 8, [44800 / 60000(74.667%)]\t Train Loss: 0.9068546891212463\n",
            "Train epoch: 8, [51200 / 60000(85.333%)]\t Train Loss: 0.469334214925766\n",
            "Train epoch: 8, [57600 / 60000(96.000%)]\t Train Loss: 1.019118070602417\n",
            "\n",
            " [Epoch 8] \n",
            "Test Loss: 0.0160,\t Test Accuracy: 84.6500\n",
            "\n",
            "Train epoch: 9, [0 / 60000(0.000%)]\t Train Loss: 0.5410428047180176\n",
            "Train epoch: 9, [6400 / 60000(10.667%)]\t Train Loss: 0.7165429592132568\n",
            "Train epoch: 9, [12800 / 60000(21.333%)]\t Train Loss: 0.8030120134353638\n",
            "Train epoch: 9, [19200 / 60000(32.000%)]\t Train Loss: 0.7014485597610474\n",
            "Train epoch: 9, [25600 / 60000(42.667%)]\t Train Loss: 0.743306040763855\n",
            "Train epoch: 9, [32000 / 60000(53.333%)]\t Train Loss: 0.9547897577285767\n",
            "Train epoch: 9, [38400 / 60000(64.000%)]\t Train Loss: 0.6403306126594543\n",
            "Train epoch: 9, [44800 / 60000(74.667%)]\t Train Loss: 0.6526402831077576\n",
            "Train epoch: 9, [51200 / 60000(85.333%)]\t Train Loss: 1.0500071048736572\n",
            "Train epoch: 9, [57600 / 60000(96.000%)]\t Train Loss: 0.4219162166118622\n",
            "\n",
            " [Epoch 9] \n",
            "Test Loss: 0.0146,\t Test Accuracy: 86.1200\n",
            "\n",
            "Train epoch: 10, [0 / 60000(0.000%)]\t Train Loss: 0.6061596870422363\n",
            "Train epoch: 10, [6400 / 60000(10.667%)]\t Train Loss: 0.5842543244361877\n",
            "Train epoch: 10, [12800 / 60000(21.333%)]\t Train Loss: 0.5626204013824463\n",
            "Train epoch: 10, [19200 / 60000(32.000%)]\t Train Loss: 0.6639286875724792\n",
            "Train epoch: 10, [25600 / 60000(42.667%)]\t Train Loss: 0.6640944480895996\n",
            "Train epoch: 10, [32000 / 60000(53.333%)]\t Train Loss: 0.31690099835395813\n",
            "Train epoch: 10, [38400 / 60000(64.000%)]\t Train Loss: 0.5065038204193115\n",
            "Train epoch: 10, [44800 / 60000(74.667%)]\t Train Loss: 0.5466076135635376\n",
            "Train epoch: 10, [51200 / 60000(85.333%)]\t Train Loss: 0.6467966437339783\n",
            "Train epoch: 10, [57600 / 60000(96.000%)]\t Train Loss: 0.4947395622730255\n",
            "\n",
            " [Epoch 10] \n",
            "Test Loss: 0.0137,\t Test Accuracy: 86.9200\n",
            "\n"
          ],
          "name": "stdout"
        }
      ]
    },
    {
      "cell_type": "code",
      "metadata": {
        "id": "Nit4k5-HFXIU"
      },
      "source": [
        ""
      ],
      "execution_count": null,
      "outputs": []
    }
  ]
}