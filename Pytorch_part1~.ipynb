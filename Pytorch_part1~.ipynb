{
  "nbformat": 4,
  "nbformat_minor": 0,
  "metadata": {
    "colab": {
      "name": "Pytorch_part1~.ipynb",
      "provenance": [],
      "collapsed_sections": [],
      "toc_visible": true,
      "authorship_tag": "ABX9TyPBx3clnrQ8SDtc6GbArjdY",
      "include_colab_link": true
    },
    "kernelspec": {
      "name": "python3",
      "display_name": "Python 3"
    }
  },
  "cells": [
    {
      "cell_type": "markdown",
      "metadata": {
        "id": "view-in-github",
        "colab_type": "text"
      },
      "source": [
        "<a href=\"https://colab.research.google.com/github/YMGYM/python_deeplearning_pytorch/blob/main/Pytorch_part1~.ipynb\" target=\"_parent\"><img src=\"https://colab.research.google.com/assets/colab-badge.svg\" alt=\"Open In Colab\"/></a>"
      ]
    },
    {
      "cell_type": "markdown",
      "metadata": {
        "id": "8h4T2o-QlVbI"
      },
      "source": [
        "# Introduction\n",
        "\n",
        "이 노트북은 `파이썬 딥러닝 파이토치` 책의 연습코드입니다.\n",
        "\n",
        "코드는 [이곳](https://github.com/Justin-A/DeepLearning101) 에서 전문을 확인 가능합니다.\n",
        "\n",
        "이 노트북은 1장~ 내용을 다루고 있습니다."
      ]
    },
    {
      "cell_type": "markdown",
      "metadata": {
        "id": "i5bywaDRlJlq"
      },
      "source": [
        "# 파이토치 기초\n",
        "\n",
        "## 환경 구축 및 토치 설치\n",
        "\n",
        "Google Colab을 통해 진행하기 때문에 이 부분은 생략하겠다.\n",
        "\n",
        "Colab에는 Torch가 이미 설치되어 있다."
      ]
    },
    {
      "cell_type": "code",
      "metadata": {
        "colab": {
          "base_uri": "https://localhost:8080/",
          "height": 35
        },
        "id": "7OBQ7gobmUVN",
        "outputId": "23dc89df-6b81-4085-c565-4ade3b071bad"
      },
      "source": [
        "import torch\n",
        "\n",
        "torch.__version__ # 토치의 버전을 확인하는 코드"
      ],
      "execution_count": 2,
      "outputs": [
        {
          "output_type": "execute_result",
          "data": {
            "application/vnd.google.colaboratory.intrinsic+json": {
              "type": "string"
            },
            "text/plain": [
              "'1.7.0+cu101'"
            ]
          },
          "metadata": {
            "tags": []
          },
          "execution_count": 2
        }
      ]
    },
    {
      "cell_type": "markdown",
      "metadata": {
        "id": "0rqemmFWmV28"
      },
      "source": [
        "## 1 - 4 반드시 알아야 하는 파이토치 스킬\n",
        "\n",
        "### 1) 텐서\n",
        "\n",
        "#### Scalar\n",
        "상수값. (차원이 없는 값)\n",
        "\n",
        "파이썬의 기본연산자와 `torch` 메소드를 통해 사용이 가능하다."
      ]
    },
    {
      "cell_type": "code",
      "metadata": {
        "colab": {
          "base_uri": "https://localhost:8080/"
        },
        "id": "fU03xCFNm1-r",
        "outputId": "12f80721-e420-4dd6-e240-26d784e2c342"
      },
      "source": [
        "import torch\n",
        "scalar1 = torch.tensor([1.])\n",
        "scalar2 = torch.tensor([3.])\n",
        "\n",
        "print(scalar1)\n",
        "print(scalar2)"
      ],
      "execution_count": 3,
      "outputs": [
        {
          "output_type": "stream",
          "text": [
            "tensor([1.])\n",
            "tensor([3.])\n"
          ],
          "name": "stdout"
        }
      ]
    },
    {
      "cell_type": "code",
      "metadata": {
        "colab": {
          "base_uri": "https://localhost:8080/"
        },
        "id": "1KGAEDvenYet",
        "outputId": "126a653f-76a3-41ef-d780-c5b2a651878d"
      },
      "source": [
        "# 사칙연산자\n",
        "add_scalar = scalar1 + scalar2\n",
        "print(add_scalar)\n",
        "\n",
        "sub_scalar = scalar1 - scalar2\n",
        "print(sub_scalar)\n",
        "\n",
        "mul_scalar = scalar1 * scalar2\n",
        "print(mul_scalar)\n",
        "\n",
        "div_scalar = scalar1 / scalar2\n",
        "print(div_scalar)"
      ],
      "execution_count": 4,
      "outputs": [
        {
          "output_type": "stream",
          "text": [
            "tensor([4.])\n",
            "tensor([-2.])\n",
            "tensor([3.])\n",
            "tensor([0.3333])\n"
          ],
          "name": "stdout"
        }
      ]
    },
    {
      "cell_type": "code",
      "metadata": {
        "colab": {
          "base_uri": "https://localhost:8080/"
        },
        "id": "09wt1ihUnrYm",
        "outputId": "b0e58ccd-db09-4542-af58-4d3b69a6a62f"
      },
      "source": [
        "# torch 모듈의 메소드로 연산 위와 결과가 같다.\n",
        "print(torch.add(scalar1, scalar2))\n",
        "print(torch.sub(scalar1, scalar2))\n",
        "print(torch.mul(scalar1, scalar2))\n",
        "print(torch.div(scalar1, scalar2))"
      ],
      "execution_count": 5,
      "outputs": [
        {
          "output_type": "stream",
          "text": [
            "tensor([4.])\n",
            "tensor([-2.])\n",
            "tensor([3.])\n",
            "tensor([0.3333])\n"
          ],
          "name": "stdout"
        }
      ]
    },
    {
      "cell_type": "markdown",
      "metadata": {
        "id": "K_mQPLKTn4NY"
      },
      "source": [
        "#### Vector\n",
        "\n",
        "값을 2개 이상의 수치로 표현하는 방법\n",
        "\n",
        "스칼라 사칙연산과 동일한 방법으로 연산이 가능하나, 사칙연산의 경우 element-wise 하게 계산됨"
      ]
    },
    {
      "cell_type": "code",
      "metadata": {
        "colab": {
          "base_uri": "https://localhost:8080/"
        },
        "id": "KsEmtxrroVsM",
        "outputId": "3f7d2d8d-749c-4573-8e8f-83f7f4a58152"
      },
      "source": [
        " # 벡터 정의\n",
        " vector1 = torch.tensor([1., 2., 3.])\n",
        " vector2 = torch.tensor([4., 5., 6.])\n",
        "\n",
        " print(vector1)\n",
        " print(vector2)"
      ],
      "execution_count": 6,
      "outputs": [
        {
          "output_type": "stream",
          "text": [
            "tensor([1., 2., 3.])\n",
            "tensor([4., 5., 6.])\n"
          ],
          "name": "stdout"
        }
      ]
    },
    {
      "cell_type": "code",
      "metadata": {
        "colab": {
          "base_uri": "https://localhost:8080/"
        },
        "id": "RL7MyiDmonHN",
        "outputId": "176e5586-56ff-4e35-f4b5-0db9eec160b2"
      },
      "source": [
        "# 벡터와 사칙연산자\n",
        "add_vector = vector1 + vector2\n",
        "print(add_vector)\n",
        "\n",
        "sub_vector = vector1 - vector2\n",
        "print(sub_vector)\n",
        "\n",
        "mul_vector = vector1 * vector2 # element-wise 하게 계산\n",
        "print(mul_vector)\n",
        "\n",
        "div_vector = vector1 / vector2 # element-wise 하게 계산\n",
        "print(div_vector)"
      ],
      "execution_count": 7,
      "outputs": [
        {
          "output_type": "stream",
          "text": [
            "tensor([5., 7., 9.])\n",
            "tensor([-3., -3., -3.])\n",
            "tensor([ 4., 10., 18.])\n",
            "tensor([0.2500, 0.4000, 0.5000])\n"
          ],
          "name": "stdout"
        }
      ]
    },
    {
      "cell_type": "code",
      "metadata": {
        "colab": {
          "base_uri": "https://localhost:8080/"
        },
        "id": "gRCoYJYMpEiZ",
        "outputId": "f9603fd7-2e4b-42ad-ee18-1ef5c0b24ffd"
      },
      "source": [
        "# 내장 메소드를 사용한 연산\n",
        "print(torch.add(vector1, vector2))\n",
        "print(torch.sub(vector1, vector2))\n",
        "print(torch.mul(vector1, vector2)) # element-wise 하게 계산\n",
        "print(torch.div(vector1, vector2)) # element-wise 하게 계산\n",
        "\n",
        "# 벡터 간 내적은 다음과 같이 계산\n",
        "print(torch.dot(vector1, vector2)) "
      ],
      "execution_count": 8,
      "outputs": [
        {
          "output_type": "stream",
          "text": [
            "tensor([5., 7., 9.])\n",
            "tensor([-3., -3., -3.])\n",
            "tensor([ 4., 10., 18.])\n",
            "tensor([0.2500, 0.4000, 0.5000])\n",
            "tensor(32.)\n"
          ],
          "name": "stdout"
        }
      ]
    },
    {
      "cell_type": "markdown",
      "metadata": {
        "id": "iZGwYbpKpdz-"
      },
      "source": [
        "#### Matrix\n",
        "\n",
        "행렬은 2개 이상의 벡터값을 통합해 구성된 값이다.\n",
        "\n",
        "사칙 연산 또한 연산자와 내장 메소드로 구현이 가능하며, element-wise하게 계산된다."
      ]
    },
    {
      "cell_type": "code",
      "metadata": {
        "colab": {
          "base_uri": "https://localhost:8080/"
        },
        "id": "YiHlHmrlp0bc",
        "outputId": "bd9a8830-d390-4d1a-dcd7-324dced42a54"
      },
      "source": [
        "# 행렬 선언\n",
        "matrix1 = torch.tensor([[1.,2.],[3.,4.]])\n",
        "matrix2 = torch.tensor([[5.,6.],[7.,8.]])\n",
        "\n",
        "print(matrix1)\n",
        "print(matrix2)"
      ],
      "execution_count": 9,
      "outputs": [
        {
          "output_type": "stream",
          "text": [
            "tensor([[1., 2.],\n",
            "        [3., 4.]])\n",
            "tensor([[5., 6.],\n",
            "        [7., 8.]])\n"
          ],
          "name": "stdout"
        }
      ]
    },
    {
      "cell_type": "code",
      "metadata": {
        "colab": {
          "base_uri": "https://localhost:8080/"
        },
        "id": "fmY3fti6qBVS",
        "outputId": "ebceccc1-7fe4-45ce-dc8f-3d6a3d004533"
      },
      "source": [
        "# 행렬 간 사칙연산\n",
        "add_matrix = matrix1 + matrix2\n",
        "print(add_matrix)\n",
        "\n",
        "sub_matrix = matrix1 - matrix2\n",
        "print(sub_matrix)\n",
        "\n",
        "mul_matrix = matrix1 * matrix2 # element-wise\n",
        "print(mul_matrix)\n",
        "\n",
        "div_matrix = matrix1 / matrix2 # element-wise\n",
        "print(div_matrix)"
      ],
      "execution_count": 11,
      "outputs": [
        {
          "output_type": "stream",
          "text": [
            "tensor([[ 6.,  8.],\n",
            "        [10., 12.]])\n",
            "tensor([[-4., -4.],\n",
            "        [-4., -4.]])\n",
            "tensor([[ 5., 12.],\n",
            "        [21., 32.]])\n",
            "tensor([[0.2000, 0.3333],\n",
            "        [0.4286, 0.5000]])\n"
          ],
          "name": "stdout"
        }
      ]
    },
    {
      "cell_type": "code",
      "metadata": {
        "colab": {
          "base_uri": "https://localhost:8080/"
        },
        "id": "AQmsIeRqqjIo",
        "outputId": "1df7726f-9d44-4b5a-b259-cc4a318cf74b"
      },
      "source": [
        "# 내장 메소드를 사용한 연산과정\n",
        "print(torch.add(matrix1, matrix2))\n",
        "print(torch.sub(matrix1, matrix2))\n",
        "print(torch.mul(matrix1, matrix2)) # element-wise\n",
        "print(torch.div(matrix1, matrix2)) # element-wise\n",
        "\n",
        "# 행렬의 곱연산 실행\n",
        "print(torch.matmul(matrix1, matrix2))"
      ],
      "execution_count": 12,
      "outputs": [
        {
          "output_type": "stream",
          "text": [
            "tensor([[ 6.,  8.],\n",
            "        [10., 12.]])\n",
            "tensor([[-4., -4.],\n",
            "        [-4., -4.]])\n",
            "tensor([[ 5., 12.],\n",
            "        [21., 32.]])\n",
            "tensor([[0.2000, 0.3333],\n",
            "        [0.4286, 0.5000]])\n",
            "tensor([[19., 22.],\n",
            "        [43., 50.]])\n"
          ],
          "name": "stdout"
        }
      ]
    },
    {
      "cell_type": "code",
      "metadata": {
        "colab": {
          "base_uri": "https://localhost:8080/",
          "height": 181
        },
        "id": "CX1DSDbarfex",
        "outputId": "b7df159c-26f1-4c2e-bba2-bcf2b766edda"
      },
      "source": [
        "# TF에서는 Dot연산자를 사용해서도 되던데 토치도 가능할까?\n",
        "torch.dot(matrix1, matrix2)"
      ],
      "execution_count": 13,
      "outputs": [
        {
          "output_type": "error",
          "ename": "RuntimeError",
          "evalue": "ignored",
          "traceback": [
            "\u001b[0;31m---------------------------------------------------------------------------\u001b[0m",
            "\u001b[0;31mRuntimeError\u001b[0m                              Traceback (most recent call last)",
            "\u001b[0;32m<ipython-input-13-c88aed1ccc29>\u001b[0m in \u001b[0;36m<module>\u001b[0;34m()\u001b[0m\n\u001b[1;32m      1\u001b[0m \u001b[0;31m# TF에서는 Dot연산자를 사용해서도 되던데 토치도 가능할까?\u001b[0m\u001b[0;34m\u001b[0m\u001b[0;34m\u001b[0m\u001b[0;34m\u001b[0m\u001b[0m\n\u001b[0;32m----> 2\u001b[0;31m \u001b[0mtorch\u001b[0m\u001b[0;34m.\u001b[0m\u001b[0mdot\u001b[0m\u001b[0;34m(\u001b[0m\u001b[0mmatrix1\u001b[0m\u001b[0;34m,\u001b[0m \u001b[0mmatrix2\u001b[0m\u001b[0;34m)\u001b[0m\u001b[0;34m\u001b[0m\u001b[0;34m\u001b[0m\u001b[0m\n\u001b[0m",
            "\u001b[0;31mRuntimeError\u001b[0m: 1D tensors expected, but got 2D and 2D tensors"
          ]
        }
      ]
    },
    {
      "cell_type": "markdown",
      "metadata": {
        "id": "9CtAiIJ3rmsr"
      },
      "source": [
        "안된다..ㅋㅋㅋ\n",
        "\n",
        "Torch에서는 2차원 이상의 데이터는 `torch.matmul`을 사용할 필요가 있어 보인다\n",
        "\n",
        "#### Tensor\n",
        "\n",
        "텐서는 2차원 이상의 배열이라 표현.\n",
        "\n",
        "마찬가지로 사칙연산자와 내장 메소드를 사용해 계산이 가능하며, element-wise 하게 계산된다."
      ]
    },
    {
      "cell_type": "code",
      "metadata": {
        "colab": {
          "base_uri": "https://localhost:8080/"
        },
        "id": "QaD9D5h8rrHj",
        "outputId": "937954ed-c444-4979-e505-feb244c6d30c"
      },
      "source": [
        "tensor1 = torch.tensor([[[1.,2.],[3.,4.]], [[5.,6.],[7.,8.]]])\n",
        "print(tensor1)\n",
        "\n",
        "print(tensor1.shape) # numpy의 shape메소드를 확인하는 게 아니다.."
      ],
      "execution_count": 15,
      "outputs": [
        {
          "output_type": "stream",
          "text": [
            "tensor([[[1., 2.],\n",
            "         [3., 4.]],\n",
            "\n",
            "        [[5., 6.],\n",
            "         [7., 8.]]])\n",
            "torch.Size([2, 2, 2])\n"
          ],
          "name": "stdout"
        }
      ]
    },
    {
      "cell_type": "code",
      "metadata": {
        "colab": {
          "base_uri": "https://localhost:8080/"
        },
        "id": "hT0wA3R0sP6r",
        "outputId": "c404f2f8-f2a9-43e7-9b9c-7bc3016988d1"
      },
      "source": [
        "tensor2 = torch.tensor([[[9.,10.],[11.,12.]],[[13.,14.], [15.,16.]]])\n",
        "print(tensor2)"
      ],
      "execution_count": 16,
      "outputs": [
        {
          "output_type": "stream",
          "text": [
            "tensor([[[ 9., 10.],\n",
            "         [11., 12.]],\n",
            "\n",
            "        [[13., 14.],\n",
            "         [15., 16.]]])\n"
          ],
          "name": "stdout"
        }
      ]
    },
    {
      "cell_type": "code",
      "metadata": {
        "colab": {
          "base_uri": "https://localhost:8080/"
        },
        "id": "aVaVnS7GskI8",
        "outputId": "bbf0d2a1-a181-4f0f-81db-9aa6a377b894"
      },
      "source": [
        "# 사칙연산자를 사용한 연산\n",
        "add_tensor = tensor1 + tensor2\n",
        "print(add_tensor)\n",
        "\n",
        "sub_tensor = tensor1 - tensor2\n",
        "print(sub_tensor)\n",
        "\n",
        "mul_tensor = tensor1 * tensor2 # element-wise 하게 계산됨\n",
        "print(mul_tensor)\n",
        "\n",
        "div_tensor = tensor1 / tensor2 # element-wise 하게 계산됨\n",
        "print(div_tensor)"
      ],
      "execution_count": 17,
      "outputs": [
        {
          "output_type": "stream",
          "text": [
            "tensor([[[10., 12.],\n",
            "         [14., 16.]],\n",
            "\n",
            "        [[18., 20.],\n",
            "         [22., 24.]]])\n",
            "tensor([[[-8., -8.],\n",
            "         [-8., -8.]],\n",
            "\n",
            "        [[-8., -8.],\n",
            "         [-8., -8.]]])\n",
            "tensor([[[  9.,  20.],\n",
            "         [ 33.,  48.]],\n",
            "\n",
            "        [[ 65.,  84.],\n",
            "         [105., 128.]]])\n",
            "tensor([[[0.1111, 0.2000],\n",
            "         [0.2727, 0.3333]],\n",
            "\n",
            "        [[0.3846, 0.4286],\n",
            "         [0.4667, 0.5000]]])\n"
          ],
          "name": "stdout"
        }
      ]
    },
    {
      "cell_type": "code",
      "metadata": {
        "colab": {
          "base_uri": "https://localhost:8080/"
        },
        "id": "P5mjhte3tI1v",
        "outputId": "4b292dfd-a7fb-4281-f84e-598b4281857e"
      },
      "source": [
        "# 내장 연산자를 사용해 계산\n",
        "print(torch.add(tensor1, tensor2))\n",
        "print(torch.sub(tensor1, tensor2))\n",
        "print(torch.mul(tensor1, tensor2)) # element-wise\n",
        "print(torch.div(tensor1, tensor2)) # element-wise\n",
        "\n",
        "# 내적합\n",
        "multed_tensor = torch.matmul(tensor1, tensor2)\n",
        "print(multed_tensor)\n",
        "\n",
        "print(multed_tensor.shape) # shape 확인"
      ],
      "execution_count": 18,
      "outputs": [
        {
          "output_type": "stream",
          "text": [
            "tensor([[[10., 12.],\n",
            "         [14., 16.]],\n",
            "\n",
            "        [[18., 20.],\n",
            "         [22., 24.]]])\n",
            "tensor([[[-8., -8.],\n",
            "         [-8., -8.]],\n",
            "\n",
            "        [[-8., -8.],\n",
            "         [-8., -8.]]])\n",
            "tensor([[[  9.,  20.],\n",
            "         [ 33.,  48.]],\n",
            "\n",
            "        [[ 65.,  84.],\n",
            "         [105., 128.]]])\n",
            "tensor([[[0.1111, 0.2000],\n",
            "         [0.2727, 0.3333]],\n",
            "\n",
            "        [[0.3846, 0.4286],\n",
            "         [0.4667, 0.5000]]])\n",
            "tensor([[[ 31.,  34.],\n",
            "         [ 71.,  78.]],\n",
            "\n",
            "        [[155., 166.],\n",
            "         [211., 226.]]])\n",
            "torch.Size([2, 2, 2])\n"
          ],
          "name": "stdout"
        }
      ]
    },
    {
      "cell_type": "markdown",
      "metadata": {
        "id": "da4nIh5ptis4"
      },
      "source": [
        "3차원 텐서의 계산 과정은 다음과 같다\n",
        "```plain\n",
        "[\n",
        "  [\n",
        "    [1*9  + 2*11] [1*10 + 2*12]\n",
        "    [5*13 + 6*15] [5*14 + 6*16]\n",
        "                                ]\n",
        "  [\n",
        "    [3*9  + 4*11] [3*10 + 4*12]\n",
        "    [7*13 + 8*15] [7*14 + 8*16]\n",
        "                                ]\n",
        "                                  ]\n",
        "```\n",
        "\n",
        "앞 차원을 그대로 두고 하위 2개의 차원의 matmul이다."
      ]
    },
    {
      "cell_type": "markdown",
      "metadata": {
        "id": "y-08AFzhv1jX"
      },
      "source": [
        "#### AutoGrad"
      ]
    },
    {
      "cell_type": "code",
      "metadata": {
        "colab": {
          "base_uri": "https://localhost:8080/"
        },
        "id": "W86GBO_uwwVZ",
        "outputId": "2ca01caf-3904-40f3-828b-21f312a5151d"
      },
      "source": [
        "# Devise 설정\n",
        "import torch\n",
        "\n",
        "if torch.cuda.is_available():\n",
        "  print(\"use cuda\")\n",
        "  DEVICE = torch.device('cuda')\n",
        "else:\n",
        "  print(\"use cpu\")\n",
        "  DEVICE = torch.device('cpu')"
      ],
      "execution_count": 2,
      "outputs": [
        {
          "output_type": "stream",
          "text": [
            "use cpu\n"
          ],
          "name": "stdout"
        }
      ]
    },
    {
      "cell_type": "code",
      "metadata": {
        "id": "zsTmJ9ehxL5s"
      },
      "source": [
        "# hyperparameter 설정\n",
        "BATCH_SIZE = 64\n",
        "INPUT_SIZE = 1000 \n",
        "HIDDEN_SIZE = 100 # (1000, 100) 짜리 히든 레이어와 (100,10) 짜리 히든레이어 생성을 위함\n",
        "OUTPUT_SIZE = 10"
      ],
      "execution_count": 4,
      "outputs": []
    },
    {
      "cell_type": "code",
      "metadata": {
        "id": "-gIFSM2Bxdxl"
      },
      "source": [
        "# 레이어 생성\n",
        "x = torch.randn(BATCH_SIZE, INPUT_SIZE, device=DEVICE, dtype=torch.float, requires_grad=False) # 단순한 input이므로 gradient 가 필요 없다.\n",
        "y = torch.randn(BATCH_SIZE, OUTPUT_SIZE, device=DEVICE, dtype=torch.float, requires_grad=False) # 단순한 output이므로 gradient 가 필요 없다.\n",
        "\n",
        "w1 = torch.randn(INPUT_SIZE, HIDDEN_SIZE, device=DEVICE, dtype=torch.float, requires_grad=True) # 가중치 갱신을 위해\n",
        "w2 = torch.randn(HIDDEN_SIZE, OUTPUT_SIZE, device=DEVICE, dtype=torch.float, requires_grad=True)"
      ],
      "execution_count": 10,
      "outputs": []
    },
    {
      "cell_type": "code",
      "metadata": {
        "colab": {
          "base_uri": "https://localhost:8080/"
        },
        "id": "XKOQ6xsWyRwF",
        "outputId": "5036aef2-5e7c-4715-8883-fa4e350a1b46"
      },
      "source": [
        "# 학습?\n",
        "learning_rate = 1e-6\n",
        "for t in range(1, 501):\n",
        "  y_pred = x.mm(w1).clamp(min = 0).mm(w2) # 순전파 계산. clamp는 reLU와 같은 역할을 하는듯 (비선형 활성화 함수)\n",
        "\n",
        "  loss = (y_pred - y).pow(2).sum() # MSE 오차.\n",
        "\n",
        "  if t % 100 == 0:\n",
        "    print(\"Iteration: \", t, \"\\t\", \"Loss: \", loss.item()) # 100번 반복 시 loss값 모니터링\n",
        "  loss.backward() # 각 파라미터 값에 대해 Gradient를 구하고 역전파를 진행할 수 있게 결과를 반환.\n",
        "\n",
        "  with torch.no_grad(): # 해당 블록을 history tracking 하지 않겠다는 뜻이다.\n",
        "    w1 -= learning_rate * w1.grad # optimization진행\n",
        "    w2 -= learning_rate * w2.grad\n",
        "\n",
        "    w1.grad.zero_() # Gradient값을 다시 0으로 설정해 둠.\n",
        "    w2.grad.zero_()"
      ],
      "execution_count": 18,
      "outputs": [
        {
          "output_type": "stream",
          "text": [
            "Iteration:  100 \t Loss:  0.000153534158016555\n",
            "Iteration:  200 \t Loss:  5.0981157983187586e-05\n",
            "Iteration:  300 \t Loss:  2.521771784813609e-05\n",
            "Iteration:  400 \t Loss:  1.6163408872671425e-05\n",
            "Iteration:  500 \t Loss:  1.1777397958212532e-05\n"
          ],
          "name": "stdout"
        }
      ]
    },
    {
      "cell_type": "code",
      "metadata": {
        "id": "bVE1NUGs0pVi"
      },
      "source": [
        "y - y_pred # 상당히 작은 수들이 출력되는 것을 확인할 수 있다."
      ],
      "execution_count": null,
      "outputs": []
    },
    {
      "cell_type": "code",
      "metadata": {
        "colab": {
          "base_uri": "https://localhost:8080/"
        },
        "id": "zYVfiar-0qil",
        "outputId": "bb79d356-fcfb-4986-a07a-348b16524fee"
      },
      "source": [
        "w1.grad # gradient를 호출하는 메소드이다..."
      ],
      "execution_count": 15,
      "outputs": [
        {
          "output_type": "execute_result",
          "data": {
            "text/plain": [
              "tensor([[0., 0., 0.,  ..., 0., 0., 0.],\n",
              "        [0., 0., 0.,  ..., 0., 0., 0.],\n",
              "        [0., 0., 0.,  ..., 0., 0., 0.],\n",
              "        ...,\n",
              "        [0., 0., 0.,  ..., 0., 0., 0.],\n",
              "        [0., 0., 0.,  ..., 0., 0., 0.],\n",
              "        [0., 0., 0.,  ..., 0., 0., 0.]])"
            ]
          },
          "metadata": {
            "tags": []
          },
          "execution_count": 15
        }
      ]
    },
    {
      "cell_type": "code",
      "metadata": {
        "id": "_IwK8NHu1Cn6"
      },
      "source": [
        "y.grad # gradient를 설정하지 않으면 None값이 반환되는 듯 하다."
      ],
      "execution_count": 17,
      "outputs": []
    },
    {
      "cell_type": "code",
      "metadata": {
        "id": "BcnWNpo61HXy"
      },
      "source": [
        ""
      ],
      "execution_count": null,
      "outputs": []
    }
  ]
}