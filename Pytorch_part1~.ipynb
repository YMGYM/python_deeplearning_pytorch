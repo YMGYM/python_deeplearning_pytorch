{
  "nbformat": 4,
  "nbformat_minor": 0,
  "metadata": {
    "colab": {
      "name": "Pytorch_part1~.ipynb",
      "provenance": [],
      "collapsed_sections": [],
      "toc_visible": true,
      "authorship_tag": "ABX9TyNnE0H4pijJz6/irBumRHtV",
      "include_colab_link": true
    },
    "kernelspec": {
      "display_name": "Python 3",
      "name": "python3"
    },
    "widgets": {
      "application/vnd.jupyter.widget-state+json": {
        "cf05d20ec04644f2996b8fcd2dcf1555": {
          "model_module": "@jupyter-widgets/controls",
          "model_name": "HBoxModel",
          "state": {
            "_dom_classes": [],
            "_model_module": "@jupyter-widgets/controls",
            "_model_module_version": "1.5.0",
            "_model_name": "HBoxModel",
            "_view_count": null,
            "_view_module": "@jupyter-widgets/controls",
            "_view_module_version": "1.5.0",
            "_view_name": "HBoxView",
            "box_style": "",
            "children": [
              "IPY_MODEL_b23382337db843bca4ca38b63a28b489",
              "IPY_MODEL_e0ce33fb468d422fa030dfc218e333fe"
            ],
            "layout": "IPY_MODEL_95cf4b27383649a3a9824999fa4bb091"
          }
        },
        "b23382337db843bca4ca38b63a28b489": {
          "model_module": "@jupyter-widgets/controls",
          "model_name": "FloatProgressModel",
          "state": {
            "_dom_classes": [],
            "_model_module": "@jupyter-widgets/controls",
            "_model_module_version": "1.5.0",
            "_model_name": "FloatProgressModel",
            "_view_count": null,
            "_view_module": "@jupyter-widgets/controls",
            "_view_module_version": "1.5.0",
            "_view_name": "ProgressView",
            "bar_style": "info",
            "description": "",
            "description_tooltip": null,
            "layout": "IPY_MODEL_c762289bb6fb4d12bbd559c638de4241",
            "max": 1,
            "min": 0,
            "orientation": "horizontal",
            "style": "IPY_MODEL_e9acc48448b9412a82d87991b684a2a8",
            "value": 1
          }
        },
        "e0ce33fb468d422fa030dfc218e333fe": {
          "model_module": "@jupyter-widgets/controls",
          "model_name": "HTMLModel",
          "state": {
            "_dom_classes": [],
            "_model_module": "@jupyter-widgets/controls",
            "_model_module_version": "1.5.0",
            "_model_name": "HTMLModel",
            "_view_count": null,
            "_view_module": "@jupyter-widgets/controls",
            "_view_module_version": "1.5.0",
            "_view_name": "HTMLView",
            "description": "",
            "description_tooltip": null,
            "layout": "IPY_MODEL_45734ace402049c1a62c25cc89bfaba7",
            "placeholder": "​",
            "style": "IPY_MODEL_826c7303596f4e42891f046fe5f6b0d2",
            "value": " 9920512/? [00:20&lt;00:00, 783204.24it/s]"
          }
        },
        "95cf4b27383649a3a9824999fa4bb091": {
          "model_module": "@jupyter-widgets/base",
          "model_name": "LayoutModel",
          "state": {
            "_model_module": "@jupyter-widgets/base",
            "_model_module_version": "1.2.0",
            "_model_name": "LayoutModel",
            "_view_count": null,
            "_view_module": "@jupyter-widgets/base",
            "_view_module_version": "1.2.0",
            "_view_name": "LayoutView",
            "align_content": null,
            "align_items": null,
            "align_self": null,
            "border": null,
            "bottom": null,
            "display": null,
            "flex": null,
            "flex_flow": null,
            "grid_area": null,
            "grid_auto_columns": null,
            "grid_auto_flow": null,
            "grid_auto_rows": null,
            "grid_column": null,
            "grid_gap": null,
            "grid_row": null,
            "grid_template_areas": null,
            "grid_template_columns": null,
            "grid_template_rows": null,
            "height": null,
            "justify_content": null,
            "justify_items": null,
            "left": null,
            "margin": null,
            "max_height": null,
            "max_width": null,
            "min_height": null,
            "min_width": null,
            "object_fit": null,
            "object_position": null,
            "order": null,
            "overflow": null,
            "overflow_x": null,
            "overflow_y": null,
            "padding": null,
            "right": null,
            "top": null,
            "visibility": null,
            "width": null
          }
        },
        "c762289bb6fb4d12bbd559c638de4241": {
          "model_module": "@jupyter-widgets/base",
          "model_name": "LayoutModel",
          "state": {
            "_model_module": "@jupyter-widgets/base",
            "_model_module_version": "1.2.0",
            "_model_name": "LayoutModel",
            "_view_count": null,
            "_view_module": "@jupyter-widgets/base",
            "_view_module_version": "1.2.0",
            "_view_name": "LayoutView",
            "align_content": null,
            "align_items": null,
            "align_self": null,
            "border": null,
            "bottom": null,
            "display": null,
            "flex": null,
            "flex_flow": null,
            "grid_area": null,
            "grid_auto_columns": null,
            "grid_auto_flow": null,
            "grid_auto_rows": null,
            "grid_column": null,
            "grid_gap": null,
            "grid_row": null,
            "grid_template_areas": null,
            "grid_template_columns": null,
            "grid_template_rows": null,
            "height": null,
            "justify_content": null,
            "justify_items": null,
            "left": null,
            "margin": null,
            "max_height": null,
            "max_width": null,
            "min_height": null,
            "min_width": null,
            "object_fit": null,
            "object_position": null,
            "order": null,
            "overflow": null,
            "overflow_x": null,
            "overflow_y": null,
            "padding": null,
            "right": null,
            "top": null,
            "visibility": null,
            "width": null
          }
        },
        "e9acc48448b9412a82d87991b684a2a8": {
          "model_module": "@jupyter-widgets/controls",
          "model_name": "ProgressStyleModel",
          "state": {
            "_model_module": "@jupyter-widgets/controls",
            "_model_module_version": "1.5.0",
            "_model_name": "ProgressStyleModel",
            "_view_count": null,
            "_view_module": "@jupyter-widgets/base",
            "_view_module_version": "1.2.0",
            "_view_name": "StyleView",
            "bar_color": null,
            "description_width": "initial"
          }
        },
        "45734ace402049c1a62c25cc89bfaba7": {
          "model_module": "@jupyter-widgets/base",
          "model_name": "LayoutModel",
          "state": {
            "_model_module": "@jupyter-widgets/base",
            "_model_module_version": "1.2.0",
            "_model_name": "LayoutModel",
            "_view_count": null,
            "_view_module": "@jupyter-widgets/base",
            "_view_module_version": "1.2.0",
            "_view_name": "LayoutView",
            "align_content": null,
            "align_items": null,
            "align_self": null,
            "border": null,
            "bottom": null,
            "display": null,
            "flex": null,
            "flex_flow": null,
            "grid_area": null,
            "grid_auto_columns": null,
            "grid_auto_flow": null,
            "grid_auto_rows": null,
            "grid_column": null,
            "grid_gap": null,
            "grid_row": null,
            "grid_template_areas": null,
            "grid_template_columns": null,
            "grid_template_rows": null,
            "height": null,
            "justify_content": null,
            "justify_items": null,
            "left": null,
            "margin": null,
            "max_height": null,
            "max_width": null,
            "min_height": null,
            "min_width": null,
            "object_fit": null,
            "object_position": null,
            "order": null,
            "overflow": null,
            "overflow_x": null,
            "overflow_y": null,
            "padding": null,
            "right": null,
            "top": null,
            "visibility": null,
            "width": null
          }
        },
        "826c7303596f4e42891f046fe5f6b0d2": {
          "model_module": "@jupyter-widgets/controls",
          "model_name": "DescriptionStyleModel",
          "state": {
            "_model_module": "@jupyter-widgets/controls",
            "_model_module_version": "1.5.0",
            "_model_name": "DescriptionStyleModel",
            "_view_count": null,
            "_view_module": "@jupyter-widgets/base",
            "_view_module_version": "1.2.0",
            "_view_name": "StyleView",
            "description_width": ""
          }
        },
        "c8779b9c40e446e69333e11006b1d503": {
          "model_module": "@jupyter-widgets/controls",
          "model_name": "HBoxModel",
          "state": {
            "_dom_classes": [],
            "_model_module": "@jupyter-widgets/controls",
            "_model_module_version": "1.5.0",
            "_model_name": "HBoxModel",
            "_view_count": null,
            "_view_module": "@jupyter-widgets/controls",
            "_view_module_version": "1.5.0",
            "_view_name": "HBoxView",
            "box_style": "",
            "children": [
              "IPY_MODEL_a6e7592730df457a97c3aea0ae3c8472",
              "IPY_MODEL_e23ccdac51f04b07bf53a5fa47bf173f"
            ],
            "layout": "IPY_MODEL_d1c2f1e810c64df2977e76483b93312e"
          }
        },
        "a6e7592730df457a97c3aea0ae3c8472": {
          "model_module": "@jupyter-widgets/controls",
          "model_name": "FloatProgressModel",
          "state": {
            "_dom_classes": [],
            "_model_module": "@jupyter-widgets/controls",
            "_model_module_version": "1.5.0",
            "_model_name": "FloatProgressModel",
            "_view_count": null,
            "_view_module": "@jupyter-widgets/controls",
            "_view_module_version": "1.5.0",
            "_view_name": "ProgressView",
            "bar_style": "success",
            "description": "",
            "description_tooltip": null,
            "layout": "IPY_MODEL_4688fc57e0b74f85bbb1e6ec1f47f6d4",
            "max": 1,
            "min": 0,
            "orientation": "horizontal",
            "style": "IPY_MODEL_db85654e91564a15b34c7408558cc2a9",
            "value": 1
          }
        },
        "e23ccdac51f04b07bf53a5fa47bf173f": {
          "model_module": "@jupyter-widgets/controls",
          "model_name": "HTMLModel",
          "state": {
            "_dom_classes": [],
            "_model_module": "@jupyter-widgets/controls",
            "_model_module_version": "1.5.0",
            "_model_name": "HTMLModel",
            "_view_count": null,
            "_view_module": "@jupyter-widgets/controls",
            "_view_module_version": "1.5.0",
            "_view_name": "HTMLView",
            "description": "",
            "description_tooltip": null,
            "layout": "IPY_MODEL_489b3b1372fe4e36819d9fd35c4c93a0",
            "placeholder": "​",
            "style": "IPY_MODEL_dd93d5e5b29949b094401c43c84ea7e4",
            "value": " 32768/? [00:00&lt;00:00, 67843.88it/s]"
          }
        },
        "d1c2f1e810c64df2977e76483b93312e": {
          "model_module": "@jupyter-widgets/base",
          "model_name": "LayoutModel",
          "state": {
            "_model_module": "@jupyter-widgets/base",
            "_model_module_version": "1.2.0",
            "_model_name": "LayoutModel",
            "_view_count": null,
            "_view_module": "@jupyter-widgets/base",
            "_view_module_version": "1.2.0",
            "_view_name": "LayoutView",
            "align_content": null,
            "align_items": null,
            "align_self": null,
            "border": null,
            "bottom": null,
            "display": null,
            "flex": null,
            "flex_flow": null,
            "grid_area": null,
            "grid_auto_columns": null,
            "grid_auto_flow": null,
            "grid_auto_rows": null,
            "grid_column": null,
            "grid_gap": null,
            "grid_row": null,
            "grid_template_areas": null,
            "grid_template_columns": null,
            "grid_template_rows": null,
            "height": null,
            "justify_content": null,
            "justify_items": null,
            "left": null,
            "margin": null,
            "max_height": null,
            "max_width": null,
            "min_height": null,
            "min_width": null,
            "object_fit": null,
            "object_position": null,
            "order": null,
            "overflow": null,
            "overflow_x": null,
            "overflow_y": null,
            "padding": null,
            "right": null,
            "top": null,
            "visibility": null,
            "width": null
          }
        },
        "4688fc57e0b74f85bbb1e6ec1f47f6d4": {
          "model_module": "@jupyter-widgets/base",
          "model_name": "LayoutModel",
          "state": {
            "_model_module": "@jupyter-widgets/base",
            "_model_module_version": "1.2.0",
            "_model_name": "LayoutModel",
            "_view_count": null,
            "_view_module": "@jupyter-widgets/base",
            "_view_module_version": "1.2.0",
            "_view_name": "LayoutView",
            "align_content": null,
            "align_items": null,
            "align_self": null,
            "border": null,
            "bottom": null,
            "display": null,
            "flex": null,
            "flex_flow": null,
            "grid_area": null,
            "grid_auto_columns": null,
            "grid_auto_flow": null,
            "grid_auto_rows": null,
            "grid_column": null,
            "grid_gap": null,
            "grid_row": null,
            "grid_template_areas": null,
            "grid_template_columns": null,
            "grid_template_rows": null,
            "height": null,
            "justify_content": null,
            "justify_items": null,
            "left": null,
            "margin": null,
            "max_height": null,
            "max_width": null,
            "min_height": null,
            "min_width": null,
            "object_fit": null,
            "object_position": null,
            "order": null,
            "overflow": null,
            "overflow_x": null,
            "overflow_y": null,
            "padding": null,
            "right": null,
            "top": null,
            "visibility": null,
            "width": null
          }
        },
        "db85654e91564a15b34c7408558cc2a9": {
          "model_module": "@jupyter-widgets/controls",
          "model_name": "ProgressStyleModel",
          "state": {
            "_model_module": "@jupyter-widgets/controls",
            "_model_module_version": "1.5.0",
            "_model_name": "ProgressStyleModel",
            "_view_count": null,
            "_view_module": "@jupyter-widgets/base",
            "_view_module_version": "1.2.0",
            "_view_name": "StyleView",
            "bar_color": null,
            "description_width": "initial"
          }
        },
        "489b3b1372fe4e36819d9fd35c4c93a0": {
          "model_module": "@jupyter-widgets/base",
          "model_name": "LayoutModel",
          "state": {
            "_model_module": "@jupyter-widgets/base",
            "_model_module_version": "1.2.0",
            "_model_name": "LayoutModel",
            "_view_count": null,
            "_view_module": "@jupyter-widgets/base",
            "_view_module_version": "1.2.0",
            "_view_name": "LayoutView",
            "align_content": null,
            "align_items": null,
            "align_self": null,
            "border": null,
            "bottom": null,
            "display": null,
            "flex": null,
            "flex_flow": null,
            "grid_area": null,
            "grid_auto_columns": null,
            "grid_auto_flow": null,
            "grid_auto_rows": null,
            "grid_column": null,
            "grid_gap": null,
            "grid_row": null,
            "grid_template_areas": null,
            "grid_template_columns": null,
            "grid_template_rows": null,
            "height": null,
            "justify_content": null,
            "justify_items": null,
            "left": null,
            "margin": null,
            "max_height": null,
            "max_width": null,
            "min_height": null,
            "min_width": null,
            "object_fit": null,
            "object_position": null,
            "order": null,
            "overflow": null,
            "overflow_x": null,
            "overflow_y": null,
            "padding": null,
            "right": null,
            "top": null,
            "visibility": null,
            "width": null
          }
        },
        "dd93d5e5b29949b094401c43c84ea7e4": {
          "model_module": "@jupyter-widgets/controls",
          "model_name": "DescriptionStyleModel",
          "state": {
            "_model_module": "@jupyter-widgets/controls",
            "_model_module_version": "1.5.0",
            "_model_name": "DescriptionStyleModel",
            "_view_count": null,
            "_view_module": "@jupyter-widgets/base",
            "_view_module_version": "1.2.0",
            "_view_name": "StyleView",
            "description_width": ""
          }
        },
        "c1fea150c8db4a0b9b28ce6dec8e94c0": {
          "model_module": "@jupyter-widgets/controls",
          "model_name": "HBoxModel",
          "state": {
            "_dom_classes": [],
            "_model_module": "@jupyter-widgets/controls",
            "_model_module_version": "1.5.0",
            "_model_name": "HBoxModel",
            "_view_count": null,
            "_view_module": "@jupyter-widgets/controls",
            "_view_module_version": "1.5.0",
            "_view_name": "HBoxView",
            "box_style": "",
            "children": [
              "IPY_MODEL_99fa2605035b4d5da1ac1c0886555590",
              "IPY_MODEL_c1718183303f4b87ae4bf2d17674b872"
            ],
            "layout": "IPY_MODEL_3f071030180a4f81bbce8f35a4b26cd4"
          }
        },
        "99fa2605035b4d5da1ac1c0886555590": {
          "model_module": "@jupyter-widgets/controls",
          "model_name": "FloatProgressModel",
          "state": {
            "_dom_classes": [],
            "_model_module": "@jupyter-widgets/controls",
            "_model_module_version": "1.5.0",
            "_model_name": "FloatProgressModel",
            "_view_count": null,
            "_view_module": "@jupyter-widgets/controls",
            "_view_module_version": "1.5.0",
            "_view_name": "ProgressView",
            "bar_style": "info",
            "description": "",
            "description_tooltip": null,
            "layout": "IPY_MODEL_5fa8cda509ba49d38d581c8f25172848",
            "max": 1,
            "min": 0,
            "orientation": "horizontal",
            "style": "IPY_MODEL_bc119939a1a849609d33bd6ac8a377ba",
            "value": 1
          }
        },
        "c1718183303f4b87ae4bf2d17674b872": {
          "model_module": "@jupyter-widgets/controls",
          "model_name": "HTMLModel",
          "state": {
            "_dom_classes": [],
            "_model_module": "@jupyter-widgets/controls",
            "_model_module_version": "1.5.0",
            "_model_name": "HTMLModel",
            "_view_count": null,
            "_view_module": "@jupyter-widgets/controls",
            "_view_module_version": "1.5.0",
            "_view_name": "HTMLView",
            "description": "",
            "description_tooltip": null,
            "layout": "IPY_MODEL_4cd4f39c025b41e190c7007daed905a6",
            "placeholder": "​",
            "style": "IPY_MODEL_77f1b62f62a746d29ebfe0b17a0958e2",
            "value": " 1654784/? [00:18&lt;00:00, 559860.10it/s]"
          }
        },
        "3f071030180a4f81bbce8f35a4b26cd4": {
          "model_module": "@jupyter-widgets/base",
          "model_name": "LayoutModel",
          "state": {
            "_model_module": "@jupyter-widgets/base",
            "_model_module_version": "1.2.0",
            "_model_name": "LayoutModel",
            "_view_count": null,
            "_view_module": "@jupyter-widgets/base",
            "_view_module_version": "1.2.0",
            "_view_name": "LayoutView",
            "align_content": null,
            "align_items": null,
            "align_self": null,
            "border": null,
            "bottom": null,
            "display": null,
            "flex": null,
            "flex_flow": null,
            "grid_area": null,
            "grid_auto_columns": null,
            "grid_auto_flow": null,
            "grid_auto_rows": null,
            "grid_column": null,
            "grid_gap": null,
            "grid_row": null,
            "grid_template_areas": null,
            "grid_template_columns": null,
            "grid_template_rows": null,
            "height": null,
            "justify_content": null,
            "justify_items": null,
            "left": null,
            "margin": null,
            "max_height": null,
            "max_width": null,
            "min_height": null,
            "min_width": null,
            "object_fit": null,
            "object_position": null,
            "order": null,
            "overflow": null,
            "overflow_x": null,
            "overflow_y": null,
            "padding": null,
            "right": null,
            "top": null,
            "visibility": null,
            "width": null
          }
        },
        "5fa8cda509ba49d38d581c8f25172848": {
          "model_module": "@jupyter-widgets/base",
          "model_name": "LayoutModel",
          "state": {
            "_model_module": "@jupyter-widgets/base",
            "_model_module_version": "1.2.0",
            "_model_name": "LayoutModel",
            "_view_count": null,
            "_view_module": "@jupyter-widgets/base",
            "_view_module_version": "1.2.0",
            "_view_name": "LayoutView",
            "align_content": null,
            "align_items": null,
            "align_self": null,
            "border": null,
            "bottom": null,
            "display": null,
            "flex": null,
            "flex_flow": null,
            "grid_area": null,
            "grid_auto_columns": null,
            "grid_auto_flow": null,
            "grid_auto_rows": null,
            "grid_column": null,
            "grid_gap": null,
            "grid_row": null,
            "grid_template_areas": null,
            "grid_template_columns": null,
            "grid_template_rows": null,
            "height": null,
            "justify_content": null,
            "justify_items": null,
            "left": null,
            "margin": null,
            "max_height": null,
            "max_width": null,
            "min_height": null,
            "min_width": null,
            "object_fit": null,
            "object_position": null,
            "order": null,
            "overflow": null,
            "overflow_x": null,
            "overflow_y": null,
            "padding": null,
            "right": null,
            "top": null,
            "visibility": null,
            "width": null
          }
        },
        "bc119939a1a849609d33bd6ac8a377ba": {
          "model_module": "@jupyter-widgets/controls",
          "model_name": "ProgressStyleModel",
          "state": {
            "_model_module": "@jupyter-widgets/controls",
            "_model_module_version": "1.5.0",
            "_model_name": "ProgressStyleModel",
            "_view_count": null,
            "_view_module": "@jupyter-widgets/base",
            "_view_module_version": "1.2.0",
            "_view_name": "StyleView",
            "bar_color": null,
            "description_width": "initial"
          }
        },
        "4cd4f39c025b41e190c7007daed905a6": {
          "model_module": "@jupyter-widgets/base",
          "model_name": "LayoutModel",
          "state": {
            "_model_module": "@jupyter-widgets/base",
            "_model_module_version": "1.2.0",
            "_model_name": "LayoutModel",
            "_view_count": null,
            "_view_module": "@jupyter-widgets/base",
            "_view_module_version": "1.2.0",
            "_view_name": "LayoutView",
            "align_content": null,
            "align_items": null,
            "align_self": null,
            "border": null,
            "bottom": null,
            "display": null,
            "flex": null,
            "flex_flow": null,
            "grid_area": null,
            "grid_auto_columns": null,
            "grid_auto_flow": null,
            "grid_auto_rows": null,
            "grid_column": null,
            "grid_gap": null,
            "grid_row": null,
            "grid_template_areas": null,
            "grid_template_columns": null,
            "grid_template_rows": null,
            "height": null,
            "justify_content": null,
            "justify_items": null,
            "left": null,
            "margin": null,
            "max_height": null,
            "max_width": null,
            "min_height": null,
            "min_width": null,
            "object_fit": null,
            "object_position": null,
            "order": null,
            "overflow": null,
            "overflow_x": null,
            "overflow_y": null,
            "padding": null,
            "right": null,
            "top": null,
            "visibility": null,
            "width": null
          }
        },
        "77f1b62f62a746d29ebfe0b17a0958e2": {
          "model_module": "@jupyter-widgets/controls",
          "model_name": "DescriptionStyleModel",
          "state": {
            "_model_module": "@jupyter-widgets/controls",
            "_model_module_version": "1.5.0",
            "_model_name": "DescriptionStyleModel",
            "_view_count": null,
            "_view_module": "@jupyter-widgets/base",
            "_view_module_version": "1.2.0",
            "_view_name": "StyleView",
            "description_width": ""
          }
        },
        "12e7328e97004b15a80770f44fcdd95d": {
          "model_module": "@jupyter-widgets/controls",
          "model_name": "HBoxModel",
          "state": {
            "_dom_classes": [],
            "_model_module": "@jupyter-widgets/controls",
            "_model_module_version": "1.5.0",
            "_model_name": "HBoxModel",
            "_view_count": null,
            "_view_module": "@jupyter-widgets/controls",
            "_view_module_version": "1.5.0",
            "_view_name": "HBoxView",
            "box_style": "",
            "children": [
              "IPY_MODEL_42391f789ee940cf9e208c1bc8df0312",
              "IPY_MODEL_33bebc05c6654f36813a87f9c03eeb13"
            ],
            "layout": "IPY_MODEL_0bf46f8aa2904d30ab4f549fdba3a516"
          }
        },
        "42391f789ee940cf9e208c1bc8df0312": {
          "model_module": "@jupyter-widgets/controls",
          "model_name": "FloatProgressModel",
          "state": {
            "_dom_classes": [],
            "_model_module": "@jupyter-widgets/controls",
            "_model_module_version": "1.5.0",
            "_model_name": "FloatProgressModel",
            "_view_count": null,
            "_view_module": "@jupyter-widgets/controls",
            "_view_module_version": "1.5.0",
            "_view_name": "ProgressView",
            "bar_style": "info",
            "description": "  0%",
            "description_tooltip": null,
            "layout": "IPY_MODEL_33cecb072f8544959f51c1205820c090",
            "max": 1,
            "min": 0,
            "orientation": "horizontal",
            "style": "IPY_MODEL_1b72e127fb524490b512b9d7aa5bb917",
            "value": 0
          }
        },
        "33bebc05c6654f36813a87f9c03eeb13": {
          "model_module": "@jupyter-widgets/controls",
          "model_name": "HTMLModel",
          "state": {
            "_dom_classes": [],
            "_model_module": "@jupyter-widgets/controls",
            "_model_module_version": "1.5.0",
            "_model_name": "HTMLModel",
            "_view_count": null,
            "_view_module": "@jupyter-widgets/controls",
            "_view_module_version": "1.5.0",
            "_view_name": "HTMLView",
            "description": "",
            "description_tooltip": null,
            "layout": "IPY_MODEL_705633f59ad243dba8374570508b982a",
            "placeholder": "​",
            "style": "IPY_MODEL_7e9078c6fecd4ab0a04eb15f2b241801",
            "value": " 0/4542 [00:00&lt;?, ?it/s]"
          }
        },
        "0bf46f8aa2904d30ab4f549fdba3a516": {
          "model_module": "@jupyter-widgets/base",
          "model_name": "LayoutModel",
          "state": {
            "_model_module": "@jupyter-widgets/base",
            "_model_module_version": "1.2.0",
            "_model_name": "LayoutModel",
            "_view_count": null,
            "_view_module": "@jupyter-widgets/base",
            "_view_module_version": "1.2.0",
            "_view_name": "LayoutView",
            "align_content": null,
            "align_items": null,
            "align_self": null,
            "border": null,
            "bottom": null,
            "display": null,
            "flex": null,
            "flex_flow": null,
            "grid_area": null,
            "grid_auto_columns": null,
            "grid_auto_flow": null,
            "grid_auto_rows": null,
            "grid_column": null,
            "grid_gap": null,
            "grid_row": null,
            "grid_template_areas": null,
            "grid_template_columns": null,
            "grid_template_rows": null,
            "height": null,
            "justify_content": null,
            "justify_items": null,
            "left": null,
            "margin": null,
            "max_height": null,
            "max_width": null,
            "min_height": null,
            "min_width": null,
            "object_fit": null,
            "object_position": null,
            "order": null,
            "overflow": null,
            "overflow_x": null,
            "overflow_y": null,
            "padding": null,
            "right": null,
            "top": null,
            "visibility": null,
            "width": null
          }
        },
        "33cecb072f8544959f51c1205820c090": {
          "model_module": "@jupyter-widgets/base",
          "model_name": "LayoutModel",
          "state": {
            "_model_module": "@jupyter-widgets/base",
            "_model_module_version": "1.2.0",
            "_model_name": "LayoutModel",
            "_view_count": null,
            "_view_module": "@jupyter-widgets/base",
            "_view_module_version": "1.2.0",
            "_view_name": "LayoutView",
            "align_content": null,
            "align_items": null,
            "align_self": null,
            "border": null,
            "bottom": null,
            "display": null,
            "flex": null,
            "flex_flow": null,
            "grid_area": null,
            "grid_auto_columns": null,
            "grid_auto_flow": null,
            "grid_auto_rows": null,
            "grid_column": null,
            "grid_gap": null,
            "grid_row": null,
            "grid_template_areas": null,
            "grid_template_columns": null,
            "grid_template_rows": null,
            "height": null,
            "justify_content": null,
            "justify_items": null,
            "left": null,
            "margin": null,
            "max_height": null,
            "max_width": null,
            "min_height": null,
            "min_width": null,
            "object_fit": null,
            "object_position": null,
            "order": null,
            "overflow": null,
            "overflow_x": null,
            "overflow_y": null,
            "padding": null,
            "right": null,
            "top": null,
            "visibility": null,
            "width": null
          }
        },
        "1b72e127fb524490b512b9d7aa5bb917": {
          "model_module": "@jupyter-widgets/controls",
          "model_name": "ProgressStyleModel",
          "state": {
            "_model_module": "@jupyter-widgets/controls",
            "_model_module_version": "1.5.0",
            "_model_name": "ProgressStyleModel",
            "_view_count": null,
            "_view_module": "@jupyter-widgets/base",
            "_view_module_version": "1.2.0",
            "_view_name": "StyleView",
            "bar_color": null,
            "description_width": "initial"
          }
        },
        "705633f59ad243dba8374570508b982a": {
          "model_module": "@jupyter-widgets/base",
          "model_name": "LayoutModel",
          "state": {
            "_model_module": "@jupyter-widgets/base",
            "_model_module_version": "1.2.0",
            "_model_name": "LayoutModel",
            "_view_count": null,
            "_view_module": "@jupyter-widgets/base",
            "_view_module_version": "1.2.0",
            "_view_name": "LayoutView",
            "align_content": null,
            "align_items": null,
            "align_self": null,
            "border": null,
            "bottom": null,
            "display": null,
            "flex": null,
            "flex_flow": null,
            "grid_area": null,
            "grid_auto_columns": null,
            "grid_auto_flow": null,
            "grid_auto_rows": null,
            "grid_column": null,
            "grid_gap": null,
            "grid_row": null,
            "grid_template_areas": null,
            "grid_template_columns": null,
            "grid_template_rows": null,
            "height": null,
            "justify_content": null,
            "justify_items": null,
            "left": null,
            "margin": null,
            "max_height": null,
            "max_width": null,
            "min_height": null,
            "min_width": null,
            "object_fit": null,
            "object_position": null,
            "order": null,
            "overflow": null,
            "overflow_x": null,
            "overflow_y": null,
            "padding": null,
            "right": null,
            "top": null,
            "visibility": null,
            "width": null
          }
        },
        "7e9078c6fecd4ab0a04eb15f2b241801": {
          "model_module": "@jupyter-widgets/controls",
          "model_name": "DescriptionStyleModel",
          "state": {
            "_model_module": "@jupyter-widgets/controls",
            "_model_module_version": "1.5.0",
            "_model_name": "DescriptionStyleModel",
            "_view_count": null,
            "_view_module": "@jupyter-widgets/base",
            "_view_module_version": "1.2.0",
            "_view_name": "StyleView",
            "description_width": ""
          }
        },
        "927187535dfb4b908336313e183396c1": {
          "model_module": "@jupyter-widgets/controls",
          "model_name": "HBoxModel",
          "state": {
            "_dom_classes": [],
            "_model_module": "@jupyter-widgets/controls",
            "_model_module_version": "1.5.0",
            "_model_name": "HBoxModel",
            "_view_count": null,
            "_view_module": "@jupyter-widgets/controls",
            "_view_module_version": "1.5.0",
            "_view_name": "HBoxView",
            "box_style": "",
            "children": [
              "IPY_MODEL_1f34210a11b7401c92336d4d4fc6bc61",
              "IPY_MODEL_d1537870f4894e1d88dfe3399699b990"
            ],
            "layout": "IPY_MODEL_ab0ccd02b5f74830b80cfe1e085c696c"
          }
        },
        "1f34210a11b7401c92336d4d4fc6bc61": {
          "model_module": "@jupyter-widgets/controls",
          "model_name": "FloatProgressModel",
          "state": {
            "_dom_classes": [],
            "_model_module": "@jupyter-widgets/controls",
            "_model_module_version": "1.5.0",
            "_model_name": "FloatProgressModel",
            "_view_count": null,
            "_view_module": "@jupyter-widgets/controls",
            "_view_module_version": "1.5.0",
            "_view_name": "ProgressView",
            "bar_style": "info",
            "description": "",
            "description_tooltip": null,
            "layout": "IPY_MODEL_7e59cc00605c4e9bb1e78488356bbece",
            "max": 1,
            "min": 0,
            "orientation": "horizontal",
            "style": "IPY_MODEL_23e3f182dcef44f89e0eb09c5f7b6f9f",
            "value": 1
          }
        },
        "d1537870f4894e1d88dfe3399699b990": {
          "model_module": "@jupyter-widgets/controls",
          "model_name": "HTMLModel",
          "state": {
            "_dom_classes": [],
            "_model_module": "@jupyter-widgets/controls",
            "_model_module_version": "1.5.0",
            "_model_name": "HTMLModel",
            "_view_count": null,
            "_view_module": "@jupyter-widgets/controls",
            "_view_module_version": "1.5.0",
            "_view_name": "HTMLView",
            "description": "",
            "description_tooltip": null,
            "layout": "IPY_MODEL_9a7aa7b23f12496ea2324bc8d88d8336",
            "placeholder": "​",
            "style": "IPY_MODEL_c864889311344824a6636edde41c3230",
            "value": " 9920512/? [00:20&lt;00:00, 2817568.93it/s]"
          }
        },
        "ab0ccd02b5f74830b80cfe1e085c696c": {
          "model_module": "@jupyter-widgets/base",
          "model_name": "LayoutModel",
          "state": {
            "_model_module": "@jupyter-widgets/base",
            "_model_module_version": "1.2.0",
            "_model_name": "LayoutModel",
            "_view_count": null,
            "_view_module": "@jupyter-widgets/base",
            "_view_module_version": "1.2.0",
            "_view_name": "LayoutView",
            "align_content": null,
            "align_items": null,
            "align_self": null,
            "border": null,
            "bottom": null,
            "display": null,
            "flex": null,
            "flex_flow": null,
            "grid_area": null,
            "grid_auto_columns": null,
            "grid_auto_flow": null,
            "grid_auto_rows": null,
            "grid_column": null,
            "grid_gap": null,
            "grid_row": null,
            "grid_template_areas": null,
            "grid_template_columns": null,
            "grid_template_rows": null,
            "height": null,
            "justify_content": null,
            "justify_items": null,
            "left": null,
            "margin": null,
            "max_height": null,
            "max_width": null,
            "min_height": null,
            "min_width": null,
            "object_fit": null,
            "object_position": null,
            "order": null,
            "overflow": null,
            "overflow_x": null,
            "overflow_y": null,
            "padding": null,
            "right": null,
            "top": null,
            "visibility": null,
            "width": null
          }
        },
        "7e59cc00605c4e9bb1e78488356bbece": {
          "model_module": "@jupyter-widgets/base",
          "model_name": "LayoutModel",
          "state": {
            "_model_module": "@jupyter-widgets/base",
            "_model_module_version": "1.2.0",
            "_model_name": "LayoutModel",
            "_view_count": null,
            "_view_module": "@jupyter-widgets/base",
            "_view_module_version": "1.2.0",
            "_view_name": "LayoutView",
            "align_content": null,
            "align_items": null,
            "align_self": null,
            "border": null,
            "bottom": null,
            "display": null,
            "flex": null,
            "flex_flow": null,
            "grid_area": null,
            "grid_auto_columns": null,
            "grid_auto_flow": null,
            "grid_auto_rows": null,
            "grid_column": null,
            "grid_gap": null,
            "grid_row": null,
            "grid_template_areas": null,
            "grid_template_columns": null,
            "grid_template_rows": null,
            "height": null,
            "justify_content": null,
            "justify_items": null,
            "left": null,
            "margin": null,
            "max_height": null,
            "max_width": null,
            "min_height": null,
            "min_width": null,
            "object_fit": null,
            "object_position": null,
            "order": null,
            "overflow": null,
            "overflow_x": null,
            "overflow_y": null,
            "padding": null,
            "right": null,
            "top": null,
            "visibility": null,
            "width": null
          }
        },
        "23e3f182dcef44f89e0eb09c5f7b6f9f": {
          "model_module": "@jupyter-widgets/controls",
          "model_name": "ProgressStyleModel",
          "state": {
            "_model_module": "@jupyter-widgets/controls",
            "_model_module_version": "1.5.0",
            "_model_name": "ProgressStyleModel",
            "_view_count": null,
            "_view_module": "@jupyter-widgets/base",
            "_view_module_version": "1.2.0",
            "_view_name": "StyleView",
            "bar_color": null,
            "description_width": "initial"
          }
        },
        "9a7aa7b23f12496ea2324bc8d88d8336": {
          "model_module": "@jupyter-widgets/base",
          "model_name": "LayoutModel",
          "state": {
            "_model_module": "@jupyter-widgets/base",
            "_model_module_version": "1.2.0",
            "_model_name": "LayoutModel",
            "_view_count": null,
            "_view_module": "@jupyter-widgets/base",
            "_view_module_version": "1.2.0",
            "_view_name": "LayoutView",
            "align_content": null,
            "align_items": null,
            "align_self": null,
            "border": null,
            "bottom": null,
            "display": null,
            "flex": null,
            "flex_flow": null,
            "grid_area": null,
            "grid_auto_columns": null,
            "grid_auto_flow": null,
            "grid_auto_rows": null,
            "grid_column": null,
            "grid_gap": null,
            "grid_row": null,
            "grid_template_areas": null,
            "grid_template_columns": null,
            "grid_template_rows": null,
            "height": null,
            "justify_content": null,
            "justify_items": null,
            "left": null,
            "margin": null,
            "max_height": null,
            "max_width": null,
            "min_height": null,
            "min_width": null,
            "object_fit": null,
            "object_position": null,
            "order": null,
            "overflow": null,
            "overflow_x": null,
            "overflow_y": null,
            "padding": null,
            "right": null,
            "top": null,
            "visibility": null,
            "width": null
          }
        },
        "c864889311344824a6636edde41c3230": {
          "model_module": "@jupyter-widgets/controls",
          "model_name": "DescriptionStyleModel",
          "state": {
            "_model_module": "@jupyter-widgets/controls",
            "_model_module_version": "1.5.0",
            "_model_name": "DescriptionStyleModel",
            "_view_count": null,
            "_view_module": "@jupyter-widgets/base",
            "_view_module_version": "1.2.0",
            "_view_name": "StyleView",
            "description_width": ""
          }
        },
        "7af89bc7a60242629496eec9a2ecab50": {
          "model_module": "@jupyter-widgets/controls",
          "model_name": "HBoxModel",
          "state": {
            "_dom_classes": [],
            "_model_module": "@jupyter-widgets/controls",
            "_model_module_version": "1.5.0",
            "_model_name": "HBoxModel",
            "_view_count": null,
            "_view_module": "@jupyter-widgets/controls",
            "_view_module_version": "1.5.0",
            "_view_name": "HBoxView",
            "box_style": "",
            "children": [
              "IPY_MODEL_c21918d255e14259b8f4b81ff2d53a61",
              "IPY_MODEL_f32a937479914d4e9219d3451c885cc0"
            ],
            "layout": "IPY_MODEL_c1cfd7efe0ca4478b9175c9007557976"
          }
        },
        "c21918d255e14259b8f4b81ff2d53a61": {
          "model_module": "@jupyter-widgets/controls",
          "model_name": "FloatProgressModel",
          "state": {
            "_dom_classes": [],
            "_model_module": "@jupyter-widgets/controls",
            "_model_module_version": "1.5.0",
            "_model_name": "FloatProgressModel",
            "_view_count": null,
            "_view_module": "@jupyter-widgets/controls",
            "_view_module_version": "1.5.0",
            "_view_name": "ProgressView",
            "bar_style": "success",
            "description": "",
            "description_tooltip": null,
            "layout": "IPY_MODEL_8f3a4624e58c4d78a442b8bc01a91218",
            "max": 1,
            "min": 0,
            "orientation": "horizontal",
            "style": "IPY_MODEL_941ef568a2c1466a98ca9a8d3f984de3",
            "value": 1
          }
        },
        "f32a937479914d4e9219d3451c885cc0": {
          "model_module": "@jupyter-widgets/controls",
          "model_name": "HTMLModel",
          "state": {
            "_dom_classes": [],
            "_model_module": "@jupyter-widgets/controls",
            "_model_module_version": "1.5.0",
            "_model_name": "HTMLModel",
            "_view_count": null,
            "_view_module": "@jupyter-widgets/controls",
            "_view_module_version": "1.5.0",
            "_view_name": "HTMLView",
            "description": "",
            "description_tooltip": null,
            "layout": "IPY_MODEL_1d64f5d32b284a30b8047f6ad5428422",
            "placeholder": "​",
            "style": "IPY_MODEL_7e9ffd00e50944589b975685dc0e193f",
            "value": " 32768/? [00:02&lt;00:00, 12274.40it/s]"
          }
        },
        "c1cfd7efe0ca4478b9175c9007557976": {
          "model_module": "@jupyter-widgets/base",
          "model_name": "LayoutModel",
          "state": {
            "_model_module": "@jupyter-widgets/base",
            "_model_module_version": "1.2.0",
            "_model_name": "LayoutModel",
            "_view_count": null,
            "_view_module": "@jupyter-widgets/base",
            "_view_module_version": "1.2.0",
            "_view_name": "LayoutView",
            "align_content": null,
            "align_items": null,
            "align_self": null,
            "border": null,
            "bottom": null,
            "display": null,
            "flex": null,
            "flex_flow": null,
            "grid_area": null,
            "grid_auto_columns": null,
            "grid_auto_flow": null,
            "grid_auto_rows": null,
            "grid_column": null,
            "grid_gap": null,
            "grid_row": null,
            "grid_template_areas": null,
            "grid_template_columns": null,
            "grid_template_rows": null,
            "height": null,
            "justify_content": null,
            "justify_items": null,
            "left": null,
            "margin": null,
            "max_height": null,
            "max_width": null,
            "min_height": null,
            "min_width": null,
            "object_fit": null,
            "object_position": null,
            "order": null,
            "overflow": null,
            "overflow_x": null,
            "overflow_y": null,
            "padding": null,
            "right": null,
            "top": null,
            "visibility": null,
            "width": null
          }
        },
        "8f3a4624e58c4d78a442b8bc01a91218": {
          "model_module": "@jupyter-widgets/base",
          "model_name": "LayoutModel",
          "state": {
            "_model_module": "@jupyter-widgets/base",
            "_model_module_version": "1.2.0",
            "_model_name": "LayoutModel",
            "_view_count": null,
            "_view_module": "@jupyter-widgets/base",
            "_view_module_version": "1.2.0",
            "_view_name": "LayoutView",
            "align_content": null,
            "align_items": null,
            "align_self": null,
            "border": null,
            "bottom": null,
            "display": null,
            "flex": null,
            "flex_flow": null,
            "grid_area": null,
            "grid_auto_columns": null,
            "grid_auto_flow": null,
            "grid_auto_rows": null,
            "grid_column": null,
            "grid_gap": null,
            "grid_row": null,
            "grid_template_areas": null,
            "grid_template_columns": null,
            "grid_template_rows": null,
            "height": null,
            "justify_content": null,
            "justify_items": null,
            "left": null,
            "margin": null,
            "max_height": null,
            "max_width": null,
            "min_height": null,
            "min_width": null,
            "object_fit": null,
            "object_position": null,
            "order": null,
            "overflow": null,
            "overflow_x": null,
            "overflow_y": null,
            "padding": null,
            "right": null,
            "top": null,
            "visibility": null,
            "width": null
          }
        },
        "941ef568a2c1466a98ca9a8d3f984de3": {
          "model_module": "@jupyter-widgets/controls",
          "model_name": "ProgressStyleModel",
          "state": {
            "_model_module": "@jupyter-widgets/controls",
            "_model_module_version": "1.5.0",
            "_model_name": "ProgressStyleModel",
            "_view_count": null,
            "_view_module": "@jupyter-widgets/base",
            "_view_module_version": "1.2.0",
            "_view_name": "StyleView",
            "bar_color": null,
            "description_width": "initial"
          }
        },
        "1d64f5d32b284a30b8047f6ad5428422": {
          "model_module": "@jupyter-widgets/base",
          "model_name": "LayoutModel",
          "state": {
            "_model_module": "@jupyter-widgets/base",
            "_model_module_version": "1.2.0",
            "_model_name": "LayoutModel",
            "_view_count": null,
            "_view_module": "@jupyter-widgets/base",
            "_view_module_version": "1.2.0",
            "_view_name": "LayoutView",
            "align_content": null,
            "align_items": null,
            "align_self": null,
            "border": null,
            "bottom": null,
            "display": null,
            "flex": null,
            "flex_flow": null,
            "grid_area": null,
            "grid_auto_columns": null,
            "grid_auto_flow": null,
            "grid_auto_rows": null,
            "grid_column": null,
            "grid_gap": null,
            "grid_row": null,
            "grid_template_areas": null,
            "grid_template_columns": null,
            "grid_template_rows": null,
            "height": null,
            "justify_content": null,
            "justify_items": null,
            "left": null,
            "margin": null,
            "max_height": null,
            "max_width": null,
            "min_height": null,
            "min_width": null,
            "object_fit": null,
            "object_position": null,
            "order": null,
            "overflow": null,
            "overflow_x": null,
            "overflow_y": null,
            "padding": null,
            "right": null,
            "top": null,
            "visibility": null,
            "width": null
          }
        },
        "7e9ffd00e50944589b975685dc0e193f": {
          "model_module": "@jupyter-widgets/controls",
          "model_name": "DescriptionStyleModel",
          "state": {
            "_model_module": "@jupyter-widgets/controls",
            "_model_module_version": "1.5.0",
            "_model_name": "DescriptionStyleModel",
            "_view_count": null,
            "_view_module": "@jupyter-widgets/base",
            "_view_module_version": "1.2.0",
            "_view_name": "StyleView",
            "description_width": ""
          }
        },
        "450282639dd5404daa56315d28ce1fa8": {
          "model_module": "@jupyter-widgets/controls",
          "model_name": "HBoxModel",
          "state": {
            "_dom_classes": [],
            "_model_module": "@jupyter-widgets/controls",
            "_model_module_version": "1.5.0",
            "_model_name": "HBoxModel",
            "_view_count": null,
            "_view_module": "@jupyter-widgets/controls",
            "_view_module_version": "1.5.0",
            "_view_name": "HBoxView",
            "box_style": "",
            "children": [
              "IPY_MODEL_439c78ef9ce74d26829855419575b423",
              "IPY_MODEL_16188151697a468f87c0d14a67e28a2e"
            ],
            "layout": "IPY_MODEL_4d1e00bcc9e841709a2f309f90c76306"
          }
        },
        "439c78ef9ce74d26829855419575b423": {
          "model_module": "@jupyter-widgets/controls",
          "model_name": "FloatProgressModel",
          "state": {
            "_dom_classes": [],
            "_model_module": "@jupyter-widgets/controls",
            "_model_module_version": "1.5.0",
            "_model_name": "FloatProgressModel",
            "_view_count": null,
            "_view_module": "@jupyter-widgets/controls",
            "_view_module_version": "1.5.0",
            "_view_name": "ProgressView",
            "bar_style": "success",
            "description": "",
            "description_tooltip": null,
            "layout": "IPY_MODEL_ae6966be3fd249a7ada9076aa7c9c11a",
            "max": 1,
            "min": 0,
            "orientation": "horizontal",
            "style": "IPY_MODEL_9075390079cb4d92bc2121296cb9660c",
            "value": 1
          }
        },
        "16188151697a468f87c0d14a67e28a2e": {
          "model_module": "@jupyter-widgets/controls",
          "model_name": "HTMLModel",
          "state": {
            "_dom_classes": [],
            "_model_module": "@jupyter-widgets/controls",
            "_model_module_version": "1.5.0",
            "_model_name": "HTMLModel",
            "_view_count": null,
            "_view_module": "@jupyter-widgets/controls",
            "_view_module_version": "1.5.0",
            "_view_name": "HTMLView",
            "description": "",
            "description_tooltip": null,
            "layout": "IPY_MODEL_999c61a34e0e4533afcd8d0761e70ab5",
            "placeholder": "​",
            "style": "IPY_MODEL_1d1a84bc8d69406c962291e9b56447d7",
            "value": " 1654784/? [00:01&lt;00:00, 864830.64it/s]"
          }
        },
        "4d1e00bcc9e841709a2f309f90c76306": {
          "model_module": "@jupyter-widgets/base",
          "model_name": "LayoutModel",
          "state": {
            "_model_module": "@jupyter-widgets/base",
            "_model_module_version": "1.2.0",
            "_model_name": "LayoutModel",
            "_view_count": null,
            "_view_module": "@jupyter-widgets/base",
            "_view_module_version": "1.2.0",
            "_view_name": "LayoutView",
            "align_content": null,
            "align_items": null,
            "align_self": null,
            "border": null,
            "bottom": null,
            "display": null,
            "flex": null,
            "flex_flow": null,
            "grid_area": null,
            "grid_auto_columns": null,
            "grid_auto_flow": null,
            "grid_auto_rows": null,
            "grid_column": null,
            "grid_gap": null,
            "grid_row": null,
            "grid_template_areas": null,
            "grid_template_columns": null,
            "grid_template_rows": null,
            "height": null,
            "justify_content": null,
            "justify_items": null,
            "left": null,
            "margin": null,
            "max_height": null,
            "max_width": null,
            "min_height": null,
            "min_width": null,
            "object_fit": null,
            "object_position": null,
            "order": null,
            "overflow": null,
            "overflow_x": null,
            "overflow_y": null,
            "padding": null,
            "right": null,
            "top": null,
            "visibility": null,
            "width": null
          }
        },
        "ae6966be3fd249a7ada9076aa7c9c11a": {
          "model_module": "@jupyter-widgets/base",
          "model_name": "LayoutModel",
          "state": {
            "_model_module": "@jupyter-widgets/base",
            "_model_module_version": "1.2.0",
            "_model_name": "LayoutModel",
            "_view_count": null,
            "_view_module": "@jupyter-widgets/base",
            "_view_module_version": "1.2.0",
            "_view_name": "LayoutView",
            "align_content": null,
            "align_items": null,
            "align_self": null,
            "border": null,
            "bottom": null,
            "display": null,
            "flex": null,
            "flex_flow": null,
            "grid_area": null,
            "grid_auto_columns": null,
            "grid_auto_flow": null,
            "grid_auto_rows": null,
            "grid_column": null,
            "grid_gap": null,
            "grid_row": null,
            "grid_template_areas": null,
            "grid_template_columns": null,
            "grid_template_rows": null,
            "height": null,
            "justify_content": null,
            "justify_items": null,
            "left": null,
            "margin": null,
            "max_height": null,
            "max_width": null,
            "min_height": null,
            "min_width": null,
            "object_fit": null,
            "object_position": null,
            "order": null,
            "overflow": null,
            "overflow_x": null,
            "overflow_y": null,
            "padding": null,
            "right": null,
            "top": null,
            "visibility": null,
            "width": null
          }
        },
        "9075390079cb4d92bc2121296cb9660c": {
          "model_module": "@jupyter-widgets/controls",
          "model_name": "ProgressStyleModel",
          "state": {
            "_model_module": "@jupyter-widgets/controls",
            "_model_module_version": "1.5.0",
            "_model_name": "ProgressStyleModel",
            "_view_count": null,
            "_view_module": "@jupyter-widgets/base",
            "_view_module_version": "1.2.0",
            "_view_name": "StyleView",
            "bar_color": null,
            "description_width": "initial"
          }
        },
        "999c61a34e0e4533afcd8d0761e70ab5": {
          "model_module": "@jupyter-widgets/base",
          "model_name": "LayoutModel",
          "state": {
            "_model_module": "@jupyter-widgets/base",
            "_model_module_version": "1.2.0",
            "_model_name": "LayoutModel",
            "_view_count": null,
            "_view_module": "@jupyter-widgets/base",
            "_view_module_version": "1.2.0",
            "_view_name": "LayoutView",
            "align_content": null,
            "align_items": null,
            "align_self": null,
            "border": null,
            "bottom": null,
            "display": null,
            "flex": null,
            "flex_flow": null,
            "grid_area": null,
            "grid_auto_columns": null,
            "grid_auto_flow": null,
            "grid_auto_rows": null,
            "grid_column": null,
            "grid_gap": null,
            "grid_row": null,
            "grid_template_areas": null,
            "grid_template_columns": null,
            "grid_template_rows": null,
            "height": null,
            "justify_content": null,
            "justify_items": null,
            "left": null,
            "margin": null,
            "max_height": null,
            "max_width": null,
            "min_height": null,
            "min_width": null,
            "object_fit": null,
            "object_position": null,
            "order": null,
            "overflow": null,
            "overflow_x": null,
            "overflow_y": null,
            "padding": null,
            "right": null,
            "top": null,
            "visibility": null,
            "width": null
          }
        },
        "1d1a84bc8d69406c962291e9b56447d7": {
          "model_module": "@jupyter-widgets/controls",
          "model_name": "DescriptionStyleModel",
          "state": {
            "_model_module": "@jupyter-widgets/controls",
            "_model_module_version": "1.5.0",
            "_model_name": "DescriptionStyleModel",
            "_view_count": null,
            "_view_module": "@jupyter-widgets/base",
            "_view_module_version": "1.2.0",
            "_view_name": "StyleView",
            "description_width": ""
          }
        },
        "f022d5481c7140508a9049cb9b6b5ca5": {
          "model_module": "@jupyter-widgets/controls",
          "model_name": "HBoxModel",
          "state": {
            "_dom_classes": [],
            "_model_module": "@jupyter-widgets/controls",
            "_model_module_version": "1.5.0",
            "_model_name": "HBoxModel",
            "_view_count": null,
            "_view_module": "@jupyter-widgets/controls",
            "_view_module_version": "1.5.0",
            "_view_name": "HBoxView",
            "box_style": "",
            "children": [
              "IPY_MODEL_9471c303b1a143858350fa24a687898d",
              "IPY_MODEL_0afb5dcbbc0849eca33a178ad26fe2fc"
            ],
            "layout": "IPY_MODEL_0daeb5f3956147dda284ebb6b1868180"
          }
        },
        "9471c303b1a143858350fa24a687898d": {
          "model_module": "@jupyter-widgets/controls",
          "model_name": "FloatProgressModel",
          "state": {
            "_dom_classes": [],
            "_model_module": "@jupyter-widgets/controls",
            "_model_module_version": "1.5.0",
            "_model_name": "FloatProgressModel",
            "_view_count": null,
            "_view_module": "@jupyter-widgets/controls",
            "_view_module_version": "1.5.0",
            "_view_name": "ProgressView",
            "bar_style": "info",
            "description": "  0%",
            "description_tooltip": null,
            "layout": "IPY_MODEL_b83701f45b9a4612b0dd1429e64d53b4",
            "max": 1,
            "min": 0,
            "orientation": "horizontal",
            "style": "IPY_MODEL_371010000c0c49918a5790b79db11eaa",
            "value": 0
          }
        },
        "0afb5dcbbc0849eca33a178ad26fe2fc": {
          "model_module": "@jupyter-widgets/controls",
          "model_name": "HTMLModel",
          "state": {
            "_dom_classes": [],
            "_model_module": "@jupyter-widgets/controls",
            "_model_module_version": "1.5.0",
            "_model_name": "HTMLModel",
            "_view_count": null,
            "_view_module": "@jupyter-widgets/controls",
            "_view_module_version": "1.5.0",
            "_view_name": "HTMLView",
            "description": "",
            "description_tooltip": null,
            "layout": "IPY_MODEL_707e5390a71d45c6bd0d701311a29ad6",
            "placeholder": "​",
            "style": "IPY_MODEL_0423f0644a734ab787ddcd4fd91841ac",
            "value": " 0/4542 [00:00&lt;?, ?it/s]"
          }
        },
        "0daeb5f3956147dda284ebb6b1868180": {
          "model_module": "@jupyter-widgets/base",
          "model_name": "LayoutModel",
          "state": {
            "_model_module": "@jupyter-widgets/base",
            "_model_module_version": "1.2.0",
            "_model_name": "LayoutModel",
            "_view_count": null,
            "_view_module": "@jupyter-widgets/base",
            "_view_module_version": "1.2.0",
            "_view_name": "LayoutView",
            "align_content": null,
            "align_items": null,
            "align_self": null,
            "border": null,
            "bottom": null,
            "display": null,
            "flex": null,
            "flex_flow": null,
            "grid_area": null,
            "grid_auto_columns": null,
            "grid_auto_flow": null,
            "grid_auto_rows": null,
            "grid_column": null,
            "grid_gap": null,
            "grid_row": null,
            "grid_template_areas": null,
            "grid_template_columns": null,
            "grid_template_rows": null,
            "height": null,
            "justify_content": null,
            "justify_items": null,
            "left": null,
            "margin": null,
            "max_height": null,
            "max_width": null,
            "min_height": null,
            "min_width": null,
            "object_fit": null,
            "object_position": null,
            "order": null,
            "overflow": null,
            "overflow_x": null,
            "overflow_y": null,
            "padding": null,
            "right": null,
            "top": null,
            "visibility": null,
            "width": null
          }
        },
        "b83701f45b9a4612b0dd1429e64d53b4": {
          "model_module": "@jupyter-widgets/base",
          "model_name": "LayoutModel",
          "state": {
            "_model_module": "@jupyter-widgets/base",
            "_model_module_version": "1.2.0",
            "_model_name": "LayoutModel",
            "_view_count": null,
            "_view_module": "@jupyter-widgets/base",
            "_view_module_version": "1.2.0",
            "_view_name": "LayoutView",
            "align_content": null,
            "align_items": null,
            "align_self": null,
            "border": null,
            "bottom": null,
            "display": null,
            "flex": null,
            "flex_flow": null,
            "grid_area": null,
            "grid_auto_columns": null,
            "grid_auto_flow": null,
            "grid_auto_rows": null,
            "grid_column": null,
            "grid_gap": null,
            "grid_row": null,
            "grid_template_areas": null,
            "grid_template_columns": null,
            "grid_template_rows": null,
            "height": null,
            "justify_content": null,
            "justify_items": null,
            "left": null,
            "margin": null,
            "max_height": null,
            "max_width": null,
            "min_height": null,
            "min_width": null,
            "object_fit": null,
            "object_position": null,
            "order": null,
            "overflow": null,
            "overflow_x": null,
            "overflow_y": null,
            "padding": null,
            "right": null,
            "top": null,
            "visibility": null,
            "width": null
          }
        },
        "371010000c0c49918a5790b79db11eaa": {
          "model_module": "@jupyter-widgets/controls",
          "model_name": "ProgressStyleModel",
          "state": {
            "_model_module": "@jupyter-widgets/controls",
            "_model_module_version": "1.5.0",
            "_model_name": "ProgressStyleModel",
            "_view_count": null,
            "_view_module": "@jupyter-widgets/base",
            "_view_module_version": "1.2.0",
            "_view_name": "StyleView",
            "bar_color": null,
            "description_width": "initial"
          }
        },
        "707e5390a71d45c6bd0d701311a29ad6": {
          "model_module": "@jupyter-widgets/base",
          "model_name": "LayoutModel",
          "state": {
            "_model_module": "@jupyter-widgets/base",
            "_model_module_version": "1.2.0",
            "_model_name": "LayoutModel",
            "_view_count": null,
            "_view_module": "@jupyter-widgets/base",
            "_view_module_version": "1.2.0",
            "_view_name": "LayoutView",
            "align_content": null,
            "align_items": null,
            "align_self": null,
            "border": null,
            "bottom": null,
            "display": null,
            "flex": null,
            "flex_flow": null,
            "grid_area": null,
            "grid_auto_columns": null,
            "grid_auto_flow": null,
            "grid_auto_rows": null,
            "grid_column": null,
            "grid_gap": null,
            "grid_row": null,
            "grid_template_areas": null,
            "grid_template_columns": null,
            "grid_template_rows": null,
            "height": null,
            "justify_content": null,
            "justify_items": null,
            "left": null,
            "margin": null,
            "max_height": null,
            "max_width": null,
            "min_height": null,
            "min_width": null,
            "object_fit": null,
            "object_position": null,
            "order": null,
            "overflow": null,
            "overflow_x": null,
            "overflow_y": null,
            "padding": null,
            "right": null,
            "top": null,
            "visibility": null,
            "width": null
          }
        },
        "0423f0644a734ab787ddcd4fd91841ac": {
          "model_module": "@jupyter-widgets/controls",
          "model_name": "DescriptionStyleModel",
          "state": {
            "_model_module": "@jupyter-widgets/controls",
            "_model_module_version": "1.5.0",
            "_model_name": "DescriptionStyleModel",
            "_view_count": null,
            "_view_module": "@jupyter-widgets/base",
            "_view_module_version": "1.2.0",
            "_view_name": "StyleView",
            "description_width": ""
          }
        },
        "672cb41f2643430da66499bbfcb15c71": {
          "model_module": "@jupyter-widgets/controls",
          "model_name": "HBoxModel",
          "state": {
            "_view_name": "HBoxView",
            "_dom_classes": [],
            "_model_name": "HBoxModel",
            "_view_module": "@jupyter-widgets/controls",
            "_model_module_version": "1.5.0",
            "_view_count": null,
            "_view_module_version": "1.5.0",
            "box_style": "",
            "layout": "IPY_MODEL_eab31b0f0c034f85b998406c371eb623",
            "_model_module": "@jupyter-widgets/controls",
            "children": [
              "IPY_MODEL_53074a6aa3b84edba7000930038ffd48",
              "IPY_MODEL_3f4a2dd71e2d4a24a535ea6c12a8589f"
            ]
          }
        },
        "eab31b0f0c034f85b998406c371eb623": {
          "model_module": "@jupyter-widgets/base",
          "model_name": "LayoutModel",
          "state": {
            "_view_name": "LayoutView",
            "grid_template_rows": null,
            "right": null,
            "justify_content": null,
            "_view_module": "@jupyter-widgets/base",
            "overflow": null,
            "_model_module_version": "1.2.0",
            "_view_count": null,
            "flex_flow": null,
            "width": null,
            "min_width": null,
            "border": null,
            "align_items": null,
            "bottom": null,
            "_model_module": "@jupyter-widgets/base",
            "top": null,
            "grid_column": null,
            "overflow_y": null,
            "overflow_x": null,
            "grid_auto_flow": null,
            "grid_area": null,
            "grid_template_columns": null,
            "flex": null,
            "_model_name": "LayoutModel",
            "justify_items": null,
            "grid_row": null,
            "max_height": null,
            "align_content": null,
            "visibility": null,
            "align_self": null,
            "height": null,
            "min_height": null,
            "padding": null,
            "grid_auto_rows": null,
            "grid_gap": null,
            "max_width": null,
            "order": null,
            "_view_module_version": "1.2.0",
            "grid_template_areas": null,
            "object_position": null,
            "object_fit": null,
            "grid_auto_columns": null,
            "margin": null,
            "display": null,
            "left": null
          }
        },
        "53074a6aa3b84edba7000930038ffd48": {
          "model_module": "@jupyter-widgets/controls",
          "model_name": "FloatProgressModel",
          "state": {
            "_view_name": "ProgressView",
            "style": "IPY_MODEL_affbe3982d3440b29b3c79d8623106bd",
            "_dom_classes": [],
            "description": "",
            "_model_name": "FloatProgressModel",
            "bar_style": "info",
            "max": 1,
            "_view_module": "@jupyter-widgets/controls",
            "_model_module_version": "1.5.0",
            "value": 1,
            "_view_count": null,
            "_view_module_version": "1.5.0",
            "orientation": "horizontal",
            "min": 0,
            "description_tooltip": null,
            "_model_module": "@jupyter-widgets/controls",
            "layout": "IPY_MODEL_017f53f6b60a4e1785d98ffac08d8d31"
          }
        },
        "3f4a2dd71e2d4a24a535ea6c12a8589f": {
          "model_module": "@jupyter-widgets/controls",
          "model_name": "HTMLModel",
          "state": {
            "_view_name": "HTMLView",
            "style": "IPY_MODEL_472956d341394ae2a9d7a4f5fe7c1e61",
            "_dom_classes": [],
            "description": "",
            "_model_name": "HTMLModel",
            "placeholder": "​",
            "_view_module": "@jupyter-widgets/controls",
            "_model_module_version": "1.5.0",
            "value": " 9920512/? [00:20&lt;00:00, 733966.49it/s]",
            "_view_count": null,
            "_view_module_version": "1.5.0",
            "description_tooltip": null,
            "_model_module": "@jupyter-widgets/controls",
            "layout": "IPY_MODEL_ff5d917c94a7492f97ae4d93a542a626"
          }
        },
        "affbe3982d3440b29b3c79d8623106bd": {
          "model_module": "@jupyter-widgets/controls",
          "model_name": "ProgressStyleModel",
          "state": {
            "_view_name": "StyleView",
            "_model_name": "ProgressStyleModel",
            "description_width": "initial",
            "_view_module": "@jupyter-widgets/base",
            "_model_module_version": "1.5.0",
            "_view_count": null,
            "_view_module_version": "1.2.0",
            "bar_color": null,
            "_model_module": "@jupyter-widgets/controls"
          }
        },
        "017f53f6b60a4e1785d98ffac08d8d31": {
          "model_module": "@jupyter-widgets/base",
          "model_name": "LayoutModel",
          "state": {
            "_view_name": "LayoutView",
            "grid_template_rows": null,
            "right": null,
            "justify_content": null,
            "_view_module": "@jupyter-widgets/base",
            "overflow": null,
            "_model_module_version": "1.2.0",
            "_view_count": null,
            "flex_flow": null,
            "width": null,
            "min_width": null,
            "border": null,
            "align_items": null,
            "bottom": null,
            "_model_module": "@jupyter-widgets/base",
            "top": null,
            "grid_column": null,
            "overflow_y": null,
            "overflow_x": null,
            "grid_auto_flow": null,
            "grid_area": null,
            "grid_template_columns": null,
            "flex": null,
            "_model_name": "LayoutModel",
            "justify_items": null,
            "grid_row": null,
            "max_height": null,
            "align_content": null,
            "visibility": null,
            "align_self": null,
            "height": null,
            "min_height": null,
            "padding": null,
            "grid_auto_rows": null,
            "grid_gap": null,
            "max_width": null,
            "order": null,
            "_view_module_version": "1.2.0",
            "grid_template_areas": null,
            "object_position": null,
            "object_fit": null,
            "grid_auto_columns": null,
            "margin": null,
            "display": null,
            "left": null
          }
        },
        "472956d341394ae2a9d7a4f5fe7c1e61": {
          "model_module": "@jupyter-widgets/controls",
          "model_name": "DescriptionStyleModel",
          "state": {
            "_view_name": "StyleView",
            "_model_name": "DescriptionStyleModel",
            "description_width": "",
            "_view_module": "@jupyter-widgets/base",
            "_model_module_version": "1.5.0",
            "_view_count": null,
            "_view_module_version": "1.2.0",
            "_model_module": "@jupyter-widgets/controls"
          }
        },
        "ff5d917c94a7492f97ae4d93a542a626": {
          "model_module": "@jupyter-widgets/base",
          "model_name": "LayoutModel",
          "state": {
            "_view_name": "LayoutView",
            "grid_template_rows": null,
            "right": null,
            "justify_content": null,
            "_view_module": "@jupyter-widgets/base",
            "overflow": null,
            "_model_module_version": "1.2.0",
            "_view_count": null,
            "flex_flow": null,
            "width": null,
            "min_width": null,
            "border": null,
            "align_items": null,
            "bottom": null,
            "_model_module": "@jupyter-widgets/base",
            "top": null,
            "grid_column": null,
            "overflow_y": null,
            "overflow_x": null,
            "grid_auto_flow": null,
            "grid_area": null,
            "grid_template_columns": null,
            "flex": null,
            "_model_name": "LayoutModel",
            "justify_items": null,
            "grid_row": null,
            "max_height": null,
            "align_content": null,
            "visibility": null,
            "align_self": null,
            "height": null,
            "min_height": null,
            "padding": null,
            "grid_auto_rows": null,
            "grid_gap": null,
            "max_width": null,
            "order": null,
            "_view_module_version": "1.2.0",
            "grid_template_areas": null,
            "object_position": null,
            "object_fit": null,
            "grid_auto_columns": null,
            "margin": null,
            "display": null,
            "left": null
          }
        },
        "a35e959e571e416c8634f2f662319b56": {
          "model_module": "@jupyter-widgets/controls",
          "model_name": "HBoxModel",
          "state": {
            "_view_name": "HBoxView",
            "_dom_classes": [],
            "_model_name": "HBoxModel",
            "_view_module": "@jupyter-widgets/controls",
            "_model_module_version": "1.5.0",
            "_view_count": null,
            "_view_module_version": "1.5.0",
            "box_style": "",
            "layout": "IPY_MODEL_2f9d2fee75c44c6c9f0cba3daa75c8b8",
            "_model_module": "@jupyter-widgets/controls",
            "children": [
              "IPY_MODEL_7de31655b8854a3cb3bf3541400b7ba4",
              "IPY_MODEL_4a839cdb66a244f3a2696836ef50afed"
            ]
          }
        },
        "2f9d2fee75c44c6c9f0cba3daa75c8b8": {
          "model_module": "@jupyter-widgets/base",
          "model_name": "LayoutModel",
          "state": {
            "_view_name": "LayoutView",
            "grid_template_rows": null,
            "right": null,
            "justify_content": null,
            "_view_module": "@jupyter-widgets/base",
            "overflow": null,
            "_model_module_version": "1.2.0",
            "_view_count": null,
            "flex_flow": null,
            "width": null,
            "min_width": null,
            "border": null,
            "align_items": null,
            "bottom": null,
            "_model_module": "@jupyter-widgets/base",
            "top": null,
            "grid_column": null,
            "overflow_y": null,
            "overflow_x": null,
            "grid_auto_flow": null,
            "grid_area": null,
            "grid_template_columns": null,
            "flex": null,
            "_model_name": "LayoutModel",
            "justify_items": null,
            "grid_row": null,
            "max_height": null,
            "align_content": null,
            "visibility": null,
            "align_self": null,
            "height": null,
            "min_height": null,
            "padding": null,
            "grid_auto_rows": null,
            "grid_gap": null,
            "max_width": null,
            "order": null,
            "_view_module_version": "1.2.0",
            "grid_template_areas": null,
            "object_position": null,
            "object_fit": null,
            "grid_auto_columns": null,
            "margin": null,
            "display": null,
            "left": null
          }
        },
        "7de31655b8854a3cb3bf3541400b7ba4": {
          "model_module": "@jupyter-widgets/controls",
          "model_name": "FloatProgressModel",
          "state": {
            "_view_name": "ProgressView",
            "style": "IPY_MODEL_e03e4f25657f43acaaa3fde2c34f3d23",
            "_dom_classes": [],
            "description": "",
            "_model_name": "FloatProgressModel",
            "bar_style": "success",
            "max": 1,
            "_view_module": "@jupyter-widgets/controls",
            "_model_module_version": "1.5.0",
            "value": 1,
            "_view_count": null,
            "_view_module_version": "1.5.0",
            "orientation": "horizontal",
            "min": 0,
            "description_tooltip": null,
            "_model_module": "@jupyter-widgets/controls",
            "layout": "IPY_MODEL_bde1f7b3940a450faab0004379064d4a"
          }
        },
        "4a839cdb66a244f3a2696836ef50afed": {
          "model_module": "@jupyter-widgets/controls",
          "model_name": "HTMLModel",
          "state": {
            "_view_name": "HTMLView",
            "style": "IPY_MODEL_93534dcfc68f46fa92b76d55736af1c8",
            "_dom_classes": [],
            "description": "",
            "_model_name": "HTMLModel",
            "placeholder": "​",
            "_view_module": "@jupyter-widgets/controls",
            "_model_module_version": "1.5.0",
            "value": " 32768/? [00:01&lt;00:00, 27064.66it/s]",
            "_view_count": null,
            "_view_module_version": "1.5.0",
            "description_tooltip": null,
            "_model_module": "@jupyter-widgets/controls",
            "layout": "IPY_MODEL_ec44bb9ac4fb4bbd96665a4f82ff5160"
          }
        },
        "e03e4f25657f43acaaa3fde2c34f3d23": {
          "model_module": "@jupyter-widgets/controls",
          "model_name": "ProgressStyleModel",
          "state": {
            "_view_name": "StyleView",
            "_model_name": "ProgressStyleModel",
            "description_width": "initial",
            "_view_module": "@jupyter-widgets/base",
            "_model_module_version": "1.5.0",
            "_view_count": null,
            "_view_module_version": "1.2.0",
            "bar_color": null,
            "_model_module": "@jupyter-widgets/controls"
          }
        },
        "bde1f7b3940a450faab0004379064d4a": {
          "model_module": "@jupyter-widgets/base",
          "model_name": "LayoutModel",
          "state": {
            "_view_name": "LayoutView",
            "grid_template_rows": null,
            "right": null,
            "justify_content": null,
            "_view_module": "@jupyter-widgets/base",
            "overflow": null,
            "_model_module_version": "1.2.0",
            "_view_count": null,
            "flex_flow": null,
            "width": null,
            "min_width": null,
            "border": null,
            "align_items": null,
            "bottom": null,
            "_model_module": "@jupyter-widgets/base",
            "top": null,
            "grid_column": null,
            "overflow_y": null,
            "overflow_x": null,
            "grid_auto_flow": null,
            "grid_area": null,
            "grid_template_columns": null,
            "flex": null,
            "_model_name": "LayoutModel",
            "justify_items": null,
            "grid_row": null,
            "max_height": null,
            "align_content": null,
            "visibility": null,
            "align_self": null,
            "height": null,
            "min_height": null,
            "padding": null,
            "grid_auto_rows": null,
            "grid_gap": null,
            "max_width": null,
            "order": null,
            "_view_module_version": "1.2.0",
            "grid_template_areas": null,
            "object_position": null,
            "object_fit": null,
            "grid_auto_columns": null,
            "margin": null,
            "display": null,
            "left": null
          }
        },
        "93534dcfc68f46fa92b76d55736af1c8": {
          "model_module": "@jupyter-widgets/controls",
          "model_name": "DescriptionStyleModel",
          "state": {
            "_view_name": "StyleView",
            "_model_name": "DescriptionStyleModel",
            "description_width": "",
            "_view_module": "@jupyter-widgets/base",
            "_model_module_version": "1.5.0",
            "_view_count": null,
            "_view_module_version": "1.2.0",
            "_model_module": "@jupyter-widgets/controls"
          }
        },
        "ec44bb9ac4fb4bbd96665a4f82ff5160": {
          "model_module": "@jupyter-widgets/base",
          "model_name": "LayoutModel",
          "state": {
            "_view_name": "LayoutView",
            "grid_template_rows": null,
            "right": null,
            "justify_content": null,
            "_view_module": "@jupyter-widgets/base",
            "overflow": null,
            "_model_module_version": "1.2.0",
            "_view_count": null,
            "flex_flow": null,
            "width": null,
            "min_width": null,
            "border": null,
            "align_items": null,
            "bottom": null,
            "_model_module": "@jupyter-widgets/base",
            "top": null,
            "grid_column": null,
            "overflow_y": null,
            "overflow_x": null,
            "grid_auto_flow": null,
            "grid_area": null,
            "grid_template_columns": null,
            "flex": null,
            "_model_name": "LayoutModel",
            "justify_items": null,
            "grid_row": null,
            "max_height": null,
            "align_content": null,
            "visibility": null,
            "align_self": null,
            "height": null,
            "min_height": null,
            "padding": null,
            "grid_auto_rows": null,
            "grid_gap": null,
            "max_width": null,
            "order": null,
            "_view_module_version": "1.2.0",
            "grid_template_areas": null,
            "object_position": null,
            "object_fit": null,
            "grid_auto_columns": null,
            "margin": null,
            "display": null,
            "left": null
          }
        },
        "65e1562805734e5d8c5b918c89dfd077": {
          "model_module": "@jupyter-widgets/controls",
          "model_name": "HBoxModel",
          "state": {
            "_view_name": "HBoxView",
            "_dom_classes": [],
            "_model_name": "HBoxModel",
            "_view_module": "@jupyter-widgets/controls",
            "_model_module_version": "1.5.0",
            "_view_count": null,
            "_view_module_version": "1.5.0",
            "box_style": "",
            "layout": "IPY_MODEL_24999b871bcf4042a3d94cb385e035ef",
            "_model_module": "@jupyter-widgets/controls",
            "children": [
              "IPY_MODEL_7cb8946bb2bd437a9aa06633fcf15549",
              "IPY_MODEL_f5a3612657ef419fb4d15e53460e5376"
            ]
          }
        },
        "24999b871bcf4042a3d94cb385e035ef": {
          "model_module": "@jupyter-widgets/base",
          "model_name": "LayoutModel",
          "state": {
            "_view_name": "LayoutView",
            "grid_template_rows": null,
            "right": null,
            "justify_content": null,
            "_view_module": "@jupyter-widgets/base",
            "overflow": null,
            "_model_module_version": "1.2.0",
            "_view_count": null,
            "flex_flow": null,
            "width": null,
            "min_width": null,
            "border": null,
            "align_items": null,
            "bottom": null,
            "_model_module": "@jupyter-widgets/base",
            "top": null,
            "grid_column": null,
            "overflow_y": null,
            "overflow_x": null,
            "grid_auto_flow": null,
            "grid_area": null,
            "grid_template_columns": null,
            "flex": null,
            "_model_name": "LayoutModel",
            "justify_items": null,
            "grid_row": null,
            "max_height": null,
            "align_content": null,
            "visibility": null,
            "align_self": null,
            "height": null,
            "min_height": null,
            "padding": null,
            "grid_auto_rows": null,
            "grid_gap": null,
            "max_width": null,
            "order": null,
            "_view_module_version": "1.2.0",
            "grid_template_areas": null,
            "object_position": null,
            "object_fit": null,
            "grid_auto_columns": null,
            "margin": null,
            "display": null,
            "left": null
          }
        },
        "7cb8946bb2bd437a9aa06633fcf15549": {
          "model_module": "@jupyter-widgets/controls",
          "model_name": "FloatProgressModel",
          "state": {
            "_view_name": "ProgressView",
            "style": "IPY_MODEL_0315e66b780b4fffba7c9b838e167b2c",
            "_dom_classes": [],
            "description": "",
            "_model_name": "FloatProgressModel",
            "bar_style": "success",
            "max": 1,
            "_view_module": "@jupyter-widgets/controls",
            "_model_module_version": "1.5.0",
            "value": 1,
            "_view_count": null,
            "_view_module_version": "1.5.0",
            "orientation": "horizontal",
            "min": 0,
            "description_tooltip": null,
            "_model_module": "@jupyter-widgets/controls",
            "layout": "IPY_MODEL_2d95ef69dd584762bcf57b4534878987"
          }
        },
        "f5a3612657ef419fb4d15e53460e5376": {
          "model_module": "@jupyter-widgets/controls",
          "model_name": "HTMLModel",
          "state": {
            "_view_name": "HTMLView",
            "style": "IPY_MODEL_2176c325439f44d085a2818c4abaa1f4",
            "_dom_classes": [],
            "description": "",
            "_model_name": "HTMLModel",
            "placeholder": "​",
            "_view_module": "@jupyter-widgets/controls",
            "_model_module_version": "1.5.0",
            "value": " 1654784/? [00:00&lt;00:00, 1831977.65it/s]",
            "_view_count": null,
            "_view_module_version": "1.5.0",
            "description_tooltip": null,
            "_model_module": "@jupyter-widgets/controls",
            "layout": "IPY_MODEL_f19a499d8b424d16987861ff372f3250"
          }
        },
        "0315e66b780b4fffba7c9b838e167b2c": {
          "model_module": "@jupyter-widgets/controls",
          "model_name": "ProgressStyleModel",
          "state": {
            "_view_name": "StyleView",
            "_model_name": "ProgressStyleModel",
            "description_width": "initial",
            "_view_module": "@jupyter-widgets/base",
            "_model_module_version": "1.5.0",
            "_view_count": null,
            "_view_module_version": "1.2.0",
            "bar_color": null,
            "_model_module": "@jupyter-widgets/controls"
          }
        },
        "2d95ef69dd584762bcf57b4534878987": {
          "model_module": "@jupyter-widgets/base",
          "model_name": "LayoutModel",
          "state": {
            "_view_name": "LayoutView",
            "grid_template_rows": null,
            "right": null,
            "justify_content": null,
            "_view_module": "@jupyter-widgets/base",
            "overflow": null,
            "_model_module_version": "1.2.0",
            "_view_count": null,
            "flex_flow": null,
            "width": null,
            "min_width": null,
            "border": null,
            "align_items": null,
            "bottom": null,
            "_model_module": "@jupyter-widgets/base",
            "top": null,
            "grid_column": null,
            "overflow_y": null,
            "overflow_x": null,
            "grid_auto_flow": null,
            "grid_area": null,
            "grid_template_columns": null,
            "flex": null,
            "_model_name": "LayoutModel",
            "justify_items": null,
            "grid_row": null,
            "max_height": null,
            "align_content": null,
            "visibility": null,
            "align_self": null,
            "height": null,
            "min_height": null,
            "padding": null,
            "grid_auto_rows": null,
            "grid_gap": null,
            "max_width": null,
            "order": null,
            "_view_module_version": "1.2.0",
            "grid_template_areas": null,
            "object_position": null,
            "object_fit": null,
            "grid_auto_columns": null,
            "margin": null,
            "display": null,
            "left": null
          }
        },
        "2176c325439f44d085a2818c4abaa1f4": {
          "model_module": "@jupyter-widgets/controls",
          "model_name": "DescriptionStyleModel",
          "state": {
            "_view_name": "StyleView",
            "_model_name": "DescriptionStyleModel",
            "description_width": "",
            "_view_module": "@jupyter-widgets/base",
            "_model_module_version": "1.5.0",
            "_view_count": null,
            "_view_module_version": "1.2.0",
            "_model_module": "@jupyter-widgets/controls"
          }
        },
        "f19a499d8b424d16987861ff372f3250": {
          "model_module": "@jupyter-widgets/base",
          "model_name": "LayoutModel",
          "state": {
            "_view_name": "LayoutView",
            "grid_template_rows": null,
            "right": null,
            "justify_content": null,
            "_view_module": "@jupyter-widgets/base",
            "overflow": null,
            "_model_module_version": "1.2.0",
            "_view_count": null,
            "flex_flow": null,
            "width": null,
            "min_width": null,
            "border": null,
            "align_items": null,
            "bottom": null,
            "_model_module": "@jupyter-widgets/base",
            "top": null,
            "grid_column": null,
            "overflow_y": null,
            "overflow_x": null,
            "grid_auto_flow": null,
            "grid_area": null,
            "grid_template_columns": null,
            "flex": null,
            "_model_name": "LayoutModel",
            "justify_items": null,
            "grid_row": null,
            "max_height": null,
            "align_content": null,
            "visibility": null,
            "align_self": null,
            "height": null,
            "min_height": null,
            "padding": null,
            "grid_auto_rows": null,
            "grid_gap": null,
            "max_width": null,
            "order": null,
            "_view_module_version": "1.2.0",
            "grid_template_areas": null,
            "object_position": null,
            "object_fit": null,
            "grid_auto_columns": null,
            "margin": null,
            "display": null,
            "left": null
          }
        },
        "48f084f3f00f4432b1a5672e0e5be894": {
          "model_module": "@jupyter-widgets/controls",
          "model_name": "HBoxModel",
          "state": {
            "_view_name": "HBoxView",
            "_dom_classes": [],
            "_model_name": "HBoxModel",
            "_view_module": "@jupyter-widgets/controls",
            "_model_module_version": "1.5.0",
            "_view_count": null,
            "_view_module_version": "1.5.0",
            "box_style": "",
            "layout": "IPY_MODEL_1851d214974a463c820d01f73cdfe019",
            "_model_module": "@jupyter-widgets/controls",
            "children": [
              "IPY_MODEL_3c2c7af715ec40ff8ec0b0710f64097f",
              "IPY_MODEL_277d2090a35247f6bc5b3c0c287c0f9b"
            ]
          }
        },
        "1851d214974a463c820d01f73cdfe019": {
          "model_module": "@jupyter-widgets/base",
          "model_name": "LayoutModel",
          "state": {
            "_view_name": "LayoutView",
            "grid_template_rows": null,
            "right": null,
            "justify_content": null,
            "_view_module": "@jupyter-widgets/base",
            "overflow": null,
            "_model_module_version": "1.2.0",
            "_view_count": null,
            "flex_flow": null,
            "width": null,
            "min_width": null,
            "border": null,
            "align_items": null,
            "bottom": null,
            "_model_module": "@jupyter-widgets/base",
            "top": null,
            "grid_column": null,
            "overflow_y": null,
            "overflow_x": null,
            "grid_auto_flow": null,
            "grid_area": null,
            "grid_template_columns": null,
            "flex": null,
            "_model_name": "LayoutModel",
            "justify_items": null,
            "grid_row": null,
            "max_height": null,
            "align_content": null,
            "visibility": null,
            "align_self": null,
            "height": null,
            "min_height": null,
            "padding": null,
            "grid_auto_rows": null,
            "grid_gap": null,
            "max_width": null,
            "order": null,
            "_view_module_version": "1.2.0",
            "grid_template_areas": null,
            "object_position": null,
            "object_fit": null,
            "grid_auto_columns": null,
            "margin": null,
            "display": null,
            "left": null
          }
        },
        "3c2c7af715ec40ff8ec0b0710f64097f": {
          "model_module": "@jupyter-widgets/controls",
          "model_name": "FloatProgressModel",
          "state": {
            "_view_name": "ProgressView",
            "style": "IPY_MODEL_2b2f2c5f7e3742aeb052cebc9aec687c",
            "_dom_classes": [],
            "description": "  0%",
            "_model_name": "FloatProgressModel",
            "bar_style": "info",
            "max": 1,
            "_view_module": "@jupyter-widgets/controls",
            "_model_module_version": "1.5.0",
            "value": 0,
            "_view_count": null,
            "_view_module_version": "1.5.0",
            "orientation": "horizontal",
            "min": 0,
            "description_tooltip": null,
            "_model_module": "@jupyter-widgets/controls",
            "layout": "IPY_MODEL_4e9d664b22e942edb72e972e74164a47"
          }
        },
        "277d2090a35247f6bc5b3c0c287c0f9b": {
          "model_module": "@jupyter-widgets/controls",
          "model_name": "HTMLModel",
          "state": {
            "_view_name": "HTMLView",
            "style": "IPY_MODEL_24199894a33c4828b7875f71940c4e60",
            "_dom_classes": [],
            "description": "",
            "_model_name": "HTMLModel",
            "placeholder": "​",
            "_view_module": "@jupyter-widgets/controls",
            "_model_module_version": "1.5.0",
            "value": " 0/4542 [00:00&lt;?, ?it/s]",
            "_view_count": null,
            "_view_module_version": "1.5.0",
            "description_tooltip": null,
            "_model_module": "@jupyter-widgets/controls",
            "layout": "IPY_MODEL_88aaad69d10c41048c21cc1a8ffd9a83"
          }
        },
        "2b2f2c5f7e3742aeb052cebc9aec687c": {
          "model_module": "@jupyter-widgets/controls",
          "model_name": "ProgressStyleModel",
          "state": {
            "_view_name": "StyleView",
            "_model_name": "ProgressStyleModel",
            "description_width": "initial",
            "_view_module": "@jupyter-widgets/base",
            "_model_module_version": "1.5.0",
            "_view_count": null,
            "_view_module_version": "1.2.0",
            "bar_color": null,
            "_model_module": "@jupyter-widgets/controls"
          }
        },
        "4e9d664b22e942edb72e972e74164a47": {
          "model_module": "@jupyter-widgets/base",
          "model_name": "LayoutModel",
          "state": {
            "_view_name": "LayoutView",
            "grid_template_rows": null,
            "right": null,
            "justify_content": null,
            "_view_module": "@jupyter-widgets/base",
            "overflow": null,
            "_model_module_version": "1.2.0",
            "_view_count": null,
            "flex_flow": null,
            "width": null,
            "min_width": null,
            "border": null,
            "align_items": null,
            "bottom": null,
            "_model_module": "@jupyter-widgets/base",
            "top": null,
            "grid_column": null,
            "overflow_y": null,
            "overflow_x": null,
            "grid_auto_flow": null,
            "grid_area": null,
            "grid_template_columns": null,
            "flex": null,
            "_model_name": "LayoutModel",
            "justify_items": null,
            "grid_row": null,
            "max_height": null,
            "align_content": null,
            "visibility": null,
            "align_self": null,
            "height": null,
            "min_height": null,
            "padding": null,
            "grid_auto_rows": null,
            "grid_gap": null,
            "max_width": null,
            "order": null,
            "_view_module_version": "1.2.0",
            "grid_template_areas": null,
            "object_position": null,
            "object_fit": null,
            "grid_auto_columns": null,
            "margin": null,
            "display": null,
            "left": null
          }
        },
        "24199894a33c4828b7875f71940c4e60": {
          "model_module": "@jupyter-widgets/controls",
          "model_name": "DescriptionStyleModel",
          "state": {
            "_view_name": "StyleView",
            "_model_name": "DescriptionStyleModel",
            "description_width": "",
            "_view_module": "@jupyter-widgets/base",
            "_model_module_version": "1.5.0",
            "_view_count": null,
            "_view_module_version": "1.2.0",
            "_model_module": "@jupyter-widgets/controls"
          }
        },
        "88aaad69d10c41048c21cc1a8ffd9a83": {
          "model_module": "@jupyter-widgets/base",
          "model_name": "LayoutModel",
          "state": {
            "_view_name": "LayoutView",
            "grid_template_rows": null,
            "right": null,
            "justify_content": null,
            "_view_module": "@jupyter-widgets/base",
            "overflow": null,
            "_model_module_version": "1.2.0",
            "_view_count": null,
            "flex_flow": null,
            "width": null,
            "min_width": null,
            "border": null,
            "align_items": null,
            "bottom": null,
            "_model_module": "@jupyter-widgets/base",
            "top": null,
            "grid_column": null,
            "overflow_y": null,
            "overflow_x": null,
            "grid_auto_flow": null,
            "grid_area": null,
            "grid_template_columns": null,
            "flex": null,
            "_model_name": "LayoutModel",
            "justify_items": null,
            "grid_row": null,
            "max_height": null,
            "align_content": null,
            "visibility": null,
            "align_self": null,
            "height": null,
            "min_height": null,
            "padding": null,
            "grid_auto_rows": null,
            "grid_gap": null,
            "max_width": null,
            "order": null,
            "_view_module_version": "1.2.0",
            "grid_template_areas": null,
            "object_position": null,
            "object_fit": null,
            "grid_auto_columns": null,
            "margin": null,
            "display": null,
            "left": null
          }
        },
        "6e89acb306924c43bb58ab7da734e252": {
          "model_module": "@jupyter-widgets/controls",
          "model_name": "HBoxModel",
          "state": {
            "_view_name": "HBoxView",
            "_dom_classes": [],
            "_model_name": "HBoxModel",
            "_view_module": "@jupyter-widgets/controls",
            "_model_module_version": "1.5.0",
            "_view_count": null,
            "_view_module_version": "1.5.0",
            "box_style": "",
            "layout": "IPY_MODEL_a0be8bf49fd1424c97fd4ebf2a9dcaa6",
            "_model_module": "@jupyter-widgets/controls",
            "children": [
              "IPY_MODEL_beb95c1b4a4442f3a44a9681b9d66cef",
              "IPY_MODEL_50738ff1e3794a50acfe676aac26c5f6"
            ]
          }
        },
        "a0be8bf49fd1424c97fd4ebf2a9dcaa6": {
          "model_module": "@jupyter-widgets/base",
          "model_name": "LayoutModel",
          "state": {
            "_view_name": "LayoutView",
            "grid_template_rows": null,
            "right": null,
            "justify_content": null,
            "_view_module": "@jupyter-widgets/base",
            "overflow": null,
            "_model_module_version": "1.2.0",
            "_view_count": null,
            "flex_flow": null,
            "width": null,
            "min_width": null,
            "border": null,
            "align_items": null,
            "bottom": null,
            "_model_module": "@jupyter-widgets/base",
            "top": null,
            "grid_column": null,
            "overflow_y": null,
            "overflow_x": null,
            "grid_auto_flow": null,
            "grid_area": null,
            "grid_template_columns": null,
            "flex": null,
            "_model_name": "LayoutModel",
            "justify_items": null,
            "grid_row": null,
            "max_height": null,
            "align_content": null,
            "visibility": null,
            "align_self": null,
            "height": null,
            "min_height": null,
            "padding": null,
            "grid_auto_rows": null,
            "grid_gap": null,
            "max_width": null,
            "order": null,
            "_view_module_version": "1.2.0",
            "grid_template_areas": null,
            "object_position": null,
            "object_fit": null,
            "grid_auto_columns": null,
            "margin": null,
            "display": null,
            "left": null
          }
        },
        "beb95c1b4a4442f3a44a9681b9d66cef": {
          "model_module": "@jupyter-widgets/controls",
          "model_name": "FloatProgressModel",
          "state": {
            "_view_name": "ProgressView",
            "style": "IPY_MODEL_420d9f40b5a94015992c153f405211d1",
            "_dom_classes": [],
            "description": "",
            "_model_name": "FloatProgressModel",
            "bar_style": "info",
            "max": 1,
            "_view_module": "@jupyter-widgets/controls",
            "_model_module_version": "1.5.0",
            "value": 1,
            "_view_count": null,
            "_view_module_version": "1.5.0",
            "orientation": "horizontal",
            "min": 0,
            "description_tooltip": null,
            "_model_module": "@jupyter-widgets/controls",
            "layout": "IPY_MODEL_2558d6477f6e4a72853dddf391e53605"
          }
        },
        "50738ff1e3794a50acfe676aac26c5f6": {
          "model_module": "@jupyter-widgets/controls",
          "model_name": "HTMLModel",
          "state": {
            "_view_name": "HTMLView",
            "style": "IPY_MODEL_b7368460a377449e9090804680899347",
            "_dom_classes": [],
            "description": "",
            "_model_name": "HTMLModel",
            "placeholder": "​",
            "_view_module": "@jupyter-widgets/controls",
            "_model_module_version": "1.5.0",
            "value": " 26427392/? [00:20&lt;00:00, 61099209.93it/s]",
            "_view_count": null,
            "_view_module_version": "1.5.0",
            "description_tooltip": null,
            "_model_module": "@jupyter-widgets/controls",
            "layout": "IPY_MODEL_930b153b5cdc41e4865b0ef6b9222c50"
          }
        },
        "420d9f40b5a94015992c153f405211d1": {
          "model_module": "@jupyter-widgets/controls",
          "model_name": "ProgressStyleModel",
          "state": {
            "_view_name": "StyleView",
            "_model_name": "ProgressStyleModel",
            "description_width": "initial",
            "_view_module": "@jupyter-widgets/base",
            "_model_module_version": "1.5.0",
            "_view_count": null,
            "_view_module_version": "1.2.0",
            "bar_color": null,
            "_model_module": "@jupyter-widgets/controls"
          }
        },
        "2558d6477f6e4a72853dddf391e53605": {
          "model_module": "@jupyter-widgets/base",
          "model_name": "LayoutModel",
          "state": {
            "_view_name": "LayoutView",
            "grid_template_rows": null,
            "right": null,
            "justify_content": null,
            "_view_module": "@jupyter-widgets/base",
            "overflow": null,
            "_model_module_version": "1.2.0",
            "_view_count": null,
            "flex_flow": null,
            "width": null,
            "min_width": null,
            "border": null,
            "align_items": null,
            "bottom": null,
            "_model_module": "@jupyter-widgets/base",
            "top": null,
            "grid_column": null,
            "overflow_y": null,
            "overflow_x": null,
            "grid_auto_flow": null,
            "grid_area": null,
            "grid_template_columns": null,
            "flex": null,
            "_model_name": "LayoutModel",
            "justify_items": null,
            "grid_row": null,
            "max_height": null,
            "align_content": null,
            "visibility": null,
            "align_self": null,
            "height": null,
            "min_height": null,
            "padding": null,
            "grid_auto_rows": null,
            "grid_gap": null,
            "max_width": null,
            "order": null,
            "_view_module_version": "1.2.0",
            "grid_template_areas": null,
            "object_position": null,
            "object_fit": null,
            "grid_auto_columns": null,
            "margin": null,
            "display": null,
            "left": null
          }
        },
        "b7368460a377449e9090804680899347": {
          "model_module": "@jupyter-widgets/controls",
          "model_name": "DescriptionStyleModel",
          "state": {
            "_view_name": "StyleView",
            "_model_name": "DescriptionStyleModel",
            "description_width": "",
            "_view_module": "@jupyter-widgets/base",
            "_model_module_version": "1.5.0",
            "_view_count": null,
            "_view_module_version": "1.2.0",
            "_model_module": "@jupyter-widgets/controls"
          }
        },
        "930b153b5cdc41e4865b0ef6b9222c50": {
          "model_module": "@jupyter-widgets/base",
          "model_name": "LayoutModel",
          "state": {
            "_view_name": "LayoutView",
            "grid_template_rows": null,
            "right": null,
            "justify_content": null,
            "_view_module": "@jupyter-widgets/base",
            "overflow": null,
            "_model_module_version": "1.2.0",
            "_view_count": null,
            "flex_flow": null,
            "width": null,
            "min_width": null,
            "border": null,
            "align_items": null,
            "bottom": null,
            "_model_module": "@jupyter-widgets/base",
            "top": null,
            "grid_column": null,
            "overflow_y": null,
            "overflow_x": null,
            "grid_auto_flow": null,
            "grid_area": null,
            "grid_template_columns": null,
            "flex": null,
            "_model_name": "LayoutModel",
            "justify_items": null,
            "grid_row": null,
            "max_height": null,
            "align_content": null,
            "visibility": null,
            "align_self": null,
            "height": null,
            "min_height": null,
            "padding": null,
            "grid_auto_rows": null,
            "grid_gap": null,
            "max_width": null,
            "order": null,
            "_view_module_version": "1.2.0",
            "grid_template_areas": null,
            "object_position": null,
            "object_fit": null,
            "grid_auto_columns": null,
            "margin": null,
            "display": null,
            "left": null
          }
        },
        "8175a09d81074bf9ae081345cc11651c": {
          "model_module": "@jupyter-widgets/controls",
          "model_name": "HBoxModel",
          "state": {
            "_view_name": "HBoxView",
            "_dom_classes": [],
            "_model_name": "HBoxModel",
            "_view_module": "@jupyter-widgets/controls",
            "_model_module_version": "1.5.0",
            "_view_count": null,
            "_view_module_version": "1.5.0",
            "box_style": "",
            "layout": "IPY_MODEL_2cf5362f38e940d88b518784e442550a",
            "_model_module": "@jupyter-widgets/controls",
            "children": [
              "IPY_MODEL_85de3747e31f452db99871b09e02c3f9",
              "IPY_MODEL_f96cbf323333466a8125cc08e709176b"
            ]
          }
        },
        "2cf5362f38e940d88b518784e442550a": {
          "model_module": "@jupyter-widgets/base",
          "model_name": "LayoutModel",
          "state": {
            "_view_name": "LayoutView",
            "grid_template_rows": null,
            "right": null,
            "justify_content": null,
            "_view_module": "@jupyter-widgets/base",
            "overflow": null,
            "_model_module_version": "1.2.0",
            "_view_count": null,
            "flex_flow": null,
            "width": null,
            "min_width": null,
            "border": null,
            "align_items": null,
            "bottom": null,
            "_model_module": "@jupyter-widgets/base",
            "top": null,
            "grid_column": null,
            "overflow_y": null,
            "overflow_x": null,
            "grid_auto_flow": null,
            "grid_area": null,
            "grid_template_columns": null,
            "flex": null,
            "_model_name": "LayoutModel",
            "justify_items": null,
            "grid_row": null,
            "max_height": null,
            "align_content": null,
            "visibility": null,
            "align_self": null,
            "height": null,
            "min_height": null,
            "padding": null,
            "grid_auto_rows": null,
            "grid_gap": null,
            "max_width": null,
            "order": null,
            "_view_module_version": "1.2.0",
            "grid_template_areas": null,
            "object_position": null,
            "object_fit": null,
            "grid_auto_columns": null,
            "margin": null,
            "display": null,
            "left": null
          }
        },
        "85de3747e31f452db99871b09e02c3f9": {
          "model_module": "@jupyter-widgets/controls",
          "model_name": "FloatProgressModel",
          "state": {
            "_view_name": "ProgressView",
            "style": "IPY_MODEL_c658fdf0363e4761b41db7023cc943e0",
            "_dom_classes": [],
            "description": "",
            "_model_name": "FloatProgressModel",
            "bar_style": "success",
            "max": 1,
            "_view_module": "@jupyter-widgets/controls",
            "_model_module_version": "1.5.0",
            "value": 1,
            "_view_count": null,
            "_view_module_version": "1.5.0",
            "orientation": "horizontal",
            "min": 0,
            "description_tooltip": null,
            "_model_module": "@jupyter-widgets/controls",
            "layout": "IPY_MODEL_804e8f64bf9d44eabee7e4ce2bd6aee1"
          }
        },
        "f96cbf323333466a8125cc08e709176b": {
          "model_module": "@jupyter-widgets/controls",
          "model_name": "HTMLModel",
          "state": {
            "_view_name": "HTMLView",
            "style": "IPY_MODEL_5d9fc9c9525248ad968dc068c3e34428",
            "_dom_classes": [],
            "description": "",
            "_model_name": "HTMLModel",
            "placeholder": "​",
            "_view_module": "@jupyter-widgets/controls",
            "_model_module_version": "1.5.0",
            "value": " 32768/? [00:00&lt;00:00, 237150.57it/s]",
            "_view_count": null,
            "_view_module_version": "1.5.0",
            "description_tooltip": null,
            "_model_module": "@jupyter-widgets/controls",
            "layout": "IPY_MODEL_6cfdc6a2da7a4b6a9b3fc1ac382ed967"
          }
        },
        "c658fdf0363e4761b41db7023cc943e0": {
          "model_module": "@jupyter-widgets/controls",
          "model_name": "ProgressStyleModel",
          "state": {
            "_view_name": "StyleView",
            "_model_name": "ProgressStyleModel",
            "description_width": "initial",
            "_view_module": "@jupyter-widgets/base",
            "_model_module_version": "1.5.0",
            "_view_count": null,
            "_view_module_version": "1.2.0",
            "bar_color": null,
            "_model_module": "@jupyter-widgets/controls"
          }
        },
        "804e8f64bf9d44eabee7e4ce2bd6aee1": {
          "model_module": "@jupyter-widgets/base",
          "model_name": "LayoutModel",
          "state": {
            "_view_name": "LayoutView",
            "grid_template_rows": null,
            "right": null,
            "justify_content": null,
            "_view_module": "@jupyter-widgets/base",
            "overflow": null,
            "_model_module_version": "1.2.0",
            "_view_count": null,
            "flex_flow": null,
            "width": null,
            "min_width": null,
            "border": null,
            "align_items": null,
            "bottom": null,
            "_model_module": "@jupyter-widgets/base",
            "top": null,
            "grid_column": null,
            "overflow_y": null,
            "overflow_x": null,
            "grid_auto_flow": null,
            "grid_area": null,
            "grid_template_columns": null,
            "flex": null,
            "_model_name": "LayoutModel",
            "justify_items": null,
            "grid_row": null,
            "max_height": null,
            "align_content": null,
            "visibility": null,
            "align_self": null,
            "height": null,
            "min_height": null,
            "padding": null,
            "grid_auto_rows": null,
            "grid_gap": null,
            "max_width": null,
            "order": null,
            "_view_module_version": "1.2.0",
            "grid_template_areas": null,
            "object_position": null,
            "object_fit": null,
            "grid_auto_columns": null,
            "margin": null,
            "display": null,
            "left": null
          }
        },
        "5d9fc9c9525248ad968dc068c3e34428": {
          "model_module": "@jupyter-widgets/controls",
          "model_name": "DescriptionStyleModel",
          "state": {
            "_view_name": "StyleView",
            "_model_name": "DescriptionStyleModel",
            "description_width": "",
            "_view_module": "@jupyter-widgets/base",
            "_model_module_version": "1.5.0",
            "_view_count": null,
            "_view_module_version": "1.2.0",
            "_model_module": "@jupyter-widgets/controls"
          }
        },
        "6cfdc6a2da7a4b6a9b3fc1ac382ed967": {
          "model_module": "@jupyter-widgets/base",
          "model_name": "LayoutModel",
          "state": {
            "_view_name": "LayoutView",
            "grid_template_rows": null,
            "right": null,
            "justify_content": null,
            "_view_module": "@jupyter-widgets/base",
            "overflow": null,
            "_model_module_version": "1.2.0",
            "_view_count": null,
            "flex_flow": null,
            "width": null,
            "min_width": null,
            "border": null,
            "align_items": null,
            "bottom": null,
            "_model_module": "@jupyter-widgets/base",
            "top": null,
            "grid_column": null,
            "overflow_y": null,
            "overflow_x": null,
            "grid_auto_flow": null,
            "grid_area": null,
            "grid_template_columns": null,
            "flex": null,
            "_model_name": "LayoutModel",
            "justify_items": null,
            "grid_row": null,
            "max_height": null,
            "align_content": null,
            "visibility": null,
            "align_self": null,
            "height": null,
            "min_height": null,
            "padding": null,
            "grid_auto_rows": null,
            "grid_gap": null,
            "max_width": null,
            "order": null,
            "_view_module_version": "1.2.0",
            "grid_template_areas": null,
            "object_position": null,
            "object_fit": null,
            "grid_auto_columns": null,
            "margin": null,
            "display": null,
            "left": null
          }
        },
        "212fa7fc85a94ee18b0f0028359bb0b6": {
          "model_module": "@jupyter-widgets/controls",
          "model_name": "HBoxModel",
          "state": {
            "_view_name": "HBoxView",
            "_dom_classes": [],
            "_model_name": "HBoxModel",
            "_view_module": "@jupyter-widgets/controls",
            "_model_module_version": "1.5.0",
            "_view_count": null,
            "_view_module_version": "1.5.0",
            "box_style": "",
            "layout": "IPY_MODEL_58cced62e1b24b29965dfe02b8fb56c6",
            "_model_module": "@jupyter-widgets/controls",
            "children": [
              "IPY_MODEL_29e61d54ae904f3c8a2d7093a3c20280",
              "IPY_MODEL_a09aac1c6ba74eff8271f47c38073f5d"
            ]
          }
        },
        "58cced62e1b24b29965dfe02b8fb56c6": {
          "model_module": "@jupyter-widgets/base",
          "model_name": "LayoutModel",
          "state": {
            "_view_name": "LayoutView",
            "grid_template_rows": null,
            "right": null,
            "justify_content": null,
            "_view_module": "@jupyter-widgets/base",
            "overflow": null,
            "_model_module_version": "1.2.0",
            "_view_count": null,
            "flex_flow": null,
            "width": null,
            "min_width": null,
            "border": null,
            "align_items": null,
            "bottom": null,
            "_model_module": "@jupyter-widgets/base",
            "top": null,
            "grid_column": null,
            "overflow_y": null,
            "overflow_x": null,
            "grid_auto_flow": null,
            "grid_area": null,
            "grid_template_columns": null,
            "flex": null,
            "_model_name": "LayoutModel",
            "justify_items": null,
            "grid_row": null,
            "max_height": null,
            "align_content": null,
            "visibility": null,
            "align_self": null,
            "height": null,
            "min_height": null,
            "padding": null,
            "grid_auto_rows": null,
            "grid_gap": null,
            "max_width": null,
            "order": null,
            "_view_module_version": "1.2.0",
            "grid_template_areas": null,
            "object_position": null,
            "object_fit": null,
            "grid_auto_columns": null,
            "margin": null,
            "display": null,
            "left": null
          }
        },
        "29e61d54ae904f3c8a2d7093a3c20280": {
          "model_module": "@jupyter-widgets/controls",
          "model_name": "FloatProgressModel",
          "state": {
            "_view_name": "ProgressView",
            "style": "IPY_MODEL_96de931324b24dccb612ca433ef16acf",
            "_dom_classes": [],
            "description": "  0%",
            "_model_name": "FloatProgressModel",
            "bar_style": "info",
            "max": 1,
            "_view_module": "@jupyter-widgets/controls",
            "_model_module_version": "1.5.0",
            "value": 0,
            "_view_count": null,
            "_view_module_version": "1.5.0",
            "orientation": "horizontal",
            "min": 0,
            "description_tooltip": null,
            "_model_module": "@jupyter-widgets/controls",
            "layout": "IPY_MODEL_99818f55f21b43839512118303ca6098"
          }
        },
        "a09aac1c6ba74eff8271f47c38073f5d": {
          "model_module": "@jupyter-widgets/controls",
          "model_name": "HTMLModel",
          "state": {
            "_view_name": "HTMLView",
            "style": "IPY_MODEL_f3ae031783954e13b66c1a7d49ffe2db",
            "_dom_classes": [],
            "description": "",
            "_model_name": "HTMLModel",
            "placeholder": "​",
            "_view_module": "@jupyter-widgets/controls",
            "_model_module_version": "1.5.0",
            "value": " 0/4422102 [00:00&lt;?, ?it/s]",
            "_view_count": null,
            "_view_module_version": "1.5.0",
            "description_tooltip": null,
            "_model_module": "@jupyter-widgets/controls",
            "layout": "IPY_MODEL_40353ef986a94b98a84bad20d7f00879"
          }
        },
        "96de931324b24dccb612ca433ef16acf": {
          "model_module": "@jupyter-widgets/controls",
          "model_name": "ProgressStyleModel",
          "state": {
            "_view_name": "StyleView",
            "_model_name": "ProgressStyleModel",
            "description_width": "initial",
            "_view_module": "@jupyter-widgets/base",
            "_model_module_version": "1.5.0",
            "_view_count": null,
            "_view_module_version": "1.2.0",
            "bar_color": null,
            "_model_module": "@jupyter-widgets/controls"
          }
        },
        "99818f55f21b43839512118303ca6098": {
          "model_module": "@jupyter-widgets/base",
          "model_name": "LayoutModel",
          "state": {
            "_view_name": "LayoutView",
            "grid_template_rows": null,
            "right": null,
            "justify_content": null,
            "_view_module": "@jupyter-widgets/base",
            "overflow": null,
            "_model_module_version": "1.2.0",
            "_view_count": null,
            "flex_flow": null,
            "width": null,
            "min_width": null,
            "border": null,
            "align_items": null,
            "bottom": null,
            "_model_module": "@jupyter-widgets/base",
            "top": null,
            "grid_column": null,
            "overflow_y": null,
            "overflow_x": null,
            "grid_auto_flow": null,
            "grid_area": null,
            "grid_template_columns": null,
            "flex": null,
            "_model_name": "LayoutModel",
            "justify_items": null,
            "grid_row": null,
            "max_height": null,
            "align_content": null,
            "visibility": null,
            "align_self": null,
            "height": null,
            "min_height": null,
            "padding": null,
            "grid_auto_rows": null,
            "grid_gap": null,
            "max_width": null,
            "order": null,
            "_view_module_version": "1.2.0",
            "grid_template_areas": null,
            "object_position": null,
            "object_fit": null,
            "grid_auto_columns": null,
            "margin": null,
            "display": null,
            "left": null
          }
        },
        "f3ae031783954e13b66c1a7d49ffe2db": {
          "model_module": "@jupyter-widgets/controls",
          "model_name": "DescriptionStyleModel",
          "state": {
            "_view_name": "StyleView",
            "_model_name": "DescriptionStyleModel",
            "description_width": "",
            "_view_module": "@jupyter-widgets/base",
            "_model_module_version": "1.5.0",
            "_view_count": null,
            "_view_module_version": "1.2.0",
            "_model_module": "@jupyter-widgets/controls"
          }
        },
        "40353ef986a94b98a84bad20d7f00879": {
          "model_module": "@jupyter-widgets/base",
          "model_name": "LayoutModel",
          "state": {
            "_view_name": "LayoutView",
            "grid_template_rows": null,
            "right": null,
            "justify_content": null,
            "_view_module": "@jupyter-widgets/base",
            "overflow": null,
            "_model_module_version": "1.2.0",
            "_view_count": null,
            "flex_flow": null,
            "width": null,
            "min_width": null,
            "border": null,
            "align_items": null,
            "bottom": null,
            "_model_module": "@jupyter-widgets/base",
            "top": null,
            "grid_column": null,
            "overflow_y": null,
            "overflow_x": null,
            "grid_auto_flow": null,
            "grid_area": null,
            "grid_template_columns": null,
            "flex": null,
            "_model_name": "LayoutModel",
            "justify_items": null,
            "grid_row": null,
            "max_height": null,
            "align_content": null,
            "visibility": null,
            "align_self": null,
            "height": null,
            "min_height": null,
            "padding": null,
            "grid_auto_rows": null,
            "grid_gap": null,
            "max_width": null,
            "order": null,
            "_view_module_version": "1.2.0",
            "grid_template_areas": null,
            "object_position": null,
            "object_fit": null,
            "grid_auto_columns": null,
            "margin": null,
            "display": null,
            "left": null
          }
        },
        "93777632ce284aa88576f78c0cc2324a": {
          "model_module": "@jupyter-widgets/controls",
          "model_name": "HBoxModel",
          "state": {
            "_view_name": "HBoxView",
            "_dom_classes": [],
            "_model_name": "HBoxModel",
            "_view_module": "@jupyter-widgets/controls",
            "_model_module_version": "1.5.0",
            "_view_count": null,
            "_view_module_version": "1.5.0",
            "box_style": "",
            "layout": "IPY_MODEL_fb2378a9aa5b496b8ddfa565259e0c51",
            "_model_module": "@jupyter-widgets/controls",
            "children": [
              "IPY_MODEL_3ad7b481660a43d1bf65a9c988e19226",
              "IPY_MODEL_05bab0c855104c11a235b9363dddfc39"
            ]
          }
        },
        "fb2378a9aa5b496b8ddfa565259e0c51": {
          "model_module": "@jupyter-widgets/base",
          "model_name": "LayoutModel",
          "state": {
            "_view_name": "LayoutView",
            "grid_template_rows": null,
            "right": null,
            "justify_content": null,
            "_view_module": "@jupyter-widgets/base",
            "overflow": null,
            "_model_module_version": "1.2.0",
            "_view_count": null,
            "flex_flow": null,
            "width": null,
            "min_width": null,
            "border": null,
            "align_items": null,
            "bottom": null,
            "_model_module": "@jupyter-widgets/base",
            "top": null,
            "grid_column": null,
            "overflow_y": null,
            "overflow_x": null,
            "grid_auto_flow": null,
            "grid_area": null,
            "grid_template_columns": null,
            "flex": null,
            "_model_name": "LayoutModel",
            "justify_items": null,
            "grid_row": null,
            "max_height": null,
            "align_content": null,
            "visibility": null,
            "align_self": null,
            "height": null,
            "min_height": null,
            "padding": null,
            "grid_auto_rows": null,
            "grid_gap": null,
            "max_width": null,
            "order": null,
            "_view_module_version": "1.2.0",
            "grid_template_areas": null,
            "object_position": null,
            "object_fit": null,
            "grid_auto_columns": null,
            "margin": null,
            "display": null,
            "left": null
          }
        },
        "3ad7b481660a43d1bf65a9c988e19226": {
          "model_module": "@jupyter-widgets/controls",
          "model_name": "FloatProgressModel",
          "state": {
            "_view_name": "ProgressView",
            "style": "IPY_MODEL_0e634e30b75b4f9e923aa5c915459ffd",
            "_dom_classes": [],
            "description": "",
            "_model_name": "FloatProgressModel",
            "bar_style": "info",
            "max": 1,
            "_view_module": "@jupyter-widgets/controls",
            "_model_module_version": "1.5.0",
            "value": 0,
            "_view_count": null,
            "_view_module_version": "1.5.0",
            "orientation": "horizontal",
            "min": 0,
            "description_tooltip": null,
            "_model_module": "@jupyter-widgets/controls",
            "layout": "IPY_MODEL_6d99c4ca49d045ffa7b663db14afef7c"
          }
        },
        "05bab0c855104c11a235b9363dddfc39": {
          "model_module": "@jupyter-widgets/controls",
          "model_name": "HTMLModel",
          "state": {
            "_view_name": "HTMLView",
            "style": "IPY_MODEL_f502e042de664d9a9a44ce30aaa4b53b",
            "_dom_classes": [],
            "description": "",
            "_model_name": "HTMLModel",
            "placeholder": "​",
            "_view_module": "@jupyter-widgets/controls",
            "_model_module_version": "1.5.0",
            "value": " 0/? [00:00&lt;?, ?it/s]",
            "_view_count": null,
            "_view_module_version": "1.5.0",
            "description_tooltip": null,
            "_model_module": "@jupyter-widgets/controls",
            "layout": "IPY_MODEL_5f10f0991f8648da93f6ba1ae01ee51f"
          }
        },
        "0e634e30b75b4f9e923aa5c915459ffd": {
          "model_module": "@jupyter-widgets/controls",
          "model_name": "ProgressStyleModel",
          "state": {
            "_view_name": "StyleView",
            "_model_name": "ProgressStyleModel",
            "description_width": "initial",
            "_view_module": "@jupyter-widgets/base",
            "_model_module_version": "1.5.0",
            "_view_count": null,
            "_view_module_version": "1.2.0",
            "bar_color": null,
            "_model_module": "@jupyter-widgets/controls"
          }
        },
        "6d99c4ca49d045ffa7b663db14afef7c": {
          "model_module": "@jupyter-widgets/base",
          "model_name": "LayoutModel",
          "state": {
            "_view_name": "LayoutView",
            "grid_template_rows": null,
            "right": null,
            "justify_content": null,
            "_view_module": "@jupyter-widgets/base",
            "overflow": null,
            "_model_module_version": "1.2.0",
            "_view_count": null,
            "flex_flow": null,
            "width": null,
            "min_width": null,
            "border": null,
            "align_items": null,
            "bottom": null,
            "_model_module": "@jupyter-widgets/base",
            "top": null,
            "grid_column": null,
            "overflow_y": null,
            "overflow_x": null,
            "grid_auto_flow": null,
            "grid_area": null,
            "grid_template_columns": null,
            "flex": null,
            "_model_name": "LayoutModel",
            "justify_items": null,
            "grid_row": null,
            "max_height": null,
            "align_content": null,
            "visibility": null,
            "align_self": null,
            "height": null,
            "min_height": null,
            "padding": null,
            "grid_auto_rows": null,
            "grid_gap": null,
            "max_width": null,
            "order": null,
            "_view_module_version": "1.2.0",
            "grid_template_areas": null,
            "object_position": null,
            "object_fit": null,
            "grid_auto_columns": null,
            "margin": null,
            "display": null,
            "left": null
          }
        },
        "f502e042de664d9a9a44ce30aaa4b53b": {
          "model_module": "@jupyter-widgets/controls",
          "model_name": "DescriptionStyleModel",
          "state": {
            "_view_name": "StyleView",
            "_model_name": "DescriptionStyleModel",
            "description_width": "",
            "_view_module": "@jupyter-widgets/base",
            "_model_module_version": "1.5.0",
            "_view_count": null,
            "_view_module_version": "1.2.0",
            "_model_module": "@jupyter-widgets/controls"
          }
        },
        "5f10f0991f8648da93f6ba1ae01ee51f": {
          "model_module": "@jupyter-widgets/base",
          "model_name": "LayoutModel",
          "state": {
            "_view_name": "LayoutView",
            "grid_template_rows": null,
            "right": null,
            "justify_content": null,
            "_view_module": "@jupyter-widgets/base",
            "overflow": null,
            "_model_module_version": "1.2.0",
            "_view_count": null,
            "flex_flow": null,
            "width": null,
            "min_width": null,
            "border": null,
            "align_items": null,
            "bottom": null,
            "_model_module": "@jupyter-widgets/base",
            "top": null,
            "grid_column": null,
            "overflow_y": null,
            "overflow_x": null,
            "grid_auto_flow": null,
            "grid_area": null,
            "grid_template_columns": null,
            "flex": null,
            "_model_name": "LayoutModel",
            "justify_items": null,
            "grid_row": null,
            "max_height": null,
            "align_content": null,
            "visibility": null,
            "align_self": null,
            "height": null,
            "min_height": null,
            "padding": null,
            "grid_auto_rows": null,
            "grid_gap": null,
            "max_width": null,
            "order": null,
            "_view_module_version": "1.2.0",
            "grid_template_areas": null,
            "object_position": null,
            "object_fit": null,
            "grid_auto_columns": null,
            "margin": null,
            "display": null,
            "left": null
          }
        }
      }
    },
    "accelerator": "GPU"
  },
  "cells": [
    {
      "cell_type": "markdown",
      "metadata": {
        "id": "view-in-github",
        "colab_type": "text"
      },
      "source": [
        "<a href=\"https://colab.research.google.com/github/YMGYM/python_deeplearning_pytorch/blob/main/Pytorch_part1~.ipynb\" target=\"_parent\"><img src=\"https://colab.research.google.com/assets/colab-badge.svg\" alt=\"Open In Colab\"/></a>"
      ]
    },
    {
      "cell_type": "markdown",
      "metadata": {
        "id": "8h4T2o-QlVbI"
      },
      "source": [
        "# Introduction\n",
        "\n",
        "이 노트북은 `파이썬 딥러닝 파이토치` 책의 연습코드입니다.\n",
        "\n",
        "코드는 [이곳](https://github.com/Justin-A/DeepLearning101) 에서 전문을 확인 가능합니다.\n",
        "\n",
        "이 노트북은 1장~ 내용을 다루고 있습니다."
      ]
    },
    {
      "cell_type": "markdown",
      "metadata": {
        "id": "i5bywaDRlJlq"
      },
      "source": [
        "# 파이토치 기초\n",
        "\n",
        "## 환경 구축 및 토치 설치\n",
        "\n",
        "Google Colab을 통해 진행하기 때문에 이 부분은 생략하겠다.\n",
        "\n",
        "Colab에는 Torch가 이미 설치되어 있다."
      ]
    },
    {
      "cell_type": "code",
      "metadata": {
        "colab": {
          "base_uri": "https://localhost:8080/",
          "height": 35
        },
        "id": "7OBQ7gobmUVN",
        "outputId": "23dc89df-6b81-4085-c565-4ade3b071bad"
      },
      "source": [
        "import torch\n",
        "\n",
        "torch.__version__ # 토치의 버전을 확인하는 코드"
      ],
      "execution_count": null,
      "outputs": [
        {
          "output_type": "execute_result",
          "data": {
            "application/vnd.google.colaboratory.intrinsic+json": {
              "type": "string"
            },
            "text/plain": [
              "'1.7.0+cu101'"
            ]
          },
          "metadata": {
            "tags": []
          },
          "execution_count": 2
        }
      ]
    },
    {
      "cell_type": "markdown",
      "metadata": {
        "id": "0rqemmFWmV28"
      },
      "source": [
        "## 1 - 4 반드시 알아야 하는 파이토치 스킬\n",
        "\n",
        "### 1) 텐서\n",
        "\n",
        "#### Scalar\n",
        "상수값. (차원이 없는 값)\n",
        "\n",
        "파이썬의 기본연산자와 `torch` 메소드를 통해 사용이 가능하다."
      ]
    },
    {
      "cell_type": "code",
      "metadata": {
        "colab": {
          "base_uri": "https://localhost:8080/"
        },
        "id": "fU03xCFNm1-r",
        "outputId": "12f80721-e420-4dd6-e240-26d784e2c342"
      },
      "source": [
        "import torch\n",
        "scalar1 = torch.tensor([1.])\n",
        "scalar2 = torch.tensor([3.])\n",
        "\n",
        "print(scalar1)\n",
        "print(scalar2)"
      ],
      "execution_count": null,
      "outputs": [
        {
          "output_type": "stream",
          "text": [
            "tensor([1.])\n",
            "tensor([3.])\n"
          ],
          "name": "stdout"
        }
      ]
    },
    {
      "cell_type": "code",
      "metadata": {
        "colab": {
          "base_uri": "https://localhost:8080/"
        },
        "id": "1KGAEDvenYet",
        "outputId": "126a653f-76a3-41ef-d780-c5b2a651878d"
      },
      "source": [
        "# 사칙연산자\n",
        "add_scalar = scalar1 + scalar2\n",
        "print(add_scalar)\n",
        "\n",
        "sub_scalar = scalar1 - scalar2\n",
        "print(sub_scalar)\n",
        "\n",
        "mul_scalar = scalar1 * scalar2\n",
        "print(mul_scalar)\n",
        "\n",
        "div_scalar = scalar1 / scalar2\n",
        "print(div_scalar)"
      ],
      "execution_count": null,
      "outputs": [
        {
          "output_type": "stream",
          "text": [
            "tensor([4.])\n",
            "tensor([-2.])\n",
            "tensor([3.])\n",
            "tensor([0.3333])\n"
          ],
          "name": "stdout"
        }
      ]
    },
    {
      "cell_type": "code",
      "metadata": {
        "colab": {
          "base_uri": "https://localhost:8080/"
        },
        "id": "09wt1ihUnrYm",
        "outputId": "b0e58ccd-db09-4542-af58-4d3b69a6a62f"
      },
      "source": [
        "# torch 모듈의 메소드로 연산 위와 결과가 같다.\n",
        "print(torch.add(scalar1, scalar2))\n",
        "print(torch.sub(scalar1, scalar2))\n",
        "print(torch.mul(scalar1, scalar2))\n",
        "print(torch.div(scalar1, scalar2))"
      ],
      "execution_count": null,
      "outputs": [
        {
          "output_type": "stream",
          "text": [
            "tensor([4.])\n",
            "tensor([-2.])\n",
            "tensor([3.])\n",
            "tensor([0.3333])\n"
          ],
          "name": "stdout"
        }
      ]
    },
    {
      "cell_type": "markdown",
      "metadata": {
        "id": "K_mQPLKTn4NY"
      },
      "source": [
        "#### Vector\n",
        "\n",
        "값을 2개 이상의 수치로 표현하는 방법\n",
        "\n",
        "스칼라 사칙연산과 동일한 방법으로 연산이 가능하나, 사칙연산의 경우 element-wise 하게 계산됨"
      ]
    },
    {
      "cell_type": "code",
      "metadata": {
        "colab": {
          "base_uri": "https://localhost:8080/"
        },
        "id": "KsEmtxrroVsM",
        "outputId": "3f7d2d8d-749c-4573-8e8f-83f7f4a58152"
      },
      "source": [
        " # 벡터 정의\n",
        " vector1 = torch.tensor([1., 2., 3.])\n",
        " vector2 = torch.tensor([4., 5., 6.])\n",
        "\n",
        " print(vector1)\n",
        " print(vector2)"
      ],
      "execution_count": null,
      "outputs": [
        {
          "output_type": "stream",
          "text": [
            "tensor([1., 2., 3.])\n",
            "tensor([4., 5., 6.])\n"
          ],
          "name": "stdout"
        }
      ]
    },
    {
      "cell_type": "code",
      "metadata": {
        "colab": {
          "base_uri": "https://localhost:8080/"
        },
        "id": "RL7MyiDmonHN",
        "outputId": "176e5586-56ff-4e35-f4b5-0db9eec160b2"
      },
      "source": [
        "# 벡터와 사칙연산자\n",
        "add_vector = vector1 + vector2\n",
        "print(add_vector)\n",
        "\n",
        "sub_vector = vector1 - vector2\n",
        "print(sub_vector)\n",
        "\n",
        "mul_vector = vector1 * vector2 # element-wise 하게 계산\n",
        "print(mul_vector)\n",
        "\n",
        "div_vector = vector1 / vector2 # element-wise 하게 계산\n",
        "print(div_vector)"
      ],
      "execution_count": null,
      "outputs": [
        {
          "output_type": "stream",
          "text": [
            "tensor([5., 7., 9.])\n",
            "tensor([-3., -3., -3.])\n",
            "tensor([ 4., 10., 18.])\n",
            "tensor([0.2500, 0.4000, 0.5000])\n"
          ],
          "name": "stdout"
        }
      ]
    },
    {
      "cell_type": "code",
      "metadata": {
        "colab": {
          "base_uri": "https://localhost:8080/"
        },
        "id": "gRCoYJYMpEiZ",
        "outputId": "f9603fd7-2e4b-42ad-ee18-1ef5c0b24ffd"
      },
      "source": [
        "# 내장 메소드를 사용한 연산\n",
        "print(torch.add(vector1, vector2))\n",
        "print(torch.sub(vector1, vector2))\n",
        "print(torch.mul(vector1, vector2)) # element-wise 하게 계산\n",
        "print(torch.div(vector1, vector2)) # element-wise 하게 계산\n",
        "\n",
        "# 벡터 간 내적은 다음과 같이 계산\n",
        "print(torch.dot(vector1, vector2)) "
      ],
      "execution_count": null,
      "outputs": [
        {
          "output_type": "stream",
          "text": [
            "tensor([5., 7., 9.])\n",
            "tensor([-3., -3., -3.])\n",
            "tensor([ 4., 10., 18.])\n",
            "tensor([0.2500, 0.4000, 0.5000])\n",
            "tensor(32.)\n"
          ],
          "name": "stdout"
        }
      ]
    },
    {
      "cell_type": "markdown",
      "metadata": {
        "id": "iZGwYbpKpdz-"
      },
      "source": [
        "#### Matrix\n",
        "\n",
        "행렬은 2개 이상의 벡터값을 통합해 구성된 값이다.\n",
        "\n",
        "사칙 연산 또한 연산자와 내장 메소드로 구현이 가능하며, element-wise하게 계산된다."
      ]
    },
    {
      "cell_type": "code",
      "metadata": {
        "colab": {
          "base_uri": "https://localhost:8080/"
        },
        "id": "YiHlHmrlp0bc",
        "outputId": "bd9a8830-d390-4d1a-dcd7-324dced42a54"
      },
      "source": [
        "# 행렬 선언\n",
        "matrix1 = torch.tensor([[1.,2.],[3.,4.]])\n",
        "matrix2 = torch.tensor([[5.,6.],[7.,8.]])\n",
        "\n",
        "print(matrix1)\n",
        "print(matrix2)"
      ],
      "execution_count": null,
      "outputs": [
        {
          "output_type": "stream",
          "text": [
            "tensor([[1., 2.],\n",
            "        [3., 4.]])\n",
            "tensor([[5., 6.],\n",
            "        [7., 8.]])\n"
          ],
          "name": "stdout"
        }
      ]
    },
    {
      "cell_type": "code",
      "metadata": {
        "colab": {
          "base_uri": "https://localhost:8080/"
        },
        "id": "fmY3fti6qBVS",
        "outputId": "ebceccc1-7fe4-45ce-dc8f-3d6a3d004533"
      },
      "source": [
        "# 행렬 간 사칙연산\n",
        "add_matrix = matrix1 + matrix2\n",
        "print(add_matrix)\n",
        "\n",
        "sub_matrix = matrix1 - matrix2\n",
        "print(sub_matrix)\n",
        "\n",
        "mul_matrix = matrix1 * matrix2 # element-wise\n",
        "print(mul_matrix)\n",
        "\n",
        "div_matrix = matrix1 / matrix2 # element-wise\n",
        "print(div_matrix)"
      ],
      "execution_count": null,
      "outputs": [
        {
          "output_type": "stream",
          "text": [
            "tensor([[ 6.,  8.],\n",
            "        [10., 12.]])\n",
            "tensor([[-4., -4.],\n",
            "        [-4., -4.]])\n",
            "tensor([[ 5., 12.],\n",
            "        [21., 32.]])\n",
            "tensor([[0.2000, 0.3333],\n",
            "        [0.4286, 0.5000]])\n"
          ],
          "name": "stdout"
        }
      ]
    },
    {
      "cell_type": "code",
      "metadata": {
        "colab": {
          "base_uri": "https://localhost:8080/"
        },
        "id": "AQmsIeRqqjIo",
        "outputId": "1df7726f-9d44-4b5a-b259-cc4a318cf74b"
      },
      "source": [
        "# 내장 메소드를 사용한 연산과정\n",
        "print(torch.add(matrix1, matrix2))\n",
        "print(torch.sub(matrix1, matrix2))\n",
        "print(torch.mul(matrix1, matrix2)) # element-wise\n",
        "print(torch.div(matrix1, matrix2)) # element-wise\n",
        "\n",
        "# 행렬의 곱연산 실행\n",
        "print(torch.matmul(matrix1, matrix2))"
      ],
      "execution_count": null,
      "outputs": [
        {
          "output_type": "stream",
          "text": [
            "tensor([[ 6.,  8.],\n",
            "        [10., 12.]])\n",
            "tensor([[-4., -4.],\n",
            "        [-4., -4.]])\n",
            "tensor([[ 5., 12.],\n",
            "        [21., 32.]])\n",
            "tensor([[0.2000, 0.3333],\n",
            "        [0.4286, 0.5000]])\n",
            "tensor([[19., 22.],\n",
            "        [43., 50.]])\n"
          ],
          "name": "stdout"
        }
      ]
    },
    {
      "cell_type": "code",
      "metadata": {
        "colab": {
          "base_uri": "https://localhost:8080/",
          "height": 181
        },
        "id": "CX1DSDbarfex",
        "outputId": "b7df159c-26f1-4c2e-bba2-bcf2b766edda"
      },
      "source": [
        "# TF에서는 Dot연산자를 사용해서도 되던데 토치도 가능할까?\n",
        "torch.dot(matrix1, matrix2)"
      ],
      "execution_count": null,
      "outputs": [
        {
          "output_type": "error",
          "ename": "RuntimeError",
          "evalue": "ignored",
          "traceback": [
            "\u001b[0;31m---------------------------------------------------------------------------\u001b[0m",
            "\u001b[0;31mRuntimeError\u001b[0m                              Traceback (most recent call last)",
            "\u001b[0;32m<ipython-input-13-c88aed1ccc29>\u001b[0m in \u001b[0;36m<module>\u001b[0;34m()\u001b[0m\n\u001b[1;32m      1\u001b[0m \u001b[0;31m# TF에서는 Dot연산자를 사용해서도 되던데 토치도 가능할까?\u001b[0m\u001b[0;34m\u001b[0m\u001b[0;34m\u001b[0m\u001b[0;34m\u001b[0m\u001b[0m\n\u001b[0;32m----> 2\u001b[0;31m \u001b[0mtorch\u001b[0m\u001b[0;34m.\u001b[0m\u001b[0mdot\u001b[0m\u001b[0;34m(\u001b[0m\u001b[0mmatrix1\u001b[0m\u001b[0;34m,\u001b[0m \u001b[0mmatrix2\u001b[0m\u001b[0;34m)\u001b[0m\u001b[0;34m\u001b[0m\u001b[0;34m\u001b[0m\u001b[0m\n\u001b[0m",
            "\u001b[0;31mRuntimeError\u001b[0m: 1D tensors expected, but got 2D and 2D tensors"
          ]
        }
      ]
    },
    {
      "cell_type": "markdown",
      "metadata": {
        "id": "9CtAiIJ3rmsr"
      },
      "source": [
        "안된다..ㅋㅋㅋ\n",
        "\n",
        "Torch에서는 2차원 이상의 데이터는 `torch.matmul`을 사용할 필요가 있어 보인다\n",
        "\n",
        "#### Tensor\n",
        "\n",
        "텐서는 2차원 이상의 배열이라 표현.\n",
        "\n",
        "마찬가지로 사칙연산자와 내장 메소드를 사용해 계산이 가능하며, element-wise 하게 계산된다."
      ]
    },
    {
      "cell_type": "code",
      "metadata": {
        "colab": {
          "base_uri": "https://localhost:8080/"
        },
        "id": "QaD9D5h8rrHj",
        "outputId": "937954ed-c444-4979-e505-feb244c6d30c"
      },
      "source": [
        "tensor1 = torch.tensor([[[1.,2.],[3.,4.]], [[5.,6.],[7.,8.]]])\n",
        "print(tensor1)\n",
        "\n",
        "print(tensor1.shape) # numpy의 shape메소드를 확인하는 게 아니다.."
      ],
      "execution_count": null,
      "outputs": [
        {
          "output_type": "stream",
          "text": [
            "tensor([[[1., 2.],\n",
            "         [3., 4.]],\n",
            "\n",
            "        [[5., 6.],\n",
            "         [7., 8.]]])\n",
            "torch.Size([2, 2, 2])\n"
          ],
          "name": "stdout"
        }
      ]
    },
    {
      "cell_type": "code",
      "metadata": {
        "colab": {
          "base_uri": "https://localhost:8080/"
        },
        "id": "hT0wA3R0sP6r",
        "outputId": "c404f2f8-f2a9-43e7-9b9c-7bc3016988d1"
      },
      "source": [
        "tensor2 = torch.tensor([[[9.,10.],[11.,12.]],[[13.,14.], [15.,16.]]])\n",
        "print(tensor2)"
      ],
      "execution_count": null,
      "outputs": [
        {
          "output_type": "stream",
          "text": [
            "tensor([[[ 9., 10.],\n",
            "         [11., 12.]],\n",
            "\n",
            "        [[13., 14.],\n",
            "         [15., 16.]]])\n"
          ],
          "name": "stdout"
        }
      ]
    },
    {
      "cell_type": "code",
      "metadata": {
        "colab": {
          "base_uri": "https://localhost:8080/"
        },
        "id": "aVaVnS7GskI8",
        "outputId": "bbf0d2a1-a181-4f0f-81db-9aa6a377b894"
      },
      "source": [
        "# 사칙연산자를 사용한 연산\n",
        "add_tensor = tensor1 + tensor2\n",
        "print(add_tensor)\n",
        "\n",
        "sub_tensor = tensor1 - tensor2\n",
        "print(sub_tensor)\n",
        "\n",
        "mul_tensor = tensor1 * tensor2 # element-wise 하게 계산됨\n",
        "print(mul_tensor)\n",
        "\n",
        "div_tensor = tensor1 / tensor2 # element-wise 하게 계산됨\n",
        "print(div_tensor)"
      ],
      "execution_count": null,
      "outputs": [
        {
          "output_type": "stream",
          "text": [
            "tensor([[[10., 12.],\n",
            "         [14., 16.]],\n",
            "\n",
            "        [[18., 20.],\n",
            "         [22., 24.]]])\n",
            "tensor([[[-8., -8.],\n",
            "         [-8., -8.]],\n",
            "\n",
            "        [[-8., -8.],\n",
            "         [-8., -8.]]])\n",
            "tensor([[[  9.,  20.],\n",
            "         [ 33.,  48.]],\n",
            "\n",
            "        [[ 65.,  84.],\n",
            "         [105., 128.]]])\n",
            "tensor([[[0.1111, 0.2000],\n",
            "         [0.2727, 0.3333]],\n",
            "\n",
            "        [[0.3846, 0.4286],\n",
            "         [0.4667, 0.5000]]])\n"
          ],
          "name": "stdout"
        }
      ]
    },
    {
      "cell_type": "code",
      "metadata": {
        "colab": {
          "base_uri": "https://localhost:8080/"
        },
        "id": "P5mjhte3tI1v",
        "outputId": "4b292dfd-a7fb-4281-f84e-598b4281857e"
      },
      "source": [
        "# 내장 연산자를 사용해 계산\n",
        "print(torch.add(tensor1, tensor2))\n",
        "print(torch.sub(tensor1, tensor2))\n",
        "print(torch.mul(tensor1, tensor2)) # element-wise\n",
        "print(torch.div(tensor1, tensor2)) # element-wise\n",
        "\n",
        "# 내적합\n",
        "multed_tensor = torch.matmul(tensor1, tensor2)\n",
        "print(multed_tensor)\n",
        "\n",
        "print(multed_tensor.shape) # shape 확인"
      ],
      "execution_count": null,
      "outputs": [
        {
          "output_type": "stream",
          "text": [
            "tensor([[[10., 12.],\n",
            "         [14., 16.]],\n",
            "\n",
            "        [[18., 20.],\n",
            "         [22., 24.]]])\n",
            "tensor([[[-8., -8.],\n",
            "         [-8., -8.]],\n",
            "\n",
            "        [[-8., -8.],\n",
            "         [-8., -8.]]])\n",
            "tensor([[[  9.,  20.],\n",
            "         [ 33.,  48.]],\n",
            "\n",
            "        [[ 65.,  84.],\n",
            "         [105., 128.]]])\n",
            "tensor([[[0.1111, 0.2000],\n",
            "         [0.2727, 0.3333]],\n",
            "\n",
            "        [[0.3846, 0.4286],\n",
            "         [0.4667, 0.5000]]])\n",
            "tensor([[[ 31.,  34.],\n",
            "         [ 71.,  78.]],\n",
            "\n",
            "        [[155., 166.],\n",
            "         [211., 226.]]])\n",
            "torch.Size([2, 2, 2])\n"
          ],
          "name": "stdout"
        }
      ]
    },
    {
      "cell_type": "markdown",
      "metadata": {
        "id": "da4nIh5ptis4"
      },
      "source": [
        "3차원 텐서의 계산 과정은 다음과 같다\n",
        "```plain\n",
        "[\n",
        "  [\n",
        "    [1*9  + 2*11] [1*10 + 2*12]\n",
        "    [5*13 + 6*15] [5*14 + 6*16]\n",
        "                                ]\n",
        "  [\n",
        "    [3*9  + 4*11] [3*10 + 4*12]\n",
        "    [7*13 + 8*15] [7*14 + 8*16]\n",
        "                                ]\n",
        "                                  ]\n",
        "```\n",
        "\n",
        "앞 차원을 그대로 두고 하위 2개의 차원의 matmul이다."
      ]
    },
    {
      "cell_type": "markdown",
      "metadata": {
        "id": "y-08AFzhv1jX"
      },
      "source": [
        "#### AutoGrad"
      ]
    },
    {
      "cell_type": "code",
      "metadata": {
        "colab": {
          "base_uri": "https://localhost:8080/"
        },
        "id": "W86GBO_uwwVZ",
        "outputId": "00dc2994-d3d3-4010-8b13-6db40519a048"
      },
      "source": [
        "# Devise 설정\n",
        "import torch\n",
        "\n",
        "if torch.cuda.is_available():\n",
        "  print(\"use cuda\")\n",
        "  DEVICE = torch.device('cuda')\n",
        "else:\n",
        "  print(\"use cpu\")\n",
        "  DEVICE = torch.device('cpu')"
      ],
      "execution_count": null,
      "outputs": [
        {
          "output_type": "stream",
          "text": [
            "use cpu\n"
          ],
          "name": "stdout"
        }
      ]
    },
    {
      "cell_type": "code",
      "metadata": {
        "id": "zsTmJ9ehxL5s"
      },
      "source": [
        "# hyperparameter 설정\n",
        "BATCH_SIZE = 64\n",
        "INPUT_SIZE = 1000 \n",
        "HIDDEN_SIZE = 100 # (1000, 100) 짜리 히든 레이어와 (100,10) 짜리 히든레이어 생성을 위함\n",
        "OUTPUT_SIZE = 10"
      ],
      "execution_count": null,
      "outputs": []
    },
    {
      "cell_type": "code",
      "metadata": {
        "id": "-gIFSM2Bxdxl"
      },
      "source": [
        "# 레이어 생성\n",
        "x = torch.randn(BATCH_SIZE, INPUT_SIZE, device=DEVICE, dtype=torch.float, requires_grad=False) # 단순한 input이므로 gradient 가 필요 없다.\n",
        "y = torch.randn(BATCH_SIZE, OUTPUT_SIZE, device=DEVICE, dtype=torch.float, requires_grad=False) # 단순한 output이므로 gradient 가 필요 없다.\n",
        "\n",
        "w1 = torch.randn(INPUT_SIZE, HIDDEN_SIZE, device=DEVICE, dtype=torch.float, requires_grad=True) # 가중치 갱신을 위해\n",
        "w2 = torch.randn(HIDDEN_SIZE, OUTPUT_SIZE, device=DEVICE, dtype=torch.float, requires_grad=True)"
      ],
      "execution_count": null,
      "outputs": []
    },
    {
      "cell_type": "code",
      "metadata": {
        "colab": {
          "base_uri": "https://localhost:8080/"
        },
        "id": "XKOQ6xsWyRwF",
        "outputId": "a3334605-7ab1-4491-da40-f7faa5126338"
      },
      "source": [
        "# 학습?\n",
        "learning_rate = 1e-6\n",
        "for t in range(1, 501):\n",
        "  y_pred = x.mm(w1).clamp(min = 0).mm(w2) # 순전파 계산. clamp는 reLU와 같은 역할을 하는듯 (비선형 활성화 함수)\n",
        "\n",
        "  loss = (y_pred - y).pow(2).sum() # MSE 오차.\n",
        "\n",
        "  if t % 100 == 0:\n",
        "    print(\"Iteration: \", t, \"\\t\", \"Loss: \", loss.item()) # 100번 반복 시 loss값 모니터링\n",
        "  loss.backward() # 각 파라미터 값에 대해 Gradient를 구하고 역전파를 진행할 수 있게 결과를 반환.\n",
        "\n",
        "  with torch.no_grad(): # 해당 블록을 history tracking 하지 않겠다는 뜻이다.\n",
        "    w1 -= learning_rate * w1.grad # optimization진행\n",
        "    w2 -= learning_rate * w2.grad\n",
        "\n",
        "    # w1.grad.zero_() # Gradient값을 다시 0으로 설정해 둠.\n",
        "    # w2.grad.zero_()"
      ],
      "execution_count": null,
      "outputs": [
        {
          "output_type": "stream",
          "text": [
            "Iteration:  100 \t Loss:  2024127.125\n",
            "Iteration:  200 \t Loss:  nan\n",
            "Iteration:  300 \t Loss:  nan\n",
            "Iteration:  400 \t Loss:  nan\n",
            "Iteration:  500 \t Loss:  nan\n"
          ],
          "name": "stdout"
        }
      ]
    },
    {
      "cell_type": "code",
      "metadata": {
        "id": "bVE1NUGs0pVi"
      },
      "source": [
        "y - y_pred # 상당히 작은 수들이 출력되는 것을 확인할 수 있다."
      ],
      "execution_count": null,
      "outputs": []
    },
    {
      "cell_type": "code",
      "metadata": {
        "colab": {
          "base_uri": "https://localhost:8080/"
        },
        "id": "zYVfiar-0qil",
        "outputId": "bb79d356-fcfb-4986-a07a-348b16524fee"
      },
      "source": [
        "w1.grad # gradient를 호출하는 메소드이다..."
      ],
      "execution_count": null,
      "outputs": [
        {
          "output_type": "execute_result",
          "data": {
            "text/plain": [
              "tensor([[0., 0., 0.,  ..., 0., 0., 0.],\n",
              "        [0., 0., 0.,  ..., 0., 0., 0.],\n",
              "        [0., 0., 0.,  ..., 0., 0., 0.],\n",
              "        ...,\n",
              "        [0., 0., 0.,  ..., 0., 0., 0.],\n",
              "        [0., 0., 0.,  ..., 0., 0., 0.],\n",
              "        [0., 0., 0.,  ..., 0., 0., 0.]])"
            ]
          },
          "metadata": {
            "tags": []
          },
          "execution_count": 15
        }
      ]
    },
    {
      "cell_type": "code",
      "metadata": {
        "id": "_IwK8NHu1Cn6"
      },
      "source": [
        "y.grad # gradient를 설정하지 않으면 None값이 반환되는 듯 하다."
      ],
      "execution_count": null,
      "outputs": []
    },
    {
      "cell_type": "markdown",
      "metadata": {
        "id": "885TpYbinX5T"
      },
      "source": [
        "# AI Background\n",
        "\n",
        "## MNIST 데이터를 활용한 Multi Layer Perceptron 설계"
      ]
    },
    {
      "cell_type": "code",
      "metadata": {
        "id": "BcnWNpo61HXy"
      },
      "source": [
        "# 모듈 임포트\n",
        "import numpy as np\n",
        "import matplotlib.pyplot as plt\n",
        "import torch\n",
        "import torch.nn as nn # torch 모듈 중 인공신경망을 설계할 때 필요한 함수를 모아 놓은 모듈\n",
        "import torch.nn.functional as F\n",
        "from torchvision import transforms, datasets # 비전 연구 분야에서 자주 이용하는 함수"
      ],
      "execution_count": null,
      "outputs": []
    },
    {
      "cell_type": "code",
      "metadata": {
        "colab": {
          "base_uri": "https://localhost:8080/"
        },
        "id": "6LTBOjkIoET5",
        "outputId": "0622153e-8ff8-4b9a-8152-4cb4d55b8061"
      },
      "source": [
        "# 장비 확인\n",
        "if torch.cuda.is_available():\n",
        "  DEVICE = torch.device('cuda')\n",
        "else:\n",
        "  DEVICE = torch.device('cpu')\n",
        "\n",
        "print(\"Using PyTorch Version:\", torch.__version__, 'Device: ', DEVICE)"
      ],
      "execution_count": null,
      "outputs": [
        {
          "output_type": "stream",
          "text": [
            "Using PyTorch Version: 1.7.0+cu101 Device:  cpu\n"
          ],
          "name": "stdout"
        }
      ]
    },
    {
      "cell_type": "code",
      "metadata": {
        "id": "YgrJ7lPMoXmV"
      },
      "source": [
        "# 하이퍼파라미터 설정\n",
        "BATCH_SIZE = 32 # 32개의 데이터가 1 미니배치를 구성하고 있다.\n",
        "EPOCHS = 10"
      ],
      "execution_count": null,
      "outputs": []
    },
    {
      "cell_type": "code",
      "metadata": {
        "colab": {
          "base_uri": "https://localhost:8080/",
          "height": 386,
          "referenced_widgets": [
            "cf05d20ec04644f2996b8fcd2dcf1555",
            "b23382337db843bca4ca38b63a28b489",
            "e0ce33fb468d422fa030dfc218e333fe",
            "95cf4b27383649a3a9824999fa4bb091",
            "c762289bb6fb4d12bbd559c638de4241",
            "e9acc48448b9412a82d87991b684a2a8",
            "45734ace402049c1a62c25cc89bfaba7",
            "826c7303596f4e42891f046fe5f6b0d2",
            "c8779b9c40e446e69333e11006b1d503",
            "a6e7592730df457a97c3aea0ae3c8472",
            "e23ccdac51f04b07bf53a5fa47bf173f",
            "d1c2f1e810c64df2977e76483b93312e",
            "4688fc57e0b74f85bbb1e6ec1f47f6d4",
            "db85654e91564a15b34c7408558cc2a9",
            "489b3b1372fe4e36819d9fd35c4c93a0",
            "dd93d5e5b29949b094401c43c84ea7e4",
            "c1fea150c8db4a0b9b28ce6dec8e94c0",
            "99fa2605035b4d5da1ac1c0886555590",
            "c1718183303f4b87ae4bf2d17674b872",
            "3f071030180a4f81bbce8f35a4b26cd4",
            "5fa8cda509ba49d38d581c8f25172848",
            "bc119939a1a849609d33bd6ac8a377ba",
            "4cd4f39c025b41e190c7007daed905a6",
            "77f1b62f62a746d29ebfe0b17a0958e2",
            "12e7328e97004b15a80770f44fcdd95d",
            "42391f789ee940cf9e208c1bc8df0312",
            "33bebc05c6654f36813a87f9c03eeb13",
            "0bf46f8aa2904d30ab4f549fdba3a516",
            "33cecb072f8544959f51c1205820c090",
            "1b72e127fb524490b512b9d7aa5bb917",
            "705633f59ad243dba8374570508b982a",
            "7e9078c6fecd4ab0a04eb15f2b241801"
          ]
        },
        "id": "to_nkgBxolU0",
        "outputId": "9ed8368c-31df-4d1a-b211-03725f0bf795"
      },
      "source": [
        "# MNIST 데이터 다운로드\n",
        "train_dataset = datasets.MNIST(root = '../data/MNIST', train= True, download=True, transform = transforms.ToTensor())\n",
        "test_dataset = datasets.MNIST(root = '../data/MNIST', train= False, transform = transforms.ToTensor())\n",
        "# transforms 속성은 데이터 정규화, 텐서로 변환 등...\n",
        "# download 속성은 아예 저장할 것인지, 값만 사용할 것인지..\n",
        "train_loader = torch.utils.data.DataLoader(dataset = train_dataset, batch_size=BATCH_SIZE, shuffle=True)\n",
        "test_loader = torch.utils.data.DataLoader(dataset = test_dataset, batch_size=BATCH_SIZE, shuffle=False)\n",
        "# datagenerator와 비슷하다."
      ],
      "execution_count": null,
      "outputs": [
        {
          "output_type": "stream",
          "text": [
            "Downloading http://yann.lecun.com/exdb/mnist/train-images-idx3-ubyte.gz to ../data/MNIST/MNIST/raw/train-images-idx3-ubyte.gz\n"
          ],
          "name": "stdout"
        },
        {
          "output_type": "display_data",
          "data": {
            "application/vnd.jupyter.widget-view+json": {
              "model_id": "cf05d20ec04644f2996b8fcd2dcf1555",
              "version_major": 2,
              "version_minor": 0
            },
            "text/plain": [
              "HBox(children=(FloatProgress(value=1.0, bar_style='info', max=1.0), HTML(value='')))"
            ]
          },
          "metadata": {
            "tags": []
          }
        },
        {
          "output_type": "stream",
          "text": [
            "Extracting ../data/MNIST/MNIST/raw/train-images-idx3-ubyte.gz to ../data/MNIST/MNIST/raw\n",
            "Downloading http://yann.lecun.com/exdb/mnist/train-labels-idx1-ubyte.gz to ../data/MNIST/MNIST/raw/train-labels-idx1-ubyte.gz\n"
          ],
          "name": "stdout"
        },
        {
          "output_type": "display_data",
          "data": {
            "application/vnd.jupyter.widget-view+json": {
              "model_id": "c8779b9c40e446e69333e11006b1d503",
              "version_major": 2,
              "version_minor": 0
            },
            "text/plain": [
              "HBox(children=(FloatProgress(value=1.0, bar_style='info', max=1.0), HTML(value='')))"
            ]
          },
          "metadata": {
            "tags": []
          }
        },
        {
          "output_type": "stream",
          "text": [
            "Extracting ../data/MNIST/MNIST/raw/train-labels-idx1-ubyte.gz to ../data/MNIST/MNIST/raw\n",
            "Downloading http://yann.lecun.com/exdb/mnist/t10k-images-idx3-ubyte.gz to ../data/MNIST/MNIST/raw/t10k-images-idx3-ubyte.gz\n",
            "\n"
          ],
          "name": "stdout"
        },
        {
          "output_type": "display_data",
          "data": {
            "application/vnd.jupyter.widget-view+json": {
              "model_id": "c1fea150c8db4a0b9b28ce6dec8e94c0",
              "version_major": 2,
              "version_minor": 0
            },
            "text/plain": [
              "HBox(children=(FloatProgress(value=1.0, bar_style='info', max=1.0), HTML(value='')))"
            ]
          },
          "metadata": {
            "tags": []
          }
        },
        {
          "output_type": "stream",
          "text": [
            "Extracting ../data/MNIST/MNIST/raw/t10k-images-idx3-ubyte.gz to ../data/MNIST/MNIST/raw\n",
            "Downloading http://yann.lecun.com/exdb/mnist/t10k-labels-idx1-ubyte.gz to ../data/MNIST/MNIST/raw/t10k-labels-idx1-ubyte.gz\n"
          ],
          "name": "stdout"
        },
        {
          "output_type": "display_data",
          "data": {
            "application/vnd.jupyter.widget-view+json": {
              "model_id": "12e7328e97004b15a80770f44fcdd95d",
              "version_major": 2,
              "version_minor": 0
            },
            "text/plain": [
              "HBox(children=(FloatProgress(value=1.0, bar_style='info', max=1.0), HTML(value='')))"
            ]
          },
          "metadata": {
            "tags": []
          }
        },
        {
          "output_type": "stream",
          "text": [
            "Extracting ../data/MNIST/MNIST/raw/t10k-labels-idx1-ubyte.gz to ../data/MNIST/MNIST/raw\n",
            "Processing...\n",
            "Done!\n"
          ],
          "name": "stdout"
        },
        {
          "output_type": "stream",
          "text": [
            "/usr/local/lib/python3.6/dist-packages/torchvision/datasets/mnist.py:480: UserWarning: The given NumPy array is not writeable, and PyTorch does not support non-writeable tensors. This means you can write to the underlying (supposedly non-writeable) NumPy array using the tensor. You may want to copy the array to protect its data or make it writeable before converting it to a tensor. This type of warning will be suppressed for the rest of this program. (Triggered internally at  /pytorch/torch/csrc/utils/tensor_numpy.cpp:141.)\n",
            "  return torch.from_numpy(parsed.astype(m[2], copy=False)).view(*s)\n"
          ],
          "name": "stderr"
        }
      ]
    },
    {
      "cell_type": "code",
      "metadata": {
        "colab": {
          "base_uri": "https://localhost:8080/"
        },
        "id": "2wThk1cArADh",
        "outputId": "f6e1624a-83ff-41fc-8d28-401903e37b4d"
      },
      "source": [
        "# 데이터 확인하기\n",
        "for (X_train, y_train) in train_loader:\n",
        "  print(f\"X_train : {X_train.size()}, type: {X_train.type()}\")\n",
        "  print(f\"y_train : {y_train.size()}, type: {y_train.type()}\")\n",
        "  break"
      ],
      "execution_count": null,
      "outputs": [
        {
          "output_type": "stream",
          "text": [
            "X_train : torch.Size([32, 1, 28, 28]), type: torch.FloatTensor\n",
            "y_train : torch.Size([32]), type: torch.LongTensor\n"
          ],
          "name": "stdout"
        }
      ]
    },
    {
      "cell_type": "markdown",
      "metadata": {
        "id": "tq5_alRcriYK"
      },
      "source": [
        "이미지 쉐이프가 [32,1,28,28] 이므로\n",
        "채널이 1임을 확인할 수 있다. (grayscale)\n",
        "\n",
        "x와 y의 데이터타입이 다른 것도 눈여겨 볼 점"
      ]
    },
    {
      "cell_type": "code",
      "metadata": {
        "colab": {
          "base_uri": "https://localhost:8080/",
          "height": 94
        },
        "id": "AWZYMlK8rdAI",
        "outputId": "31499e04-3a0a-4e23-ba4f-c92f3b4bf168"
      },
      "source": [
        "# 데이터 확인하기\n",
        "pltsize =1\n",
        "plt.figure(figsize=(10 * pltsize, pltsize))\n",
        "\n",
        "for i in range(10):\n",
        "  plt.subplot(1, 10, i + 1)\n",
        "  plt.axis('off')\n",
        "  plt.imshow(X_train[i, :, :, :].numpy().reshape(28,28), cmap=\"gray_r\")\n",
        "  plt.title(\"Class: \" + str(y_train[i].item()))"
      ],
      "execution_count": null,
      "outputs": [
        {
          "output_type": "display_data",
          "data": {
            "image/png": "[encoded data removed]",
            "text/plain": [
              "<Figure size 720x72 with 10 Axes>"
            ]
          },
          "metadata": {
            "tags": []
          }
        }
      ]
    },
    {
      "cell_type": "code",
      "metadata": {
        "id": "iL22WDQWsiOp"
      },
      "source": [
        "# MLP 모델 생성하기\n",
        "class Net(nn.Module): # nn.Module는 딥러닝 기본 함수를 포함\n",
        "  def __init__(self):\n",
        "    super(Net, self).__init__() # nn.Module 내의 메소드의 init 사용. python2 와의 호환을 위해 이 형태로 적음.super().init()도 같이 동작\n",
        "    self.fc1 = nn.Linear(28 * 28, 512) # 레이어 정의\n",
        "    self.fc2 = nn.Linear(512, 256)\n",
        "    self.fc3 = nn.Linear(256, 10)\n",
        "  \n",
        "  def forward(self, X): # 순전파 연산\n",
        "    x = X.view(-1,28 * 28) # 1차원의 데이터로 flatten해 주어야 함.\n",
        "    x = self.fc1(x)\n",
        "    x = F.sigmoid(x)\n",
        "    x = self.fc2(x)\n",
        "    x = F.sigmoid(x)\n",
        "    x = self.fc3(x)\n",
        "    x = F.log_softmax(x, dim=1)\n",
        "    return x"
      ],
      "execution_count": null,
      "outputs": []
    },
    {
      "cell_type": "code",
      "metadata": {
        "id": "KQL_rbO8uVdC"
      },
      "source": [
        "n = Net()"
      ],
      "execution_count": null,
      "outputs": []
    },
    {
      "cell_type": "code",
      "metadata": {
        "colab": {
          "base_uri": "https://localhost:8080/"
        },
        "id": "FuGIKdwpuXQ2",
        "outputId": "a3e7764b-b2e2-4342-9035-55005e78d2ec"
      },
      "source": [
        "n"
      ],
      "execution_count": null,
      "outputs": [
        {
          "output_type": "execute_result",
          "data": {
            "text/plain": [
              "Net(\n",
              "  (fc1): Linear(in_features=784, out_features=512, bias=True)\n",
              "  (fc2): Linear(in_features=512, out_features=256, bias=True)\n",
              "  (fc3): Linear(in_features=256, out_features=10, bias=True)\n",
              ")"
            ]
          },
          "metadata": {
            "tags": []
          },
          "execution_count": 14
        }
      ]
    },
    {
      "cell_type": "code",
      "metadata": {
        "colab": {
          "base_uri": "https://localhost:8080/"
        },
        "id": "NE8iuqbruZUi",
        "outputId": "45fc9b60-dff2-441b-c110-cafd7507c08a"
      },
      "source": [
        "# model, optimizer, objective function 설정\n",
        "model = Net().to(DEVICE) # DEVICE 에 할당해 주어야 한다.\n",
        "\n",
        "optimizer = torch.optim.SGD(model.parameters(), lr = 0.01, momentum=0.5) # 옵티마이저 정의 방식에 주의\n",
        "criterion = nn.CrossEntropyLoss() # CrossEntropy를 사용해 계산\n",
        "model"
      ],
      "execution_count": null,
      "outputs": [
        {
          "output_type": "execute_result",
          "data": {
            "text/plain": [
              "Net(\n",
              "  (fc1): Linear(in_features=784, out_features=512, bias=True)\n",
              "  (fc2): Linear(in_features=512, out_features=256, bias=True)\n",
              "  (fc3): Linear(in_features=256, out_features=10, bias=True)\n",
              ")"
            ]
          },
          "metadata": {
            "tags": []
          },
          "execution_count": 15
        }
      ]
    },
    {
      "cell_type": "code",
      "metadata": {
        "id": "Iz7x70B6uuEG"
      },
      "source": [
        "# 모델 학습을 진행하며 학습 데이터에 대한 성능 확인\n",
        "def train(model, train_loader, optimizer, log_interval):\n",
        "  model.train() # 모델을 학습상태로 지정\n",
        "\n",
        "  for batch_idx, (image, label) in enumerate(train_loader):\n",
        "    image = image.to(DEVICE) # 이미지와 레이블을 장치에 할당\n",
        "    label = label.to(DEVICE)\n",
        "\n",
        "    optimizer.zero_grad() # optimizer의 gradient 를 초기화해줌\n",
        "    output = model(image) # 순전파  - 모델의 __call__()에서 forward()를 호출하기 때문에, forward()를 직접 호출하지 않는다.\n",
        "\n",
        "    loss = criterion(output, label) \n",
        "    loss.backward() # autograd의 역전파\n",
        "    optimizer.step() # 업데이트함\n",
        "\n",
        "    if batch_idx % log_interval == 0:\n",
        "      print(f\"Train epoch: {Epoch}, [{batch_idx * len(image)} / {len(train_loader.dataset)}({100. * batch_idx / len(train_loader):.3f}%)]\\t Train Loss: {loss.item()}\")"
      ],
      "execution_count": null,
      "outputs": []
    },
    {
      "cell_type": "code",
      "metadata": {
        "id": "qveusO3dwN_t"
      },
      "source": [
        "# 데이터 검증하는 메소드 정의\n",
        "def evaluate(model, test_loader):\n",
        "  model.eval()\n",
        "  test_loss = 0\n",
        "  correct = 0\n",
        "\n",
        "  with torch.no_grad():\n",
        "    for image, label in test_loader:\n",
        "      image = image.to(DEVICE)\n",
        "      label = label.to(DEVICE) # 이미지 할당\n",
        "      output = model(image) # 순전파\n",
        "\n",
        "      test_loss += criterion(output, label)\n",
        "      prediction = output.max(1, keepdim=True)[1] # 모델의 데이터값은 크기가 10인 벡터. argmax를 판단함.\n",
        "      correct += prediction.eq(label.view_as(prediction)).sum().item()\n",
        "\n",
        "  test_loss /= len(test_loader.dataset)\n",
        "  test_accuracy = 100. * correct / len(test_loader.dataset) # 현재 test_loader에 존재하는 미니배치의 개수로 평균을 구함\n",
        "\n",
        "  return test_loss, test_accuracy"
      ],
      "execution_count": null,
      "outputs": []
    },
    {
      "cell_type": "code",
      "metadata": {
        "colab": {
          "base_uri": "https://localhost:8080/"
        },
        "id": "W6SCfQ33xitE",
        "outputId": "0530e46e-935f-4b7d-dd8d-d519a3fa772a"
      },
      "source": [
        "for Epoch in range(1, EPOCHS + 1):\n",
        "  train(model, train_loader, optimizer, log_interval=200)\n",
        "  test_loss, test_accuracy = evaluate(model, test_loader)\n",
        "  print(f\"\\n [Epoch {Epoch}] \\nTest Loss: {test_loss:.4f},\\t Test Accuracy: {test_accuracy:.4f}\\n\")"
      ],
      "execution_count": null,
      "outputs": [
        {
          "output_type": "stream",
          "text": [
            "/usr/local/lib/python3.6/dist-packages/torch/nn/functional.py:1639: UserWarning: nn.functional.sigmoid is deprecated. Use torch.sigmoid instead.\n",
            "  warnings.warn(\"nn.functional.sigmoid is deprecated. Use torch.sigmoid instead.\")\n"
          ],
          "name": "stderr"
        },
        {
          "output_type": "stream",
          "text": [
            "Train epoch: 1, [0 / 60000(0.0%)]\t Train Loss: 2.3792006969451904\n",
            "Train epoch: 1, [6400 / 60000(10.666666666666666%)]\t Train Loss: 2.3355743885040283\n",
            "Train epoch: 1, [12800 / 60000(21.333333333333332%)]\t Train Loss: 2.2631354331970215\n",
            "Train epoch: 1, [19200 / 60000(32.0%)]\t Train Loss: 2.282989978790283\n",
            "Train epoch: 1, [25600 / 60000(42.666666666666664%)]\t Train Loss: 2.2601640224456787\n",
            "Train epoch: 1, [32000 / 60000(53.333333333333336%)]\t Train Loss: 2.308326244354248\n",
            "Train epoch: 1, [38400 / 60000(64.0%)]\t Train Loss: 2.285688638687134\n",
            "Train epoch: 1, [44800 / 60000(74.66666666666667%)]\t Train Loss: 2.2861902713775635\n",
            "Train epoch: 1, [51200 / 60000(85.33333333333333%)]\t Train Loss: 2.237779378890991\n",
            "Train epoch: 1, [57600 / 60000(96.0%)]\t Train Loss: 2.2855725288391113\n",
            "\n",
            " [Epoch 1] \n",
            "Test Loss: 0.0697,\t Test Accuracy: 28.7600\n",
            "\n",
            "Train epoch: 2, [0 / 60000(0.0%)]\t Train Loss: 2.224231004714966\n",
            "Train epoch: 2, [6400 / 60000(10.666666666666666%)]\t Train Loss: 2.2148900032043457\n",
            "Train epoch: 2, [12800 / 60000(21.333333333333332%)]\t Train Loss: 2.136847496032715\n",
            "Train epoch: 2, [19200 / 60000(32.0%)]\t Train Loss: 2.0154356956481934\n",
            "Train epoch: 2, [25600 / 60000(42.666666666666664%)]\t Train Loss: 2.057512044906616\n",
            "Train epoch: 2, [32000 / 60000(53.333333333333336%)]\t Train Loss: 1.859142780303955\n",
            "Train epoch: 2, [38400 / 60000(64.0%)]\t Train Loss: 1.769547700881958\n",
            "Train epoch: 2, [44800 / 60000(74.66666666666667%)]\t Train Loss: 1.6879678964614868\n",
            "Train epoch: 2, [51200 / 60000(85.33333333333333%)]\t Train Loss: 1.4574106931686401\n",
            "Train epoch: 2, [57600 / 60000(96.0%)]\t Train Loss: 1.283983588218689\n",
            "\n",
            " [Epoch 2] \n",
            "Test Loss: 0.0386,\t Test Accuracy: 64.4900\n",
            "\n",
            "Train epoch: 3, [0 / 60000(0.0%)]\t Train Loss: 1.1995092630386353\n",
            "Train epoch: 3, [6400 / 60000(10.666666666666666%)]\t Train Loss: 1.0336121320724487\n",
            "Train epoch: 3, [12800 / 60000(21.333333333333332%)]\t Train Loss: 1.1107019186019897\n",
            "Train epoch: 3, [19200 / 60000(32.0%)]\t Train Loss: 0.9684664011001587\n",
            "Train epoch: 3, [25600 / 60000(42.666666666666664%)]\t Train Loss: 0.8695197701454163\n",
            "Train epoch: 3, [32000 / 60000(53.333333333333336%)]\t Train Loss: 0.7979299426078796\n",
            "Train epoch: 3, [38400 / 60000(64.0%)]\t Train Loss: 1.0905064344406128\n",
            "Train epoch: 3, [44800 / 60000(74.66666666666667%)]\t Train Loss: 1.0434868335723877\n",
            "Train epoch: 3, [51200 / 60000(85.33333333333333%)]\t Train Loss: 0.6211817264556885\n",
            "Train epoch: 3, [57600 / 60000(96.0%)]\t Train Loss: 0.9381438493728638\n",
            "\n",
            " [Epoch 3] \n",
            "Test Loss: 0.0238,\t Test Accuracy: 77.0000\n",
            "\n",
            "Train epoch: 4, [0 / 60000(0.0%)]\t Train Loss: 0.7703446745872498\n",
            "Train epoch: 4, [6400 / 60000(10.666666666666666%)]\t Train Loss: 0.5944960713386536\n",
            "Train epoch: 4, [12800 / 60000(21.333333333333332%)]\t Train Loss: 0.6453958749771118\n",
            "Train epoch: 4, [19200 / 60000(32.0%)]\t Train Loss: 0.5987830758094788\n",
            "Train epoch: 4, [25600 / 60000(42.666666666666664%)]\t Train Loss: 0.9632339477539062\n",
            "Train epoch: 4, [32000 / 60000(53.333333333333336%)]\t Train Loss: 0.5666016340255737\n",
            "Train epoch: 4, [38400 / 60000(64.0%)]\t Train Loss: 0.6265780329704285\n",
            "Train epoch: 4, [44800 / 60000(74.66666666666667%)]\t Train Loss: 0.6806598901748657\n",
            "Train epoch: 4, [51200 / 60000(85.33333333333333%)]\t Train Loss: 0.5467678308486938\n",
            "Train epoch: 4, [57600 / 60000(96.0%)]\t Train Loss: 0.6322723031044006\n",
            "\n",
            " [Epoch 4] \n",
            "Test Loss: 0.0180,\t Test Accuracy: 83.3800\n",
            "\n",
            "Train epoch: 5, [0 / 60000(0.0%)]\t Train Loss: 0.4895537197589874\n",
            "Train epoch: 5, [6400 / 60000(10.666666666666666%)]\t Train Loss: 0.3531440794467926\n",
            "Train epoch: 5, [12800 / 60000(21.333333333333332%)]\t Train Loss: 0.6937974691390991\n",
            "Train epoch: 5, [19200 / 60000(32.0%)]\t Train Loss: 0.4503310024738312\n",
            "Train epoch: 5, [25600 / 60000(42.666666666666664%)]\t Train Loss: 0.3955327570438385\n",
            "Train epoch: 5, [32000 / 60000(53.333333333333336%)]\t Train Loss: 0.9106270670890808\n",
            "Train epoch: 5, [38400 / 60000(64.0%)]\t Train Loss: 0.4807148873806\n",
            "Train epoch: 5, [44800 / 60000(74.66666666666667%)]\t Train Loss: 0.5374234914779663\n",
            "Train epoch: 5, [51200 / 60000(85.33333333333333%)]\t Train Loss: 0.35890012979507446\n",
            "Train epoch: 5, [57600 / 60000(96.0%)]\t Train Loss: 0.29197782278060913\n",
            "\n",
            " [Epoch 5] \n",
            "Test Loss: 0.0147,\t Test Accuracy: 86.5800\n",
            "\n",
            "Train epoch: 6, [0 / 60000(0.0%)]\t Train Loss: 0.28922712802886963\n",
            "Train epoch: 6, [6400 / 60000(10.666666666666666%)]\t Train Loss: 0.6024530529975891\n",
            "Train epoch: 6, [12800 / 60000(21.333333333333332%)]\t Train Loss: 0.7951048016548157\n",
            "Train epoch: 6, [19200 / 60000(32.0%)]\t Train Loss: 0.46363359689712524\n",
            "Train epoch: 6, [25600 / 60000(42.666666666666664%)]\t Train Loss: 0.30103158950805664\n",
            "Train epoch: 6, [32000 / 60000(53.333333333333336%)]\t Train Loss: 0.3095302879810333\n",
            "Train epoch: 6, [38400 / 60000(64.0%)]\t Train Loss: 0.3111490309238434\n",
            "Train epoch: 6, [44800 / 60000(74.66666666666667%)]\t Train Loss: 0.3319401443004608\n",
            "Train epoch: 6, [51200 / 60000(85.33333333333333%)]\t Train Loss: 0.8092776536941528\n",
            "Train epoch: 6, [57600 / 60000(96.0%)]\t Train Loss: 0.5433924794197083\n",
            "\n",
            " [Epoch 6] \n",
            "Test Loss: 0.0130,\t Test Accuracy: 87.8800\n",
            "\n",
            "Train epoch: 7, [0 / 60000(0.0%)]\t Train Loss: 0.2397449016571045\n",
            "Train epoch: 7, [6400 / 60000(10.666666666666666%)]\t Train Loss: 0.5332866907119751\n",
            "Train epoch: 7, [12800 / 60000(21.333333333333332%)]\t Train Loss: 0.3273559808731079\n",
            "Train epoch: 7, [19200 / 60000(32.0%)]\t Train Loss: 0.3480372428894043\n",
            "Train epoch: 7, [25600 / 60000(42.666666666666664%)]\t Train Loss: 0.6416451334953308\n",
            "Train epoch: 7, [32000 / 60000(53.333333333333336%)]\t Train Loss: 0.25305572152137756\n",
            "Train epoch: 7, [38400 / 60000(64.0%)]\t Train Loss: 0.4962281882762909\n",
            "Train epoch: 7, [44800 / 60000(74.66666666666667%)]\t Train Loss: 0.20198729634284973\n",
            "Train epoch: 7, [51200 / 60000(85.33333333333333%)]\t Train Loss: 0.2517937421798706\n",
            "Train epoch: 7, [57600 / 60000(96.0%)]\t Train Loss: 0.6030579805374146\n",
            "\n",
            " [Epoch 7] \n",
            "Test Loss: 0.0118,\t Test Accuracy: 89.1000\n",
            "\n",
            "Train epoch: 8, [0 / 60000(0.0%)]\t Train Loss: 0.33978232741355896\n",
            "Train epoch: 8, [6400 / 60000(10.666666666666666%)]\t Train Loss: 0.5600532293319702\n",
            "Train epoch: 8, [12800 / 60000(21.333333333333332%)]\t Train Loss: 0.31136128306388855\n",
            "Train epoch: 8, [19200 / 60000(32.0%)]\t Train Loss: 0.2862991392612457\n",
            "Train epoch: 8, [25600 / 60000(42.666666666666664%)]\t Train Loss: 0.3974922001361847\n",
            "Train epoch: 8, [32000 / 60000(53.333333333333336%)]\t Train Loss: 0.16240304708480835\n",
            "Train epoch: 8, [38400 / 60000(64.0%)]\t Train Loss: 0.5277639627456665\n",
            "Train epoch: 8, [44800 / 60000(74.66666666666667%)]\t Train Loss: 0.29443490505218506\n",
            "Train epoch: 8, [51200 / 60000(85.33333333333333%)]\t Train Loss: 0.20580534636974335\n",
            "Train epoch: 8, [57600 / 60000(96.0%)]\t Train Loss: 0.47245872020721436\n",
            "\n",
            " [Epoch 8] \n",
            "Test Loss: 0.0113,\t Test Accuracy: 89.6800\n",
            "\n",
            "Train epoch: 9, [0 / 60000(0.0%)]\t Train Loss: 0.2796054184436798\n",
            "Train epoch: 9, [6400 / 60000(10.666666666666666%)]\t Train Loss: 0.32697367668151855\n",
            "Train epoch: 9, [12800 / 60000(21.333333333333332%)]\t Train Loss: 0.22855989634990692\n",
            "Train epoch: 9, [19200 / 60000(32.0%)]\t Train Loss: 0.4646267592906952\n",
            "Train epoch: 9, [25600 / 60000(42.666666666666664%)]\t Train Loss: 0.4093838334083557\n",
            "Train epoch: 9, [32000 / 60000(53.333333333333336%)]\t Train Loss: 0.36122632026672363\n",
            "Train epoch: 9, [38400 / 60000(64.0%)]\t Train Loss: 0.2844410240650177\n",
            "Train epoch: 9, [44800 / 60000(74.66666666666667%)]\t Train Loss: 0.30275458097457886\n",
            "Train epoch: 9, [51200 / 60000(85.33333333333333%)]\t Train Loss: 0.33256644010543823\n",
            "Train epoch: 9, [57600 / 60000(96.0%)]\t Train Loss: 0.4240990877151489\n",
            "\n",
            " [Epoch 9] \n",
            "Test Loss: 0.0108,\t Test Accuracy: 90.0000\n",
            "\n",
            "Train epoch: 10, [0 / 60000(0.0%)]\t Train Loss: 0.25520753860473633\n",
            "Train epoch: 10, [6400 / 60000(10.666666666666666%)]\t Train Loss: 0.25788381695747375\n",
            "Train epoch: 10, [12800 / 60000(21.333333333333332%)]\t Train Loss: 0.26373615860939026\n",
            "Train epoch: 10, [19200 / 60000(32.0%)]\t Train Loss: 0.2800130248069763\n",
            "Train epoch: 10, [25600 / 60000(42.666666666666664%)]\t Train Loss: 0.3136974275112152\n",
            "Train epoch: 10, [32000 / 60000(53.333333333333336%)]\t Train Loss: 0.3790300786495209\n",
            "Train epoch: 10, [38400 / 60000(64.0%)]\t Train Loss: 0.09705459326505661\n",
            "Train epoch: 10, [44800 / 60000(74.66666666666667%)]\t Train Loss: 0.24894729256629944\n",
            "Train epoch: 10, [51200 / 60000(85.33333333333333%)]\t Train Loss: 0.22890011966228485\n",
            "Train epoch: 10, [57600 / 60000(96.0%)]\t Train Loss: 0.1892634481191635\n",
            "\n",
            " [Epoch 10] \n",
            "Test Loss: 0.0105,\t Test Accuracy: 90.4100\n",
            "\n"
          ],
          "name": "stdout"
        }
      ]
    },
    {
      "cell_type": "markdown",
      "metadata": {
        "id": "By_rj8lGzm8b"
      },
      "source": [
        "학습 결과 모델의 정확도는 약 90% 정도를 보였다."
      ]
    },
    {
      "cell_type": "markdown",
      "metadata": {
        "id": "FzBN5hCeCMIc"
      },
      "source": [
        "# Deep Learning"
      ]
    },
    {
      "cell_type": "markdown",
      "metadata": {
        "id": "4PJAxSXBCQqf"
      },
      "source": [
        "## 3-4 딥러닝의 발전을 이끈 알고리즘"
      ]
    },
    {
      "cell_type": "markdown",
      "metadata": {
        "id": "MPGy56pjCVdy"
      },
      "source": [
        "### Dropout\n",
        "\n",
        "RandomForest와 비슷하게 적용.\n",
        "\n",
        "일부 columns을 0으로 취급하여 계산함"
      ]
    },
    {
      "cell_type": "code",
      "metadata": {
        "id": "i3-AqRMtytmZ"
      },
      "source": [
        "# dropout 부분만 따로 작승\n",
        "class Net(nn.Module):\n",
        "  def __init__(self):\n",
        "    super(Net,self).__init__()\n",
        "    self.fc1 = nn.Linear(28 * 28, 512)\n",
        "    self.fc2 = nn.Linear(512, 256)\n",
        "    self.fc3 = nn.Linear(256, 10)\n",
        "    self.dropout_prob = 0.5 # 드롭아웃 확률을 0.5\n",
        "\n",
        "  def forward(self, x):\n",
        "    x = x.view(-1, 28 * 28)\n",
        "    x = self.fc1(x)\n",
        "    x = F.sigmoid(x)\n",
        "    x = F.dropout(x, training=self.training, p = self.dropout_prob)\n",
        "    x = self.fc2(x)\n",
        "    x = F.sigmoid(x)\n",
        "    x = F.dropout(x, training=self.training, p= self.dropout_prob)\n",
        "    x = self.fc3(x)\n",
        "    x = F.log_softmax(x, dim=1)\n",
        "\n",
        "    return x"
      ],
      "execution_count": null,
      "outputs": []
    },
    {
      "cell_type": "code",
      "metadata": {
        "colab": {
          "base_uri": "https://localhost:8080/"
        },
        "id": "--M35n4rC_En",
        "outputId": "a8f8e3d2-2bc3-4662-f4e6-ce17cdfad2d4"
      },
      "source": [
        "# model, optimizer, objective function 설정\n",
        "model = Net().to(DEVICE) # DEVICE 에 할당해 주어야 한다.\n",
        "\n",
        "optimizer = torch.optim.SGD(model.parameters(), lr = 0.01, momentum=0.5) # 옵티마이저 정의 방식에 주의\n",
        "criterion = nn.CrossEntropyLoss() # CrossEntropy를 사용해 계산\n",
        "\n",
        "for Epoch in range(1, EPOCHS + 1):\n",
        "  train(model, train_loader, optimizer, log_interval=200)\n",
        "  test_loss, test_accuracy = evaluate(model, test_loader)\n",
        "  print(f\"\\n [Epoch {Epoch}] \\nTest Loss: {test_loss:.4f},\\t Test Accuracy: {test_accuracy:.4f}\\n\")"
      ],
      "execution_count": null,
      "outputs": [
        {
          "output_type": "stream",
          "text": [
            "/usr/local/lib/python3.6/dist-packages/torch/nn/functional.py:1639: UserWarning: nn.functional.sigmoid is deprecated. Use torch.sigmoid instead.\n",
            "  warnings.warn(\"nn.functional.sigmoid is deprecated. Use torch.sigmoid instead.\")\n"
          ],
          "name": "stderr"
        },
        {
          "output_type": "stream",
          "text": [
            "Train epoch: 1, [0 / 60000(0.000%)]\t Train Loss: 2.444450616836548\n",
            "Train epoch: 1, [6400 / 60000(10.667%)]\t Train Loss: 2.3370656967163086\n",
            "Train epoch: 1, [12800 / 60000(21.333%)]\t Train Loss: 2.3771824836730957\n",
            "Train epoch: 1, [19200 / 60000(32.000%)]\t Train Loss: 2.3497965335845947\n",
            "Train epoch: 1, [25600 / 60000(42.667%)]\t Train Loss: 2.2855257987976074\n",
            "Train epoch: 1, [32000 / 60000(53.333%)]\t Train Loss: 2.3446109294891357\n",
            "Train epoch: 1, [38400 / 60000(64.000%)]\t Train Loss: 2.3194069862365723\n",
            "Train epoch: 1, [44800 / 60000(74.667%)]\t Train Loss: 2.3182222843170166\n",
            "Train epoch: 1, [51200 / 60000(85.333%)]\t Train Loss: 2.27104115486145\n",
            "Train epoch: 1, [57600 / 60000(96.000%)]\t Train Loss: 2.316202163696289\n",
            "\n",
            " [Epoch 1] \n",
            "Test Loss: 0.0713,\t Test Accuracy: 10.1400\n",
            "\n",
            "Train epoch: 2, [0 / 60000(0.000%)]\t Train Loss: 2.2802820205688477\n",
            "Train epoch: 2, [6400 / 60000(10.667%)]\t Train Loss: 2.2418107986450195\n",
            "Train epoch: 2, [12800 / 60000(21.333%)]\t Train Loss: 2.2613070011138916\n",
            "Train epoch: 2, [19200 / 60000(32.000%)]\t Train Loss: 2.2917253971099854\n",
            "Train epoch: 2, [25600 / 60000(42.667%)]\t Train Loss: 2.242205858230591\n",
            "Train epoch: 2, [32000 / 60000(53.333%)]\t Train Loss: 2.257594585418701\n",
            "Train epoch: 2, [38400 / 60000(64.000%)]\t Train Loss: 2.2230517864227295\n",
            "Train epoch: 2, [44800 / 60000(74.667%)]\t Train Loss: 2.1290223598480225\n",
            "Train epoch: 2, [51200 / 60000(85.333%)]\t Train Loss: 2.121497631072998\n",
            "Train epoch: 2, [57600 / 60000(96.000%)]\t Train Loss: 2.0606882572174072\n",
            "\n",
            " [Epoch 2] \n",
            "Test Loss: 0.0637,\t Test Accuracy: 42.6800\n",
            "\n",
            "Train epoch: 3, [0 / 60000(0.000%)]\t Train Loss: 1.9084696769714355\n",
            "Train epoch: 3, [6400 / 60000(10.667%)]\t Train Loss: 2.031008720397949\n",
            "Train epoch: 3, [12800 / 60000(21.333%)]\t Train Loss: 1.8561735153198242\n",
            "Train epoch: 3, [19200 / 60000(32.000%)]\t Train Loss: 1.9152159690856934\n",
            "Train epoch: 3, [25600 / 60000(42.667%)]\t Train Loss: 1.6505630016326904\n",
            "Train epoch: 3, [32000 / 60000(53.333%)]\t Train Loss: 1.6064488887786865\n",
            "Train epoch: 3, [38400 / 60000(64.000%)]\t Train Loss: 1.5591964721679688\n",
            "Train epoch: 3, [44800 / 60000(74.667%)]\t Train Loss: 1.1891443729400635\n",
            "Train epoch: 3, [51200 / 60000(85.333%)]\t Train Loss: 1.4034662246704102\n",
            "Train epoch: 3, [57600 / 60000(96.000%)]\t Train Loss: 1.4072215557098389\n",
            "\n",
            " [Epoch 3] \n",
            "Test Loss: 0.0379,\t Test Accuracy: 61.4800\n",
            "\n",
            "Train epoch: 4, [0 / 60000(0.000%)]\t Train Loss: 1.3635574579238892\n",
            "Train epoch: 4, [6400 / 60000(10.667%)]\t Train Loss: 1.2451618909835815\n",
            "Train epoch: 4, [12800 / 60000(21.333%)]\t Train Loss: 1.4978841543197632\n",
            "Train epoch: 4, [19200 / 60000(32.000%)]\t Train Loss: 1.3951189517974854\n",
            "Train epoch: 4, [25600 / 60000(42.667%)]\t Train Loss: 1.3631722927093506\n",
            "Train epoch: 4, [32000 / 60000(53.333%)]\t Train Loss: 1.0902514457702637\n",
            "Train epoch: 4, [38400 / 60000(64.000%)]\t Train Loss: 1.0323495864868164\n",
            "Train epoch: 4, [44800 / 60000(74.667%)]\t Train Loss: 1.0472831726074219\n",
            "Train epoch: 4, [51200 / 60000(85.333%)]\t Train Loss: 0.8856961131095886\n",
            "Train epoch: 4, [57600 / 60000(96.000%)]\t Train Loss: 1.2076314687728882\n",
            "\n",
            " [Epoch 4] \n",
            "Test Loss: 0.0274,\t Test Accuracy: 71.3200\n",
            "\n",
            "Train epoch: 5, [0 / 60000(0.000%)]\t Train Loss: 0.9367555379867554\n",
            "Train epoch: 5, [6400 / 60000(10.667%)]\t Train Loss: 1.232385516166687\n",
            "Train epoch: 5, [12800 / 60000(21.333%)]\t Train Loss: 1.1560529470443726\n",
            "Train epoch: 5, [19200 / 60000(32.000%)]\t Train Loss: 1.0771377086639404\n",
            "Train epoch: 5, [25600 / 60000(42.667%)]\t Train Loss: 1.1522101163864136\n",
            "Train epoch: 5, [32000 / 60000(53.333%)]\t Train Loss: 1.0122675895690918\n",
            "Train epoch: 5, [38400 / 60000(64.000%)]\t Train Loss: 0.9848887920379639\n",
            "Train epoch: 5, [44800 / 60000(74.667%)]\t Train Loss: 1.2026821374893188\n",
            "Train epoch: 5, [51200 / 60000(85.333%)]\t Train Loss: 1.007816195487976\n",
            "Train epoch: 5, [57600 / 60000(96.000%)]\t Train Loss: 0.8094325661659241\n",
            "\n",
            " [Epoch 5] \n",
            "Test Loss: 0.0235,\t Test Accuracy: 76.2700\n",
            "\n",
            "Train epoch: 6, [0 / 60000(0.000%)]\t Train Loss: 1.0930290222167969\n",
            "Train epoch: 6, [6400 / 60000(10.667%)]\t Train Loss: 0.846942126750946\n",
            "Train epoch: 6, [12800 / 60000(21.333%)]\t Train Loss: 0.9975242614746094\n",
            "Train epoch: 6, [19200 / 60000(32.000%)]\t Train Loss: 0.7927858829498291\n",
            "Train epoch: 6, [25600 / 60000(42.667%)]\t Train Loss: 0.7094330787658691\n",
            "Train epoch: 6, [32000 / 60000(53.333%)]\t Train Loss: 0.6454134583473206\n",
            "Train epoch: 6, [38400 / 60000(64.000%)]\t Train Loss: 0.8103847503662109\n",
            "Train epoch: 6, [44800 / 60000(74.667%)]\t Train Loss: 0.934623658657074\n",
            "Train epoch: 6, [51200 / 60000(85.333%)]\t Train Loss: 0.765860915184021\n",
            "Train epoch: 6, [57600 / 60000(96.000%)]\t Train Loss: 0.6526185870170593\n",
            "\n",
            " [Epoch 6] \n",
            "Test Loss: 0.0205,\t Test Accuracy: 80.4200\n",
            "\n",
            "Train epoch: 7, [0 / 60000(0.000%)]\t Train Loss: 0.622467041015625\n",
            "Train epoch: 7, [6400 / 60000(10.667%)]\t Train Loss: 0.7323880791664124\n",
            "Train epoch: 7, [12800 / 60000(21.333%)]\t Train Loss: 0.7699305415153503\n",
            "Train epoch: 7, [19200 / 60000(32.000%)]\t Train Loss: 0.9730647802352905\n",
            "Train epoch: 7, [25600 / 60000(42.667%)]\t Train Loss: 0.8232259154319763\n",
            "Train epoch: 7, [32000 / 60000(53.333%)]\t Train Loss: 0.8955214619636536\n",
            "Train epoch: 7, [38400 / 60000(64.000%)]\t Train Loss: 0.6684408783912659\n",
            "Train epoch: 7, [44800 / 60000(74.667%)]\t Train Loss: 0.7982434630393982\n",
            "Train epoch: 7, [51200 / 60000(85.333%)]\t Train Loss: 0.50838303565979\n",
            "Train epoch: 7, [57600 / 60000(96.000%)]\t Train Loss: 0.9010122418403625\n",
            "\n",
            " [Epoch 7] \n",
            "Test Loss: 0.0180,\t Test Accuracy: 82.9500\n",
            "\n",
            "Train epoch: 8, [0 / 60000(0.000%)]\t Train Loss: 0.672203004360199\n",
            "Train epoch: 8, [6400 / 60000(10.667%)]\t Train Loss: 0.900731086730957\n",
            "Train epoch: 8, [12800 / 60000(21.333%)]\t Train Loss: 0.5181422233581543\n",
            "Train epoch: 8, [19200 / 60000(32.000%)]\t Train Loss: 0.7444884181022644\n",
            "Train epoch: 8, [25600 / 60000(42.667%)]\t Train Loss: 0.8098389506340027\n",
            "Train epoch: 8, [32000 / 60000(53.333%)]\t Train Loss: 0.8223903179168701\n",
            "Train epoch: 8, [38400 / 60000(64.000%)]\t Train Loss: 0.4674873352050781\n",
            "Train epoch: 8, [44800 / 60000(74.667%)]\t Train Loss: 0.9068546891212463\n",
            "Train epoch: 8, [51200 / 60000(85.333%)]\t Train Loss: 0.469334214925766\n",
            "Train epoch: 8, [57600 / 60000(96.000%)]\t Train Loss: 1.019118070602417\n",
            "\n",
            " [Epoch 8] \n",
            "Test Loss: 0.0160,\t Test Accuracy: 84.6500\n",
            "\n",
            "Train epoch: 9, [0 / 60000(0.000%)]\t Train Loss: 0.5410428047180176\n",
            "Train epoch: 9, [6400 / 60000(10.667%)]\t Train Loss: 0.7165429592132568\n",
            "Train epoch: 9, [12800 / 60000(21.333%)]\t Train Loss: 0.8030120134353638\n",
            "Train epoch: 9, [19200 / 60000(32.000%)]\t Train Loss: 0.7014485597610474\n",
            "Train epoch: 9, [25600 / 60000(42.667%)]\t Train Loss: 0.743306040763855\n",
            "Train epoch: 9, [32000 / 60000(53.333%)]\t Train Loss: 0.9547897577285767\n",
            "Train epoch: 9, [38400 / 60000(64.000%)]\t Train Loss: 0.6403306126594543\n",
            "Train epoch: 9, [44800 / 60000(74.667%)]\t Train Loss: 0.6526402831077576\n",
            "Train epoch: 9, [51200 / 60000(85.333%)]\t Train Loss: 1.0500071048736572\n",
            "Train epoch: 9, [57600 / 60000(96.000%)]\t Train Loss: 0.4219162166118622\n",
            "\n",
            " [Epoch 9] \n",
            "Test Loss: 0.0146,\t Test Accuracy: 86.1200\n",
            "\n",
            "Train epoch: 10, [0 / 60000(0.000%)]\t Train Loss: 0.6061596870422363\n",
            "Train epoch: 10, [6400 / 60000(10.667%)]\t Train Loss: 0.5842543244361877\n",
            "Train epoch: 10, [12800 / 60000(21.333%)]\t Train Loss: 0.5626204013824463\n",
            "Train epoch: 10, [19200 / 60000(32.000%)]\t Train Loss: 0.6639286875724792\n",
            "Train epoch: 10, [25600 / 60000(42.667%)]\t Train Loss: 0.6640944480895996\n",
            "Train epoch: 10, [32000 / 60000(53.333%)]\t Train Loss: 0.31690099835395813\n",
            "Train epoch: 10, [38400 / 60000(64.000%)]\t Train Loss: 0.5065038204193115\n",
            "Train epoch: 10, [44800 / 60000(74.667%)]\t Train Loss: 0.5466076135635376\n",
            "Train epoch: 10, [51200 / 60000(85.333%)]\t Train Loss: 0.6467966437339783\n",
            "Train epoch: 10, [57600 / 60000(96.000%)]\t Train Loss: 0.4947395622730255\n",
            "\n",
            " [Epoch 10] \n",
            "Test Loss: 0.0137,\t Test Accuracy: 86.9200\n",
            "\n"
          ],
          "name": "stdout"
        }
      ]
    },
    {
      "cell_type": "markdown",
      "metadata": {
        "id": "0G3ClTM4Pxno"
      },
      "source": [
        "### Activation\n",
        "\n",
        "Relu는 값이 0보다 크면 1 기울기를 반환, 아니면 기울기를 지워버린다."
      ]
    },
    {
      "cell_type": "code",
      "metadata": {
        "id": "Nit4k5-HFXIU"
      },
      "source": [
        "# 모듈 임포트\n",
        "import numpy as np\n",
        "import matplotlib.pyplot as plt\n",
        "import torch\n",
        "import torch.nn as nn # torch 모듈 중 인공신경망을 설계할 때 필요한 함수를 모아 놓은 모듈\n",
        "import torch.nn.functional as F\n",
        "from torchvision import transforms, datasets # 비전 연구 분야에서 자주 이용하는 함수"
      ],
      "execution_count": null,
      "outputs": []
    },
    {
      "cell_type": "code",
      "metadata": {
        "id": "NzeRhdsCQC-h"
      },
      "source": [
        "if torch. cuda.is_available():\n",
        "  DEVICE = torch.device('cuda')\n",
        "else:\n",
        "  DEVICE = torch.device('cpu')"
      ],
      "execution_count": null,
      "outputs": []
    },
    {
      "cell_type": "code",
      "metadata": {
        "colab": {
          "base_uri": "https://localhost:8080/",
          "height": 403,
          "referenced_widgets": [
            "927187535dfb4b908336313e183396c1",
            "1f34210a11b7401c92336d4d4fc6bc61",
            "d1537870f4894e1d88dfe3399699b990",
            "ab0ccd02b5f74830b80cfe1e085c696c",
            "7e59cc00605c4e9bb1e78488356bbece",
            "23e3f182dcef44f89e0eb09c5f7b6f9f",
            "9a7aa7b23f12496ea2324bc8d88d8336",
            "c864889311344824a6636edde41c3230",
            "7af89bc7a60242629496eec9a2ecab50",
            "c21918d255e14259b8f4b81ff2d53a61",
            "f32a937479914d4e9219d3451c885cc0",
            "c1cfd7efe0ca4478b9175c9007557976",
            "8f3a4624e58c4d78a442b8bc01a91218",
            "941ef568a2c1466a98ca9a8d3f984de3",
            "1d64f5d32b284a30b8047f6ad5428422",
            "7e9ffd00e50944589b975685dc0e193f",
            "450282639dd5404daa56315d28ce1fa8",
            "439c78ef9ce74d26829855419575b423",
            "16188151697a468f87c0d14a67e28a2e",
            "4d1e00bcc9e841709a2f309f90c76306",
            "ae6966be3fd249a7ada9076aa7c9c11a",
            "9075390079cb4d92bc2121296cb9660c",
            "999c61a34e0e4533afcd8d0761e70ab5",
            "1d1a84bc8d69406c962291e9b56447d7",
            "f022d5481c7140508a9049cb9b6b5ca5",
            "9471c303b1a143858350fa24a687898d",
            "0afb5dcbbc0849eca33a178ad26fe2fc",
            "0daeb5f3956147dda284ebb6b1868180",
            "b83701f45b9a4612b0dd1429e64d53b4",
            "371010000c0c49918a5790b79db11eaa",
            "707e5390a71d45c6bd0d701311a29ad6",
            "0423f0644a734ab787ddcd4fd91841ac"
          ]
        },
        "id": "kJyH7Y9pQUnj",
        "outputId": "699d47a1-37ea-46d2-f1c2-23d759ee508b"
      },
      "source": [
        "train_dataset = datasets.MNIST(root= \"../data/MNIST\", train=True, download=True, transform = transforms.ToTensor())\n",
        "test_dataset = datasets.MNIST(root=\"../data/MNIST\", train=False, transform = transforms.ToTensor())"
      ],
      "execution_count": null,
      "outputs": [
        {
          "output_type": "stream",
          "text": [
            "Downloading http://yann.lecun.com/exdb/mnist/train-images-idx3-ubyte.gz to ../data/MNIST/MNIST/raw/train-images-idx3-ubyte.gz\n"
          ],
          "name": "stdout"
        },
        {
          "output_type": "display_data",
          "data": {
            "application/vnd.jupyter.widget-view+json": {
              "model_id": "927187535dfb4b908336313e183396c1",
              "version_major": 2,
              "version_minor": 0
            },
            "text/plain": [
              "HBox(children=(FloatProgress(value=1.0, bar_style='info', max=1.0), HTML(value='')))"
            ]
          },
          "metadata": {
            "tags": []
          }
        },
        {
          "output_type": "stream",
          "text": [
            "Extracting ../data/MNIST/MNIST/raw/train-images-idx3-ubyte.gz to ../data/MNIST/MNIST/raw\n",
            "Downloading http://yann.lecun.com/exdb/mnist/train-labels-idx1-ubyte.gz to ../data/MNIST/MNIST/raw/train-labels-idx1-ubyte.gz\n"
          ],
          "name": "stdout"
        },
        {
          "output_type": "display_data",
          "data": {
            "application/vnd.jupyter.widget-view+json": {
              "model_id": "7af89bc7a60242629496eec9a2ecab50",
              "version_major": 2,
              "version_minor": 0
            },
            "text/plain": [
              "HBox(children=(FloatProgress(value=1.0, bar_style='info', max=1.0), HTML(value='')))"
            ]
          },
          "metadata": {
            "tags": []
          }
        },
        {
          "output_type": "stream",
          "text": [
            "Extracting ../data/MNIST/MNIST/raw/train-labels-idx1-ubyte.gz to ../data/MNIST/MNIST/raw\n",
            "Downloading http://yann.lecun.com/exdb/mnist/t10k-images-idx3-ubyte.gz to ../data/MNIST/MNIST/raw/t10k-images-idx3-ubyte.gz\n"
          ],
          "name": "stdout"
        },
        {
          "output_type": "display_data",
          "data": {
            "application/vnd.jupyter.widget-view+json": {
              "model_id": "450282639dd5404daa56315d28ce1fa8",
              "version_major": 2,
              "version_minor": 0
            },
            "text/plain": [
              "HBox(children=(FloatProgress(value=1.0, bar_style='info', max=1.0), HTML(value='')))"
            ]
          },
          "metadata": {
            "tags": []
          }
        },
        {
          "output_type": "stream",
          "text": [
            "Extracting ../data/MNIST/MNIST/raw/t10k-images-idx3-ubyte.gz to ../data/MNIST/MNIST/raw\n",
            "Downloading http://yann.lecun.com/exdb/mnist/t10k-labels-idx1-ubyte.gz to ../data/MNIST/MNIST/raw/t10k-labels-idx1-ubyte.gz\n"
          ],
          "name": "stdout"
        },
        {
          "output_type": "display_data",
          "data": {
            "application/vnd.jupyter.widget-view+json": {
              "model_id": "f022d5481c7140508a9049cb9b6b5ca5",
              "version_major": 2,
              "version_minor": 0
            },
            "text/plain": [
              "HBox(children=(FloatProgress(value=1.0, bar_style='info', max=1.0), HTML(value='')))"
            ]
          },
          "metadata": {
            "tags": []
          }
        },
        {
          "output_type": "stream",
          "text": [
            "\n",
            "\n",
            "Extracting ../data/MNIST/MNIST/raw/t10k-labels-idx1-ubyte.gz to ../data/MNIST/MNIST/raw\n",
            "Processing...\n",
            "Done!\n"
          ],
          "name": "stdout"
        },
        {
          "output_type": "stream",
          "text": [
            "/usr/local/lib/python3.7/dist-packages/torchvision/datasets/mnist.py:480: UserWarning: The given NumPy array is not writeable, and PyTorch does not support non-writeable tensors. This means you can write to the underlying (supposedly non-writeable) NumPy array using the tensor. You may want to copy the array to protect its data or make it writeable before converting it to a tensor. This type of warning will be suppressed for the rest of this program. (Triggered internally at  /pytorch/torch/csrc/utils/tensor_numpy.cpp:141.)\n",
            "  return torch.from_numpy(parsed.astype(m[2], copy=False)).view(*s)\n"
          ],
          "name": "stderr"
        }
      ]
    },
    {
      "cell_type": "code",
      "metadata": {
        "id": "982zBInbRNS_"
      },
      "source": [
        "BATCH_SIZE = 32\n",
        "EPOCHS = 10"
      ],
      "execution_count": null,
      "outputs": []
    },
    {
      "cell_type": "code",
      "metadata": {
        "id": "vOPhYNxsQVOe"
      },
      "source": [
        "train_loader = torch.utils.data.DataLoader(dataset = train_dataset, batch_size = BATCH_SIZE, shuffle=True )\n",
        "test_loader = torch.utils.data.DataLoader(dataset = test_dataset, batch_size = BATCH_SIZE, shuffle=False)"
      ],
      "execution_count": null,
      "outputs": []
    },
    {
      "cell_type": "code",
      "metadata": {
        "id": "cM-HmxqtRdXR"
      },
      "source": [
        "class Net(nn.Module):\n",
        "  def __init__(self):\n",
        "    super(Net, self).__init__()\n",
        "    self.fc1 = nn.Linear(28 * 28, 512)\n",
        "    self.fc2 = nn.Linear(512, 256)\n",
        "    self.fc3 = nn.Linear(256, 10)\n",
        "    self.dropout_prob = 0.5\n",
        "\n",
        "  def forward(self, x):\n",
        "    x = x.view(-1, 28*28)\n",
        "    x = self.fc1(x)\n",
        "    x = F.relu(x)\n",
        "    x = F.dropout(x, training=self.training, p = self.dropout_prob)\n",
        "    x = self.fc2(x)\n",
        "    x = F.relu(x)\n",
        "    x = F.dropout(x, training=self.training, p = self.dropout_prob)\n",
        "    x = self.fc3(x)\n",
        "    x = F.log_softmax(x, dim=1)\n",
        "\n",
        "    return x"
      ],
      "execution_count": null,
      "outputs": []
    },
    {
      "cell_type": "code",
      "metadata": {
        "colab": {
          "background_save": true,
          "base_uri": "https://localhost:8080/"
        },
        "id": "hwkDo4bFRmjk",
        "outputId": "d9aa4b9f-910a-4128-e91b-50bc2750cc7a"
      },
      "source": [
        "# model, optimizer, objective function 설정\n",
        "model = Net().to(DEVICE) # DEVICE 에 할당해 주어야 한다.\n",
        "\n",
        "optimizer = torch.optim.SGD(model.parameters(), lr = 0.01, momentum=0.5) # 옵티마이저 정의 방식에 주의\n",
        "criterion = nn.CrossEntropyLoss() # CrossEntropy를 사용해 계산\n",
        "\n",
        "for Epoch in range(1, EPOCHS + 1):\n",
        "  train(model, train_loader, optimizer, log_interval=200)\n",
        "  test_loss, test_accuracy = evaluate(model, test_loader)\n",
        "  print(f\"\\n [Epoch {Epoch}] \\nTest Loss: {test_loss:.4f},\\t Test Accuracy: {test_accuracy:.4f}\\n\")"
      ],
      "execution_count": null,
      "outputs": [
        {
          "output_type": "stream",
          "text": [
            "Train epoch: 1, [0 / 60000(0.000%)]\t Train Loss: 2.3119406700134277\n",
            "Train epoch: 1, [6400 / 60000(10.667%)]\t Train Loss: 2.1094040870666504\n",
            "Train epoch: 1, [12800 / 60000(21.333%)]\t Train Loss: 1.2658246755599976\n",
            "Train epoch: 1, [19200 / 60000(32.000%)]\t Train Loss: 0.7956878542900085\n",
            "Train epoch: 1, [25600 / 60000(42.667%)]\t Train Loss: 0.7076317667961121\n",
            "Train epoch: 1, [32000 / 60000(53.333%)]\t Train Loss: 0.47512704133987427\n",
            "Train epoch: 1, [38400 / 60000(64.000%)]\t Train Loss: 1.0035603046417236\n",
            "Train epoch: 1, [44800 / 60000(74.667%)]\t Train Loss: 0.8458591103553772\n",
            "Train epoch: 1, [51200 / 60000(85.333%)]\t Train Loss: 0.25709471106529236\n",
            "Train epoch: 1, [57600 / 60000(96.000%)]\t Train Loss: 0.3203340768814087\n",
            "\n",
            " [Epoch 1] \n",
            "Test Loss: 0.0100,\t Test Accuracy: 90.8500\n",
            "\n",
            "Train epoch: 2, [0 / 60000(0.000%)]\t Train Loss: 0.3157886564731598\n",
            "Train epoch: 2, [6400 / 60000(10.667%)]\t Train Loss: 0.47069424390792847\n",
            "Train epoch: 2, [12800 / 60000(21.333%)]\t Train Loss: 0.46050944924354553\n",
            "Train epoch: 2, [19200 / 60000(32.000%)]\t Train Loss: 0.4148450493812561\n",
            "Train epoch: 2, [25600 / 60000(42.667%)]\t Train Loss: 0.2717512547969818\n",
            "Train epoch: 2, [32000 / 60000(53.333%)]\t Train Loss: 0.42861801385879517\n",
            "Train epoch: 2, [38400 / 60000(64.000%)]\t Train Loss: 0.38726121187210083\n",
            "Train epoch: 2, [44800 / 60000(74.667%)]\t Train Loss: 0.3309726417064667\n",
            "Train epoch: 2, [51200 / 60000(85.333%)]\t Train Loss: 0.3866698741912842\n",
            "Train epoch: 2, [57600 / 60000(96.000%)]\t Train Loss: 0.4145583212375641\n",
            "\n",
            " [Epoch 2] \n",
            "Test Loss: 0.0071,\t Test Accuracy: 93.2600\n",
            "\n",
            "Train epoch: 3, [0 / 60000(0.000%)]\t Train Loss: 0.16512443125247955\n",
            "Train epoch: 3, [6400 / 60000(10.667%)]\t Train Loss: 0.7068038582801819\n",
            "Train epoch: 3, [12800 / 60000(21.333%)]\t Train Loss: 0.2760463356971741\n",
            "Train epoch: 3, [19200 / 60000(32.000%)]\t Train Loss: 0.4310416877269745\n",
            "Train epoch: 3, [25600 / 60000(42.667%)]\t Train Loss: 0.3881506025791168\n",
            "Train epoch: 3, [32000 / 60000(53.333%)]\t Train Loss: 0.27114811539649963\n",
            "Train epoch: 3, [38400 / 60000(64.000%)]\t Train Loss: 0.29193106293678284\n",
            "Train epoch: 3, [44800 / 60000(74.667%)]\t Train Loss: 0.17783522605895996\n",
            "Train epoch: 3, [51200 / 60000(85.333%)]\t Train Loss: 0.12267690151929855\n",
            "Train epoch: 3, [57600 / 60000(96.000%)]\t Train Loss: 0.18820756673812866\n",
            "\n",
            " [Epoch 3] \n",
            "Test Loss: 0.0055,\t Test Accuracy: 94.8300\n",
            "\n",
            "Train epoch: 4, [0 / 60000(0.000%)]\t Train Loss: 0.5093511939048767\n",
            "Train epoch: 4, [6400 / 60000(10.667%)]\t Train Loss: 0.2667596638202667\n",
            "Train epoch: 4, [12800 / 60000(21.333%)]\t Train Loss: 0.1547442525625229\n",
            "Train epoch: 4, [19200 / 60000(32.000%)]\t Train Loss: 0.37640684843063354\n",
            "Train epoch: 4, [25600 / 60000(42.667%)]\t Train Loss: 0.32290491461753845\n",
            "Train epoch: 4, [32000 / 60000(53.333%)]\t Train Loss: 0.7009945511817932\n",
            "Train epoch: 4, [38400 / 60000(64.000%)]\t Train Loss: 0.1729370355606079\n",
            "Train epoch: 4, [44800 / 60000(74.667%)]\t Train Loss: 0.1654781848192215\n",
            "Train epoch: 4, [51200 / 60000(85.333%)]\t Train Loss: 0.19997906684875488\n",
            "Train epoch: 4, [57600 / 60000(96.000%)]\t Train Loss: 0.3235026001930237\n",
            "\n",
            " [Epoch 4] \n",
            "Test Loss: 0.0047,\t Test Accuracy: 95.5300\n",
            "\n",
            "Train epoch: 5, [0 / 60000(0.000%)]\t Train Loss: 0.18289582431316376\n",
            "Train epoch: 5, [6400 / 60000(10.667%)]\t Train Loss: 0.054655976593494415\n",
            "Train epoch: 5, [12800 / 60000(21.333%)]\t Train Loss: 0.04705047979950905\n",
            "Train epoch: 5, [19200 / 60000(32.000%)]\t Train Loss: 0.21883533895015717\n",
            "Train epoch: 5, [25600 / 60000(42.667%)]\t Train Loss: 0.14890803396701813\n",
            "Train epoch: 5, [32000 / 60000(53.333%)]\t Train Loss: 0.07445412874221802\n",
            "Train epoch: 5, [38400 / 60000(64.000%)]\t Train Loss: 0.09446882456541061\n",
            "Train epoch: 5, [44800 / 60000(74.667%)]\t Train Loss: 0.035772889852523804\n",
            "Train epoch: 5, [51200 / 60000(85.333%)]\t Train Loss: 0.1508253812789917\n",
            "Train epoch: 5, [57600 / 60000(96.000%)]\t Train Loss: 0.08581730723381042\n",
            "\n",
            " [Epoch 5] \n",
            "Test Loss: 0.0040,\t Test Accuracy: 95.9600\n",
            "\n",
            "Train epoch: 6, [0 / 60000(0.000%)]\t Train Loss: 0.31839096546173096\n",
            "Train epoch: 6, [6400 / 60000(10.667%)]\t Train Loss: 0.06973947584629059\n",
            "Train epoch: 6, [12800 / 60000(21.333%)]\t Train Loss: 0.057885702699422836\n",
            "Train epoch: 6, [19200 / 60000(32.000%)]\t Train Loss: 0.13738064467906952\n",
            "Train epoch: 6, [25600 / 60000(42.667%)]\t Train Loss: 0.31563329696655273\n",
            "Train epoch: 6, [32000 / 60000(53.333%)]\t Train Loss: 0.07169514149427414\n",
            "Train epoch: 6, [38400 / 60000(64.000%)]\t Train Loss: 0.14194050431251526\n",
            "Train epoch: 6, [44800 / 60000(74.667%)]\t Train Loss: 0.1179148256778717\n",
            "Train epoch: 6, [51200 / 60000(85.333%)]\t Train Loss: 0.366542249917984\n",
            "Train epoch: 6, [57600 / 60000(96.000%)]\t Train Loss: 0.11016792804002762\n",
            "\n",
            " [Epoch 6] \n",
            "Test Loss: 0.0036,\t Test Accuracy: 96.3100\n",
            "\n",
            "Train epoch: 7, [0 / 60000(0.000%)]\t Train Loss: 0.09319648146629333\n",
            "Train epoch: 7, [6400 / 60000(10.667%)]\t Train Loss: 0.03919566050171852\n",
            "Train epoch: 7, [12800 / 60000(21.333%)]\t Train Loss: 0.11002930253744125\n",
            "Train epoch: 7, [19200 / 60000(32.000%)]\t Train Loss: 0.10344033688306808\n",
            "Train epoch: 7, [25600 / 60000(42.667%)]\t Train Loss: 0.11585518717765808\n",
            "Train epoch: 7, [32000 / 60000(53.333%)]\t Train Loss: 0.16751201450824738\n",
            "Train epoch: 7, [38400 / 60000(64.000%)]\t Train Loss: 0.21381856501102448\n",
            "Train epoch: 7, [44800 / 60000(74.667%)]\t Train Loss: 0.24404878914356232\n",
            "Train epoch: 7, [51200 / 60000(85.333%)]\t Train Loss: 0.10634668171405792\n",
            "Train epoch: 7, [57600 / 60000(96.000%)]\t Train Loss: 0.07496411353349686\n",
            "\n",
            " [Epoch 7] \n",
            "Test Loss: 0.0032,\t Test Accuracy: 96.6900\n",
            "\n",
            "Train epoch: 8, [0 / 60000(0.000%)]\t Train Loss: 0.034850362688302994\n",
            "Train epoch: 8, [6400 / 60000(10.667%)]\t Train Loss: 0.04110509157180786\n",
            "Train epoch: 8, [12800 / 60000(21.333%)]\t Train Loss: 0.21027584373950958\n",
            "Train epoch: 8, [19200 / 60000(32.000%)]\t Train Loss: 0.05896354839205742\n",
            "Train epoch: 8, [25600 / 60000(42.667%)]\t Train Loss: 0.14431710541248322\n",
            "Train epoch: 8, [32000 / 60000(53.333%)]\t Train Loss: 0.06652799993753433\n",
            "Train epoch: 8, [38400 / 60000(64.000%)]\t Train Loss: 0.0897841677069664\n",
            "Train epoch: 8, [44800 / 60000(74.667%)]\t Train Loss: 0.23745118081569672\n",
            "Train epoch: 8, [51200 / 60000(85.333%)]\t Train Loss: 0.28293362259864807\n",
            "Train epoch: 8, [57600 / 60000(96.000%)]\t Train Loss: 0.20292462408542633\n",
            "\n",
            " [Epoch 8] \n",
            "Test Loss: 0.0031,\t Test Accuracy: 96.9500\n",
            "\n",
            "Train epoch: 9, [0 / 60000(0.000%)]\t Train Loss: 0.05458393320441246\n",
            "Train epoch: 9, [6400 / 60000(10.667%)]\t Train Loss: 0.08634548634290695\n",
            "Train epoch: 9, [12800 / 60000(21.333%)]\t Train Loss: 0.09339296072721481\n",
            "Train epoch: 9, [19200 / 60000(32.000%)]\t Train Loss: 0.02064298279583454\n",
            "Train epoch: 9, [25600 / 60000(42.667%)]\t Train Loss: 0.18788228929042816\n",
            "Train epoch: 9, [32000 / 60000(53.333%)]\t Train Loss: 0.06847777217626572\n",
            "Train epoch: 9, [38400 / 60000(64.000%)]\t Train Loss: 0.15149445831775665\n",
            "Train epoch: 9, [44800 / 60000(74.667%)]\t Train Loss: 0.1900392770767212\n",
            "Train epoch: 9, [51200 / 60000(85.333%)]\t Train Loss: 0.1584179848432541\n",
            "Train epoch: 9, [57600 / 60000(96.000%)]\t Train Loss: 0.2388668805360794\n",
            "\n",
            " [Epoch 9] \n",
            "Test Loss: 0.0028,\t Test Accuracy: 97.1500\n",
            "\n",
            "Train epoch: 10, [0 / 60000(0.000%)]\t Train Loss: 0.23792840540409088\n",
            "Train epoch: 10, [6400 / 60000(10.667%)]\t Train Loss: 0.3194715082645416\n",
            "Train epoch: 10, [12800 / 60000(21.333%)]\t Train Loss: 0.04107959195971489\n",
            "Train epoch: 10, [19200 / 60000(32.000%)]\t Train Loss: 0.07438919693231583\n",
            "Train epoch: 10, [25600 / 60000(42.667%)]\t Train Loss: 0.0882265567779541\n",
            "Train epoch: 10, [32000 / 60000(53.333%)]\t Train Loss: 0.08147561550140381\n",
            "Train epoch: 10, [38400 / 60000(64.000%)]\t Train Loss: 0.044689297676086426\n",
            "Train epoch: 10, [44800 / 60000(74.667%)]\t Train Loss: 0.09206750243902206\n",
            "Train epoch: 10, [51200 / 60000(85.333%)]\t Train Loss: 0.07071056962013245\n",
            "Train epoch: 10, [57600 / 60000(96.000%)]\t Train Loss: 0.051144104450941086\n",
            "\n",
            " [Epoch 10] \n",
            "Test Loss: 0.0027,\t Test Accuracy: 97.3500\n",
            "\n"
          ],
          "name": "stdout"
        }
      ]
    },
    {
      "cell_type": "markdown",
      "metadata": {
        "id": "DLQH7iFGicmW"
      },
      "source": [
        "### Batch-normalization\n",
        "\n",
        "Internal Covariance Shift 를 감소시켜 학습 속도를 유지한다.\n"
      ]
    },
    {
      "cell_type": "markdown",
      "metadata": {
        "id": "llWB3LjlvhvH"
      },
      "source": [
        "기본 정규화 방법\n",
        "![기본](https://media.vlpt.us/images/jiselectric/post/8862ef9a-13a2-4402-8c80-1929d7c37083/0_PXGPVYIxyI_IEHP7.png)\n",
        "\n",
        "배치 정규화\n",
        "![정규화](https://img1.daumcdn.net/thumb/R1280x0/?scode=mtistory2&fname=https%3A%2F%2Fblog.kakaocdn.net%2Fdn%2FcFYkLE%2FbtqEcUnlXKy%2FZbGZNjObjo2gL2xss8zYzk%2Fimg.png)"
      ]
    },
    {
      "cell_type": "code",
      "metadata": {
        "id": "CaC3DEosSPD7"
      },
      "source": [
        "# 모듈 임포트\n",
        "import numpy as np\n",
        "import matplotlib.pyplot as plt\n",
        "import torch\n",
        "import torch.nn as nn\n",
        "import torch.nn.functional as F\n",
        "from torchvision import transforms, datasets"
      ],
      "execution_count": 2,
      "outputs": []
    },
    {
      "cell_type": "code",
      "metadata": {
        "id": "ntR2bw3tipG8"
      },
      "source": [
        "if torch. cuda.is_available():\n",
        "  DEVICE = torch.device('cuda')\n",
        "else:\n",
        "  DEVICE = torch.device('cpu')"
      ],
      "execution_count": 3,
      "outputs": []
    },
    {
      "cell_type": "code",
      "metadata": {
        "colab": {
          "base_uri": "https://localhost:8080/",
          "height": 403,
          "referenced_widgets": [
            "672cb41f2643430da66499bbfcb15c71",
            "eab31b0f0c034f85b998406c371eb623",
            "53074a6aa3b84edba7000930038ffd48",
            "3f4a2dd71e2d4a24a535ea6c12a8589f",
            "affbe3982d3440b29b3c79d8623106bd",
            "017f53f6b60a4e1785d98ffac08d8d31",
            "472956d341394ae2a9d7a4f5fe7c1e61",
            "ff5d917c94a7492f97ae4d93a542a626",
            "a35e959e571e416c8634f2f662319b56",
            "2f9d2fee75c44c6c9f0cba3daa75c8b8",
            "7de31655b8854a3cb3bf3541400b7ba4",
            "4a839cdb66a244f3a2696836ef50afed",
            "e03e4f25657f43acaaa3fde2c34f3d23",
            "bde1f7b3940a450faab0004379064d4a",
            "93534dcfc68f46fa92b76d55736af1c8",
            "ec44bb9ac4fb4bbd96665a4f82ff5160",
            "65e1562805734e5d8c5b918c89dfd077",
            "24999b871bcf4042a3d94cb385e035ef",
            "7cb8946bb2bd437a9aa06633fcf15549",
            "f5a3612657ef419fb4d15e53460e5376",
            "0315e66b780b4fffba7c9b838e167b2c",
            "2d95ef69dd584762bcf57b4534878987",
            "2176c325439f44d085a2818c4abaa1f4",
            "f19a499d8b424d16987861ff372f3250",
            "48f084f3f00f4432b1a5672e0e5be894",
            "1851d214974a463c820d01f73cdfe019",
            "3c2c7af715ec40ff8ec0b0710f64097f",
            "277d2090a35247f6bc5b3c0c287c0f9b",
            "2b2f2c5f7e3742aeb052cebc9aec687c",
            "4e9d664b22e942edb72e972e74164a47",
            "24199894a33c4828b7875f71940c4e60",
            "88aaad69d10c41048c21cc1a8ffd9a83"
          ]
        },
        "id": "1WY-HW5piyvL",
        "outputId": "7337286a-0ab7-4175-863e-5d7f64ebbf41"
      },
      "source": [
        "train_dataset = datasets.MNIST(root= \"../data/MNIST\", train=True, download=True, transform = transforms.ToTensor())\n",
        "test_dataset = datasets.MNIST(root=\"../data/MNIST\", train=False, transform = transforms.ToTensor())"
      ],
      "execution_count": 4,
      "outputs": [
        {
          "output_type": "stream",
          "text": [
            "Downloading http://yann.lecun.com/exdb/mnist/train-images-idx3-ubyte.gz to ../data/MNIST/MNIST/raw/train-images-idx3-ubyte.gz\n"
          ],
          "name": "stdout"
        },
        {
          "output_type": "display_data",
          "data": {
            "application/vnd.jupyter.widget-view+json": {
              "model_id": "672cb41f2643430da66499bbfcb15c71",
              "version_minor": 0,
              "version_major": 2
            },
            "text/plain": [
              "HBox(children=(FloatProgress(value=1.0, bar_style='info', max=1.0), HTML(value='')))"
            ]
          },
          "metadata": {
            "tags": []
          }
        },
        {
          "output_type": "stream",
          "text": [
            "Extracting ../data/MNIST/MNIST/raw/train-images-idx3-ubyte.gz to ../data/MNIST/MNIST/raw\n",
            "Downloading http://yann.lecun.com/exdb/mnist/train-labels-idx1-ubyte.gz to ../data/MNIST/MNIST/raw/train-labels-idx1-ubyte.gz\n"
          ],
          "name": "stdout"
        },
        {
          "output_type": "display_data",
          "data": {
            "application/vnd.jupyter.widget-view+json": {
              "model_id": "a35e959e571e416c8634f2f662319b56",
              "version_minor": 0,
              "version_major": 2
            },
            "text/plain": [
              "HBox(children=(FloatProgress(value=1.0, bar_style='info', max=1.0), HTML(value='')))"
            ]
          },
          "metadata": {
            "tags": []
          }
        },
        {
          "output_type": "stream",
          "text": [
            "Extracting ../data/MNIST/MNIST/raw/train-labels-idx1-ubyte.gz to ../data/MNIST/MNIST/raw\n",
            "Downloading http://yann.lecun.com/exdb/mnist/t10k-images-idx3-ubyte.gz to ../data/MNIST/MNIST/raw/t10k-images-idx3-ubyte.gz\n"
          ],
          "name": "stdout"
        },
        {
          "output_type": "display_data",
          "data": {
            "application/vnd.jupyter.widget-view+json": {
              "model_id": "65e1562805734e5d8c5b918c89dfd077",
              "version_minor": 0,
              "version_major": 2
            },
            "text/plain": [
              "HBox(children=(FloatProgress(value=1.0, bar_style='info', max=1.0), HTML(value='')))"
            ]
          },
          "metadata": {
            "tags": []
          }
        },
        {
          "output_type": "stream",
          "text": [
            "Extracting ../data/MNIST/MNIST/raw/t10k-images-idx3-ubyte.gz to ../data/MNIST/MNIST/raw\n",
            "Downloading http://yann.lecun.com/exdb/mnist/t10k-labels-idx1-ubyte.gz to ../data/MNIST/MNIST/raw/t10k-labels-idx1-ubyte.gz\n",
            "\n",
            "\n"
          ],
          "name": "stdout"
        },
        {
          "output_type": "display_data",
          "data": {
            "application/vnd.jupyter.widget-view+json": {
              "model_id": "48f084f3f00f4432b1a5672e0e5be894",
              "version_minor": 0,
              "version_major": 2
            },
            "text/plain": [
              "HBox(children=(FloatProgress(value=1.0, bar_style='info', max=1.0), HTML(value='')))"
            ]
          },
          "metadata": {
            "tags": []
          }
        },
        {
          "output_type": "stream",
          "text": [
            "Extracting ../data/MNIST/MNIST/raw/t10k-labels-idx1-ubyte.gz to ../data/MNIST/MNIST/raw\n",
            "Processing...\n",
            "Done!\n"
          ],
          "name": "stdout"
        },
        {
          "output_type": "stream",
          "text": [
            "/usr/local/lib/python3.7/dist-packages/torchvision/datasets/mnist.py:480: UserWarning: The given NumPy array is not writeable, and PyTorch does not support non-writeable tensors. This means you can write to the underlying (supposedly non-writeable) NumPy array using the tensor. You may want to copy the array to protect its data or make it writeable before converting it to a tensor. This type of warning will be suppressed for the rest of this program. (Triggered internally at  /pytorch/torch/csrc/utils/tensor_numpy.cpp:141.)\n",
            "  return torch.from_numpy(parsed.astype(m[2], copy=False)).view(*s)\n"
          ],
          "name": "stderr"
        }
      ]
    },
    {
      "cell_type": "code",
      "metadata": {
        "id": "g8N57MI_i-bO"
      },
      "source": [
        "BATCH_SIZE = 32\n",
        "EPOCHS = 10"
      ],
      "execution_count": 7,
      "outputs": []
    },
    {
      "cell_type": "code",
      "metadata": {
        "id": "UeVsKdU0i1St"
      },
      "source": [
        "train_loader = torch.utils.data.DataLoader(train_dataset, BATCH_SIZE, True)\n",
        "test_loader = torch.utils.data.DataLoader(test_dataset, BATCH_SIZE, False)"
      ],
      "execution_count": 8,
      "outputs": []
    },
    {
      "cell_type": "code",
      "metadata": {
        "id": "XUFse53OjL1p"
      },
      "source": [
        "## 모델 설계\n",
        "class Net(nn.Module):\n",
        "  def __init__(self):\n",
        "    super(Net, self).__init__()\n",
        "    self.fc1 = nn.Linear(28 * 28, 512)\n",
        "    self.fc2 = nn.Linear(512, 256)\n",
        "    self.fc3 = nn.Linear(256, 10)\n",
        "\n",
        "    self.dropout_prob = 0.5\n",
        "\n",
        "    self.batch_norm1 = nn.BatchNorm1d(512) # 첫 fc layer의 output이 512임\n",
        "    self.batch_norm2 = nn.BatchNorm1d(256)\n",
        "\n",
        "  def forward(self, x):\n",
        "    x = x.view(-1,28*28)\n",
        "    x = self.fc1(x)\n",
        "    x = self.batch_norm1(x)\n",
        "    x = F.sigmoid(x)\n",
        "    x = F.dropout(x, p = self.dropout_prob, training = self.training)\n",
        "    x = self.fc2(x)\n",
        "    x = self.batch_norm2(x)\n",
        "    x = F.sigmoid(x)\n",
        "    x = F.dropout(x, p = self.dropout_prob, training = self.training)\n",
        "    x = self.fc3(x)\n",
        "    x = F.log_softmax(x, dim=1)\n",
        "    return x"
      ],
      "execution_count": 6,
      "outputs": []
    },
    {
      "cell_type": "code",
      "metadata": {
        "id": "FL-Pw_MjuP7j"
      },
      "source": [
        "def train(model, loader, optimizer, log_interval ):\n",
        "  model.train() # 모델을 학습상태로 변경함\n",
        "\n",
        "  for batch_idx, (image, label) in enumerate(loader):\n",
        "    image = image.to(DEVICE)\n",
        "    label = label.to(DEVICE)\n",
        "\n",
        "    optimizer.zero_grad() # 기울기를 0으로 초기화\n",
        "    output = model(image)\n",
        "\n",
        "    loss = criterion(output, label)\n",
        "    loss.backward()\n",
        "    optimizer.step()\n",
        "\n",
        "    if batch_idx % log_interval == 0:\n",
        "      print(f\"Train epoch : {Epoch} [{batch_idx * len(image) / len(loader.dataset):.6}, {100. * batch_idx / len(loader):.6} % ], Train loss : {loss.item()}\")\n"
      ],
      "execution_count": 9,
      "outputs": []
    },
    {
      "cell_type": "code",
      "metadata": {
        "id": "eij0k1Vjxi3f"
      },
      "source": [
        "def evaluate(model, loader):\n",
        "  model.eval() # 테스트 상태로 변경\n",
        "  test_loss = 0\n",
        "  correct = 0\n",
        "\n",
        "  with torch.no_grad():\n",
        "    for image, label in loader:\n",
        "      image = image.to(DEVICE)\n",
        "      label = label.to(DEVICE)\n",
        "\n",
        "      output = model(image)\n",
        "      \n",
        "      test_loss += criterion(output, label).item()\n",
        "      \n",
        "      prediction = output.max(1, keepdim = True)[1] # 예측 값중 가장 큰 값\n",
        "\n",
        "      correct += prediction.eq(label.view_as(prediction)).sum().item()\n",
        "\n",
        "\n",
        "  test_loss /= len(loader.dataset)\n",
        "  test_acc = 100. * correct / len(loader.dataset)\n",
        "\n",
        "  print(f\"Test loss : {test_loss}, test_acc : {test_acc}\")\n",
        "\n",
        "  return test_loss, test_acc"
      ],
      "execution_count": 10,
      "outputs": []
    },
    {
      "cell_type": "code",
      "metadata": {
        "id": "bIt3TOVGym0M"
      },
      "source": [
        "model = Net().to(DEVICE)\n",
        "optimizer = torch.optim.SGD(model.parameters(), lr = 0.01, momentum = 0.5)\n",
        "criterion = nn.CrossEntropyLoss()"
      ],
      "execution_count": null,
      "outputs": []
    },
    {
      "cell_type": "code",
      "metadata": {
        "colab": {
          "base_uri": "https://localhost:8080/"
        },
        "id": "zrtST2Csydu5",
        "outputId": "e85d4aef-0799-428a-af7b-181afcc6b5d7"
      },
      "source": [
        "for Epoch in range(1, EPOCHS + 1):\n",
        "  train(model, train_loader, optimizer, 200)\n",
        "  evaluate(model, test_loader)"
      ],
      "execution_count": null,
      "outputs": [
        {
          "output_type": "stream",
          "text": [
            "/usr/local/lib/python3.7/dist-packages/torch/nn/functional.py:1639: UserWarning: nn.functional.sigmoid is deprecated. Use torch.sigmoid instead.\n",
            "  warnings.warn(\"nn.functional.sigmoid is deprecated. Use torch.sigmoid instead.\")\n"
          ],
          "name": "stderr"
        },
        {
          "output_type": "stream",
          "text": [
            "Train epoch : 1 [0.0, 0.0 % ], Train loss : 0.270090252161026\n",
            "Train epoch : 1 [0.106667, 10.6667 % ], Train loss : 0.4522574543952942\n",
            "Train epoch : 1 [0.213333, 21.3333 % ], Train loss : 0.48431968688964844\n",
            "Train epoch : 1 [0.32, 32.0 % ], Train loss : 0.7016597986221313\n",
            "Train epoch : 1 [0.426667, 42.6667 % ], Train loss : 0.4275389313697815\n",
            "Train epoch : 1 [0.533333, 53.3333 % ], Train loss : 0.4996999502182007\n",
            "Train epoch : 1 [0.64, 64.0 % ], Train loss : 0.4781433045864105\n",
            "Train epoch : 1 [0.746667, 74.6667 % ], Train loss : 0.5197855234146118\n",
            "Train epoch : 1 [0.853333, 85.3333 % ], Train loss : 0.7181930541992188\n",
            "Train epoch : 1 [0.96, 96.0 % ], Train loss : 0.33845290541648865\n",
            "Test loss : 0.00930194703117013, test_acc : 91.49\n",
            "Train epoch : 2 [0.0, 0.0 % ], Train loss : 0.4137119650840759\n",
            "Train epoch : 2 [0.106667, 10.6667 % ], Train loss : 0.46099504828453064\n",
            "Train epoch : 2 [0.213333, 21.3333 % ], Train loss : 0.5701290965080261\n",
            "Train epoch : 2 [0.32, 32.0 % ], Train loss : 0.27249136567115784\n",
            "Train epoch : 2 [0.426667, 42.6667 % ], Train loss : 0.586077868938446\n",
            "Train epoch : 2 [0.533333, 53.3333 % ], Train loss : 0.5634880065917969\n",
            "Train epoch : 2 [0.64, 64.0 % ], Train loss : 0.7101016044616699\n",
            "Train epoch : 2 [0.746667, 74.6667 % ], Train loss : 0.7006937265396118\n",
            "Train epoch : 2 [0.853333, 85.3333 % ], Train loss : 0.38312816619873047\n",
            "Train epoch : 2 [0.96, 96.0 % ], Train loss : 0.41391390562057495\n",
            "Test loss : 0.00894183580428362, test_acc : 91.7\n",
            "Train epoch : 3 [0.0, 0.0 % ], Train loss : 0.5014395713806152\n",
            "Train epoch : 3 [0.106667, 10.6667 % ], Train loss : 0.4221160411834717\n",
            "Train epoch : 3 [0.213333, 21.3333 % ], Train loss : 0.5875316262245178\n",
            "Train epoch : 3 [0.32, 32.0 % ], Train loss : 0.7317814230918884\n",
            "Train epoch : 3 [0.426667, 42.6667 % ], Train loss : 0.4421407878398895\n",
            "Train epoch : 3 [0.533333, 53.3333 % ], Train loss : 0.38981473445892334\n",
            "Train epoch : 3 [0.64, 64.0 % ], Train loss : 0.3320622146129608\n",
            "Train epoch : 3 [0.746667, 74.6667 % ], Train loss : 0.67192143201828\n",
            "Train epoch : 3 [0.853333, 85.3333 % ], Train loss : 0.3638139069080353\n",
            "Train epoch : 3 [0.96, 96.0 % ], Train loss : 0.4023611843585968\n",
            "Test loss : 0.008836819872446357, test_acc : 91.7\n",
            "Train epoch : 4 [0.0, 0.0 % ], Train loss : 0.6918348073959351\n",
            "Train epoch : 4 [0.106667, 10.6667 % ], Train loss : 0.24473807215690613\n",
            "Train epoch : 4 [0.213333, 21.3333 % ], Train loss : 0.41022220253944397\n",
            "Train epoch : 4 [0.32, 32.0 % ], Train loss : 0.6135261654853821\n",
            "Train epoch : 4 [0.426667, 42.6667 % ], Train loss : 0.36048051714897156\n",
            "Train epoch : 4 [0.533333, 53.3333 % ], Train loss : 0.5424730777740479\n",
            "Train epoch : 4 [0.64, 64.0 % ], Train loss : 0.3830839991569519\n",
            "Train epoch : 4 [0.746667, 74.6667 % ], Train loss : 0.7325114011764526\n",
            "Train epoch : 4 [0.853333, 85.3333 % ], Train loss : 0.6543482542037964\n",
            "Train epoch : 4 [0.96, 96.0 % ], Train loss : 0.5263400673866272\n",
            "Test loss : 0.008498807577230037, test_acc : 92.02\n",
            "Train epoch : 5 [0.0, 0.0 % ], Train loss : 0.38494324684143066\n",
            "Train epoch : 5 [0.106667, 10.6667 % ], Train loss : 0.5790174007415771\n",
            "Train epoch : 5 [0.213333, 21.3333 % ], Train loss : 0.4090259075164795\n",
            "Train epoch : 5 [0.32, 32.0 % ], Train loss : 0.5571592450141907\n",
            "Train epoch : 5 [0.426667, 42.6667 % ], Train loss : 0.7402621507644653\n",
            "Train epoch : 5 [0.533333, 53.3333 % ], Train loss : 0.2485833615064621\n",
            "Train epoch : 5 [0.64, 64.0 % ], Train loss : 0.4366067051887512\n",
            "Train epoch : 5 [0.746667, 74.6667 % ], Train loss : 0.3201776146888733\n",
            "Train epoch : 5 [0.853333, 85.3333 % ], Train loss : 0.3048357367515564\n",
            "Train epoch : 5 [0.96, 96.0 % ], Train loss : 0.5699273943901062\n",
            "Test loss : 0.008476641547679901, test_acc : 92.09\n",
            "Train epoch : 6 [0.0, 0.0 % ], Train loss : 0.7676534056663513\n",
            "Train epoch : 6 [0.106667, 10.6667 % ], Train loss : 0.43132439255714417\n",
            "Train epoch : 6 [0.213333, 21.3333 % ], Train loss : 0.4670703113079071\n",
            "Train epoch : 6 [0.32, 32.0 % ], Train loss : 0.29155638813972473\n",
            "Train epoch : 6 [0.426667, 42.6667 % ], Train loss : 0.45584753155708313\n",
            "Train epoch : 6 [0.533333, 53.3333 % ], Train loss : 0.6773865222930908\n",
            "Train epoch : 6 [0.64, 64.0 % ], Train loss : 0.4679892063140869\n",
            "Train epoch : 6 [0.746667, 74.6667 % ], Train loss : 0.6766371130943298\n",
            "Train epoch : 6 [0.853333, 85.3333 % ], Train loss : 0.5919141173362732\n",
            "Train epoch : 6 [0.96, 96.0 % ], Train loss : 0.48657071590423584\n",
            "Test loss : 0.008361702224798501, test_acc : 92.01\n",
            "Train epoch : 7 [0.0, 0.0 % ], Train loss : 0.3170296847820282\n",
            "Train epoch : 7 [0.106667, 10.6667 % ], Train loss : 0.5968770384788513\n",
            "Train epoch : 7 [0.213333, 21.3333 % ], Train loss : 0.40001142024993896\n",
            "Train epoch : 7 [0.32, 32.0 % ], Train loss : 0.41167956590652466\n",
            "Train epoch : 7 [0.426667, 42.6667 % ], Train loss : 0.26966020464897156\n",
            "Train epoch : 7 [0.533333, 53.3333 % ], Train loss : 0.31676772236824036\n",
            "Train epoch : 7 [0.64, 64.0 % ], Train loss : 0.507545530796051\n",
            "Train epoch : 7 [0.746667, 74.6667 % ], Train loss : 0.6174695491790771\n",
            "Train epoch : 7 [0.853333, 85.3333 % ], Train loss : 0.4050924479961395\n",
            "Train epoch : 7 [0.96, 96.0 % ], Train loss : 0.3544461727142334\n",
            "Test loss : 0.00817734869318083, test_acc : 92.21\n",
            "Train epoch : 8 [0.0, 0.0 % ], Train loss : 0.10913168638944626\n",
            "Train epoch : 8 [0.106667, 10.6667 % ], Train loss : 0.2052283138036728\n",
            "Train epoch : 8 [0.213333, 21.3333 % ], Train loss : 0.5542275905609131\n",
            "Train epoch : 8 [0.32, 32.0 % ], Train loss : 0.2139538675546646\n",
            "Train epoch : 8 [0.426667, 42.6667 % ], Train loss : 0.3015645444393158\n",
            "Train epoch : 8 [0.533333, 53.3333 % ], Train loss : 0.6861370205879211\n",
            "Train epoch : 8 [0.64, 64.0 % ], Train loss : 0.5884580016136169\n",
            "Train epoch : 8 [0.746667, 74.6667 % ], Train loss : 0.7166176438331604\n",
            "Train epoch : 8 [0.853333, 85.3333 % ], Train loss : 0.2889338433742523\n",
            "Train epoch : 8 [0.96, 96.0 % ], Train loss : 0.3910730481147766\n",
            "Test loss : 0.008142527447361499, test_acc : 92.25\n",
            "Train epoch : 9 [0.0, 0.0 % ], Train loss : 0.4839232861995697\n",
            "Train epoch : 9 [0.106667, 10.6667 % ], Train loss : 0.5519077181816101\n",
            "Train epoch : 9 [0.213333, 21.3333 % ], Train loss : 0.23268042504787445\n",
            "Train epoch : 9 [0.32, 32.0 % ], Train loss : 0.45488327741622925\n",
            "Train epoch : 9 [0.426667, 42.6667 % ], Train loss : 0.746699869632721\n",
            "Train epoch : 9 [0.533333, 53.3333 % ], Train loss : 0.7875015735626221\n",
            "Train epoch : 9 [0.64, 64.0 % ], Train loss : 0.3043699562549591\n",
            "Train epoch : 9 [0.746667, 74.6667 % ], Train loss : 0.6365167498588562\n",
            "Train epoch : 9 [0.853333, 85.3333 % ], Train loss : 0.43947479128837585\n",
            "Train epoch : 9 [0.96, 96.0 % ], Train loss : 0.36834585666656494\n",
            "Test loss : 0.007912306330539286, test_acc : 92.67\n",
            "Train epoch : 10 [0.0, 0.0 % ], Train loss : 0.6274754405021667\n",
            "Train epoch : 10 [0.106667, 10.6667 % ], Train loss : 0.3405822813510895\n",
            "Train epoch : 10 [0.213333, 21.3333 % ], Train loss : 0.3870338201522827\n",
            "Train epoch : 10 [0.32, 32.0 % ], Train loss : 0.42284083366394043\n",
            "Train epoch : 10 [0.426667, 42.6667 % ], Train loss : 0.5295684337615967\n",
            "Train epoch : 10 [0.533333, 53.3333 % ], Train loss : 0.5128574371337891\n",
            "Train epoch : 10 [0.64, 64.0 % ], Train loss : 0.21190190315246582\n",
            "Train epoch : 10 [0.746667, 74.6667 % ], Train loss : 0.24495583772659302\n",
            "Train epoch : 10 [0.853333, 85.3333 % ], Train loss : 0.3479562997817993\n",
            "Train epoch : 10 [0.96, 96.0 % ], Train loss : 0.2209261655807495\n",
            "Test loss : 0.007900085316039623, test_acc : 92.62\n"
          ],
          "name": "stdout"
        }
      ]
    },
    {
      "cell_type": "code",
      "metadata": {
        "colab": {
          "base_uri": "https://localhost:8080/"
        },
        "id": "T3TQRZAly4zh",
        "outputId": "1a119572-5a9d-4519-c6cd-f898181e36f3"
      },
      "source": [
        "a, b = train_dataset[0]\n",
        "b"
      ],
      "execution_count": null,
      "outputs": [
        {
          "output_type": "execute_result",
          "data": {
            "text/plain": [
              "5"
            ]
          },
          "metadata": {
            "tags": []
          },
          "execution_count": 29
        }
      ]
    },
    {
      "cell_type": "markdown",
      "metadata": {
        "id": "O4y8FqioQ40O"
      },
      "source": [
        "### Initialization\n",
        "\n",
        "초기화 방법에 따른 학습 효율의 변화\n",
        "\n",
        "학습의 시작점을 좋게 설정하여 학습이 좋은 방향으로 나아갈 수 있게 한다."
      ]
    },
    {
      "cell_type": "code",
      "metadata": {
        "id": "cb463hr11TMr",
        "colab": {
          "base_uri": "https://localhost:8080/"
        },
        "outputId": "68812507-9182-476f-d5ed-c6ecbf776d11"
      },
      "source": [
        "import torch.nn.init as init\n",
        "\n",
        "def weight_init(m):\n",
        "  if isinstance(m, nn.Linear):\n",
        "    init.kaiming_uniform_(m.weight.data) # He Initalize을 의미한다. 기본값은 uniform 분포\n",
        "\n",
        "\n",
        "model = Net().to(DEVICE)\n",
        "model.apply(weight_init) # 적용 (nn.Module.apply 함수는 모든 서브모듈에 대해 callable 함수를 수행한 뒤 결과를 반환한다.)\n",
        "optimizer = torch.optim.SGD(model.parameters(), lr = 0.01, momentum = 0.5)\n",
        "criterion = nn.CrossEntropyLoss()\n",
        "\n",
        "for Epoch in range(1, EPOCHS + 1):\n",
        "  train(model, train_loader, optimizer, 200)\n",
        "  evaluate(model, test_loader)"
      ],
      "execution_count": 11,
      "outputs": [
        {
          "output_type": "stream",
          "text": [
            "/usr/local/lib/python3.7/dist-packages/torch/nn/functional.py:1639: UserWarning: nn.functional.sigmoid is deprecated. Use torch.sigmoid instead.\n",
            "  warnings.warn(\"nn.functional.sigmoid is deprecated. Use torch.sigmoid instead.\")\n"
          ],
          "name": "stderr"
        },
        {
          "output_type": "stream",
          "text": [
            "Train epoch : 1 [0.0, 0.0 % ], Train loss : 2.385364532470703\n",
            "Train epoch : 1 [0.106667, 10.6667 % ], Train loss : 2.08713960647583\n",
            "Train epoch : 1 [0.213333, 21.3333 % ], Train loss : 1.8251914978027344\n",
            "Train epoch : 1 [0.32, 32.0 % ], Train loss : 1.7313677072525024\n",
            "Train epoch : 1 [0.426667, 42.6667 % ], Train loss : 1.2944509983062744\n",
            "Train epoch : 1 [0.533333, 53.3333 % ], Train loss : 1.3921513557434082\n",
            "Train epoch : 1 [0.64, 64.0 % ], Train loss : 1.1009702682495117\n",
            "Train epoch : 1 [0.746667, 74.6667 % ], Train loss : 1.112769365310669\n",
            "Train epoch : 1 [0.853333, 85.3333 % ], Train loss : 1.0578850507736206\n",
            "Train epoch : 1 [0.96, 96.0 % ], Train loss : 0.9628053903579712\n",
            "Test loss : 0.019117114174366, test_acc : 85.99\n",
            "Train epoch : 2 [0.0, 0.0 % ], Train loss : 0.8614552617073059\n",
            "Train epoch : 2 [0.106667, 10.6667 % ], Train loss : 1.0122395753860474\n",
            "Train epoch : 2 [0.213333, 21.3333 % ], Train loss : 1.0830011367797852\n",
            "Train epoch : 2 [0.32, 32.0 % ], Train loss : 0.8841635584831238\n",
            "Train epoch : 2 [0.426667, 42.6667 % ], Train loss : 0.9219421744346619\n",
            "Train epoch : 2 [0.533333, 53.3333 % ], Train loss : 1.1700406074523926\n",
            "Train epoch : 2 [0.64, 64.0 % ], Train loss : 1.0953103303909302\n",
            "Train epoch : 2 [0.746667, 74.6667 % ], Train loss : 0.9076119065284729\n",
            "Train epoch : 2 [0.853333, 85.3333 % ], Train loss : 0.5687175989151001\n",
            "Train epoch : 2 [0.96, 96.0 % ], Train loss : 0.720082700252533\n",
            "Test loss : 0.013746296922117473, test_acc : 88.62\n",
            "Train epoch : 3 [0.0, 0.0 % ], Train loss : 0.7265037894248962\n",
            "Train epoch : 3 [0.106667, 10.6667 % ], Train loss : 0.9107982516288757\n",
            "Train epoch : 3 [0.213333, 21.3333 % ], Train loss : 1.1461037397384644\n",
            "Train epoch : 3 [0.32, 32.0 % ], Train loss : 0.6607775688171387\n",
            "Train epoch : 3 [0.426667, 42.6667 % ], Train loss : 0.780165433883667\n",
            "Train epoch : 3 [0.533333, 53.3333 % ], Train loss : 0.9510794878005981\n",
            "Train epoch : 3 [0.64, 64.0 % ], Train loss : 0.8226608037948608\n",
            "Train epoch : 3 [0.746667, 74.6667 % ], Train loss : 0.8614279627799988\n",
            "Train epoch : 3 [0.853333, 85.3333 % ], Train loss : 1.1535269021987915\n",
            "Train epoch : 3 [0.96, 96.0 % ], Train loss : 0.8252474665641785\n",
            "Test loss : 0.011942735885828733, test_acc : 89.56\n",
            "Train epoch : 4 [0.0, 0.0 % ], Train loss : 0.881894588470459\n",
            "Train epoch : 4 [0.106667, 10.6667 % ], Train loss : 0.7855659127235413\n",
            "Train epoch : 4 [0.213333, 21.3333 % ], Train loss : 0.6633461713790894\n",
            "Train epoch : 4 [0.32, 32.0 % ], Train loss : 0.7008758187294006\n",
            "Train epoch : 4 [0.426667, 42.6667 % ], Train loss : 0.46761104464530945\n",
            "Train epoch : 4 [0.533333, 53.3333 % ], Train loss : 0.8390375375747681\n",
            "Train epoch : 4 [0.64, 64.0 % ], Train loss : 0.6199512481689453\n",
            "Train epoch : 4 [0.746667, 74.6667 % ], Train loss : 0.5246424674987793\n",
            "Train epoch : 4 [0.853333, 85.3333 % ], Train loss : 0.7593166828155518\n",
            "Train epoch : 4 [0.96, 96.0 % ], Train loss : 0.4751831591129303\n",
            "Test loss : 0.010991153332591057, test_acc : 90.12\n",
            "Train epoch : 5 [0.0, 0.0 % ], Train loss : 0.3871642053127289\n",
            "Train epoch : 5 [0.106667, 10.6667 % ], Train loss : 0.5715892910957336\n",
            "Train epoch : 5 [0.213333, 21.3333 % ], Train loss : 0.3384374678134918\n",
            "Train epoch : 5 [0.32, 32.0 % ], Train loss : 0.9268412590026855\n",
            "Train epoch : 5 [0.426667, 42.6667 % ], Train loss : 0.49748265743255615\n",
            "Train epoch : 5 [0.533333, 53.3333 % ], Train loss : 0.5217552781105042\n",
            "Train epoch : 5 [0.64, 64.0 % ], Train loss : 0.8876667618751526\n",
            "Train epoch : 5 [0.746667, 74.6667 % ], Train loss : 0.7716498970985413\n",
            "Train epoch : 5 [0.853333, 85.3333 % ], Train loss : 0.4393477737903595\n",
            "Train epoch : 5 [0.96, 96.0 % ], Train loss : 0.6235583424568176\n",
            "Test loss : 0.010486783432215452, test_acc : 90.46\n",
            "Train epoch : 6 [0.0, 0.0 % ], Train loss : 0.4953596293926239\n",
            "Train epoch : 6 [0.106667, 10.6667 % ], Train loss : 0.3861900269985199\n",
            "Train epoch : 6 [0.213333, 21.3333 % ], Train loss : 0.7839452028274536\n",
            "Train epoch : 6 [0.32, 32.0 % ], Train loss : 0.6001137495040894\n",
            "Train epoch : 6 [0.426667, 42.6667 % ], Train loss : 0.6322832107543945\n",
            "Train epoch : 6 [0.533333, 53.3333 % ], Train loss : 0.7094166874885559\n",
            "Train epoch : 6 [0.64, 64.0 % ], Train loss : 0.5271296501159668\n",
            "Train epoch : 6 [0.746667, 74.6667 % ], Train loss : 0.5097514986991882\n",
            "Train epoch : 6 [0.853333, 85.3333 % ], Train loss : 0.7625972628593445\n",
            "Train epoch : 6 [0.96, 96.0 % ], Train loss : 0.30546849966049194\n",
            "Test loss : 0.010024815123714507, test_acc : 90.77\n",
            "Train epoch : 7 [0.0, 0.0 % ], Train loss : 0.38546833395957947\n",
            "Train epoch : 7 [0.106667, 10.6667 % ], Train loss : 0.6471948027610779\n",
            "Train epoch : 7 [0.213333, 21.3333 % ], Train loss : 0.5733956098556519\n",
            "Train epoch : 7 [0.32, 32.0 % ], Train loss : 0.4897845387458801\n",
            "Train epoch : 7 [0.426667, 42.6667 % ], Train loss : 0.2820131480693817\n",
            "Train epoch : 7 [0.533333, 53.3333 % ], Train loss : 0.7916386723518372\n",
            "Train epoch : 7 [0.64, 64.0 % ], Train loss : 0.40296509861946106\n",
            "Train epoch : 7 [0.746667, 74.6667 % ], Train loss : 0.601509690284729\n",
            "Train epoch : 7 [0.853333, 85.3333 % ], Train loss : 0.4644181430339813\n",
            "Train epoch : 7 [0.96, 96.0 % ], Train loss : 0.27701759338378906\n",
            "Test loss : 0.009601784502342343, test_acc : 91.01\n",
            "Train epoch : 8 [0.0, 0.0 % ], Train loss : 0.518100380897522\n",
            "Train epoch : 8 [0.106667, 10.6667 % ], Train loss : 0.3573213517665863\n",
            "Train epoch : 8 [0.213333, 21.3333 % ], Train loss : 0.6216475367546082\n",
            "Train epoch : 8 [0.32, 32.0 % ], Train loss : 0.49414026737213135\n",
            "Train epoch : 8 [0.426667, 42.6667 % ], Train loss : 0.5096406936645508\n",
            "Train epoch : 8 [0.533333, 53.3333 % ], Train loss : 0.5973471403121948\n",
            "Train epoch : 8 [0.64, 64.0 % ], Train loss : 0.6156677007675171\n",
            "Train epoch : 8 [0.746667, 74.6667 % ], Train loss : 0.4211132228374481\n",
            "Train epoch : 8 [0.853333, 85.3333 % ], Train loss : 0.4377341866493225\n",
            "Train epoch : 8 [0.96, 96.0 % ], Train loss : 0.438362181186676\n",
            "Test loss : 0.009576994295604527, test_acc : 91.13\n",
            "Train epoch : 9 [0.0, 0.0 % ], Train loss : 0.5147770047187805\n",
            "Train epoch : 9 [0.106667, 10.6667 % ], Train loss : 0.8501647710800171\n",
            "Train epoch : 9 [0.213333, 21.3333 % ], Train loss : 0.6558370590209961\n",
            "Train epoch : 9 [0.32, 32.0 % ], Train loss : 0.7142385840415955\n",
            "Train epoch : 9 [0.426667, 42.6667 % ], Train loss : 0.3385658264160156\n",
            "Train epoch : 9 [0.533333, 53.3333 % ], Train loss : 0.5227052569389343\n",
            "Train epoch : 9 [0.64, 64.0 % ], Train loss : 0.5007138252258301\n",
            "Train epoch : 9 [0.746667, 74.6667 % ], Train loss : 0.24609556794166565\n",
            "Train epoch : 9 [0.853333, 85.3333 % ], Train loss : 0.770433783531189\n",
            "Train epoch : 9 [0.96, 96.0 % ], Train loss : 0.8450320363044739\n",
            "Test loss : 0.009315061182528735, test_acc : 91.18\n",
            "Train epoch : 10 [0.0, 0.0 % ], Train loss : 0.886978268623352\n",
            "Train epoch : 10 [0.106667, 10.6667 % ], Train loss : 0.6505218744277954\n",
            "Train epoch : 10 [0.213333, 21.3333 % ], Train loss : 0.36355552077293396\n",
            "Train epoch : 10 [0.32, 32.0 % ], Train loss : 0.4993474781513214\n",
            "Train epoch : 10 [0.426667, 42.6667 % ], Train loss : 0.5647143125534058\n",
            "Train epoch : 10 [0.533333, 53.3333 % ], Train loss : 0.5166561603546143\n",
            "Train epoch : 10 [0.64, 64.0 % ], Train loss : 0.7982043623924255\n",
            "Train epoch : 10 [0.746667, 74.6667 % ], Train loss : 0.3750115931034088\n",
            "Train epoch : 10 [0.853333, 85.3333 % ], Train loss : 0.25071555376052856\n",
            "Train epoch : 10 [0.96, 96.0 % ], Train loss : 0.3928622901439667\n",
            "Test loss : 0.00923650723323226, test_acc : 91.19\n"
          ],
          "name": "stdout"
        }
      ]
    },
    {
      "cell_type": "markdown",
      "metadata": {
        "id": "Vs6DjqNPbjET"
      },
      "source": [
        "\n",
        "### Optimizer\n",
        "\n"
      ]
    },
    {
      "cell_type": "code",
      "metadata": {
        "id": "s4pbFpD5W4yg"
      },
      "source": [
        "optimizer = torch.optim.Adam(model.parameters(), lr = 0.01) # Adam 으로 젼환"
      ],
      "execution_count": 12,
      "outputs": []
    },
    {
      "cell_type": "code",
      "metadata": {
        "colab": {
          "base_uri": "https://localhost:8080/"
        },
        "id": "EJ5D-Oh7aB-S",
        "outputId": "754e52ae-68eb-4ca5-b2fc-ac030fd31fb9"
      },
      "source": [
        "for Epoch in range(1, EPOCHS + 1):\n",
        "  train(model, train_loader, optimizer, 200)\n",
        "  evaluate(model, test_loader)"
      ],
      "execution_count": 13,
      "outputs": [
        {
          "output_type": "stream",
          "text": [
            "/usr/local/lib/python3.7/dist-packages/torch/nn/functional.py:1639: UserWarning: nn.functional.sigmoid is deprecated. Use torch.sigmoid instead.\n",
            "  warnings.warn(\"nn.functional.sigmoid is deprecated. Use torch.sigmoid instead.\")\n"
          ],
          "name": "stderr"
        },
        {
          "output_type": "stream",
          "text": [
            "Train epoch : 1 [0.0, 0.0 % ], Train loss : 0.33708932995796204\n",
            "Train epoch : 1 [0.106667, 10.6667 % ], Train loss : 0.8208688497543335\n",
            "Train epoch : 1 [0.213333, 21.3333 % ], Train loss : 0.7519791126251221\n",
            "Train epoch : 1 [0.32, 32.0 % ], Train loss : 0.6201186776161194\n",
            "Train epoch : 1 [0.426667, 42.6667 % ], Train loss : 0.32119593024253845\n",
            "Train epoch : 1 [0.533333, 53.3333 % ], Train loss : 0.5267834663391113\n",
            "Train epoch : 1 [0.64, 64.0 % ], Train loss : 0.4201321601867676\n",
            "Train epoch : 1 [0.746667, 74.6667 % ], Train loss : 0.5722525119781494\n",
            "Train epoch : 1 [0.853333, 85.3333 % ], Train loss : 0.21929289400577545\n",
            "Train epoch : 1 [0.96, 96.0 % ], Train loss : 0.19631212949752808\n",
            "Test loss : 0.006923355108965188, test_acc : 92.99\n",
            "Train epoch : 2 [0.0, 0.0 % ], Train loss : 0.04951409995555878\n",
            "Train epoch : 2 [0.106667, 10.6667 % ], Train loss : 0.4319005012512207\n",
            "Train epoch : 2 [0.213333, 21.3333 % ], Train loss : 0.2629105746746063\n",
            "Train epoch : 2 [0.32, 32.0 % ], Train loss : 0.616113007068634\n",
            "Train epoch : 2 [0.426667, 42.6667 % ], Train loss : 0.3951926827430725\n",
            "Train epoch : 2 [0.533333, 53.3333 % ], Train loss : 0.11907994002103806\n",
            "Train epoch : 2 [0.64, 64.0 % ], Train loss : 0.2788844108581543\n",
            "Train epoch : 2 [0.746667, 74.6667 % ], Train loss : 0.5168842673301697\n",
            "Train epoch : 2 [0.853333, 85.3333 % ], Train loss : 0.03041892871260643\n",
            "Train epoch : 2 [0.96, 96.0 % ], Train loss : 0.17470255494117737\n",
            "Test loss : 0.004094165451521985, test_acc : 95.82\n",
            "Train epoch : 3 [0.0, 0.0 % ], Train loss : 0.24504819512367249\n",
            "Train epoch : 3 [0.106667, 10.6667 % ], Train loss : 0.2891348898410797\n",
            "Train epoch : 3 [0.213333, 21.3333 % ], Train loss : 0.05333855375647545\n",
            "Train epoch : 3 [0.32, 32.0 % ], Train loss : 0.2420627325773239\n",
            "Train epoch : 3 [0.426667, 42.6667 % ], Train loss : 0.08711014688014984\n",
            "Train epoch : 3 [0.533333, 53.3333 % ], Train loss : 0.14654667675495148\n",
            "Train epoch : 3 [0.64, 64.0 % ], Train loss : 0.24843770265579224\n",
            "Train epoch : 3 [0.746667, 74.6667 % ], Train loss : 0.12749788165092468\n",
            "Train epoch : 3 [0.853333, 85.3333 % ], Train loss : 0.20848673582077026\n",
            "Train epoch : 3 [0.96, 96.0 % ], Train loss : 0.09484494477510452\n",
            "Test loss : 0.0036360137352719904, test_acc : 96.56\n",
            "Train epoch : 4 [0.0, 0.0 % ], Train loss : 0.026929644867777824\n",
            "Train epoch : 4 [0.106667, 10.6667 % ], Train loss : 0.19159790873527527\n",
            "Train epoch : 4 [0.213333, 21.3333 % ], Train loss : 0.21019579470157623\n",
            "Train epoch : 4 [0.32, 32.0 % ], Train loss : 0.047017961740493774\n",
            "Train epoch : 4 [0.426667, 42.6667 % ], Train loss : 0.047770906239748\n",
            "Train epoch : 4 [0.533333, 53.3333 % ], Train loss : 0.26686564087867737\n",
            "Train epoch : 4 [0.64, 64.0 % ], Train loss : 0.19892239570617676\n",
            "Train epoch : 4 [0.746667, 74.6667 % ], Train loss : 0.2952727973461151\n",
            "Train epoch : 4 [0.853333, 85.3333 % ], Train loss : 0.13673484325408936\n",
            "Train epoch : 4 [0.96, 96.0 % ], Train loss : 0.13233496248722076\n",
            "Test loss : 0.0030680874419995235, test_acc : 96.93\n",
            "Train epoch : 5 [0.0, 0.0 % ], Train loss : 0.102989062666893\n",
            "Train epoch : 5 [0.106667, 10.6667 % ], Train loss : 0.07469406723976135\n",
            "Train epoch : 5 [0.213333, 21.3333 % ], Train loss : 0.11627283692359924\n",
            "Train epoch : 5 [0.32, 32.0 % ], Train loss : 0.45700597763061523\n",
            "Train epoch : 5 [0.426667, 42.6667 % ], Train loss : 0.11211679875850677\n",
            "Train epoch : 5 [0.533333, 53.3333 % ], Train loss : 0.16912423074245453\n",
            "Train epoch : 5 [0.64, 64.0 % ], Train loss : 0.5965308547019958\n",
            "Train epoch : 5 [0.746667, 74.6667 % ], Train loss : 0.054370783269405365\n",
            "Train epoch : 5 [0.853333, 85.3333 % ], Train loss : 0.09025008231401443\n",
            "Train epoch : 5 [0.96, 96.0 % ], Train loss : 0.017791900783777237\n",
            "Test loss : 0.0026544128653440565, test_acc : 97.29\n",
            "Train epoch : 6 [0.0, 0.0 % ], Train loss : 0.08690539747476578\n",
            "Train epoch : 6 [0.106667, 10.6667 % ], Train loss : 0.1477811485528946\n",
            "Train epoch : 6 [0.213333, 21.3333 % ], Train loss : 0.19029612839221954\n",
            "Train epoch : 6 [0.32, 32.0 % ], Train loss : 0.15673671662807465\n",
            "Train epoch : 6 [0.426667, 42.6667 % ], Train loss : 0.102775938808918\n",
            "Train epoch : 6 [0.533333, 53.3333 % ], Train loss : 0.0034772874787449837\n",
            "Train epoch : 6 [0.64, 64.0 % ], Train loss : 0.08869495242834091\n",
            "Train epoch : 6 [0.746667, 74.6667 % ], Train loss : 0.14193229377269745\n",
            "Train epoch : 6 [0.853333, 85.3333 % ], Train loss : 0.08045686781406403\n",
            "Train epoch : 6 [0.96, 96.0 % ], Train loss : 0.06973463296890259\n",
            "Test loss : 0.0025035429087816737, test_acc : 97.66\n",
            "Train epoch : 7 [0.0, 0.0 % ], Train loss : 0.08445198088884354\n",
            "Train epoch : 7 [0.106667, 10.6667 % ], Train loss : 0.05661119148135185\n",
            "Train epoch : 7 [0.213333, 21.3333 % ], Train loss : 0.32702693343162537\n",
            "Train epoch : 7 [0.32, 32.0 % ], Train loss : 0.2644340693950653\n",
            "Train epoch : 7 [0.426667, 42.6667 % ], Train loss : 0.08705324679613113\n",
            "Train epoch : 7 [0.533333, 53.3333 % ], Train loss : 0.03360842913389206\n",
            "Train epoch : 7 [0.64, 64.0 % ], Train loss : 0.16707757115364075\n",
            "Train epoch : 7 [0.746667, 74.6667 % ], Train loss : 0.12210430204868317\n",
            "Train epoch : 7 [0.853333, 85.3333 % ], Train loss : 0.02484930492937565\n",
            "Train epoch : 7 [0.96, 96.0 % ], Train loss : 0.010394521988928318\n",
            "Test loss : 0.0022244651198765498, test_acc : 97.85\n",
            "Train epoch : 8 [0.0, 0.0 % ], Train loss : 0.2464846670627594\n",
            "Train epoch : 8 [0.106667, 10.6667 % ], Train loss : 0.08281473815441132\n",
            "Train epoch : 8 [0.213333, 21.3333 % ], Train loss : 0.04982304945588112\n",
            "Train epoch : 8 [0.32, 32.0 % ], Train loss : 0.14039817452430725\n",
            "Train epoch : 8 [0.426667, 42.6667 % ], Train loss : 0.27243560552597046\n",
            "Train epoch : 8 [0.533333, 53.3333 % ], Train loss : 0.21647430956363678\n",
            "Train epoch : 8 [0.64, 64.0 % ], Train loss : 0.4741957187652588\n",
            "Train epoch : 8 [0.746667, 74.6667 % ], Train loss : 0.07730096578598022\n",
            "Train epoch : 8 [0.853333, 85.3333 % ], Train loss : 0.29756441712379456\n",
            "Train epoch : 8 [0.96, 96.0 % ], Train loss : 0.09862591326236725\n",
            "Test loss : 0.0021467202185485802, test_acc : 97.94\n",
            "Train epoch : 9 [0.0, 0.0 % ], Train loss : 0.012077165767550468\n",
            "Train epoch : 9 [0.106667, 10.6667 % ], Train loss : 0.21264109015464783\n",
            "Train epoch : 9 [0.213333, 21.3333 % ], Train loss : 0.15694157779216766\n",
            "Train epoch : 9 [0.32, 32.0 % ], Train loss : 0.06188429147005081\n",
            "Train epoch : 9 [0.426667, 42.6667 % ], Train loss : 0.013725953176617622\n",
            "Train epoch : 9 [0.533333, 53.3333 % ], Train loss : 0.05095855891704559\n",
            "Train epoch : 9 [0.64, 64.0 % ], Train loss : 0.02390999346971512\n",
            "Train epoch : 9 [0.746667, 74.6667 % ], Train loss : 0.203133687376976\n",
            "Train epoch : 9 [0.853333, 85.3333 % ], Train loss : 0.3035031259059906\n",
            "Train epoch : 9 [0.96, 96.0 % ], Train loss : 0.0849999338388443\n",
            "Test loss : 0.0021883195581161997, test_acc : 97.88\n",
            "Train epoch : 10 [0.0, 0.0 % ], Train loss : 0.08189568668603897\n",
            "Train epoch : 10 [0.106667, 10.6667 % ], Train loss : 0.2193090170621872\n",
            "Train epoch : 10 [0.213333, 21.3333 % ], Train loss : 0.23603397607803345\n",
            "Train epoch : 10 [0.32, 32.0 % ], Train loss : 0.09385048598051071\n",
            "Train epoch : 10 [0.426667, 42.6667 % ], Train loss : 0.007678775116801262\n",
            "Train epoch : 10 [0.533333, 53.3333 % ], Train loss : 0.030617380514740944\n",
            "Train epoch : 10 [0.64, 64.0 % ], Train loss : 0.042773932218551636\n",
            "Train epoch : 10 [0.746667, 74.6667 % ], Train loss : 0.1730499267578125\n",
            "Train epoch : 10 [0.853333, 85.3333 % ], Train loss : 0.04187258332967758\n",
            "Train epoch : 10 [0.96, 96.0 % ], Train loss : 0.08617596328258514\n",
            "Test loss : 0.00212767361603037, test_acc : 98.05\n"
          ],
          "name": "stdout"
        }
      ]
    },
    {
      "cell_type": "markdown",
      "metadata": {
        "id": "hXzkrFO5bh0J"
      },
      "source": [
        "### AutoEncoder\n",
        "\n",
        "신경망을 비지도학습에 사용하는 방법.\n",
        "\n",
        "앞 부분을 Hidden Layer로 압축시킨 뒤(Encoding) output 부분을 input과 동일하게 만들어 Decoding한다."
      ]
    },
    {
      "cell_type": "code",
      "metadata": {
        "id": "lJa19zeMaDQx"
      },
      "source": [
        "import numpy as np\n",
        "import matplotlib.pyplot as plt\n",
        "\n",
        "import torch\n",
        "import torch.nn as nn\n",
        "import torch.nn.functional as F\n",
        "from torchvision import transforms, datasets"
      ],
      "execution_count": 2,
      "outputs": []
    },
    {
      "cell_type": "code",
      "metadata": {
        "colab": {
          "base_uri": "https://localhost:8080/"
        },
        "id": "kLKkVQ6Vv9p8",
        "outputId": "76dea3c1-5054-48e7-cc78-08b378a54309"
      },
      "source": [
        "if torch.cuda.is_available():\n",
        "  DEVICE = torch.device('cuda')\n",
        "else:\n",
        "  DEVICE = torch.device('cpu')\n",
        "\n",
        "print(f\"Using PyTorch version: {torch.__version__}, Device: {DEVICE}\")"
      ],
      "execution_count": 3,
      "outputs": [
        {
          "output_type": "stream",
          "text": [
            "Using PyTorch version: 1.7.1+cu101, Device: cuda\n"
          ],
          "name": "stdout"
        }
      ]
    },
    {
      "cell_type": "code",
      "metadata": {
        "id": "Z8pVIxikw5O1"
      },
      "source": [
        "# 하이퍼파라미터 설정\n",
        "BATCH_SIZE = 32\n",
        "EPOCHS = 10"
      ],
      "execution_count": 4,
      "outputs": []
    },
    {
      "cell_type": "code",
      "metadata": {
        "colab": {
          "base_uri": "https://localhost:8080/",
          "height": 386,
          "referenced_widgets": [
            "6e89acb306924c43bb58ab7da734e252",
            "a0be8bf49fd1424c97fd4ebf2a9dcaa6",
            "beb95c1b4a4442f3a44a9681b9d66cef",
            "50738ff1e3794a50acfe676aac26c5f6",
            "420d9f40b5a94015992c153f405211d1",
            "2558d6477f6e4a72853dddf391e53605",
            "b7368460a377449e9090804680899347",
            "930b153b5cdc41e4865b0ef6b9222c50",
            "8175a09d81074bf9ae081345cc11651c",
            "2cf5362f38e940d88b518784e442550a",
            "85de3747e31f452db99871b09e02c3f9",
            "f96cbf323333466a8125cc08e709176b",
            "c658fdf0363e4761b41db7023cc943e0",
            "804e8f64bf9d44eabee7e4ce2bd6aee1",
            "5d9fc9c9525248ad968dc068c3e34428",
            "6cfdc6a2da7a4b6a9b3fc1ac382ed967",
            "212fa7fc85a94ee18b0f0028359bb0b6",
            "58cced62e1b24b29965dfe02b8fb56c6",
            "29e61d54ae904f3c8a2d7093a3c20280",
            "a09aac1c6ba74eff8271f47c38073f5d",
            "96de931324b24dccb612ca433ef16acf",
            "99818f55f21b43839512118303ca6098",
            "f3ae031783954e13b66c1a7d49ffe2db",
            "40353ef986a94b98a84bad20d7f00879",
            "93777632ce284aa88576f78c0cc2324a",
            "fb2378a9aa5b496b8ddfa565259e0c51",
            "3ad7b481660a43d1bf65a9c988e19226",
            "05bab0c855104c11a235b9363dddfc39",
            "0e634e30b75b4f9e923aa5c915459ffd",
            "6d99c4ca49d045ffa7b663db14afef7c",
            "f502e042de664d9a9a44ce30aaa4b53b",
            "5f10f0991f8648da93f6ba1ae01ee51f"
          ]
        },
        "id": "B_3krGmxxLf4",
        "outputId": "b588f65c-bd51-449a-921a-8a9a5a3d1cd2"
      },
      "source": [
        "# 데이터 다운로드\n",
        "train_dataset = datasets.FashionMNIST(root='../data/FashionMNIST', train=True, download=True, transform = transforms.ToTensor())\n",
        "test_dataset = datasets.FashionMNIST(root='../data/FashionMNIST', train=False, download=True, transform = transforms.ToTensor())\n",
        "\n",
        "train_loader = torch.utils.data.DataLoader(dataset = train_dataset, batch_size = BATCH_SIZE, shuffle=True)\n",
        "test_loader = torch.utils.data.DataLoader(dataset = test_dataset, batch_size = BATCH_SIZE, shuffle=True)\n"
      ],
      "execution_count": 5,
      "outputs": [
        {
          "output_type": "stream",
          "text": [
            "Downloading http://fashion-mnist.s3-website.eu-central-1.amazonaws.com/train-images-idx3-ubyte.gz to ../data/FashionMNIST/FashionMNIST/raw/train-images-idx3-ubyte.gz\n"
          ],
          "name": "stdout"
        },
        {
          "output_type": "display_data",
          "data": {
            "application/vnd.jupyter.widget-view+json": {
              "model_id": "6e89acb306924c43bb58ab7da734e252",
              "version_minor": 0,
              "version_major": 2
            },
            "text/plain": [
              "HBox(children=(FloatProgress(value=1.0, bar_style='info', max=1.0), HTML(value='')))"
            ]
          },
          "metadata": {
            "tags": []
          }
        },
        {
          "output_type": "stream",
          "text": [
            "Extracting ../data/FashionMNIST/FashionMNIST/raw/train-images-idx3-ubyte.gz to ../data/FashionMNIST/FashionMNIST/raw\n",
            "Downloading http://fashion-mnist.s3-website.eu-central-1.amazonaws.com/train-labels-idx1-ubyte.gz to ../data/FashionMNIST/FashionMNIST/raw/train-labels-idx1-ubyte.gz\n"
          ],
          "name": "stdout"
        },
        {
          "output_type": "display_data",
          "data": {
            "application/vnd.jupyter.widget-view+json": {
              "model_id": "8175a09d81074bf9ae081345cc11651c",
              "version_minor": 0,
              "version_major": 2
            },
            "text/plain": [
              "HBox(children=(FloatProgress(value=1.0, bar_style='info', max=1.0), HTML(value='')))"
            ]
          },
          "metadata": {
            "tags": []
          }
        },
        {
          "output_type": "stream",
          "text": [
            "Extracting ../data/FashionMNIST/FashionMNIST/raw/train-labels-idx1-ubyte.gz to ../data/FashionMNIST/FashionMNIST/raw\n",
            "Downloading http://fashion-mnist.s3-website.eu-central-1.amazonaws.com/t10k-images-idx3-ubyte.gz to ../data/FashionMNIST/FashionMNIST/raw/t10k-images-idx3-ubyte.gz\n"
          ],
          "name": "stdout"
        },
        {
          "output_type": "display_data",
          "data": {
            "application/vnd.jupyter.widget-view+json": {
              "model_id": "212fa7fc85a94ee18b0f0028359bb0b6",
              "version_minor": 0,
              "version_major": 2
            },
            "text/plain": [
              "HBox(children=(FloatProgress(value=1.0, bar_style='info', max=1.0), HTML(value='')))"
            ]
          },
          "metadata": {
            "tags": []
          }
        },
        {
          "output_type": "stream",
          "text": [
            "\n",
            "Extracting ../data/FashionMNIST/FashionMNIST/raw/t10k-images-idx3-ubyte.gz to ../data/FashionMNIST/FashionMNIST/raw\n",
            "Downloading http://fashion-mnist.s3-website.eu-central-1.amazonaws.com/t10k-labels-idx1-ubyte.gz to ../data/FashionMNIST/FashionMNIST/raw/t10k-labels-idx1-ubyte.gz\n"
          ],
          "name": "stdout"
        },
        {
          "output_type": "display_data",
          "data": {
            "application/vnd.jupyter.widget-view+json": {
              "model_id": "93777632ce284aa88576f78c0cc2324a",
              "version_minor": 0,
              "version_major": 2
            },
            "text/plain": [
              "HBox(children=(FloatProgress(value=1.0, bar_style='info', max=1.0), HTML(value='')))"
            ]
          },
          "metadata": {
            "tags": []
          }
        },
        {
          "output_type": "stream",
          "text": [
            "Extracting ../data/FashionMNIST/FashionMNIST/raw/t10k-labels-idx1-ubyte.gz to ../data/FashionMNIST/FashionMNIST/raw\n",
            "Processing...\n",
            "Done!\n"
          ],
          "name": "stdout"
        },
        {
          "output_type": "stream",
          "text": [
            "/usr/local/lib/python3.7/dist-packages/torchvision/datasets/mnist.py:480: UserWarning: The given NumPy array is not writeable, and PyTorch does not support non-writeable tensors. This means you can write to the underlying (supposedly non-writeable) NumPy array using the tensor. You may want to copy the array to protect its data or make it writeable before converting it to a tensor. This type of warning will be suppressed for the rest of this program. (Triggered internally at  /pytorch/torch/csrc/utils/tensor_numpy.cpp:141.)\n",
            "  return torch.from_numpy(parsed.astype(m[2], copy=False)).view(*s)\n"
          ],
          "name": "stderr"
        }
      ]
    },
    {
      "cell_type": "code",
      "metadata": {
        "colab": {
          "base_uri": "https://localhost:8080/"
        },
        "id": "D_nlFILiyF0m",
        "outputId": "5bf9effa-c56e-47a5-8127-74aa17a585bc"
      },
      "source": [
        "# 데이터 확인하기\n",
        "for(X_train, y_train) in train_loader:\n",
        "  print(f\"X_train : {X_train.shape}, type: {X_train.type()}\") # 채널이 1이므로 그레이스케일\n",
        "  print(f\"y_train : {y_train.shape}, type: {y_train.type()}\")\n",
        "  break"
      ],
      "execution_count": 7,
      "outputs": [
        {
          "output_type": "stream",
          "text": [
            "X_train : torch.Size([32, 1, 28, 28]), type: torch.FloatTensor\n",
            "y_train : torch.Size([32]), type: torch.LongTensor\n"
          ],
          "name": "stdout"
        }
      ]
    },
    {
      "cell_type": "code",
      "metadata": {
        "colab": {
          "base_uri": "https://localhost:8080/",
          "height": 94
        },
        "id": "mdyJYUhGy2Ut",
        "outputId": "12930e8b-2345-4ee4-fa8d-387531e95264"
      },
      "source": [
        "pltsize = 1\n",
        "plt.figure(figsize=(10 * pltsize, pltsize))\n",
        "for i in range(10):\n",
        "  plt.subplot(1, 10, i + 1)\n",
        "  plt.axis('off')\n",
        "  plt.imshow(X_train[i, :, :, :].numpy().reshape(28, 28), cmap='gray_r')\n",
        "  plt.title('Class: ' + str(y_train[i].item()))"
      ],
      "execution_count": 9,
      "outputs": [
        {
          "output_type": "display_data",
          "data": {
            "image/png": "[encoded data removed]",
            "text/plain": [
              "<Figure size 720x72 with 10 Axes>"
            ]
          },
          "metadata": {
            "tags": [],
            "needs_background": "light"
          }
        }
      ]
    },
    {
      "cell_type": "code",
      "metadata": {
        "id": "Q3TByJs5zf7j"
      },
      "source": [
        "class AE(nn.Module):\n",
        "  def __init__(self):\n",
        "    super(AE, self).__init__()\n",
        "\n",
        "    self.encoder = nn.Sequential(\n",
        "        nn.Linear(28 * 28, 512),\n",
        "        nn.ReLU(),\n",
        "        nn.Linear(512, 256),\n",
        "        nn.ReLU(),\n",
        "        nn.Linear(256, 32), )\n",
        "    \n",
        "    self.decoder = nn.Sequential(\n",
        "        nn.Linear(32, 256),\n",
        "        nn.ReLU(),\n",
        "        nn.Linear(256, 512),\n",
        "        nn.ReLU(),\n",
        "        nn.Linear(512, 28 * 28),)\n",
        "\n",
        "  def forward(self, x):\n",
        "    encoded = self.encoder(x)\n",
        "    decoded = self.decoder(encoded)\n",
        "\n",
        "    return encoded, decoded"
      ],
      "execution_count": 15,
      "outputs": []
    },
    {
      "cell_type": "code",
      "metadata": {
        "colab": {
          "base_uri": "https://localhost:8080/"
        },
        "id": "iGpZjsP81CfV",
        "outputId": "d466fe6a-4529-43b2-aec2-caa63bb513eb"
      },
      "source": [
        "# 학습을 위한 기본 Function 설정\n",
        "model = AE().to(DEVICE)\n",
        "optimizer = torch.optim.Adam(model.parameters(), lr = 0.001)\n",
        "criterion = nn.MSELoss()\n",
        "\n",
        "print(model)"
      ],
      "execution_count": 17,
      "outputs": [
        {
          "output_type": "stream",
          "text": [
            "AE(\n",
            "  (encoder): Sequential(\n",
            "    (0): Linear(in_features=784, out_features=512, bias=True)\n",
            "    (1): ReLU()\n",
            "    (2): Linear(in_features=512, out_features=256, bias=True)\n",
            "    (3): ReLU()\n",
            "    (4): Linear(in_features=256, out_features=32, bias=True)\n",
            "  )\n",
            "  (decoder): Sequential(\n",
            "    (0): Linear(in_features=32, out_features=256, bias=True)\n",
            "    (1): ReLU()\n",
            "    (2): Linear(in_features=256, out_features=512, bias=True)\n",
            "    (3): ReLU()\n",
            "    (4): Linear(in_features=512, out_features=784, bias=True)\n",
            "  )\n",
            ")\n"
          ],
          "name": "stdout"
        }
      ]
    },
    {
      "cell_type": "code",
      "metadata": {
        "id": "0rmdBYxU1j1R"
      },
      "source": [
        "# AE 모델 학습 진행\n",
        "def train(model, train_loader, optimizer, log_interval):\n",
        "  model.train() # 학습 상태로 지정\n",
        "  for batch_idx, (image, _) in enumerate(train_loader): # label 값을 _으로 지정하여 생략\n",
        "    image = image.view(-1, 28 * 28).to(DEVICE) # Flatten\n",
        "    target = image.view(-1, 28 * 28).to(DEVICE)\n",
        "\n",
        "    optimizer.zero_grad() # optimizer 의 그래디언트 초기화\n",
        "    encoded, decoded = model(image)\n",
        "\n",
        "    loss = criterion(decoded, target) # loss값 계산\n",
        "    loss.backward()\n",
        "    optimizer.step() # 그래디언트의 역전파\n",
        "\n",
        "    if batch_idx % log_interval == 0:\n",
        "      print(f\"Train Epoch : {Epoch} [{batch_idx * len(image)} / {len(train_loader.dataset)} ({100. * batch_idx / len(train_loader):.0f} %) Train Loss: {loss.item():.6f}\")\n",
        "    \n",
        "\n",
        "\n"
      ],
      "execution_count": 34,
      "outputs": []
    },
    {
      "cell_type": "code",
      "metadata": {
        "id": "CSHWhJDK3pbb"
      },
      "source": [
        "# 평가하는 함수\n",
        "def evaluate(model, test_loader):\n",
        "  model.eval()\n",
        "  test_loss = 0\n",
        "  real_image = []\n",
        "  gen_image = []\n",
        "\n",
        "  with torch.no_grad():\n",
        "    for image, _ in test_loader:\n",
        "      image = image.view(-1, 28*28).to(DEVICE) # torch.Size([32, 784])\n",
        "      target = image.view(-1, 28*28).to(DEVICE)\n",
        "\n",
        "      encoded, decoded = model(image)\n",
        "\n",
        "      test_loss += criterion(decoded, image).item()\n",
        "      real_image.append(image.to('cpu'))\n",
        "      gen_image.append(decoded.to('cpu'))\n",
        "\n",
        "  test_loss /= len(test_loader.dataset) # 손실값 평균\n",
        "\n",
        "  return test_loss, real_image, gen_image"
      ],
      "execution_count": 24,
      "outputs": []
    },
    {
      "cell_type": "code",
      "metadata": {
        "colab": {
          "base_uri": "https://localhost:8080/",
          "height": 1000
        },
        "id": "B88MWjGy4y9E",
        "outputId": "43251aba-b5e6-4076-92b3-051842e3bc6a"
      },
      "source": [
        "# 실제 학습 진행\n",
        "for Epoch in range(1, EPOCHS + 1):\n",
        "  train(model, train_loader, optimizer, log_interval=200)\n",
        "  test_loss, real_image, gen_image = evaluate(model, test_loader)\n",
        "\n",
        "  print(f\"\\n[EPOCH : {Epoch}], \\tTest Loss: {test_loss:.4f}\")\n",
        "\n",
        "  f, a = plt.subplots(2, 10, figsize=(10,4))\n",
        "\n",
        "  for i in range(10):\n",
        "    img = np.reshape(real_image[0][i], (28, 28)) # 같은 데이터를 체크하기 위해...\n",
        "    a[0][i].imshow(img, cmap='gray_r')\n",
        "    a[0][i].set_xticks(())\n",
        "    a[0][i].set_yticks(())\n",
        "\n",
        "  for i in range(10):\n",
        "    img = np.reshape(gen_image[0][i], (28, 28))\n",
        "    a[1][i].imshow(img, cmap='gray_r')\n",
        "    a[1][i].set_xticks(())\n",
        "    a[1][i].set_yticks(())\n",
        "\n",
        "  plt.show()"
      ],
      "execution_count": 36,
      "outputs": [
        {
          "output_type": "stream",
          "text": [
            "Train Epoch : 1 [0 / 60000 (0 %) Train Loss: 0.021806\n",
            "Train Epoch : 1 [6400 / 60000 (11 %) Train Loss: 0.018657\n",
            "Train Epoch : 1 [12800 / 60000 (21 %) Train Loss: 0.019436\n",
            "Train Epoch : 1 [19200 / 60000 (32 %) Train Loss: 0.015873\n",
            "Train Epoch : 1 [25600 / 60000 (43 %) Train Loss: 0.016383\n",
            "Train Epoch : 1 [32000 / 60000 (53 %) Train Loss: 0.018489\n",
            "Train Epoch : 1 [38400 / 60000 (64 %) Train Loss: 0.016582\n",
            "Train Epoch : 1 [44800 / 60000 (75 %) Train Loss: 0.015156\n",
            "Train Epoch : 1 [51200 / 60000 (85 %) Train Loss: 0.014623\n",
            "Train Epoch : 1 [57600 / 60000 (96 %) Train Loss: 0.014566\n",
            "\n",
            "[EPOCH : 1], \tTest Loss: 0.0005\n"
          ],
          "name": "stdout"
        },
        {
          "output_type": "display_data",
          "data": {
            "image/png": "[encoded data removed]",
            "text/plain": [
              "<Figure size 720x288 with 20 Axes>"
            ]
          },
          "metadata": {
            "tags": []
          }
        },
        {
          "output_type": "stream",
          "text": [
            "Train Epoch : 2 [0 / 60000 (0 %) Train Loss: 0.016419\n",
            "Train Epoch : 2 [6400 / 60000 (11 %) Train Loss: 0.013694\n",
            "Train Epoch : 2 [12800 / 60000 (21 %) Train Loss: 0.013827\n",
            "Train Epoch : 2 [19200 / 60000 (32 %) Train Loss: 0.012359\n",
            "Train Epoch : 2 [25600 / 60000 (43 %) Train Loss: 0.012207\n",
            "Train Epoch : 2 [32000 / 60000 (53 %) Train Loss: 0.012819\n",
            "Train Epoch : 2 [38400 / 60000 (64 %) Train Loss: 0.012537\n",
            "Train Epoch : 2 [44800 / 60000 (75 %) Train Loss: 0.012948\n",
            "Train Epoch : 2 [51200 / 60000 (85 %) Train Loss: 0.014864\n",
            "Train Epoch : 2 [57600 / 60000 (96 %) Train Loss: 0.012179\n",
            "\n",
            "[EPOCH : 2], \tTest Loss: 0.0004\n"
          ],
          "name": "stdout"
        },
        {
          "output_type": "display_data",
          "data": {
            "image/png": "[encoded data removed]",
            "text/plain": [
              "<Figure size 720x288 with 20 Axes>"
            ]
          },
          "metadata": {
            "tags": []
          }
        },
        {
          "output_type": "stream",
          "text": [
            "Train Epoch : 3 [0 / 60000 (0 %) Train Loss: 0.009511\n",
            "Train Epoch : 3 [6400 / 60000 (11 %) Train Loss: 0.012557\n",
            "Train Epoch : 3 [12800 / 60000 (21 %) Train Loss: 0.013362\n",
            "Train Epoch : 3 [19200 / 60000 (32 %) Train Loss: 0.011627\n",
            "Train Epoch : 3 [25600 / 60000 (43 %) Train Loss: 0.009693\n",
            "Train Epoch : 3 [32000 / 60000 (53 %) Train Loss: 0.010524\n",
            "Train Epoch : 3 [38400 / 60000 (64 %) Train Loss: 0.011455\n",
            "Train Epoch : 3 [44800 / 60000 (75 %) Train Loss: 0.011940\n",
            "Train Epoch : 3 [51200 / 60000 (85 %) Train Loss: 0.013296\n",
            "Train Epoch : 3 [57600 / 60000 (96 %) Train Loss: 0.011325\n",
            "\n",
            "[EPOCH : 3], \tTest Loss: 0.0004\n"
          ],
          "name": "stdout"
        },
        {
          "output_type": "display_data",
          "data": {
            "image/png": "[encoded data removed]",
            "text/plain": [
              "<Figure size 720x288 with 20 Axes>"
            ]
          },
          "metadata": {
            "tags": []
          }
        },
        {
          "output_type": "stream",
          "text": [
            "Train Epoch : 4 [0 / 60000 (0 %) Train Loss: 0.012974\n",
            "Train Epoch : 4 [6400 / 60000 (11 %) Train Loss: 0.011814\n",
            "Train Epoch : 4 [12800 / 60000 (21 %) Train Loss: 0.009488\n",
            "Train Epoch : 4 [19200 / 60000 (32 %) Train Loss: 0.011836\n",
            "Train Epoch : 4 [25600 / 60000 (43 %) Train Loss: 0.013707\n",
            "Train Epoch : 4 [32000 / 60000 (53 %) Train Loss: 0.010138\n",
            "Train Epoch : 4 [38400 / 60000 (64 %) Train Loss: 0.010322\n",
            "Train Epoch : 4 [44800 / 60000 (75 %) Train Loss: 0.012513\n",
            "Train Epoch : 4 [51200 / 60000 (85 %) Train Loss: 0.011252\n",
            "Train Epoch : 4 [57600 / 60000 (96 %) Train Loss: 0.010358\n",
            "\n",
            "[EPOCH : 4], \tTest Loss: 0.0004\n"
          ],
          "name": "stdout"
        },
        {
          "output_type": "display_data",
          "data": {
            "image/png": "[encoded data removed]",
            "text/plain": [
              "<Figure size 720x288 with 20 Axes>"
            ]
          },
          "metadata": {
            "tags": []
          }
        },
        {
          "output_type": "stream",
          "text": [
            "Train Epoch : 5 [0 / 60000 (0 %) Train Loss: 0.010515\n",
            "Train Epoch : 5 [6400 / 60000 (11 %) Train Loss: 0.013270\n",
            "Train Epoch : 5 [12800 / 60000 (21 %) Train Loss: 0.013434\n",
            "Train Epoch : 5 [19200 / 60000 (32 %) Train Loss: 0.011755\n",
            "Train Epoch : 5 [25600 / 60000 (43 %) Train Loss: 0.011786\n",
            "Train Epoch : 5 [32000 / 60000 (53 %) Train Loss: 0.012036\n",
            "Train Epoch : 5 [38400 / 60000 (64 %) Train Loss: 0.010887\n",
            "Train Epoch : 5 [44800 / 60000 (75 %) Train Loss: 0.011158\n",
            "Train Epoch : 5 [51200 / 60000 (85 %) Train Loss: 0.012223\n",
            "Train Epoch : 5 [57600 / 60000 (96 %) Train Loss: 0.010916\n",
            "\n",
            "[EPOCH : 5], \tTest Loss: 0.0003\n"
          ],
          "name": "stdout"
        },
        {
          "output_type": "display_data",
          "data": {
            "image/png": "[encoded data removed]",
            "text/plain": [
              "<Figure size 720x288 with 20 Axes>"
            ]
          },
          "metadata": {
            "tags": []
          }
        },
        {
          "output_type": "stream",
          "text": [
            "Train Epoch : 6 [0 / 60000 (0 %) Train Loss: 0.010179\n",
            "Train Epoch : 6 [6400 / 60000 (11 %) Train Loss: 0.011504\n",
            "Train Epoch : 6 [12800 / 60000 (21 %) Train Loss: 0.008537\n",
            "Train Epoch : 6 [19200 / 60000 (32 %) Train Loss: 0.013134\n",
            "Train Epoch : 6 [25600 / 60000 (43 %) Train Loss: 0.008727\n",
            "Train Epoch : 6 [32000 / 60000 (53 %) Train Loss: 0.009537\n",
            "Train Epoch : 6 [38400 / 60000 (64 %) Train Loss: 0.010903\n",
            "Train Epoch : 6 [44800 / 60000 (75 %) Train Loss: 0.009173\n",
            "Train Epoch : 6 [51200 / 60000 (85 %) Train Loss: 0.011039\n",
            "Train Epoch : 6 [57600 / 60000 (96 %) Train Loss: 0.010156\n",
            "\n",
            "[EPOCH : 6], \tTest Loss: 0.0003\n"
          ],
          "name": "stdout"
        },
        {
          "output_type": "display_data",
          "data": {
            "image/png": "[encoded data removed]",
            "text/plain": [
              "<Figure size 720x288 with 20 Axes>"
            ]
          },
          "metadata": {
            "tags": []
          }
        },
        {
          "output_type": "stream",
          "text": [
            "Train Epoch : 7 [0 / 60000 (0 %) Train Loss: 0.009930\n",
            "Train Epoch : 7 [6400 / 60000 (11 %) Train Loss: 0.010398\n",
            "Train Epoch : 7 [12800 / 60000 (21 %) Train Loss: 0.010613\n",
            "Train Epoch : 7 [19200 / 60000 (32 %) Train Loss: 0.009210\n",
            "Train Epoch : 7 [25600 / 60000 (43 %) Train Loss: 0.014012\n",
            "Train Epoch : 7 [32000 / 60000 (53 %) Train Loss: 0.009662\n",
            "Train Epoch : 7 [38400 / 60000 (64 %) Train Loss: 0.008180\n",
            "Train Epoch : 7 [44800 / 60000 (75 %) Train Loss: 0.009293\n",
            "Train Epoch : 7 [51200 / 60000 (85 %) Train Loss: 0.008262\n",
            "Train Epoch : 7 [57600 / 60000 (96 %) Train Loss: 0.008714\n",
            "\n",
            "[EPOCH : 7], \tTest Loss: 0.0003\n"
          ],
          "name": "stdout"
        },
        {
          "output_type": "display_data",
          "data": {
            "image/png": "[encoded data removed]",
            "text/plain": [
              "<Figure size 720x288 with 20 Axes>"
            ]
          },
          "metadata": {
            "tags": []
          }
        },
        {
          "output_type": "stream",
          "text": [
            "Train Epoch : 8 [0 / 60000 (0 %) Train Loss: 0.009551\n",
            "Train Epoch : 8 [6400 / 60000 (11 %) Train Loss: 0.008954\n",
            "Train Epoch : 8 [12800 / 60000 (21 %) Train Loss: 0.011591\n",
            "Train Epoch : 8 [19200 / 60000 (32 %) Train Loss: 0.009610\n",
            "Train Epoch : 8 [25600 / 60000 (43 %) Train Loss: 0.009763\n",
            "Train Epoch : 8 [32000 / 60000 (53 %) Train Loss: 0.011024\n",
            "Train Epoch : 8 [38400 / 60000 (64 %) Train Loss: 0.008739\n",
            "Train Epoch : 8 [44800 / 60000 (75 %) Train Loss: 0.007710\n",
            "Train Epoch : 8 [51200 / 60000 (85 %) Train Loss: 0.012390\n",
            "Train Epoch : 8 [57600 / 60000 (96 %) Train Loss: 0.009534\n",
            "\n",
            "[EPOCH : 8], \tTest Loss: 0.0003\n"
          ],
          "name": "stdout"
        },
        {
          "output_type": "display_data",
          "data": {
            "image/png": "[encoded data removed]",
            "text/plain": [
              "<Figure size 720x288 with 20 Axes>"
            ]
          },
          "metadata": {
            "tags": []
          }
        },
        {
          "output_type": "stream",
          "text": [
            "Train Epoch : 9 [0 / 60000 (0 %) Train Loss: 0.010813\n",
            "Train Epoch : 9 [6400 / 60000 (11 %) Train Loss: 0.011236\n",
            "Train Epoch : 9 [12800 / 60000 (21 %) Train Loss: 0.011334\n",
            "Train Epoch : 9 [19200 / 60000 (32 %) Train Loss: 0.010501\n",
            "Train Epoch : 9 [25600 / 60000 (43 %) Train Loss: 0.012549\n",
            "Train Epoch : 9 [32000 / 60000 (53 %) Train Loss: 0.007264\n",
            "Train Epoch : 9 [38400 / 60000 (64 %) Train Loss: 0.011230\n",
            "Train Epoch : 9 [44800 / 60000 (75 %) Train Loss: 0.009435\n",
            "Train Epoch : 9 [51200 / 60000 (85 %) Train Loss: 0.008714\n",
            "Train Epoch : 9 [57600 / 60000 (96 %) Train Loss: 0.010174\n",
            "\n",
            "[EPOCH : 9], \tTest Loss: 0.0003\n"
          ],
          "name": "stdout"
        },
        {
          "output_type": "display_data",
          "data": {
            "image/png": "[encoded data removed]",
            "text/plain": [
              "<Figure size 720x288 with 20 Axes>"
            ]
          },
          "metadata": {
            "tags": []
          }
        },
        {
          "output_type": "stream",
          "text": [
            "Train Epoch : 10 [0 / 60000 (0 %) Train Loss: 0.010462\n",
            "Train Epoch : 10 [6400 / 60000 (11 %) Train Loss: 0.008685\n",
            "Train Epoch : 10 [12800 / 60000 (21 %) Train Loss: 0.011144\n",
            "Train Epoch : 10 [19200 / 60000 (32 %) Train Loss: 0.011771\n",
            "Train Epoch : 10 [25600 / 60000 (43 %) Train Loss: 0.009588\n",
            "Train Epoch : 10 [32000 / 60000 (53 %) Train Loss: 0.011310\n",
            "Train Epoch : 10 [38400 / 60000 (64 %) Train Loss: 0.009947\n",
            "Train Epoch : 10 [44800 / 60000 (75 %) Train Loss: 0.010982\n",
            "Train Epoch : 10 [51200 / 60000 (85 %) Train Loss: 0.009621\n",
            "Train Epoch : 10 [57600 / 60000 (96 %) Train Loss: 0.008494\n",
            "\n",
            "[EPOCH : 10], \tTest Loss: 0.0003\n"
          ],
          "name": "stdout"
        },
        {
          "output_type": "display_data",
          "data": {
            "image/png": "[encoded data removed]",
            "text/plain": [
              "<Figure size 720x288 with 20 Axes>"
            ]
          },
          "metadata": {
            "tags": []
          }
        }
      ]
    },
    {
      "cell_type": "code",
      "metadata": {
        "id": "S_wSYEfO41Hm"
      },
      "source": [
        "import torch\n",
        "import numpy as np"
      ],
      "execution_count": 1,
      "outputs": []
    },
    {
      "cell_type": "code",
      "metadata": {
        "id": "E7qS7g73NZLX"
      },
      "source": [
        "x = torch.Tensor([0.5])\n",
        "w1 = torch.Tensor([[0.1], [0.1]])\n",
        "w2 = torch.Tensor([[0.4, 0.45], [0.5, 0.55]])\n",
        "y = torch.Tensor([0.5, 0.5])"
      ],
      "execution_count": 48,
      "outputs": []
    },
    {
      "cell_type": "code",
      "metadata": {
        "id": "PMzcWZ4dNsfq"
      },
      "source": [
        "class Net(torch.nn.Module):\n",
        "  def __init__(self):\n",
        "    super(Net, self).__init__()\n",
        "\n",
        "    self.fc1 = torch.nn.Linear(1, 2, bias=False)\n",
        "    self.act1 = torch.nn.Sigmoid()\n",
        "    self.fc2 = torch.nn.Linear(2, 2, bias=False)\n",
        "    self.act2 = torch.nn.Sigmoid()\n",
        "\n",
        "  def forward(self, x):\n",
        "    x = self.fc1(x)\n",
        "    x = self.act1(x)\n",
        "    x = self.fc2(x)\n",
        "    x = self.act2(x)\n",
        "\n",
        "\n",
        "    return x"
      ],
      "execution_count": 7,
      "outputs": []
    },
    {
      "cell_type": "code",
      "metadata": {
        "id": "GDlXKAbcOcgB"
      },
      "source": [
        "net = Net()"
      ],
      "execution_count": 52,
      "outputs": []
    },
    {
      "cell_type": "code",
      "metadata": {
        "id": "SOIozz0QPV1g"
      },
      "source": [
        "net.fc1.weight = torch.nn.Parameter(torch.Tensor([[0.1], [0.1]]))\n",
        "net.fc2.weight = torch.nn.Parameter(torch.Tensor([[0.4, 0.45], [0.5, 0.55]]))"
      ],
      "execution_count": 55,
      "outputs": []
    },
    {
      "cell_type": "code",
      "metadata": {
        "colab": {
          "base_uri": "https://localhost:8080/"
        },
        "id": "LXLjxMF0Pasp",
        "outputId": "a3f84760-0dbe-43ec-a176-f541ea25c9b2"
      },
      "source": [
        "net.fc1.weight"
      ],
      "execution_count": 54,
      "outputs": [
        {
          "output_type": "execute_result",
          "data": {
            "text/plain": [
              "Parameter containing:\n",
              "tensor([[-0.5631],\n",
              "        [ 0.9991]], requires_grad=True)"
            ]
          },
          "metadata": {
            "tags": []
          },
          "execution_count": 54
        }
      ]
    },
    {
      "cell_type": "code",
      "metadata": {
        "id": "e9UCx0MyOlfL"
      },
      "source": [
        "y = net.forward(x)"
      ],
      "execution_count": 58,
      "outputs": []
    },
    {
      "cell_type": "code",
      "metadata": {
        "id": "ldgKQMlGQAUs"
      },
      "source": [
        "loss = torch.nn.MSELoss()"
      ],
      "execution_count": 60,
      "outputs": []
    },
    {
      "cell_type": "code",
      "metadata": {
        "id": "oUsI_kc3RlZG"
      },
      "source": [
        "l = loss(y, torch.Tensor([0.5, 0.9]))"
      ],
      "execution_count": 65,
      "outputs": []
    },
    {
      "cell_type": "code",
      "metadata": {
        "id": "7nEkSmNtR9BK"
      },
      "source": [
        "l.backward()"
      ],
      "execution_count": 66,
      "outputs": []
    },
    {
      "cell_type": "code",
      "metadata": {
        "id": "-E1Pxx6fSrx_"
      },
      "source": [
        "optimizer = torch.optim.SGD(net.parameters(), lr=0.5)\n",
        "optimizer.step()"
      ],
      "execution_count": 70,
      "outputs": []
    },
    {
      "cell_type": "code",
      "metadata": {
        "colab": {
          "base_uri": "https://localhost:8080/"
        },
        "id": "STzdG8pCTlBp",
        "outputId": "f143eccc-32c3-459c-e25b-dfc40e43d7dc"
      },
      "source": [
        "net.fc1.weight"
      ],
      "execution_count": 72,
      "outputs": [
        {
          "output_type": "execute_result",
          "data": {
            "text/plain": [
              "Parameter containing:\n",
              "tensor([[0.1013],\n",
              "        [0.1014]], requires_grad=True)"
            ]
          },
          "metadata": {
            "tags": []
          },
          "execution_count": 72
        }
      ]
    },
    {
      "cell_type": "code",
      "metadata": {
        "colab": {
          "base_uri": "https://localhost:8080/"
        },
        "id": "lhhXyO18TnRL",
        "outputId": "68978cf7-1427-4eb8-c8bf-628e52174365"
      },
      "source": [
        "net.fc2.weight"
      ],
      "execution_count": 73,
      "outputs": [
        {
          "output_type": "execute_result",
          "data": {
            "text/plain": [
              "Parameter containing:\n",
              "tensor([[0.3934, 0.4434],\n",
              "        [0.5160, 0.5660]], requires_grad=True)"
            ]
          },
          "metadata": {
            "tags": []
          },
          "execution_count": 73
        }
      ]
    },
    {
      "cell_type": "code",
      "metadata": {
        "id": "EgV9-ONgTqv_"
      },
      "source": [
        ""
      ],
      "execution_count": null,
      "outputs": []
    }
  ]
}