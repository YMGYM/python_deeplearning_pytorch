{
  "nbformat": 4,
  "nbformat_minor": 0,
  "metadata": {
    "colab": {
      "name": "Pytorch_part4~.ipynb",
      "provenance": [],
      "collapsed_sections": [],
      "toc_visible": true,
      "mount_file_id": "1Ek3-Xv0V0CwovcHHihyvGyfl1B_YpfzC",
      "authorship_tag": "ABX9TyPuVaVd0v0Gy+Dovh5Rvq8G",
      "include_colab_link": true
    },
    "kernelspec": {
      "name": "python3",
      "display_name": "Python 3"
    },
    "accelerator": "GPU",
    "widgets": {
      "application/vnd.jupyter.widget-state+json": {
        "81c31870eda147a9b5ba92a03c6ba06b": {
          "model_module": "@jupyter-widgets/controls",
          "model_name": "HBoxModel",
          "state": {
            "_view_name": "HBoxView",
            "_dom_classes": [],
            "_model_name": "HBoxModel",
            "_view_module": "@jupyter-widgets/controls",
            "_model_module_version": "1.5.0",
            "_view_count": null,
            "_view_module_version": "1.5.0",
            "box_style": "",
            "layout": "IPY_MODEL_a5620838971748c18c9f279904b68fe7",
            "_model_module": "@jupyter-widgets/controls",
            "children": [
              "IPY_MODEL_de7071cd81f448d49115b2bf863be400",
              "IPY_MODEL_56d6728e82ee4c619727c7fc759a105d"
            ]
          }
        },
        "a5620838971748c18c9f279904b68fe7": {
          "model_module": "@jupyter-widgets/base",
          "model_name": "LayoutModel",
          "state": {
            "_view_name": "LayoutView",
            "grid_template_rows": null,
            "right": null,
            "justify_content": null,
            "_view_module": "@jupyter-widgets/base",
            "overflow": null,
            "_model_module_version": "1.2.0",
            "_view_count": null,
            "flex_flow": null,
            "width": null,
            "min_width": null,
            "border": null,
            "align_items": null,
            "bottom": null,
            "_model_module": "@jupyter-widgets/base",
            "top": null,
            "grid_column": null,
            "overflow_y": null,
            "overflow_x": null,
            "grid_auto_flow": null,
            "grid_area": null,
            "grid_template_columns": null,
            "flex": null,
            "_model_name": "LayoutModel",
            "justify_items": null,
            "grid_row": null,
            "max_height": null,
            "align_content": null,
            "visibility": null,
            "align_self": null,
            "height": null,
            "min_height": null,
            "padding": null,
            "grid_auto_rows": null,
            "grid_gap": null,
            "max_width": null,
            "order": null,
            "_view_module_version": "1.2.0",
            "grid_template_areas": null,
            "object_position": null,
            "object_fit": null,
            "grid_auto_columns": null,
            "margin": null,
            "display": null,
            "left": null
          }
        },
        "de7071cd81f448d49115b2bf863be400": {
          "model_module": "@jupyter-widgets/controls",
          "model_name": "FloatProgressModel",
          "state": {
            "_view_name": "ProgressView",
            "style": "IPY_MODEL_b7412e8664124445a8f924a762ba85d3",
            "_dom_classes": [],
            "description": "",
            "_model_name": "FloatProgressModel",
            "bar_style": "success",
            "max": 170498071,
            "_view_module": "@jupyter-widgets/controls",
            "_model_module_version": "1.5.0",
            "value": 170498071,
            "_view_count": null,
            "_view_module_version": "1.5.0",
            "orientation": "horizontal",
            "min": 0,
            "description_tooltip": null,
            "_model_module": "@jupyter-widgets/controls",
            "layout": "IPY_MODEL_29d158c9135f40ecb7ef35ecc316bdf2"
          }
        },
        "56d6728e82ee4c619727c7fc759a105d": {
          "model_module": "@jupyter-widgets/controls",
          "model_name": "HTMLModel",
          "state": {
            "_view_name": "HTMLView",
            "style": "IPY_MODEL_209d9c62cca64db79e4f7246a6f874e2",
            "_dom_classes": [],
            "description": "",
            "_model_name": "HTMLModel",
            "placeholder": "​",
            "_view_module": "@jupyter-widgets/controls",
            "_model_module_version": "1.5.0",
            "value": " 170499072/? [00:38&lt;00:00, 4395380.80it/s]",
            "_view_count": null,
            "_view_module_version": "1.5.0",
            "description_tooltip": null,
            "_model_module": "@jupyter-widgets/controls",
            "layout": "IPY_MODEL_e28f4be5a3e3480dbe71014833e664c1"
          }
        },
        "b7412e8664124445a8f924a762ba85d3": {
          "model_module": "@jupyter-widgets/controls",
          "model_name": "ProgressStyleModel",
          "state": {
            "_view_name": "StyleView",
            "_model_name": "ProgressStyleModel",
            "description_width": "initial",
            "_view_module": "@jupyter-widgets/base",
            "_model_module_version": "1.5.0",
            "_view_count": null,
            "_view_module_version": "1.2.0",
            "bar_color": null,
            "_model_module": "@jupyter-widgets/controls"
          }
        },
        "29d158c9135f40ecb7ef35ecc316bdf2": {
          "model_module": "@jupyter-widgets/base",
          "model_name": "LayoutModel",
          "state": {
            "_view_name": "LayoutView",
            "grid_template_rows": null,
            "right": null,
            "justify_content": null,
            "_view_module": "@jupyter-widgets/base",
            "overflow": null,
            "_model_module_version": "1.2.0",
            "_view_count": null,
            "flex_flow": null,
            "width": null,
            "min_width": null,
            "border": null,
            "align_items": null,
            "bottom": null,
            "_model_module": "@jupyter-widgets/base",
            "top": null,
            "grid_column": null,
            "overflow_y": null,
            "overflow_x": null,
            "grid_auto_flow": null,
            "grid_area": null,
            "grid_template_columns": null,
            "flex": null,
            "_model_name": "LayoutModel",
            "justify_items": null,
            "grid_row": null,
            "max_height": null,
            "align_content": null,
            "visibility": null,
            "align_self": null,
            "height": null,
            "min_height": null,
            "padding": null,
            "grid_auto_rows": null,
            "grid_gap": null,
            "max_width": null,
            "order": null,
            "_view_module_version": "1.2.0",
            "grid_template_areas": null,
            "object_position": null,
            "object_fit": null,
            "grid_auto_columns": null,
            "margin": null,
            "display": null,
            "left": null
          }
        },
        "209d9c62cca64db79e4f7246a6f874e2": {
          "model_module": "@jupyter-widgets/controls",
          "model_name": "DescriptionStyleModel",
          "state": {
            "_view_name": "StyleView",
            "_model_name": "DescriptionStyleModel",
            "description_width": "",
            "_view_module": "@jupyter-widgets/base",
            "_model_module_version": "1.5.0",
            "_view_count": null,
            "_view_module_version": "1.2.0",
            "_model_module": "@jupyter-widgets/controls"
          }
        },
        "e28f4be5a3e3480dbe71014833e664c1": {
          "model_module": "@jupyter-widgets/base",
          "model_name": "LayoutModel",
          "state": {
            "_view_name": "LayoutView",
            "grid_template_rows": null,
            "right": null,
            "justify_content": null,
            "_view_module": "@jupyter-widgets/base",
            "overflow": null,
            "_model_module_version": "1.2.0",
            "_view_count": null,
            "flex_flow": null,
            "width": null,
            "min_width": null,
            "border": null,
            "align_items": null,
            "bottom": null,
            "_model_module": "@jupyter-widgets/base",
            "top": null,
            "grid_column": null,
            "overflow_y": null,
            "overflow_x": null,
            "grid_auto_flow": null,
            "grid_area": null,
            "grid_template_columns": null,
            "flex": null,
            "_model_name": "LayoutModel",
            "justify_items": null,
            "grid_row": null,
            "max_height": null,
            "align_content": null,
            "visibility": null,
            "align_self": null,
            "height": null,
            "min_height": null,
            "padding": null,
            "grid_auto_rows": null,
            "grid_gap": null,
            "max_width": null,
            "order": null,
            "_view_module_version": "1.2.0",
            "grid_template_areas": null,
            "object_position": null,
            "object_fit": null,
            "grid_auto_columns": null,
            "margin": null,
            "display": null,
            "left": null
          }
        },
        "9fb1a0a785c7411fb9919b25542e61be": {
          "model_module": "@jupyter-widgets/controls",
          "model_name": "HBoxModel",
          "state": {
            "_view_name": "HBoxView",
            "_dom_classes": [],
            "_model_name": "HBoxModel",
            "_view_module": "@jupyter-widgets/controls",
            "_model_module_version": "1.5.0",
            "_view_count": null,
            "_view_module_version": "1.5.0",
            "box_style": "",
            "layout": "IPY_MODEL_7de3439e83254767bdb8919cbbe77d46",
            "_model_module": "@jupyter-widgets/controls",
            "children": [
              "IPY_MODEL_d97ea37a5e44464ca79a50f5965a7b7a",
              "IPY_MODEL_126fdb628a3b4f208fd48f30e6b3412d"
            ]
          }
        },
        "7de3439e83254767bdb8919cbbe77d46": {
          "model_module": "@jupyter-widgets/base",
          "model_name": "LayoutModel",
          "state": {
            "_view_name": "LayoutView",
            "grid_template_rows": null,
            "right": null,
            "justify_content": null,
            "_view_module": "@jupyter-widgets/base",
            "overflow": null,
            "_model_module_version": "1.2.0",
            "_view_count": null,
            "flex_flow": null,
            "width": null,
            "min_width": null,
            "border": null,
            "align_items": null,
            "bottom": null,
            "_model_module": "@jupyter-widgets/base",
            "top": null,
            "grid_column": null,
            "overflow_y": null,
            "overflow_x": null,
            "grid_auto_flow": null,
            "grid_area": null,
            "grid_template_columns": null,
            "flex": null,
            "_model_name": "LayoutModel",
            "justify_items": null,
            "grid_row": null,
            "max_height": null,
            "align_content": null,
            "visibility": null,
            "align_self": null,
            "height": null,
            "min_height": null,
            "padding": null,
            "grid_auto_rows": null,
            "grid_gap": null,
            "max_width": null,
            "order": null,
            "_view_module_version": "1.2.0",
            "grid_template_areas": null,
            "object_position": null,
            "object_fit": null,
            "grid_auto_columns": null,
            "margin": null,
            "display": null,
            "left": null
          }
        },
        "d97ea37a5e44464ca79a50f5965a7b7a": {
          "model_module": "@jupyter-widgets/controls",
          "model_name": "FloatProgressModel",
          "state": {
            "_view_name": "ProgressView",
            "style": "IPY_MODEL_4d3e8abf205f4ab8a43617ac9a856d2e",
            "_dom_classes": [],
            "description": "100%",
            "_model_name": "FloatProgressModel",
            "bar_style": "success",
            "max": 46827520,
            "_view_module": "@jupyter-widgets/controls",
            "_model_module_version": "1.5.0",
            "value": 46827520,
            "_view_count": null,
            "_view_module_version": "1.5.0",
            "orientation": "horizontal",
            "min": 0,
            "description_tooltip": null,
            "_model_module": "@jupyter-widgets/controls",
            "layout": "IPY_MODEL_7c2cfa789516493ab99f6e1f09b0ec1a"
          }
        },
        "126fdb628a3b4f208fd48f30e6b3412d": {
          "model_module": "@jupyter-widgets/controls",
          "model_name": "HTMLModel",
          "state": {
            "_view_name": "HTMLView",
            "style": "IPY_MODEL_d88d1e79383e4f50bd54cd2e910ede18",
            "_dom_classes": [],
            "description": "",
            "_model_name": "HTMLModel",
            "placeholder": "​",
            "_view_module": "@jupyter-widgets/controls",
            "_model_module_version": "1.5.0",
            "value": " 44.7M/44.7M [00:32&lt;00:00, 1.42MB/s]",
            "_view_count": null,
            "_view_module_version": "1.5.0",
            "description_tooltip": null,
            "_model_module": "@jupyter-widgets/controls",
            "layout": "IPY_MODEL_e317e5e4a2ce4905942f96e5d9361c5f"
          }
        },
        "4d3e8abf205f4ab8a43617ac9a856d2e": {
          "model_module": "@jupyter-widgets/controls",
          "model_name": "ProgressStyleModel",
          "state": {
            "_view_name": "StyleView",
            "_model_name": "ProgressStyleModel",
            "description_width": "initial",
            "_view_module": "@jupyter-widgets/base",
            "_model_module_version": "1.5.0",
            "_view_count": null,
            "_view_module_version": "1.2.0",
            "bar_color": null,
            "_model_module": "@jupyter-widgets/controls"
          }
        },
        "7c2cfa789516493ab99f6e1f09b0ec1a": {
          "model_module": "@jupyter-widgets/base",
          "model_name": "LayoutModel",
          "state": {
            "_view_name": "LayoutView",
            "grid_template_rows": null,
            "right": null,
            "justify_content": null,
            "_view_module": "@jupyter-widgets/base",
            "overflow": null,
            "_model_module_version": "1.2.0",
            "_view_count": null,
            "flex_flow": null,
            "width": null,
            "min_width": null,
            "border": null,
            "align_items": null,
            "bottom": null,
            "_model_module": "@jupyter-widgets/base",
            "top": null,
            "grid_column": null,
            "overflow_y": null,
            "overflow_x": null,
            "grid_auto_flow": null,
            "grid_area": null,
            "grid_template_columns": null,
            "flex": null,
            "_model_name": "LayoutModel",
            "justify_items": null,
            "grid_row": null,
            "max_height": null,
            "align_content": null,
            "visibility": null,
            "align_self": null,
            "height": null,
            "min_height": null,
            "padding": null,
            "grid_auto_rows": null,
            "grid_gap": null,
            "max_width": null,
            "order": null,
            "_view_module_version": "1.2.0",
            "grid_template_areas": null,
            "object_position": null,
            "object_fit": null,
            "grid_auto_columns": null,
            "margin": null,
            "display": null,
            "left": null
          }
        },
        "d88d1e79383e4f50bd54cd2e910ede18": {
          "model_module": "@jupyter-widgets/controls",
          "model_name": "DescriptionStyleModel",
          "state": {
            "_view_name": "StyleView",
            "_model_name": "DescriptionStyleModel",
            "description_width": "",
            "_view_module": "@jupyter-widgets/base",
            "_model_module_version": "1.5.0",
            "_view_count": null,
            "_view_module_version": "1.2.0",
            "_model_module": "@jupyter-widgets/controls"
          }
        },
        "e317e5e4a2ce4905942f96e5d9361c5f": {
          "model_module": "@jupyter-widgets/base",
          "model_name": "LayoutModel",
          "state": {
            "_view_name": "LayoutView",
            "grid_template_rows": null,
            "right": null,
            "justify_content": null,
            "_view_module": "@jupyter-widgets/base",
            "overflow": null,
            "_model_module_version": "1.2.0",
            "_view_count": null,
            "flex_flow": null,
            "width": null,
            "min_width": null,
            "border": null,
            "align_items": null,
            "bottom": null,
            "_model_module": "@jupyter-widgets/base",
            "top": null,
            "grid_column": null,
            "overflow_y": null,
            "overflow_x": null,
            "grid_auto_flow": null,
            "grid_area": null,
            "grid_template_columns": null,
            "flex": null,
            "_model_name": "LayoutModel",
            "justify_items": null,
            "grid_row": null,
            "max_height": null,
            "align_content": null,
            "visibility": null,
            "align_self": null,
            "height": null,
            "min_height": null,
            "padding": null,
            "grid_auto_rows": null,
            "grid_gap": null,
            "max_width": null,
            "order": null,
            "_view_module_version": "1.2.0",
            "grid_template_areas": null,
            "object_position": null,
            "object_fit": null,
            "grid_auto_columns": null,
            "margin": null,
            "display": null,
            "left": null
          }
        }
      }
    }
  },
  "cells": [
    {
      "cell_type": "markdown",
      "metadata": {
        "id": "view-in-github",
        "colab_type": "text"
      },
      "source": [
        "<a href=\"https://colab.research.google.com/github/YMGYM/python_deeplearning_pytorch/blob/main/Pytorch_part4~.ipynb\" target=\"_parent\"><img src=\"https://colab.research.google.com/assets/colab-badge.svg\" alt=\"Open In Colab\"/></a>"
      ]
    },
    {
      "cell_type": "markdown",
      "metadata": {
        "id": "Ce4ybvOUZONa"
      },
      "source": [
        "# 4-1 Convolutional Neural Network(CNN)\n",
        "\n",
        "## CNN 기초\n",
        "\n",
        "### Convolution Layer\n",
        "\n",
        "이미지를 스캔하면서 이미지 Region Feature를 추출한다.\n",
        "\n",
        "### Stride\n",
        "Receptive Field 가 피쳐를 뽑을 때 이동하는 칸 수\n",
        "\n",
        "### Padding\n",
        "이미지 테두리 부분에도 Convolution을 적용하기 위해 사용\n",
        "\n",
        "### Weight Sharing\n",
        "슬라이드할 때마다 Window 의 같은 가중치를 공유..\n",
        "\n",
        "### pooling\n",
        "학습 속도 향상.\n",
        "Layer 가중치를 반으로 줄여 줌\n",
        "\n",
        "### Fully Connected Layer\n",
        "Flatten 후 학습\n"
      ]
    },
    {
      "cell_type": "markdown",
      "metadata": {
        "id": "hTl31iez-Okc"
      },
      "source": [
        "# 4-2 CNN과 MLP"
      ]
    },
    {
      "cell_type": "code",
      "metadata": {
        "id": "53N81wTDMpdi"
      },
      "source": [
        "import numpy as np\n",
        "import matplotlib.pyplot as plt\n",
        "import torch\n",
        "import torch.nn as nn\n",
        "import torch.nn.functional as F\n",
        "from torchvision import transforms, datasets"
      ],
      "execution_count": 5,
      "outputs": []
    },
    {
      "cell_type": "code",
      "metadata": {
        "id": "cACC2SqWZpQb"
      },
      "source": [
        "DEVICE = \"cuda\" if torch.cuda.is_available() else 'cpu'"
      ],
      "execution_count": 6,
      "outputs": []
    },
    {
      "cell_type": "code",
      "metadata": {
        "id": "xnvOXfCUZxlR"
      },
      "source": [
        "BATCH_SIZE = 32\n",
        "EPOCHS = 10"
      ],
      "execution_count": 7,
      "outputs": []
    },
    {
      "cell_type": "code",
      "metadata": {
        "colab": {
          "base_uri": "https://localhost:8080/",
          "height": 100,
          "referenced_widgets": [
            "81c31870eda147a9b5ba92a03c6ba06b",
            "a5620838971748c18c9f279904b68fe7",
            "de7071cd81f448d49115b2bf863be400",
            "56d6728e82ee4c619727c7fc759a105d",
            "b7412e8664124445a8f924a762ba85d3",
            "29d158c9135f40ecb7ef35ecc316bdf2",
            "209d9c62cca64db79e4f7246a6f874e2",
            "e28f4be5a3e3480dbe71014833e664c1"
          ]
        },
        "id": "CK3gW8nHZyER",
        "outputId": "504064c4-307b-4c49-fda0-18eac5eef051"
      },
      "source": [
        "train_dataset = datasets.CIFAR10(root='../data/CIFAR', train=True, download=True, transform = transforms.ToTensor())\n",
        "test_dataset = datasets.CIFAR10(root='../data/CIFAR', train=False, transform = transforms.ToTensor())\n",
        "\n",
        "train_loader = torch.utils.data.DataLoader(dataset = train_dataset, batch_size=BATCH_SIZE, shuffle=True)\n",
        "test_loader = torch.utils.data.DataLoader(dataset = test_dataset, batch_size= BATCH_SIZE, shuffle=False)"
      ],
      "execution_count": 8,
      "outputs": [
        {
          "output_type": "stream",
          "text": [
            "Downloading https://www.cs.toronto.edu/~kriz/cifar-10-python.tar.gz to ../data/CIFAR/cifar-10-python.tar.gz\n"
          ],
          "name": "stdout"
        },
        {
          "output_type": "display_data",
          "data": {
            "application/vnd.jupyter.widget-view+json": {
              "model_id": "81c31870eda147a9b5ba92a03c6ba06b",
              "version_minor": 0,
              "version_major": 2
            },
            "text/plain": [
              "HBox(children=(FloatProgress(value=0.0, max=170498071.0), HTML(value='')))"
            ]
          },
          "metadata": {
            "tags": []
          }
        },
        {
          "output_type": "stream",
          "text": [
            "\n",
            "Extracting ../data/CIFAR/cifar-10-python.tar.gz to ../data/CIFAR\n"
          ],
          "name": "stdout"
        }
      ]
    },
    {
      "cell_type": "code",
      "metadata": {
        "id": "T8tmyQMWaXQp",
        "colab": {
          "base_uri": "https://localhost:8080/"
        },
        "outputId": "0cd1d191-acd5-40d1-948a-b2cd7944f991"
      },
      "source": [
        "for (X_train, y_train) in train_loader:\n",
        "  print(f\"X_train : {X_train.size()} type: {X_train.type()}\")\n",
        "  print(f\"y_train : {y_train.size()} type: {y_train.type()}\")\n",
        "  break"
      ],
      "execution_count": 9,
      "outputs": [
        {
          "output_type": "stream",
          "text": [
            "X_train : torch.Size([32, 3, 32, 32]) type: torch.FloatTensor\n",
            "y_train : torch.Size([32]) type: torch.LongTensor\n"
          ],
          "name": "stdout"
        }
      ]
    },
    {
      "cell_type": "code",
      "metadata": {
        "colab": {
          "base_uri": "https://localhost:8080/",
          "height": 94
        },
        "id": "owAdIEIx_dEt",
        "outputId": "d1a097d3-7ad4-453d-8ca2-0cdfa1601038"
      },
      "source": [
        "pltsize = 1\n",
        "plt.figure(figsize =(10*pltsize, pltsize))\n",
        "\n",
        "for i in range(10):\n",
        "  plt.subplot(1, 10, i + 1)\n",
        "  plt.axis('off')\n",
        "  plt.imshow(np.transpose(X_train[i], (1,2,0)))\n",
        "  plt.title('Class : ' + str(y_train[i].item()))"
      ],
      "execution_count": null,
      "outputs": [
        {
          "output_type": "display_data",
          "data": {
            "image/png": "[encoded data removed]",
            "text/plain": [
              "<Figure size 720x72 with 10 Axes>"
            ]
          },
          "metadata": {
            "tags": [],
            "needs_background": "light"
          }
        }
      ]
    },
    {
      "cell_type": "code",
      "metadata": {
        "id": "ineiBhy8AAQ8"
      },
      "source": [
        "class Net(nn.Module):\n",
        "  def __init__(self):\n",
        "    super(Net, self).__init__()\n",
        "    self.fc1 = nn.Linear(32*32*3, 512)\n",
        "    self.fc2 = nn.Linear(512, 256)\n",
        "    self.fc3 = nn.Linear(256, 10)\n",
        "\n",
        "  def forward(self, x):\n",
        "    x = x.view(-1, 32 * 32 * 3)\n",
        "    x = self.fc1(x)\n",
        "    x = F.relu(x)\n",
        "    x = self.fc2(x)\n",
        "    x = F.relu(x)\n",
        "    x = self.fc3(x)\n",
        "    x = F.log_softmax(x, dim=1)\n",
        "    return x"
      ],
      "execution_count": null,
      "outputs": []
    },
    {
      "cell_type": "code",
      "metadata": {
        "id": "KVGnvTLNCNKO"
      },
      "source": [
        "model = Net().to(DEVICE)\n",
        "optimizer = torch.optim.Adam(model.parameters(), lr=0.001)\n",
        "criterion = nn.CrossEntropyLoss()"
      ],
      "execution_count": null,
      "outputs": []
    },
    {
      "cell_type": "code",
      "metadata": {
        "colab": {
          "base_uri": "https://localhost:8080/"
        },
        "id": "lxWUWE8UCQF6",
        "outputId": "9b0a72b7-c28d-42a9-b545-14eb7eabab05"
      },
      "source": [
        "model"
      ],
      "execution_count": null,
      "outputs": [
        {
          "output_type": "execute_result",
          "data": {
            "text/plain": [
              "Net(\n",
              "  (fc1): Linear(in_features=3072, out_features=512, bias=True)\n",
              "  (fc2): Linear(in_features=512, out_features=256, bias=True)\n",
              "  (fc3): Linear(in_features=256, out_features=10, bias=True)\n",
              ")"
            ]
          },
          "metadata": {
            "tags": []
          },
          "execution_count": 12
        }
      ]
    },
    {
      "cell_type": "code",
      "metadata": {
        "id": "XSN2plCHCWpw"
      },
      "source": [
        "def train(model, train_loader, optimizer, log_interval):\n",
        "  model.train()\n",
        "  for batch_idx, (image, label) in enumerate(train_loader):\n",
        "    image = image.to(DEVICE)\n",
        "    label = label.to(DEVICE)\n",
        "\n",
        "    optimizer.zero_grad()\n",
        "    output = model(image)\n",
        "    \n",
        "    loss = criterion(output, label)\n",
        "    loss.backward()\n",
        "    optimizer.step()\n",
        "\n",
        "    if batch_idx % log_interval == 0:\n",
        "      print(f\" Train Epoch : {Epoch}[{batch_idx * len(image)} / {len(train_loader.dataset)}] {100. * batch_idx / len(train_loader):0.6f}%\\t Train Loss : {loss.item()}\") "
      ],
      "execution_count": 10,
      "outputs": []
    },
    {
      "cell_type": "code",
      "metadata": {
        "id": "BdZYxEbPEcWv"
      },
      "source": [
        "def evaluate(model, test_loader):\n",
        "  model.eval()\n",
        "  test_loss = 0\n",
        "  correct = 0\n",
        "\n",
        "  with torch.no_grad():\n",
        "    for image, label in test_loader:\n",
        "      label = label.to(DEVICE)\n",
        "      image = image.to(DEVICE)\n",
        "\n",
        "      output = model(image)\n",
        "\n",
        "      \n",
        "      test_loss += criterion(output, label).item()\n",
        "      prediction = output.max(1, keepdim = True)[1]\n",
        "      correct += prediction.eq(label.view_as(prediction)).sum().item()\n",
        "\n",
        "  test_loss /= len(test_loader.dataset)\n",
        "\n",
        "  test_accuracy = 100. * correct / len(test_loader.dataset)\n",
        "  return test_loss, test_accuracy\n",
        "\n"
      ],
      "execution_count": 11,
      "outputs": []
    },
    {
      "cell_type": "code",
      "metadata": {
        "colab": {
          "base_uri": "https://localhost:8080/"
        },
        "id": "5o12PvCWFgzv",
        "outputId": "152441c8-85be-4da7-ec96-c093efd4c396"
      },
      "source": [
        "for Epoch in range(1, EPOCHS + 1):\n",
        "  train(model, train_loader, optimizer, log_interval=200)\n",
        "  test_loss, test_accuracy = evaluate(model, test_loader)\n",
        "  print(f\"\\n Test. EPOCH: {Epoch}\\t Test Loss : {test_loss:0.4f}\\t Test Accuracy: {test_accuracy:0.4f}\")"
      ],
      "execution_count": null,
      "outputs": [
        {
          "output_type": "stream",
          "text": [
            " Train Epoch : 1[0 / 50000] 0.000000%\t Train Loss : 1.890013575553894\n",
            " Train Epoch : 1[6400 / 50000] 12.795905%\t Train Loss : 1.6172072887420654\n",
            " Train Epoch : 1[12800 / 50000] 25.591811%\t Train Loss : 1.3881436586380005\n",
            " Train Epoch : 1[19200 / 50000] 38.387716%\t Train Loss : 1.449142575263977\n",
            " Train Epoch : 1[25600 / 50000] 51.183621%\t Train Loss : 1.3396453857421875\n",
            " Train Epoch : 1[32000 / 50000] 63.979527%\t Train Loss : 1.4972102642059326\n",
            " Train Epoch : 1[38400 / 50000] 76.775432%\t Train Loss : 1.5571694374084473\n",
            " Train Epoch : 1[44800 / 50000] 89.571337%\t Train Loss : 1.5386818647384644\n",
            "\n",
            " Test. EPOCH: 1\t Test Loss : 0.0502\t Test Accuracy: 42.5300\n",
            " Train Epoch : 2[0 / 50000] 0.000000%\t Train Loss : 1.602581262588501\n",
            " Train Epoch : 2[6400 / 50000] 12.795905%\t Train Loss : 1.348524808883667\n",
            " Train Epoch : 2[12800 / 50000] 25.591811%\t Train Loss : 1.4899369478225708\n",
            " Train Epoch : 2[19200 / 50000] 38.387716%\t Train Loss : 1.6458021402359009\n",
            " Train Epoch : 2[25600 / 50000] 51.183621%\t Train Loss : 1.655648112297058\n",
            " Train Epoch : 2[32000 / 50000] 63.979527%\t Train Loss : 1.5711228847503662\n",
            " Train Epoch : 2[38400 / 50000] 76.775432%\t Train Loss : 1.5766472816467285\n",
            " Train Epoch : 2[44800 / 50000] 89.571337%\t Train Loss : 1.3299555778503418\n",
            "\n",
            " Test. EPOCH: 2\t Test Loss : 0.0491\t Test Accuracy: 43.8200\n",
            " Train Epoch : 3[0 / 50000] 0.000000%\t Train Loss : 1.5845977067947388\n",
            " Train Epoch : 3[6400 / 50000] 12.795905%\t Train Loss : 1.7615941762924194\n",
            " Train Epoch : 3[12800 / 50000] 25.591811%\t Train Loss : 1.6359277963638306\n",
            " Train Epoch : 3[19200 / 50000] 38.387716%\t Train Loss : 1.5914915800094604\n",
            " Train Epoch : 3[25600 / 50000] 51.183621%\t Train Loss : 1.7461230754852295\n",
            " Train Epoch : 3[32000 / 50000] 63.979527%\t Train Loss : 1.3405293226242065\n",
            " Train Epoch : 3[38400 / 50000] 76.775432%\t Train Loss : 1.1562224626541138\n",
            " Train Epoch : 3[44800 / 50000] 89.571337%\t Train Loss : 1.758895754814148\n",
            "\n",
            " Test. EPOCH: 3\t Test Loss : 0.0485\t Test Accuracy: 44.6900\n",
            " Train Epoch : 4[0 / 50000] 0.000000%\t Train Loss : 1.4870301485061646\n",
            " Train Epoch : 4[6400 / 50000] 12.795905%\t Train Loss : 1.3751823902130127\n",
            " Train Epoch : 4[12800 / 50000] 25.591811%\t Train Loss : 1.6360182762145996\n",
            " Train Epoch : 4[19200 / 50000] 38.387716%\t Train Loss : 1.5436774492263794\n",
            " Train Epoch : 4[25600 / 50000] 51.183621%\t Train Loss : 1.289129376411438\n",
            " Train Epoch : 4[32000 / 50000] 63.979527%\t Train Loss : 1.4125300645828247\n",
            " Train Epoch : 4[38400 / 50000] 76.775432%\t Train Loss : 1.2785792350769043\n",
            " Train Epoch : 4[44800 / 50000] 89.571337%\t Train Loss : 1.478582501411438\n",
            "\n",
            " Test. EPOCH: 4\t Test Loss : 0.0472\t Test Accuracy: 45.7200\n",
            " Train Epoch : 5[0 / 50000] 0.000000%\t Train Loss : 1.4495397806167603\n",
            " Train Epoch : 5[6400 / 50000] 12.795905%\t Train Loss : 1.545202612876892\n",
            " Train Epoch : 5[12800 / 50000] 25.591811%\t Train Loss : 1.6411511898040771\n",
            " Train Epoch : 5[19200 / 50000] 38.387716%\t Train Loss : 1.4711748361587524\n",
            " Train Epoch : 5[25600 / 50000] 51.183621%\t Train Loss : 1.5999910831451416\n",
            " Train Epoch : 5[32000 / 50000] 63.979527%\t Train Loss : 1.4807543754577637\n",
            " Train Epoch : 5[38400 / 50000] 76.775432%\t Train Loss : 1.289412260055542\n",
            " Train Epoch : 5[44800 / 50000] 89.571337%\t Train Loss : 1.4750341176986694\n",
            "\n",
            " Test. EPOCH: 5\t Test Loss : 0.0468\t Test Accuracy: 46.0600\n",
            " Train Epoch : 6[0 / 50000] 0.000000%\t Train Loss : 1.5276988744735718\n",
            " Train Epoch : 6[6400 / 50000] 12.795905%\t Train Loss : 1.7260900735855103\n",
            " Train Epoch : 6[12800 / 50000] 25.591811%\t Train Loss : 1.4014041423797607\n",
            " Train Epoch : 6[19200 / 50000] 38.387716%\t Train Loss : 1.3343757390975952\n",
            " Train Epoch : 6[25600 / 50000] 51.183621%\t Train Loss : 1.4395885467529297\n",
            " Train Epoch : 6[32000 / 50000] 63.979527%\t Train Loss : 1.4547662734985352\n",
            " Train Epoch : 6[38400 / 50000] 76.775432%\t Train Loss : 1.6746913194656372\n",
            " Train Epoch : 6[44800 / 50000] 89.571337%\t Train Loss : 1.4401859045028687\n",
            "\n",
            " Test. EPOCH: 6\t Test Loss : 0.0459\t Test Accuracy: 48.1800\n",
            " Train Epoch : 7[0 / 50000] 0.000000%\t Train Loss : 1.5256184339523315\n",
            " Train Epoch : 7[6400 / 50000] 12.795905%\t Train Loss : 1.610187292098999\n",
            " Train Epoch : 7[12800 / 50000] 25.591811%\t Train Loss : 1.7903234958648682\n",
            " Train Epoch : 7[19200 / 50000] 38.387716%\t Train Loss : 1.6127314567565918\n",
            " Train Epoch : 7[25600 / 50000] 51.183621%\t Train Loss : 1.5144208669662476\n",
            " Train Epoch : 7[32000 / 50000] 63.979527%\t Train Loss : 1.1016864776611328\n",
            " Train Epoch : 7[38400 / 50000] 76.775432%\t Train Loss : 1.372661828994751\n",
            " Train Epoch : 7[44800 / 50000] 89.571337%\t Train Loss : 1.623151183128357\n",
            "\n",
            " Test. EPOCH: 7\t Test Loss : 0.0448\t Test Accuracy: 48.5100\n",
            " Train Epoch : 8[0 / 50000] 0.000000%\t Train Loss : 1.4212455749511719\n",
            " Train Epoch : 8[6400 / 50000] 12.795905%\t Train Loss : 1.5059300661087036\n",
            " Train Epoch : 8[12800 / 50000] 25.591811%\t Train Loss : 1.333044171333313\n",
            " Train Epoch : 8[19200 / 50000] 38.387716%\t Train Loss : 1.5444281101226807\n",
            " Train Epoch : 8[25600 / 50000] 51.183621%\t Train Loss : 1.28737473487854\n",
            " Train Epoch : 8[32000 / 50000] 63.979527%\t Train Loss : 1.3569399118423462\n",
            " Train Epoch : 8[38400 / 50000] 76.775432%\t Train Loss : 1.2855993509292603\n",
            " Train Epoch : 8[44800 / 50000] 89.571337%\t Train Loss : 1.2329275608062744\n",
            "\n",
            " Test. EPOCH: 8\t Test Loss : 0.0456\t Test Accuracy: 48.5600\n",
            " Train Epoch : 9[0 / 50000] 0.000000%\t Train Loss : 1.3102747201919556\n",
            " Train Epoch : 9[6400 / 50000] 12.795905%\t Train Loss : 1.6347275972366333\n",
            " Train Epoch : 9[12800 / 50000] 25.591811%\t Train Loss : 1.41126549243927\n",
            " Train Epoch : 9[19200 / 50000] 38.387716%\t Train Loss : 1.3230472803115845\n",
            " Train Epoch : 9[25600 / 50000] 51.183621%\t Train Loss : 1.4793181419372559\n",
            " Train Epoch : 9[32000 / 50000] 63.979527%\t Train Loss : 1.7000548839569092\n",
            " Train Epoch : 9[38400 / 50000] 76.775432%\t Train Loss : 1.153731107711792\n",
            " Train Epoch : 9[44800 / 50000] 89.571337%\t Train Loss : 0.9838324189186096\n",
            "\n",
            " Test. EPOCH: 9\t Test Loss : 0.0453\t Test Accuracy: 49.0900\n",
            " Train Epoch : 10[0 / 50000] 0.000000%\t Train Loss : 1.449479103088379\n",
            " Train Epoch : 10[6400 / 50000] 12.795905%\t Train Loss : 1.1057385206222534\n",
            " Train Epoch : 10[12800 / 50000] 25.591811%\t Train Loss : 1.0830395221710205\n",
            " Train Epoch : 10[19200 / 50000] 38.387716%\t Train Loss : 1.2422974109649658\n",
            " Train Epoch : 10[25600 / 50000] 51.183621%\t Train Loss : 1.2601677179336548\n",
            " Train Epoch : 10[32000 / 50000] 63.979527%\t Train Loss : 1.5147913694381714\n",
            " Train Epoch : 10[38400 / 50000] 76.775432%\t Train Loss : 1.6497235298156738\n",
            " Train Epoch : 10[44800 / 50000] 89.571337%\t Train Loss : 1.3253819942474365\n",
            "\n",
            " Test. EPOCH: 10\t Test Loss : 0.0448\t Test Accuracy: 49.2900\n"
          ],
          "name": "stdout"
        }
      ]
    },
    {
      "cell_type": "code",
      "metadata": {
        "id": "0YABA70LF4QR"
      },
      "source": [
        "# CNN 모델 설계\n",
        "class CNN(nn.Module):\n",
        "  def __init__(self):\n",
        "    super(CNN, self).__init__()\n",
        "    self.conv1 = nn.Conv2d(\n",
        "        in_channels = 3, out_channels = 8,\n",
        "        kernel_size = 3,\n",
        "        padding = 1\n",
        "    )\n",
        "    self.conv2 = nn.Conv2d(\n",
        "        in_channels = 8, out_channels = 16,\n",
        "        kernel_size = 3,\n",
        "        padding = 1\n",
        "    )\n",
        "    self.pool = nn.MaxPool2d(\n",
        "        kernel_size =2, stride = 2\n",
        "    )\n",
        "\n",
        "    self.fc1 = nn.Linear(8 * 8 * 16, 64)\n",
        "    self.fc2 = nn.Linear(64, 32)\n",
        "    self.fc3 = nn.Linear(32, 10)\n",
        "  \n",
        "  def forward(self, x):\n",
        "    # x = (32, 32, 3)\n",
        "    x = self.conv1(x) # x = (32, 32, 3) ## len(x) - kernel_size + 1\n",
        "    x = F.relu(x)\n",
        "    x = self.pool(x) # x = (16, 16, 3)\n",
        "    x = self.conv2(x) # x = (16, 16, 3) \n",
        "    x = F.relu(x)\n",
        "    x = self.pool(x) # x = (8, 8, 3)\n",
        "\n",
        "    x = x.view(-1, 8* 8 * 16)\n",
        "    x = self.fc1(x)\n",
        "    x = F.relu(x)\n",
        "    x = self.fc2(x)\n",
        "    x = F.relu(x)\n",
        "    x = self.fc3(x)\n",
        "    x = F.log_softmax(x)\n",
        "\n",
        "    return x"
      ],
      "execution_count": null,
      "outputs": []
    },
    {
      "cell_type": "code",
      "metadata": {
        "colab": {
          "base_uri": "https://localhost:8080/"
        },
        "id": "KI_MABq0KaFG",
        "outputId": "1b788018-2821-4318-d226-ecc50eb5ecea"
      },
      "source": [
        "model = CNN().to(DEVICE)\n",
        "optimizer = torch.optim.Adam(model.parameters(), lr=0.001)\n",
        "criterion = nn.CrossEntropyLoss()\n",
        "\n",
        "for Epoch in range(1, EPOCHS + 1):\n",
        "  train(model, train_loader, optimizer, log_interval=200)\n",
        "  test_loss, test_accuracy = evaluate(model, test_loader)\n",
        "  print(f\"\\n Test. EPOCH: {Epoch}\\t Test Loss : {test_loss:0.4f}\\t Test Accuracy: {test_accuracy:0.4f}\")"
      ],
      "execution_count": null,
      "outputs": [
        {
          "output_type": "stream",
          "text": [
            "/usr/local/lib/python3.7/dist-packages/ipykernel_launcher.py:37: UserWarning: Implicit dimension choice for log_softmax has been deprecated. Change the call to include dim=X as an argument.\n"
          ],
          "name": "stderr"
        },
        {
          "output_type": "stream",
          "text": [
            " Train Epoch : 1[0 / 50000] 0.000000%\t Train Loss : 2.316953420639038\n",
            " Train Epoch : 1[6400 / 50000] 12.795905%\t Train Loss : 1.9072537422180176\n",
            " Train Epoch : 1[12800 / 50000] 25.591811%\t Train Loss : 1.8389112949371338\n",
            " Train Epoch : 1[19200 / 50000] 38.387716%\t Train Loss : 1.7483105659484863\n",
            " Train Epoch : 1[25600 / 50000] 51.183621%\t Train Loss : 1.8058133125305176\n",
            " Train Epoch : 1[32000 / 50000] 63.979527%\t Train Loss : 1.4402661323547363\n",
            " Train Epoch : 1[38400 / 50000] 76.775432%\t Train Loss : 1.7851563692092896\n",
            " Train Epoch : 1[44800 / 50000] 89.571337%\t Train Loss : 1.2397018671035767\n",
            "\n",
            " Test. EPOCH: 1\t Test Loss : 0.0479\t Test Accuracy: 43.4600\n",
            " Train Epoch : 2[0 / 50000] 0.000000%\t Train Loss : 1.6670119762420654\n",
            " Train Epoch : 2[6400 / 50000] 12.795905%\t Train Loss : 1.3766518831253052\n",
            " Train Epoch : 2[12800 / 50000] 25.591811%\t Train Loss : 1.3970381021499634\n",
            " Train Epoch : 2[19200 / 50000] 38.387716%\t Train Loss : 1.3448647260665894\n",
            " Train Epoch : 2[25600 / 50000] 51.183621%\t Train Loss : 1.6408973932266235\n",
            " Train Epoch : 2[32000 / 50000] 63.979527%\t Train Loss : 1.2061583995819092\n",
            " Train Epoch : 2[38400 / 50000] 76.775432%\t Train Loss : 1.405780553817749\n",
            " Train Epoch : 2[44800 / 50000] 89.571337%\t Train Loss : 1.5721135139465332\n",
            "\n",
            " Test. EPOCH: 2\t Test Loss : 0.0424\t Test Accuracy: 51.2000\n",
            " Train Epoch : 3[0 / 50000] 0.000000%\t Train Loss : 1.184630036354065\n",
            " Train Epoch : 3[6400 / 50000] 12.795905%\t Train Loss : 1.4161655902862549\n",
            " Train Epoch : 3[12800 / 50000] 25.591811%\t Train Loss : 1.3788498640060425\n",
            " Train Epoch : 3[19200 / 50000] 38.387716%\t Train Loss : 1.62888765335083\n",
            " Train Epoch : 3[25600 / 50000] 51.183621%\t Train Loss : 1.6050244569778442\n",
            " Train Epoch : 3[32000 / 50000] 63.979527%\t Train Loss : 1.1245014667510986\n",
            " Train Epoch : 3[38400 / 50000] 76.775432%\t Train Loss : 1.1135036945343018\n",
            " Train Epoch : 3[44800 / 50000] 89.571337%\t Train Loss : 1.311607837677002\n",
            "\n",
            " Test. EPOCH: 3\t Test Loss : 0.0376\t Test Accuracy: 57.1200\n",
            " Train Epoch : 4[0 / 50000] 0.000000%\t Train Loss : 0.9811295866966248\n",
            " Train Epoch : 4[6400 / 50000] 12.795905%\t Train Loss : 1.2672019004821777\n",
            " Train Epoch : 4[12800 / 50000] 25.591811%\t Train Loss : 1.2667964696884155\n",
            " Train Epoch : 4[19200 / 50000] 38.387716%\t Train Loss : 1.1227580308914185\n",
            " Train Epoch : 4[25600 / 50000] 51.183621%\t Train Loss : 1.0421338081359863\n",
            " Train Epoch : 4[32000 / 50000] 63.979527%\t Train Loss : 1.0087172985076904\n",
            " Train Epoch : 4[38400 / 50000] 76.775432%\t Train Loss : 1.1358000040054321\n",
            " Train Epoch : 4[44800 / 50000] 89.571337%\t Train Loss : 0.720394492149353\n",
            "\n",
            " Test. EPOCH: 4\t Test Loss : 0.0370\t Test Accuracy: 58.1300\n",
            " Train Epoch : 5[0 / 50000] 0.000000%\t Train Loss : 1.418194055557251\n",
            " Train Epoch : 5[6400 / 50000] 12.795905%\t Train Loss : 0.9293380975723267\n",
            " Train Epoch : 5[12800 / 50000] 25.591811%\t Train Loss : 0.9854549765586853\n",
            " Train Epoch : 5[19200 / 50000] 38.387716%\t Train Loss : 0.7461838126182556\n",
            " Train Epoch : 5[25600 / 50000] 51.183621%\t Train Loss : 1.0167738199234009\n",
            " Train Epoch : 5[32000 / 50000] 63.979527%\t Train Loss : 1.3316872119903564\n",
            " Train Epoch : 5[38400 / 50000] 76.775432%\t Train Loss : 0.9948474168777466\n",
            " Train Epoch : 5[44800 / 50000] 89.571337%\t Train Loss : 0.9333294034004211\n",
            "\n",
            " Test. EPOCH: 5\t Test Loss : 0.0343\t Test Accuracy: 61.1900\n",
            " Train Epoch : 6[0 / 50000] 0.000000%\t Train Loss : 1.052546501159668\n",
            " Train Epoch : 6[6400 / 50000] 12.795905%\t Train Loss : 1.0195107460021973\n",
            " Train Epoch : 6[12800 / 50000] 25.591811%\t Train Loss : 1.0365296602249146\n",
            " Train Epoch : 6[19200 / 50000] 38.387716%\t Train Loss : 0.8487533926963806\n",
            " Train Epoch : 6[25600 / 50000] 51.183621%\t Train Loss : 0.9962747097015381\n",
            " Train Epoch : 6[32000 / 50000] 63.979527%\t Train Loss : 0.8577421307563782\n",
            " Train Epoch : 6[38400 / 50000] 76.775432%\t Train Loss : 0.8973866701126099\n",
            " Train Epoch : 6[44800 / 50000] 89.571337%\t Train Loss : 1.1592425107955933\n",
            "\n",
            " Test. EPOCH: 6\t Test Loss : 0.0354\t Test Accuracy: 59.9800\n",
            " Train Epoch : 7[0 / 50000] 0.000000%\t Train Loss : 1.0672913789749146\n",
            " Train Epoch : 7[6400 / 50000] 12.795905%\t Train Loss : 1.3542423248291016\n",
            " Train Epoch : 7[12800 / 50000] 25.591811%\t Train Loss : 1.2400604486465454\n",
            " Train Epoch : 7[19200 / 50000] 38.387716%\t Train Loss : 1.1404833793640137\n",
            " Train Epoch : 7[25600 / 50000] 51.183621%\t Train Loss : 0.9505611062049866\n",
            " Train Epoch : 7[32000 / 50000] 63.979527%\t Train Loss : 0.96000736951828\n",
            " Train Epoch : 7[38400 / 50000] 76.775432%\t Train Loss : 0.8225069046020508\n",
            " Train Epoch : 7[44800 / 50000] 89.571337%\t Train Loss : 0.8921746611595154\n",
            "\n",
            " Test. EPOCH: 7\t Test Loss : 0.0331\t Test Accuracy: 62.8900\n",
            " Train Epoch : 8[0 / 50000] 0.000000%\t Train Loss : 0.8316190242767334\n",
            " Train Epoch : 8[6400 / 50000] 12.795905%\t Train Loss : 0.9855592250823975\n",
            " Train Epoch : 8[12800 / 50000] 25.591811%\t Train Loss : 0.9534330368041992\n",
            " Train Epoch : 8[19200 / 50000] 38.387716%\t Train Loss : 0.9817135334014893\n",
            " Train Epoch : 8[25600 / 50000] 51.183621%\t Train Loss : 0.9906725883483887\n",
            " Train Epoch : 8[32000 / 50000] 63.979527%\t Train Loss : 0.94999098777771\n",
            " Train Epoch : 8[38400 / 50000] 76.775432%\t Train Loss : 1.176221489906311\n",
            " Train Epoch : 8[44800 / 50000] 89.571337%\t Train Loss : 0.7912676930427551\n",
            "\n",
            " Test. EPOCH: 8\t Test Loss : 0.0332\t Test Accuracy: 63.0700\n",
            " Train Epoch : 9[0 / 50000] 0.000000%\t Train Loss : 1.0899213552474976\n",
            " Train Epoch : 9[6400 / 50000] 12.795905%\t Train Loss : 0.9768683910369873\n",
            " Train Epoch : 9[12800 / 50000] 25.591811%\t Train Loss : 0.7847841382026672\n",
            " Train Epoch : 9[19200 / 50000] 38.387716%\t Train Loss : 0.6308447122573853\n",
            " Train Epoch : 9[25600 / 50000] 51.183621%\t Train Loss : 1.37979257106781\n",
            " Train Epoch : 9[32000 / 50000] 63.979527%\t Train Loss : 0.953282356262207\n",
            " Train Epoch : 9[38400 / 50000] 76.775432%\t Train Loss : 0.9593755602836609\n",
            " Train Epoch : 9[44800 / 50000] 89.571337%\t Train Loss : 1.084213376045227\n",
            "\n",
            " Test. EPOCH: 9\t Test Loss : 0.0322\t Test Accuracy: 63.6700\n",
            " Train Epoch : 10[0 / 50000] 0.000000%\t Train Loss : 0.9517470598220825\n",
            " Train Epoch : 10[6400 / 50000] 12.795905%\t Train Loss : 1.1654553413391113\n",
            " Train Epoch : 10[12800 / 50000] 25.591811%\t Train Loss : 1.0267422199249268\n",
            " Train Epoch : 10[19200 / 50000] 38.387716%\t Train Loss : 1.0895298719406128\n",
            " Train Epoch : 10[25600 / 50000] 51.183621%\t Train Loss : 0.9351987242698669\n",
            " Train Epoch : 10[32000 / 50000] 63.979527%\t Train Loss : 0.7926282286643982\n",
            " Train Epoch : 10[38400 / 50000] 76.775432%\t Train Loss : 0.7999781370162964\n",
            " Train Epoch : 10[44800 / 50000] 89.571337%\t Train Loss : 1.0409493446350098\n",
            "\n",
            " Test. EPOCH: 10\t Test Loss : 0.0326\t Test Accuracy: 63.7600\n"
          ],
          "name": "stdout"
        }
      ]
    },
    {
      "cell_type": "markdown",
      "metadata": {
        "id": "ldr632srNUJJ"
      },
      "source": [
        "# 4-3 Data Augmentation\n",
        "\n",
        "이미지에 변형을 가하면 데이터를 증가시킬 수 있다."
      ]
    },
    {
      "cell_type": "code",
      "metadata": {
        "colab": {
          "base_uri": "https://localhost:8080/"
        },
        "id": "nC66QPBoLnb4",
        "outputId": "03c7a83e-c54b-48fb-96ed-5ebaae6839a3"
      },
      "source": [
        "# Data augmentation 해서 이미지를 불러 옴\n",
        "train_dataset = datasets.CIFAR10(root = '../data/CIFAR', train=True, download=True, \n",
        "                                 transform=transforms.Compose([\n",
        "                                                               transforms.RandomHorizontalFlip(), # 좌우반전 (50% 확률)\n",
        "                                                               transforms.ToTensor(), # 정규화(0~1) 및 텐서화\n",
        "                                                               transforms.Normalize((0.5, 0.5,0.5),(0.5, 0.5,0.5)) # 데이터 정규화(평균과 표준편차 조정), 평균과 표준편차 RGB에 각각 0.5 씩 적용\n",
        "                                                               ]))\n",
        "test_dataset = datasets.CIFAR10(root = '../data/CIFAR', train=False, transform=transforms.Compose([transforms.RandomHorizontalFlip(),transforms.ToTensor(), transforms.Normalize((0.5, 0.5,0.5),(0.5, 0.5,0.5))]))\n",
        "\n",
        "train_loader = torch.utils.data.DataLoader(dataset = train_dataset, batch_size = BATCH_SIZE, shuffle=True)\n",
        "test_loader = torch.utils.data.DataLoader(dataset = test_dataset, batch_size=BATCH_SIZE, shuffle=False)"
      ],
      "execution_count": 12,
      "outputs": [
        {
          "output_type": "stream",
          "text": [
            "Files already downloaded and verified\n"
          ],
          "name": "stdout"
        }
      ]
    },
    {
      "cell_type": "code",
      "metadata": {
        "colab": {
          "base_uri": "https://localhost:8080/",
          "height": 232
        },
        "id": "bxvhWejIOVaG",
        "outputId": "8f94d0f4-942a-44a7-b6a9-381d9da0939b"
      },
      "source": [
        "# Augmentation 된 데이터로 학습\n",
        "model = CNN().to(DEVICE)\n",
        "optimizer = torch.optim.Adam(model.parameters(), lr=0.001)\n",
        "criterion = nn.CrossEntropyLoss()\n",
        "\n",
        "for Epoch in range(1, EPOCHS + 1):\n",
        "  train(model, train_loader, optimizer, log_interval=200)\n",
        "  test_loss, test_accuracy = evaluate(model, test_loader)\n",
        "  print(f\"\\n Test. EPOCH: {Epoch}\\t Test Loss : {test_loss:0.4f}\\t Test Accuracy: {test_accuracy:0.4f}\")"
      ],
      "execution_count": 4,
      "outputs": [
        {
          "output_type": "error",
          "ename": "NameError",
          "evalue": "ignored",
          "traceback": [
            "\u001b[0;31m---------------------------------------------------------------------------\u001b[0m",
            "\u001b[0;31mNameError\u001b[0m                                 Traceback (most recent call last)",
            "\u001b[0;32m<ipython-input-4-fd14037a0b02>\u001b[0m in \u001b[0;36m<module>\u001b[0;34m()\u001b[0m\n\u001b[1;32m      1\u001b[0m \u001b[0;31m# Augmentation 된 데이터로 학습\u001b[0m\u001b[0;34m\u001b[0m\u001b[0;34m\u001b[0m\u001b[0;34m\u001b[0m\u001b[0m\n\u001b[0;32m----> 2\u001b[0;31m \u001b[0mmodel\u001b[0m \u001b[0;34m=\u001b[0m \u001b[0mCNN\u001b[0m\u001b[0;34m(\u001b[0m\u001b[0;34m)\u001b[0m\u001b[0;34m.\u001b[0m\u001b[0mto\u001b[0m\u001b[0;34m(\u001b[0m\u001b[0mDEVICE\u001b[0m\u001b[0;34m)\u001b[0m\u001b[0;34m\u001b[0m\u001b[0;34m\u001b[0m\u001b[0m\n\u001b[0m\u001b[1;32m      3\u001b[0m \u001b[0moptimizer\u001b[0m \u001b[0;34m=\u001b[0m \u001b[0mtorch\u001b[0m\u001b[0;34m.\u001b[0m\u001b[0moptim\u001b[0m\u001b[0;34m.\u001b[0m\u001b[0mAdam\u001b[0m\u001b[0;34m(\u001b[0m\u001b[0mmodel\u001b[0m\u001b[0;34m.\u001b[0m\u001b[0mparameters\u001b[0m\u001b[0;34m(\u001b[0m\u001b[0;34m)\u001b[0m\u001b[0;34m,\u001b[0m \u001b[0mlr\u001b[0m\u001b[0;34m=\u001b[0m\u001b[0;36m0.001\u001b[0m\u001b[0;34m)\u001b[0m\u001b[0;34m\u001b[0m\u001b[0;34m\u001b[0m\u001b[0m\n\u001b[1;32m      4\u001b[0m \u001b[0mcriterion\u001b[0m \u001b[0;34m=\u001b[0m \u001b[0mnn\u001b[0m\u001b[0;34m.\u001b[0m\u001b[0mCrossEntropyLoss\u001b[0m\u001b[0;34m(\u001b[0m\u001b[0;34m)\u001b[0m\u001b[0;34m\u001b[0m\u001b[0;34m\u001b[0m\u001b[0m\n\u001b[1;32m      5\u001b[0m \u001b[0;34m\u001b[0m\u001b[0m\n",
            "\u001b[0;31mNameError\u001b[0m: name 'CNN' is not defined"
          ]
        }
      ]
    },
    {
      "cell_type": "markdown",
      "metadata": {
        "id": "_8s0WbAtb2XT"
      },
      "source": [
        "# 4-4 CNN Architecture"
      ]
    },
    {
      "cell_type": "markdown",
      "metadata": {
        "id": "73LKlgpXcmjN"
      },
      "source": [
        "### ImageNet\n",
        "이미지 분류 모델을 측정하기 위한 데이터로 가장 많이 사용되는 데이터\n",
        "\n",
        "### Network Architecture\n",
        "네트워크의 성능을 높이기 위한 구조, 깊게 쌓으면서 과적합을 방지하고자 하는 연구.\n",
        "\n",
        "### LeNet\n",
        "최초의 CNN모델.\n",
        "(1990년대에 나온 모델이므로 비교적 단순한 구조를 가지고 있음)\n",
        "\n",
        "### Alexnet\n",
        "2012 ILSVRC 대회 우승 모델. 구조는 크게 다르지 않지만 Dropoout, DataAugmentation등을 적용했다.\n",
        "\n",
        "### VGG\n",
        "2014 ILSVRC 대회에서 2등을 차지한 모델.\n",
        "\n",
        "3*3 합성곱 층을 깊게 중첩하는 것이 특징\n",
        "\n",
        "### GoogLeNet\n",
        "\n",
        "2014 ILSVRC 대회에서 1등한 모델.\n",
        "\n",
        "Inception 구조를 처음 적용하고 Gloval Average Pooling 을 처음 적용했음.\n",
        "\n",
        "### ResNet\n",
        "\n",
        "2015 ILSVRC 대회에서 1등.\n",
        "이미지 분류의 기본 모델로 사용하고 있음.\n",
        "\n",
        "Residual Block 이란 개념 도입. (이전 층의 feature Map을 다음 층의 feature map 에 더해줌) -> 기울기 소실 제거\n",
        "\n",
        "### DenseNet\n",
        "\n",
        "ResNet의 확장형 버전. 모든 층에 대해 Skip connection 을 연결한다."
      ]
    },
    {
      "cell_type": "code",
      "metadata": {
        "id": "8r7oPS6DjtHl"
      },
      "source": [
        "import torch\n",
        "import torch.nn as nn\n",
        "import torch.functional as F"
      ],
      "execution_count": null,
      "outputs": []
    },
    {
      "cell_type": "code",
      "metadata": {
        "id": "4-CIKtsRPIyh"
      },
      "source": [
        "class BasicBlock(nn.Module):\n",
        "  def __init__(self, in_planes, planes, stride = 1):\n",
        "    super(BasicBlock, self).__init__()\n",
        "    self.conv1 = nn.Conv2d(in_planes, planes,\n",
        "                           kernel_size = 3,\n",
        "                           stride = stride,\n",
        "                           padding = 1,\n",
        "                           bias = False)\n",
        "    self.bn1 = nn.BatchNorm2d(planes)\n",
        "    self.conv2 = nn.Conv2d(planes, planes,\n",
        "                           kernel_size = 3,\n",
        "                           stride = 1,\n",
        "                           padding = 1,\n",
        "                           bias = False)\n",
        "    self.bn2 = nn.BatchNorm2d(planes)\n",
        "\n",
        "    self.shortcut = nn.Sequential()\n",
        "    if stride != 1 or in_planes != planes:\n",
        "      self.shortcut = nn.Sequential(\n",
        "          nn.Conv2d(in_planes, planes,\n",
        "                    kernel_size = 1,\n",
        "                    stride = stride,\n",
        "                    bias = False),\n",
        "\n",
        "          nn.BathcNorm2d(planes)\n",
        "      )\n",
        "\n",
        "  def forward(self, x):\n",
        "    out = F.relu(self.bn1(self.conv1(x)))\n",
        "    out = self.bn2(self.conv2(out))\n",
        "    out += self.sortcut(x)\n",
        "    out = F.relu(out)\n",
        "    \n",
        "    return out"
      ],
      "execution_count": null,
      "outputs": []
    },
    {
      "cell_type": "code",
      "metadata": {
        "id": "cNlQHqcujiPl"
      },
      "source": [
        "class ResNet(nn.Module):\n",
        "  def __init__(self, num_classes = 10):\n",
        "    super(ResNet, self).__init__()\n",
        "    self.in_plane = 16\n",
        "\n",
        "    self.conv1 = nn.Conv2d(3, 16, kernel_size=3, stride=1, padding=1, bias=False)\n",
        "    self.bn1 = nn.BatchNorm2d(16)\n",
        "    self.layer1 = self._make_layer(16, 2, stride=1)\n",
        "    self.layer2 = self._make_layer(32, 2, stride = 2)\n",
        "    self.layer3 = self._make_layer(64, 2, stride = 2)\n",
        "    self.linear = nn.Linear(64, num_classes)\n",
        "\n",
        "\n",
        "  def _make_layer(self, planes, num_blocks, stride):\n",
        "    stride = [stride] + [1] * (num_blocks - 1)\n",
        "    layers = []\n",
        "\n",
        "    for stride in stride:\n",
        "      layers.append(BasicBlock(self.in_planes, planes, stride))\n",
        "      self.in_planes = planes\n",
        "    return nn.Sequential(*layers)\n",
        "\n",
        "  def forward(self, x):\n",
        "    out = F.relu(self.bn1(self.conv1(x)))\n",
        "    out = self.layer1(out)\n",
        "    out = self.layer2(out)\n",
        "    out = self.layer3(out)\n",
        "    out = F.avg_pool2d(out, 8)\n",
        "    out = out.view(out.size(0), -1)\n",
        "    out = self.linear(out)\n",
        "\n",
        "    return out"
      ],
      "execution_count": null,
      "outputs": []
    },
    {
      "cell_type": "markdown",
      "metadata": {
        "id": "m8I3TeEnBhSK"
      },
      "source": [
        "## Pytorch 에서 제공하고 있는 레퍼런스 모델을 사용하여 전이학습\n",
        "\n"
      ]
    },
    {
      "cell_type": "code",
      "metadata": {
        "id": "Cn_wawITk4sr"
      },
      "source": [
        "import torchvision.models as models\n",
        "import torch\n",
        "import torch.nn as nn\n",
        "import torch.functional as F\n",
        "import numpy as np"
      ],
      "execution_count": 1,
      "outputs": []
    },
    {
      "cell_type": "code",
      "metadata": {
        "id": "ki4IHj6cBsto"
      },
      "source": [
        "model = models.resnet34(pretrained = False) # 모델의 구조만 가지고 온다.\n",
        "num_ftrs = model.fc.in_features # 모델의 input 값을 가지고 온다.\n",
        "model.fc = nn.Linear(num_ftrs, 10) # \n",
        "model = model.cuda()"
      ],
      "execution_count": 2,
      "outputs": []
    },
    {
      "cell_type": "code",
      "metadata": {
        "id": "snI4fU0gCiJK"
      },
      "source": [
        "optimizer = torch.optim.Adam(model.parameters(), lr=0.001)\n",
        "criterion = nn.CrossEntropyLoss()"
      ],
      "execution_count": 14,
      "outputs": []
    },
    {
      "cell_type": "code",
      "metadata": {
        "colab": {
          "base_uri": "https://localhost:8080/"
        },
        "id": "o0UaYJKpB0__",
        "outputId": "7b8fe1f2-99af-4141-d156-e60f928be10b"
      },
      "source": [
        "for Epoch in range(1, EPOCHS+1):\n",
        "  train(model, train_loader, optimizer, 200)\n",
        "  evaluate(model, test_loader)"
      ],
      "execution_count": 15,
      "outputs": [
        {
          "output_type": "stream",
          "text": [
            " Train Epoch : 1[0 / 50000] 0.000000%\t Train Loss : 2.6761622428894043\n",
            " Train Epoch : 1[6400 / 50000] 12.795905%\t Train Loss : 1.9567532539367676\n",
            " Train Epoch : 1[12800 / 50000] 25.591811%\t Train Loss : 1.5143628120422363\n",
            " Train Epoch : 1[19200 / 50000] 38.387716%\t Train Loss : 1.2545279264450073\n",
            " Train Epoch : 1[25600 / 50000] 51.183621%\t Train Loss : 1.7000446319580078\n",
            " Train Epoch : 1[32000 / 50000] 63.979527%\t Train Loss : 1.0980358123779297\n",
            " Train Epoch : 1[38400 / 50000] 76.775432%\t Train Loss : 1.295883059501648\n",
            " Train Epoch : 1[44800 / 50000] 89.571337%\t Train Loss : 1.2032885551452637\n",
            " Train Epoch : 2[0 / 50000] 0.000000%\t Train Loss : 1.48259699344635\n",
            " Train Epoch : 2[6400 / 50000] 12.795905%\t Train Loss : 1.4761439561843872\n",
            " Train Epoch : 2[12800 / 50000] 25.591811%\t Train Loss : 1.2444225549697876\n",
            " Train Epoch : 2[19200 / 50000] 38.387716%\t Train Loss : 1.1360934972763062\n",
            " Train Epoch : 2[25600 / 50000] 51.183621%\t Train Loss : 1.3263530731201172\n",
            " Train Epoch : 2[32000 / 50000] 63.979527%\t Train Loss : 1.2412315607070923\n",
            " Train Epoch : 2[38400 / 50000] 76.775432%\t Train Loss : 0.8149545192718506\n",
            " Train Epoch : 2[44800 / 50000] 89.571337%\t Train Loss : 1.174554705619812\n",
            " Train Epoch : 3[0 / 50000] 0.000000%\t Train Loss : 0.9004471898078918\n",
            " Train Epoch : 3[6400 / 50000] 12.795905%\t Train Loss : 1.0263348817825317\n",
            " Train Epoch : 3[12800 / 50000] 25.591811%\t Train Loss : 1.0645034313201904\n",
            " Train Epoch : 3[19200 / 50000] 38.387716%\t Train Loss : 1.0378485918045044\n",
            " Train Epoch : 3[25600 / 50000] 51.183621%\t Train Loss : 0.6691199541091919\n",
            " Train Epoch : 3[32000 / 50000] 63.979527%\t Train Loss : 1.086862325668335\n",
            " Train Epoch : 3[38400 / 50000] 76.775432%\t Train Loss : 0.9566851258277893\n",
            " Train Epoch : 3[44800 / 50000] 89.571337%\t Train Loss : 1.0079624652862549\n",
            " Train Epoch : 4[0 / 50000] 0.000000%\t Train Loss : 0.9104256629943848\n",
            " Train Epoch : 4[6400 / 50000] 12.795905%\t Train Loss : 1.5245897769927979\n",
            " Train Epoch : 4[12800 / 50000] 25.591811%\t Train Loss : 0.8209128379821777\n",
            " Train Epoch : 4[19200 / 50000] 38.387716%\t Train Loss : 0.5420528650283813\n",
            " Train Epoch : 4[25600 / 50000] 51.183621%\t Train Loss : 0.6047519445419312\n",
            " Train Epoch : 4[32000 / 50000] 63.979527%\t Train Loss : 0.4865969717502594\n",
            " Train Epoch : 4[38400 / 50000] 76.775432%\t Train Loss : 0.6887520551681519\n",
            " Train Epoch : 4[44800 / 50000] 89.571337%\t Train Loss : 1.0776890516281128\n",
            " Train Epoch : 5[0 / 50000] 0.000000%\t Train Loss : 0.7957437038421631\n",
            " Train Epoch : 5[6400 / 50000] 12.795905%\t Train Loss : 0.7250548601150513\n",
            " Train Epoch : 5[12800 / 50000] 25.591811%\t Train Loss : 1.1347966194152832\n",
            " Train Epoch : 5[19200 / 50000] 38.387716%\t Train Loss : 0.4838036298751831\n",
            " Train Epoch : 5[25600 / 50000] 51.183621%\t Train Loss : 0.7930172085762024\n",
            " Train Epoch : 5[32000 / 50000] 63.979527%\t Train Loss : 0.915070652961731\n",
            " Train Epoch : 5[38400 / 50000] 76.775432%\t Train Loss : 0.674566924571991\n",
            " Train Epoch : 5[44800 / 50000] 89.571337%\t Train Loss : 0.6602693796157837\n",
            " Train Epoch : 6[0 / 50000] 0.000000%\t Train Loss : 0.7319396734237671\n",
            " Train Epoch : 6[6400 / 50000] 12.795905%\t Train Loss : 0.6068335771560669\n",
            " Train Epoch : 6[12800 / 50000] 25.591811%\t Train Loss : 0.571609377861023\n",
            " Train Epoch : 6[19200 / 50000] 38.387716%\t Train Loss : 0.5510061383247375\n",
            " Train Epoch : 6[25600 / 50000] 51.183621%\t Train Loss : 0.7552709579467773\n",
            " Train Epoch : 6[32000 / 50000] 63.979527%\t Train Loss : 0.9646172523498535\n",
            " Train Epoch : 6[38400 / 50000] 76.775432%\t Train Loss : 0.5170771479606628\n",
            " Train Epoch : 6[44800 / 50000] 89.571337%\t Train Loss : 0.8213019967079163\n",
            " Train Epoch : 7[0 / 50000] 0.000000%\t Train Loss : 0.6374343037605286\n",
            " Train Epoch : 7[6400 / 50000] 12.795905%\t Train Loss : 0.43021443486213684\n",
            " Train Epoch : 7[12800 / 50000] 25.591811%\t Train Loss : 0.6509512066841125\n",
            " Train Epoch : 7[19200 / 50000] 38.387716%\t Train Loss : 0.412352591753006\n",
            " Train Epoch : 7[25600 / 50000] 51.183621%\t Train Loss : 0.8178945183753967\n",
            " Train Epoch : 7[32000 / 50000] 63.979527%\t Train Loss : 0.6354565024375916\n",
            " Train Epoch : 7[38400 / 50000] 76.775432%\t Train Loss : 0.3750138282775879\n",
            " Train Epoch : 7[44800 / 50000] 89.571337%\t Train Loss : 0.8962785005569458\n",
            " Train Epoch : 8[0 / 50000] 0.000000%\t Train Loss : 0.5957790017127991\n",
            " Train Epoch : 8[6400 / 50000] 12.795905%\t Train Loss : 0.46032944321632385\n",
            " Train Epoch : 8[12800 / 50000] 25.591811%\t Train Loss : 0.6338958144187927\n",
            " Train Epoch : 8[19200 / 50000] 38.387716%\t Train Loss : 0.5021957159042358\n",
            " Train Epoch : 8[25600 / 50000] 51.183621%\t Train Loss : 0.2956177294254303\n",
            " Train Epoch : 8[32000 / 50000] 63.979527%\t Train Loss : 0.762958288192749\n",
            " Train Epoch : 8[38400 / 50000] 76.775432%\t Train Loss : 0.818090558052063\n",
            " Train Epoch : 8[44800 / 50000] 89.571337%\t Train Loss : 0.39024248719215393\n",
            " Train Epoch : 9[0 / 50000] 0.000000%\t Train Loss : 0.46285322308540344\n",
            " Train Epoch : 9[6400 / 50000] 12.795905%\t Train Loss : 0.6963058114051819\n",
            " Train Epoch : 9[12800 / 50000] 25.591811%\t Train Loss : 0.2069680094718933\n",
            " Train Epoch : 9[19200 / 50000] 38.387716%\t Train Loss : 0.6427810192108154\n",
            " Train Epoch : 9[25600 / 50000] 51.183621%\t Train Loss : 0.6656085252761841\n",
            " Train Epoch : 9[32000 / 50000] 63.979527%\t Train Loss : 0.44083091616630554\n",
            " Train Epoch : 9[38400 / 50000] 76.775432%\t Train Loss : 0.8211192488670349\n",
            " Train Epoch : 9[44800 / 50000] 89.571337%\t Train Loss : 0.8554782867431641\n",
            " Train Epoch : 10[0 / 50000] 0.000000%\t Train Loss : 0.8912343978881836\n",
            " Train Epoch : 10[6400 / 50000] 12.795905%\t Train Loss : 0.341481477022171\n",
            " Train Epoch : 10[12800 / 50000] 25.591811%\t Train Loss : 0.49378588795661926\n",
            " Train Epoch : 10[19200 / 50000] 38.387716%\t Train Loss : 0.3179060220718384\n",
            " Train Epoch : 10[25600 / 50000] 51.183621%\t Train Loss : 0.6717455983161926\n",
            " Train Epoch : 10[32000 / 50000] 63.979527%\t Train Loss : 0.4456310272216797\n",
            " Train Epoch : 10[38400 / 50000] 76.775432%\t Train Loss : 0.6941789984703064\n",
            " Train Epoch : 10[44800 / 50000] 89.571337%\t Train Loss : 0.4247777760028839\n"
          ],
          "name": "stdout"
        }
      ]
    },
    {
      "cell_type": "markdown",
      "metadata": {
        "id": "rpIGTapNv3F2"
      },
      "source": [
        "# 4-5 Transfer learning\n",
        "\n",
        "미리 학습된 모델을 가지고 재학습 시키는 과정.\n",
        "\n",
        "Pretrained model의 Fully Connected Layer이전의 Weight는 학습시키지 않는다. (Freezing)"
      ]
    },
    {
      "cell_type": "code",
      "metadata": {
        "id": "70cE9zmLCd4k"
      },
      "source": [
        "# 필요한 모듈 import\n",
        "import numpy as np\n",
        "import matplotlib.pyplot as plt\n",
        "\n",
        "import torch\n",
        "import torch.nn as nn\n",
        "import torch.nn.functional as F\n",
        "\n",
        "from torchvision import transforms, datasets"
      ],
      "execution_count": 3,
      "outputs": []
    },
    {
      "cell_type": "code",
      "metadata": {
        "colab": {
          "base_uri": "https://localhost:8080/"
        },
        "id": "n9Js-WLhxLyN",
        "outputId": "84b25df5-a06f-4528-fdf2-7553c0a3040c"
      },
      "source": [
        "DEVICE = 'cuda' if torch.cuda.is_available() else 'cpu'\n",
        "print(f\"{DEVICE} Use.\")"
      ],
      "execution_count": 5,
      "outputs": [
        {
          "output_type": "stream",
          "text": [
            "cuda Use.\n"
          ],
          "name": "stdout"
        }
      ]
    },
    {
      "cell_type": "code",
      "metadata": {
        "id": "a9eNfbAvxWDf"
      },
      "source": [
        "# 하이퍼파라미터 설정\n",
        "BATCH_SIZE = 32\n",
        "EPOCHS = 10"
      ],
      "execution_count": 6,
      "outputs": []
    },
    {
      "cell_type": "code",
      "metadata": {
        "id": "8pPkqb3Mxb7u"
      },
      "source": [
        "# 데이터셋 불러오기\n",
        "data_transforms = {\n",
        "    'train' : transforms.Compose([\n",
        "          transforms.RandomResizedCrop(224), # 이미지 일부를 랜덤으로 선택해 사이즈 변경\n",
        "          transforms.RandomHorizontalFlip(),\n",
        "          transforms.ToTensor(),\n",
        "          transforms.Normalize([0.5,0.5,0.5], [0.5,0.5,0.5])\n",
        "    ]),\n",
        "    'val' : transforms.Compose([\n",
        "          transforms.CenterCrop(224),\n",
        "          transforms.RandomHorizontalFlip(),\n",
        "          transforms.ToTensor(),\n",
        "          transforms.Normalize([0.5,0.5,0.5], [0.5,0.5,0.5])\n",
        "    ])\n",
        "}\n",
        "\n",
        "image_datasets = {x: datasets.ImageFolder(\"/content/drive/MyDrive/Datasets/hymenoptera_data/hymenoptera_data\", data_transforms[x]) for x in ['train', 'val']}\n",
        "# 반복문을 돌려서 train, val 폴더에 접근\n",
        "\n",
        "dataloaders = {x: torch.utils.data.DataLoader(image_datasets[x],\n",
        "                                              batch_size = BATCH_SIZE,\n",
        "                                              num_workers=0,\n",
        "                                              shuffle=True) for x in ['train', 'val']}"
      ],
      "execution_count": 11,
      "outputs": []
    },
    {
      "cell_type": "code",
      "metadata": {
        "colab": {
          "base_uri": "https://localhost:8080/"
        },
        "id": "m9F2AGOxybTY",
        "outputId": "ce8ac2c4-fe26-4016-aa5e-fac00f9817f8"
      },
      "source": [
        "# 데이터 확인하기\n",
        "for (X_train, y_train) in dataloaders['train']:\n",
        "  print('X_train:', X_train.size(), 'type:', X_train.type())\n",
        "  print('y_train:', y_train.size(), 'type:', y_train.type())\n",
        "  break"
      ],
      "execution_count": 13,
      "outputs": [
        {
          "output_type": "stream",
          "text": [
            "X_train: torch.Size([32, 3, 224, 224]) type: torch.FloatTensor\n",
            "y_train: torch.Size([32]) type: torch.LongTensor\n"
          ],
          "name": "stdout"
        }
      ]
    },
    {
      "cell_type": "code",
      "metadata": {
        "colab": {
          "base_uri": "https://localhost:8080/",
          "height": 264
        },
        "id": "fY3dFUMlzXJV",
        "outputId": "74250a00-5ad4-477b-fa8a-d5f43e1c4ce1"
      },
      "source": [
        "pltsize = 1\n",
        "plt.figure(figsize = (10 * pltsize, pltsize))\n",
        "\n",
        "for i in range(10):\n",
        "  plt.subplot(1, 10, i+1)\n",
        "  plt.axis('off')\n",
        "  plt.imshow(np.transpose(X_train[i], (1, 2, 0))) # 3, 224, 224 를 224,224, 3으로 변환\n",
        "  plt.title('Class: ' + str(y_train[i].item()))"
      ],
      "execution_count": 16,
      "outputs": [
        {
          "output_type": "stream",
          "text": [
            "Clipping input data to the valid range for imshow with RGB data ([0..1] for floats or [0..255] for integers).\n",
            "Clipping input data to the valid range for imshow with RGB data ([0..1] for floats or [0..255] for integers).\n",
            "Clipping input data to the valid range for imshow with RGB data ([0..1] for floats or [0..255] for integers).\n",
            "Clipping input data to the valid range for imshow with RGB data ([0..1] for floats or [0..255] for integers).\n",
            "Clipping input data to the valid range for imshow with RGB data ([0..1] for floats or [0..255] for integers).\n",
            "Clipping input data to the valid range for imshow with RGB data ([0..1] for floats or [0..255] for integers).\n",
            "Clipping input data to the valid range for imshow with RGB data ([0..1] for floats or [0..255] for integers).\n",
            "Clipping input data to the valid range for imshow with RGB data ([0..1] for floats or [0..255] for integers).\n",
            "Clipping input data to the valid range for imshow with RGB data ([0..1] for floats or [0..255] for integers).\n",
            "Clipping input data to the valid range for imshow with RGB data ([0..1] for floats or [0..255] for integers).\n"
          ],
          "name": "stderr"
        },
        {
          "output_type": "display_data",
          "data": {
            "image/png": "[encoded data removed]",
            "text/plain": [
              "<Figure size 720x72 with 10 Axes>"
            ]
          },
          "metadata": {
            "tags": [],
            "needs_background": "light"
          }
        }
      ]
    },
    {
      "cell_type": "code",
      "metadata": {
        "id": "QGMiTCF3zwTo"
      },
      "source": [
        "# 학습 함수\n",
        "def train(model, train_loader, optimizer, log_interval):\n",
        "  model.train()\n",
        "  for batch_idx, (image, label) in enumerate(train_loader):\n",
        "    image = image.to(DEVICE)\n",
        "    label = label.to(DEVICE)\n",
        "    optimizer.zero_grad()\n",
        "\n",
        "    output = model(image)\n",
        "    loss = criterion(output, label)\n",
        "    loss.backward()\n",
        "    optimizer.step()\n",
        "\n",
        "    if batch_idx % log_interval == 0:\n",
        "      print(f\"Train Epoch: {Epoch} [{batch_idx * len(image)} / {len(train_loader.dataset)}, {100. * batch_idx / len(train_loader):.5f}% ] Loss: {loss.item():.5f}\")"
      ],
      "execution_count": 36,
      "outputs": []
    },
    {
      "cell_type": "code",
      "metadata": {
        "id": "Y619Eh5z05gA"
      },
      "source": [
        "def evaluate(model, test_loader):\n",
        "  model.eval()\n",
        "  test_loss = 0\n",
        "  correct = 0\n",
        "\n",
        "  with torch.no_grad():\n",
        "    for image, label in test_loader:\n",
        "      image = image.to(DEVICE)\n",
        "      label = label.to(DEVICE)\n",
        "\n",
        "      output = model(image)\n",
        "\n",
        "      test_loss += criterion(output, label).item()\n",
        "\n",
        "      prediction = output.max(1, keepdim = True)[1]\n",
        "\n",
        "      correct += prediction.eq(label.view_as(prediction)).sum().item()\n",
        "\n",
        "  test_loss /= len(test_loader.dataset)\n",
        "  test_accuracy = 100. * correct / len(test_loader.dataset)\n",
        "\n",
        "  print(f\"Test Epoch: {Epoch} Accuracy: {test_accuracy:.5f} Loss: {test_loss:.5f}\")\n",
        "  return test_loss, test_accuracy"
      ],
      "execution_count": 37,
      "outputs": []
    },
    {
      "cell_type": "code",
      "metadata": {
        "id": "Ai6dfgqx1kcK"
      },
      "source": [
        "# 미리 학습되지 않은 Resnet\n",
        "import torchvision.models as models\n",
        "\n",
        "model = models.resnet18(pretrained=False)"
      ],
      "execution_count": 21,
      "outputs": []
    },
    {
      "cell_type": "code",
      "metadata": {
        "id": "toRA3hO71vdH"
      },
      "source": [
        "num_ftrs = model.fc.in_features\n",
        "model.fc = nn.Linear(num_ftrs, 2)\n",
        "model = model.to(DEVICE)"
      ],
      "execution_count": 22,
      "outputs": []
    },
    {
      "cell_type": "code",
      "metadata": {
        "id": "6OtCDAoA13Jt"
      },
      "source": [
        "optimizer = torch.optim.Adam(model.parameters(), lr=0.0001)\n",
        "criterion = nn.CrossEntropyLoss()"
      ],
      "execution_count": 25,
      "outputs": []
    },
    {
      "cell_type": "code",
      "metadata": {
        "colab": {
          "base_uri": "https://localhost:8080/"
        },
        "id": "b2HfSLrv2HgN",
        "outputId": "7050c8c7-db06-4329-9d9f-e2dca8951653"
      },
      "source": [
        "for Epoch in range(1, EPOCHS + 1):\n",
        "  train(model, dataloaders['train'], optimizer, log_interval=5)\n",
        "  evaluate(model, dataloaders[\"val\"])"
      ],
      "execution_count": 33,
      "outputs": [
        {
          "output_type": "stream",
          "text": [
            "Train Epoch: 1 [0 / 397, 0.0% ] Loss: 0.816821813583374\n",
            "Train Epoch: 1 [160 / 397, 38.46153846153846% ] Loss: 0.7018833160400391\n",
            "Train Epoch: 1 [320 / 397, 76.92307692307692% ] Loss: 0.6799526810646057\n",
            "Test Epoch: 1 Accuracy: 38.79093198992443 Loss: 0.02776405853348355\n",
            "Train Epoch: 2 [0 / 397, 0.0% ] Loss: 0.667687714099884\n",
            "Train Epoch: 2 [160 / 397, 38.46153846153846% ] Loss: 0.6363753080368042\n",
            "Train Epoch: 2 [320 / 397, 76.92307692307692% ] Loss: 0.6933073997497559\n",
            "Test Epoch: 2 Accuracy: 61.20906801007557 Loss: 0.021742423025126422\n",
            "Train Epoch: 3 [0 / 397, 0.0% ] Loss: 0.6162024140357971\n",
            "Train Epoch: 3 [160 / 397, 38.46153846153846% ] Loss: 0.6629213690757751\n",
            "Train Epoch: 3 [320 / 397, 76.92307692307692% ] Loss: 0.6499609351158142\n",
            "Test Epoch: 3 Accuracy: 61.46095717884131 Loss: 0.021470930774506153\n",
            "Train Epoch: 4 [0 / 397, 0.0% ] Loss: 0.6811257600784302\n",
            "Train Epoch: 4 [160 / 397, 38.46153846153846% ] Loss: 0.6152893304824829\n",
            "Train Epoch: 4 [320 / 397, 76.92307692307692% ] Loss: 0.6674778461456299\n",
            "Test Epoch: 4 Accuracy: 63.476070528967256 Loss: 0.021776577387408586\n",
            "Train Epoch: 5 [0 / 397, 0.0% ] Loss: 0.6534408926963806\n",
            "Train Epoch: 5 [160 / 397, 38.46153846153846% ] Loss: 0.6983699798583984\n",
            "Train Epoch: 5 [320 / 397, 76.92307692307692% ] Loss: 0.6191196441650391\n",
            "Test Epoch: 5 Accuracy: 62.21662468513854 Loss: 0.021750725786992223\n",
            "Train Epoch: 6 [0 / 397, 0.0% ] Loss: 0.6589322090148926\n",
            "Train Epoch: 6 [160 / 397, 38.46153846153846% ] Loss: 0.6233229041099548\n",
            "Train Epoch: 6 [320 / 397, 76.92307692307692% ] Loss: 0.6610334515571594\n",
            "Test Epoch: 6 Accuracy: 63.476070528967256 Loss: 0.02091763722205943\n",
            "Train Epoch: 7 [0 / 397, 0.0% ] Loss: 0.5773786902427673\n",
            "Train Epoch: 7 [160 / 397, 38.46153846153846% ] Loss: 0.5772972702980042\n",
            "Train Epoch: 7 [320 / 397, 76.92307692307692% ] Loss: 0.6526083946228027\n",
            "Test Epoch: 7 Accuracy: 57.9345088161209 Loss: 0.023071655248214376\n",
            "Train Epoch: 8 [0 / 397, 0.0% ] Loss: 0.6881850957870483\n",
            "Train Epoch: 8 [160 / 397, 38.46153846153846% ] Loss: 0.544136643409729\n",
            "Train Epoch: 8 [320 / 397, 76.92307692307692% ] Loss: 0.5750126242637634\n",
            "Test Epoch: 8 Accuracy: 62.97229219143577 Loss: 0.02226982443999283\n",
            "Train Epoch: 9 [0 / 397, 0.0% ] Loss: 0.5491644740104675\n",
            "Train Epoch: 9 [160 / 397, 38.46153846153846% ] Loss: 0.8010976314544678\n",
            "Train Epoch: 9 [320 / 397, 76.92307692307692% ] Loss: 0.6710805892944336\n",
            "Test Epoch: 9 Accuracy: 60.45340050377834 Loss: 0.02198087763726261\n",
            "Train Epoch: 10 [0 / 397, 0.0% ] Loss: 0.6343651413917542\n",
            "Train Epoch: 10 [160 / 397, 38.46153846153846% ] Loss: 0.7383242249488831\n",
            "Train Epoch: 10 [320 / 397, 76.92307692307692% ] Loss: 0.6386517286300659\n",
            "Test Epoch: 10 Accuracy: 64.98740554156171 Loss: 0.020392164775646603\n"
          ],
          "name": "stdout"
        }
      ]
    },
    {
      "cell_type": "markdown",
      "metadata": {
        "id": "BgKsJ9ju3s5u"
      },
      "source": [
        "이미 학습된 데이터로 트레이닝"
      ]
    },
    {
      "cell_type": "code",
      "metadata": {
        "colab": {
          "base_uri": "https://localhost:8080/",
          "height": 103,
          "referenced_widgets": [
            "9fb1a0a785c7411fb9919b25542e61be",
            "7de3439e83254767bdb8919cbbe77d46",
            "d97ea37a5e44464ca79a50f5965a7b7a",
            "126fdb628a3b4f208fd48f30e6b3412d",
            "4d3e8abf205f4ab8a43617ac9a856d2e",
            "7c2cfa789516493ab99f6e1f09b0ec1a",
            "d88d1e79383e4f50bd54cd2e910ede18",
            "e317e5e4a2ce4905942f96e5d9361c5f"
          ]
        },
        "id": "m5XtOOiS2erO",
        "outputId": "ca97c76b-66c4-4ff7-d23d-14bd1f5c7a55"
      },
      "source": [
        "model = models.resnet18(pretrained=True)\n",
        "num_ftrs = model.fc.in_features\n",
        "model.fc = nn.Linear(num_ftrs, 2)\n",
        "model = model.to(DEVICE)"
      ],
      "execution_count": 34,
      "outputs": [
        {
          "output_type": "stream",
          "text": [
            "Downloading: \"https://download.pytorch.org/models/resnet18-5c106cde.pth\" to /root/.cache/torch/hub/checkpoints/resnet18-5c106cde.pth\n"
          ],
          "name": "stderr"
        },
        {
          "output_type": "display_data",
          "data": {
            "application/vnd.jupyter.widget-view+json": {
              "model_id": "9fb1a0a785c7411fb9919b25542e61be",
              "version_minor": 0,
              "version_major": 2
            },
            "text/plain": [
              "HBox(children=(FloatProgress(value=0.0, max=46827520.0), HTML(value='')))"
            ]
          },
          "metadata": {
            "tags": []
          }
        },
        {
          "output_type": "stream",
          "text": [
            "\n"
          ],
          "name": "stdout"
        }
      ]
    },
    {
      "cell_type": "code",
      "metadata": {
        "id": "mxeNRFQn3yLl"
      },
      "source": [
        "optimizer = torch.optim.Adam(model.parameters(), lr=0.0001)\n",
        "criterion = nn.CrossEntropyLoss()"
      ],
      "execution_count": 38,
      "outputs": []
    },
    {
      "cell_type": "code",
      "metadata": {
        "colab": {
          "base_uri": "https://localhost:8080/"
        },
        "id": "pDTvabMF3yaY",
        "outputId": "987e8b09-f820-48da-df9c-4ba131fef46a"
      },
      "source": [
        "for Epoch in range(1, EPOCHS + 1):\n",
        "  train(model, dataloaders['train'], optimizer, log_interval=5)\n",
        "  evaluate(model, dataloaders[\"val\"])"
      ],
      "execution_count": 39,
      "outputs": [
        {
          "output_type": "stream",
          "text": [
            "Train Epoch: 1 [0 / 397, 0.00000% ] Loss: 0.62168\n",
            "Train Epoch: 1 [160 / 397, 38.46154% ] Loss: 0.65241\n",
            "Train Epoch: 1 [320 / 397, 76.92308% ] Loss: 0.73272\n",
            "Test Epoch: 1 Accuracy: 62.72040 Loss: 0.01998\n",
            "Train Epoch: 2 [0 / 397, 0.00000% ] Loss: 0.67335\n",
            "Train Epoch: 2 [160 / 397, 38.46154% ] Loss: 0.52770\n",
            "Train Epoch: 2 [320 / 397, 76.92308% ] Loss: 0.59696\n",
            "Test Epoch: 2 Accuracy: 79.59698 Loss: 0.01604\n",
            "Train Epoch: 3 [0 / 397, 0.00000% ] Loss: 0.41963\n",
            "Train Epoch: 3 [160 / 397, 38.46154% ] Loss: 0.61764\n",
            "Train Epoch: 3 [320 / 397, 76.92308% ] Loss: 0.53508\n",
            "Test Epoch: 3 Accuracy: 76.32242 Loss: 0.01487\n",
            "Train Epoch: 4 [0 / 397, 0.00000% ] Loss: 0.37416\n",
            "Train Epoch: 4 [160 / 397, 38.46154% ] Loss: 0.42998\n",
            "Train Epoch: 4 [320 / 397, 76.92308% ] Loss: 0.29003\n",
            "Test Epoch: 4 Accuracy: 86.90176 Loss: 0.01078\n",
            "Train Epoch: 5 [0 / 397, 0.00000% ] Loss: 0.38609\n",
            "Train Epoch: 5 [160 / 397, 38.46154% ] Loss: 0.39034\n",
            "Train Epoch: 5 [320 / 397, 76.92308% ] Loss: 0.29021\n",
            "Test Epoch: 5 Accuracy: 93.19899 Loss: 0.00859\n",
            "Train Epoch: 6 [0 / 397, 0.00000% ] Loss: 0.21753\n",
            "Train Epoch: 6 [160 / 397, 38.46154% ] Loss: 0.22646\n",
            "Train Epoch: 6 [320 / 397, 76.92308% ] Loss: 0.26666\n",
            "Test Epoch: 6 Accuracy: 93.70277 Loss: 0.00761\n",
            "Train Epoch: 7 [0 / 397, 0.00000% ] Loss: 0.22380\n",
            "Train Epoch: 7 [160 / 397, 38.46154% ] Loss: 0.27473\n",
            "Train Epoch: 7 [320 / 397, 76.92308% ] Loss: 0.15661\n",
            "Test Epoch: 7 Accuracy: 94.45844 Loss: 0.00652\n",
            "Train Epoch: 8 [0 / 397, 0.00000% ] Loss: 0.30065\n",
            "Train Epoch: 8 [160 / 397, 38.46154% ] Loss: 0.23192\n",
            "Train Epoch: 8 [320 / 397, 76.92308% ] Loss: 0.24676\n",
            "Test Epoch: 8 Accuracy: 91.68766 Loss: 0.00695\n",
            "Train Epoch: 9 [0 / 397, 0.00000% ] Loss: 0.31621\n",
            "Train Epoch: 9 [160 / 397, 38.46154% ] Loss: 0.18412\n",
            "Train Epoch: 9 [320 / 397, 76.92308% ] Loss: 0.12614\n",
            "Test Epoch: 9 Accuracy: 95.46599 Loss: 0.00470\n",
            "Train Epoch: 10 [0 / 397, 0.00000% ] Loss: 0.17430\n",
            "Train Epoch: 10 [160 / 397, 38.46154% ] Loss: 0.16918\n",
            "Train Epoch: 10 [320 / 397, 76.92308% ] Loss: 0.14998\n",
            "Test Epoch: 10 Accuracy: 95.96977 Loss: 0.00451\n"
          ],
          "name": "stdout"
        }
      ]
    },
    {
      "cell_type": "markdown",
      "metadata": {
        "id": "UmUtuAcVipt7"
      },
      "source": [
        "# 5 - 1 Data & Task: 어떤 데이터가 있을까?"
      ]
    },
    {
      "cell_type": "markdown",
      "metadata": {
        "id": "IphQu-yKjXSc"
      },
      "source": [
        "Text 데이터를 분석하고 모델링하는 분야를 '자연어 처리'라고 한다.\n",
        "- NLU: Text -> Meaning\n",
        "- NLG: Meaning -> Text\n",
        "- NLP: NLU + NLG"
      ]
    },
    {
      "cell_type": "markdown",
      "metadata": {
        "id": "m-TKfyJylfhg"
      },
      "source": [
        "자연어처리의 NLP의 작은 Task 의 요약은 다음과 같다.\n",
        "### 감정분석\n",
        "텍스트 데이터가 나타내는 특정 감정을 분류한다. 긍정 부정을 분류 or 긍정까지 n점 척도.\n",
        "### 요약\n",
        "텍스트에서 중유한 부분을 찾아내는 Extractive Summarization과 완전히 새로운 문장을 만들어내는 Abstractive Summarization이 있다.\n",
        "\n",
        "### 기계 번역\n",
        "이미 많은 서비스에서 사용중. 주로 번역하고자 하는 문장을 Source Sentence, 정답 문장을 Target Sentence라 표현한다.\n",
        "\n",
        "### 질문 응답\n",
        "문서를 이해하고 문서속 정보에 대해 질문을 했을 때 답을 이끌어내는 Task. \n",
        "\n",
        "### 기타 분야\n",
        "- POS(Part of Speech) 태깅 분야\n",
        "- 챗봇\n",
        "- 각 단어의 중의적 표현을 구분(Word Sense Disambiguation)"
      ]
    },
    {
      "cell_type": "code",
      "metadata": {
        "colab": {
          "base_uri": "https://localhost:8080/"
        },
        "id": "02KrxsPj37OI",
        "outputId": "8b1be7ec-08d7-43ff-a793-f7bbd8046cf1"
      },
      "source": [
        "# pytorch 를 이용해 데이터 불러오기\n",
        "from torchtext.legacy import data\n",
        "from torchtext.legacy import datasets\n",
        "\n",
        "# 데이터의 Field를 선택하고 가져와야한다.\n",
        "TEXT = data.Field(lower=True, batch_first = True)  # batch_first 는 Batch_size를 데이터셋의 shape[0]으로 가져온다.\n",
        "LABEL = data.Field(sequential=False)\n",
        "\n",
        "train, test = datasets.IMDB.splits(TEXT, LABEL)"
      ],
      "execution_count": 4,
      "outputs": [
        {
          "output_type": "stream",
          "text": [
            "\raclImdb_v1.tar.gz:   0%|          | 0.00/84.1M [00:00<?, ?B/s]"
          ],
          "name": "stderr"
        },
        {
          "output_type": "stream",
          "text": [
            "downloading aclImdb_v1.tar.gz\n"
          ],
          "name": "stdout"
        },
        {
          "output_type": "stream",
          "text": [
            "aclImdb_v1.tar.gz: 100%|██████████| 84.1M/84.1M [00:04<00:00, 20.3MB/s]\n"
          ],
          "name": "stderr"
        }
      ]
    },
    {
      "cell_type": "code",
      "metadata": {
        "colab": {
          "base_uri": "https://localhost:8080/"
        },
        "id": "maEHoqQXorzi",
        "outputId": "fc8c4394-f8c7-4330-cedb-b9159e30b5ea"
      },
      "source": [
        "train"
      ],
      "execution_count": 6,
      "outputs": [
        {
          "output_type": "execute_result",
          "data": {
            "text/plain": [
              "<torchtext.legacy.datasets.imdb.IMDB at 0x7fce93a66a90>"
            ]
          },
          "metadata": {
            "tags": []
          },
          "execution_count": 6
        }
      ]
    },
    {
      "cell_type": "markdown",
      "metadata": {
        "id": "C80nQtbtmU-u"
      },
      "source": [
        "# 5-2 문자를 숫자로 표현하는 방법"
      ]
    },
    {
      "cell_type": "markdown",
      "metadata": {
        "id": "1aGq45aSm0p0"
      },
      "source": [
        "문장을 의미 있는 부분을 숫자로 바꿔 표현한다.\n",
        "가장 기본적인 방법은 띄어쓰기로 분할하는 것"
      ]
    },
    {
      "cell_type": "code",
      "metadata": {
        "id": "7OGbobrGpRxH"
      },
      "source": [
        "s1 = \"나는 책상 위에 사과를 먹었다.\"\n",
        "s2 = \"알고 보니 그 사과는 Jason 것이었다.\"\n",
        "s3 = \"그래서 Jason에게 사과를 했다.\""
      ],
      "execution_count": 1,
      "outputs": []
    },
    {
      "cell_type": "code",
      "metadata": {
        "colab": {
          "base_uri": "https://localhost:8080/"
        },
        "id": "h7pbPSpFnFzW",
        "outputId": "ab4ab74b-3c8b-4010-ba00-e8130d1254f3"
      },
      "source": [
        "print(s1.split())\n",
        "print(s2.split())\n",
        "print(s3.split())"
      ],
      "execution_count": 2,
      "outputs": [
        {
          "output_type": "stream",
          "text": [
            "['나는', '책상', '위에', '사과를', '먹었다.']\n",
            "['알고', '보니', '그', '사과는', 'Jason', '것이었다.']\n",
            "['그래서', 'Jason에게', '사과를', '했다.']\n"
          ],
          "name": "stdout"
        }
      ]
    },
    {
      "cell_type": "markdown",
      "metadata": {
        "id": "Ir0kpJg8nNI-"
      },
      "source": [
        "이처럼 문장을 의미 있는 부분으로 나누는 것을 Tokenization이라고 한다."
      ]
    },
    {
      "cell_type": "code",
      "metadata": {
        "colab": {
          "base_uri": "https://localhost:8080/"
        },
        "id": "-7tfY5qGnLSU",
        "outputId": "1d232d0c-221d-4cf0-d708-cad713d0907f"
      },
      "source": [
        "token2idx = {}\n",
        "index = 0\n",
        "\n",
        "for sentence in [s1, s2, s3]:\n",
        "  tokens = sentence.split()\n",
        "  for token in tokens:\n",
        "    if token2idx.get(token) == None:\n",
        "      token2idx[token] = index\n",
        "      index += 1\n",
        "\n",
        "print(token2idx)"
      ],
      "execution_count": 3,
      "outputs": [
        {
          "output_type": "stream",
          "text": [
            "{'나는': 0, '책상': 1, '위에': 2, '사과를': 3, '먹었다.': 4, '알고': 5, '보니': 6, '그': 7, '사과는': 8, 'Jason': 9, '것이었다.': 10, '그래서': 11, 'Jason에게': 12, '했다.': 13}\n"
          ],
          "name": "stdout"
        }
      ]
    },
    {
      "cell_type": "markdown",
      "metadata": {
        "id": "co7hnDKknrNP"
      },
      "source": [
        "token2idx를 vocabulary라고 한다.\n",
        "\n",
        "토큰을 숫자로 바꾸면 다음과 같다."
      ]
    },
    {
      "cell_type": "code",
      "metadata": {
        "colab": {
          "base_uri": "https://localhost:8080/"
        },
        "id": "gdFcuHDfnlyn",
        "outputId": "476ca4ae-8229-4fde-ac49-824a8cecfa0d"
      },
      "source": [
        "def indexed_sentence(sentence):\n",
        "  return [token2idx[token] for token in sentence]\n",
        "\n",
        "s1_i = indexed_sentence(s1.split())\n",
        "print(s1_i)\n",
        "s2_i = indexed_sentence(s2.split())\n",
        "print(s2_i)\n",
        "s3_i = indexed_sentence(s3.split())\n",
        "print(s3_i)"
      ],
      "execution_count": 4,
      "outputs": [
        {
          "output_type": "stream",
          "text": [
            "[0, 1, 2, 3, 4]\n",
            "[5, 6, 7, 8, 9, 10]\n",
            "[11, 12, 3, 13]\n"
          ],
          "name": "stdout"
        }
      ]
    },
    {
      "cell_type": "code",
      "metadata": {
        "id": "MyWvH95pqMBk"
      },
      "source": [
        ""
      ],
      "execution_count": null,
      "outputs": []
    }
  ]
}