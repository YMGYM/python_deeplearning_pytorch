{
  "nbformat": 4,
  "nbformat_minor": 0,
  "metadata": {
    "colab": {
      "name": "Pytorch_part3~.ipynb",
      "provenance": [],
      "collapsed_sections": [],
      "toc_visible": true,
      "authorship_tag": "ABX9TyO895EKiYWZRgsTa9/Fqp+D",
      "include_colab_link": true
    },
    "kernelspec": {
      "name": "python3",
      "display_name": "Python 3"
    }
  },
  "cells": [
    {
      "cell_type": "markdown",
      "metadata": {
        "id": "view-in-github",
        "colab_type": "text"
      },
      "source": [
        "<a href=\"https://colab.research.google.com/github/YMGYM/python_deeplearning_pytorch/blob/main/Pytorch_part3~.ipynb\" target=\"_parent\"><img src=\"https://colab.research.google.com/assets/colab-badge.svg\" alt=\"Open In Colab\"/></a>"
      ]
    },
    {
      "cell_type": "markdown",
      "metadata": {
        "id": "Ce4ybvOUZONa"
      },
      "source": [
        "# 3-1 Convolutional Neural Network(CNN)\n",
        "\n",
        "## CNN 기초\n",
        "\n",
        "### Convolution Layer\n",
        "\n",
        "이미지를 스캔하면서 이미지 Region Feature를 추출한다.\n",
        "\n",
        "### Stride\n",
        "Receptive Field 가 피쳐를 뽑을 때 이동하는 칸 수\n",
        "\n",
        "### Padding\n",
        "이미지 테두리 부분에도 Convolution을 적용하기 위해 사용\n",
        "\n",
        "### Weight Sharing\n",
        "슬라이드할 때마다 Window 의 같은 가중치를 공유..\n",
        "\n",
        "### pooling\n",
        "학습 속도 향상.\n",
        "Layer 가중치를 반으로 줄여 줌\n",
        "\n",
        "### Fully Connected Layer\n",
        "Flatten 후 학습\n"
      ]
    },
    {
      "cell_type": "code",
      "metadata": {
        "id": "53N81wTDMpdi"
      },
      "source": [
        ""
      ],
      "execution_count": null,
      "outputs": []
    }
  ]
}