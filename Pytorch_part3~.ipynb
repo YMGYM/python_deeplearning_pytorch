{
  "nbformat": 4,
  "nbformat_minor": 0,
  "metadata": {
    "colab": {
      "name": "Pytorch_part3~.ipynb",
      "provenance": [],
      "collapsed_sections": [],
      "toc_visible": true,
      "authorship_tag": "ABX9TyP5OP/ZaKBJFnLMY52LRc2F",
      "include_colab_link": true
    },
    "kernelspec": {
      "name": "python3",
      "display_name": "Python 3"
    }
  },
  "cells": [
    {
      "cell_type": "markdown",
      "metadata": {
        "id": "view-in-github",
        "colab_type": "text"
      },
      "source": [
        "<a href=\"https://colab.research.google.com/github/YMGYM/python_deeplearning_pytorch/blob/main/Pytorch_part3~.ipynb\" target=\"_parent\"><img src=\"https://colab.research.google.com/assets/colab-badge.svg\" alt=\"Open In Colab\"/></a>"
      ]
    },
    {
      "cell_type": "markdown",
      "metadata": {
        "id": "Ce4ybvOUZONa"
      },
      "source": [
        "# 3-1 Convolutional Neural Network(CNN)\n",
        "\n",
        "## CNN 기초\n",
        "\n",
        "### Convolution Layer\n",
        "\n",
        "이미지를 스캔하면서 이미지 Region Feature를 추출한다.\n",
        "\n",
        "### Stride\n",
        "Receptive Field 가 피쳐를 뽑을 때 이동하는 칸 수\n",
        "\n",
        "### Padding\n",
        "이미지 테두리 부분에도 Convolution을 적용하기 위해 사용\n",
        "\n",
        "### Weight Sharing\n",
        "슬라이드할 때마다 Window 의 같은 가중치를 공유..\n",
        "\n",
        "### pooling\n",
        "학습 속도 향상.\n",
        "Layer 가중치를 반으로 줄여 줌\n",
        "\n",
        "### Fully Connected Layer\n",
        "Flatten 후 학습\n"
      ]
    },
    {
      "cell_type": "markdown",
      "metadata": {
        "id": "hTl31iez-Okc"
      },
      "source": [
        "# 3-2 CNN과 MLP"
      ]
    },
    {
      "cell_type": "code",
      "metadata": {
        "id": "53N81wTDMpdi"
      },
      "source": [
        "import numpy as np\n",
        "import matplotlib.pyplot as plt\n",
        "import torch\n",
        "import torch.nn as nn\n",
        "import torch.nn.functional as F\n",
        "from torchvision import transforms, datasets"
      ],
      "execution_count": 2,
      "outputs": []
    },
    {
      "cell_type": "code",
      "metadata": {
        "id": "cACC2SqWZpQb"
      },
      "source": [
        "DEVICE = \"cuda\" if torch.cuda.is_available() else 'cpu'"
      ],
      "execution_count": 3,
      "outputs": []
    },
    {
      "cell_type": "code",
      "metadata": {
        "id": "xnvOXfCUZxlR"
      },
      "source": [
        "BATCH_SIZE = 32\n",
        "EPOCHS = 10"
      ],
      "execution_count": 5,
      "outputs": []
    },
    {
      "cell_type": "code",
      "metadata": {
        "id": "CK3gW8nHZyER"
      },
      "source": [
        ""
      ],
      "execution_count": null,
      "outputs": []
    }
  ]
}